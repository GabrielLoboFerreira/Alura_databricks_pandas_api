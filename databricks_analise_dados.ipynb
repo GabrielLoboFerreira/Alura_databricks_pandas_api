{
 "cells": [
  {
   "cell_type": "markdown",
   "metadata": {
    "application/vnd.databricks.v1+cell": {
     "cellMetadata": {
      "byteLimit": 2048000,
      "rowLimit": 10000
     },
     "inputWidgets": {},
     "nuid": "4cb8c413-02a8-4002-a3f5-4b605bce55ad",
     "showTitle": false,
     "tableResultSettingsMap": {},
     "title": ""
    }
   },
   "source": [
    "# Medicina no Brasil"
   ]
  },
  {
   "cell_type": "markdown",
   "metadata": {
    "application/vnd.databricks.v1+cell": {
     "cellMetadata": {
      "byteLimit": 2048000,
      "rowLimit": 10000
     },
     "inputWidgets": {},
     "nuid": "db9f607c-9737-473c-8eee-465e453030ee",
     "showTitle": false,
     "tableResultSettingsMap": {},
     "title": ""
    }
   },
   "source": [
    "No Brasil, os cursos de medicina são extremamente concorridos e exigentes, com uma carga horária intensa e duração média de seis anos. As faculdades de medicina no país oferecem formação em diversas áreas, como cirurgia, pediatria, ginecologia e obstetrícia, entre outras especialidades médicas.\n",
    "\n",
    "Existem opções de bolsas para estudantes que desejam cursar medicina no país. Uma das principais opções é o Programa Universidade para Todos (PROUNI), que oferece bolsas de estudos parciais e integrais em universidades particulares para estudantes de baixa renda que tenham obtido boas notas no Enem.\n",
    "\n",
    "Além disso, há também a possibilidade de ingressar em universidades públicas, que são gratuitas e oferecem um ensino de qualidade reconhecido mundialmente. No entanto, o processo seletivo para ingresso em universidades públicas é bastante concorrido e exige um alto desempenho dos candidatos.\n",
    "\n",
    "Nas próximas seções, iremos disponibilizar alguns resultados com base em dados modificados do PROUNI e de universidades públicas, a fim de fornecer informações mais detalhadas sobre as opções de bolsas e ingresso nessas instituições de ensino."
   ]
  },
  {
   "cell_type": "markdown",
   "metadata": {
    "application/vnd.databricks.v1+cell": {
     "cellMetadata": {
      "byteLimit": 2048000,
      "rowLimit": 10000
     },
     "inputWidgets": {},
     "nuid": "d748c7f6-cb0b-4bca-b3f4-e791317c358f",
     "showTitle": false,
     "tableResultSettingsMap": {},
     "title": ""
    }
   },
   "source": [
    "# Bibliotecas"
   ]
  },
  {
   "cell_type": "code",
   "execution_count": 0,
   "metadata": {
    "application/vnd.databricks.v1+cell": {
     "cellMetadata": {
      "byteLimit": 2048000,
      "rowLimit": 10000
     },
     "inputWidgets": {},
     "nuid": "c8174345-4aac-455c-9478-6760e53c8135",
     "showTitle": false,
     "tableResultSettingsMap": {},
     "title": ""
    }
   },
   "outputs": [],
   "source": [
    "import pyspark.pandas as ps"
   ]
  },
  {
   "cell_type": "markdown",
   "metadata": {
    "application/vnd.databricks.v1+cell": {
     "cellMetadata": {
      "byteLimit": 2048000,
      "rowLimit": 10000
     },
     "inputWidgets": {},
     "nuid": "a3895c05-2b86-4611-9416-c76b4bfdc715",
     "showTitle": false,
     "tableResultSettingsMap": {},
     "title": ""
    }
   },
   "source": [
    "# Carregamento e Análise dos Dados"
   ]
  },
  {
   "cell_type": "code",
   "execution_count": 0,
   "metadata": {
    "application/vnd.databricks.v1+cell": {
     "cellMetadata": {
      "byteLimit": 2048000,
      "rowLimit": 10000
     },
     "inputWidgets": {},
     "nuid": "4fd543a8-3af3-4a24-81c9-780529ef76a5",
     "showTitle": false,
     "tableResultSettingsMap": {},
     "title": ""
    }
   },
   "outputs": [
    {
     "output_type": "display_data",
     "data": {
      "text/html": [
       "<div>\n",
       "<style scoped>\n",
       "    .dataframe tbody tr th:only-of-type {\n",
       "        vertical-align: middle;\n",
       "    }\n",
       "\n",
       "    .dataframe tbody tr th {\n",
       "        vertical-align: top;\n",
       "    }\n",
       "\n",
       "    .dataframe thead th {\n",
       "        text-align: right;\n",
       "    }\n",
       "</style>\n",
       "<table border=\"1\" class=\"dataframe\">\n",
       "  <thead>\n",
       "    <tr style=\"text-align: right;\">\n",
       "      <th></th>\n",
       "      <th>grau</th>\n",
       "      <th>turno</th>\n",
       "      <th>mensalidade</th>\n",
       "      <th>bolsa_integral_cotas</th>\n",
       "      <th>bolsa_integral_ampla</th>\n",
       "      <th>bolsa_parcial_cotas</th>\n",
       "      <th>bolsa_parcial_ampla</th>\n",
       "      <th>curso_busca</th>\n",
       "      <th>cidade_busca</th>\n",
       "      <th>uf_busca</th>\n",
       "      <th>cidade_filtro</th>\n",
       "      <th>universidade_nome</th>\n",
       "      <th>campus_nome</th>\n",
       "      <th>campus_id</th>\n",
       "      <th>nome</th>\n",
       "      <th>nota_integral_ampla</th>\n",
       "      <th>nota_integral_cotas</th>\n",
       "      <th>nota_parcial_ampla</th>\n",
       "      <th>nota_parcial_cotas</th>\n",
       "    </tr>\n",
       "    <tr>\n",
       "      <th>curso_id</th>\n",
       "      <th></th>\n",
       "      <th></th>\n",
       "      <th></th>\n",
       "      <th></th>\n",
       "      <th></th>\n",
       "      <th></th>\n",
       "      <th></th>\n",
       "      <th></th>\n",
       "      <th></th>\n",
       "      <th></th>\n",
       "      <th></th>\n",
       "      <th></th>\n",
       "      <th></th>\n",
       "      <th></th>\n",
       "      <th></th>\n",
       "      <th></th>\n",
       "      <th></th>\n",
       "      <th></th>\n",
       "      <th></th>\n",
       "    </tr>\n",
       "  </thead>\n",
       "  <tbody>\n",
       "    <tr>\n",
       "      <th>706710394154</th>\n",
       "      <td>Bacharelado</td>\n",
       "      <td>Integral</td>\n",
       "      <td>9999.99</td>\n",
       "      <td>15</td>\n",
       "      <td>14.0</td>\n",
       "      <td>NaN</td>\n",
       "      <td>NaN</td>\n",
       "      <td>Medicina</td>\n",
       "      <td>Campo Grande</td>\n",
       "      <td>MS</td>\n",
       "      <td>NTAwMjAwNDAyNzA0</td>\n",
       "      <td>Universidade Anhanguera - UNIDERP</td>\n",
       "      <td>CAMPO GRANDE - SEDE - Miguel Couto</td>\n",
       "      <td>706710</td>\n",
       "      <td>Medicina</td>\n",
       "      <td>740.22</td>\n",
       "      <td>726.46</td>\n",
       "      <td>NaN</td>\n",
       "      <td>NaN</td>\n",
       "    </tr>\n",
       "    <tr>\n",
       "      <th>104191210567043</th>\n",
       "      <td>Bacharelado</td>\n",
       "      <td>Noturno</td>\n",
       "      <td>9836.40</td>\n",
       "      <td>1</td>\n",
       "      <td>NaN</td>\n",
       "      <td>NaN</td>\n",
       "      <td>NaN</td>\n",
       "      <td>Enfermagem</td>\n",
       "      <td>Crateus</td>\n",
       "      <td>CE</td>\n",
       "      <td>MjMwNDAxODA0MTAz</td>\n",
       "      <td>Faculdade Princesa do Oeste - FPO</td>\n",
       "      <td>UNIDADE SEDE - São Vicente</td>\n",
       "      <td>1041912</td>\n",
       "      <td>Enfermagem</td>\n",
       "      <td>663.36</td>\n",
       "      <td>NaN</td>\n",
       "      <td>NaN</td>\n",
       "      <td>NaN</td>\n",
       "    </tr>\n",
       "    <tr>\n",
       "      <th>1002328574024</th>\n",
       "      <td>Bacharelado</td>\n",
       "      <td>Integral</td>\n",
       "      <td>9715.61</td>\n",
       "      <td>2</td>\n",
       "      <td>5.0</td>\n",
       "      <td>6.0</td>\n",
       "      <td>10.0</td>\n",
       "      <td>Medicina</td>\n",
       "      <td>Sao Paulo</td>\n",
       "      <td>SP</td>\n",
       "      <td>MzUxNTA2MTUwMzA4</td>\n",
       "      <td>Universidade Cidade de São Paulo - UNICID</td>\n",
       "      <td>UNIVERSIDADE CIDADE DE SÃO PAULO - UNICID - SE...</td>\n",
       "      <td>1002328</td>\n",
       "      <td>Medicina</td>\n",
       "      <td>739.62</td>\n",
       "      <td>738.08</td>\n",
       "      <td>738.96</td>\n",
       "      <td>718.64</td>\n",
       "    </tr>\n",
       "    <tr>\n",
       "      <th>104191212798093</th>\n",
       "      <td>Bacharelado</td>\n",
       "      <td>Noturno</td>\n",
       "      <td>9689.34</td>\n",
       "      <td>3</td>\n",
       "      <td>2.0</td>\n",
       "      <td>NaN</td>\n",
       "      <td>NaN</td>\n",
       "      <td>Psicologia</td>\n",
       "      <td>Crateus</td>\n",
       "      <td>CE</td>\n",
       "      <td>MjMwNDAxODA0MTAz</td>\n",
       "      <td>Faculdade Princesa do Oeste - FPO</td>\n",
       "      <td>UNIDADE SEDE - São Vicente</td>\n",
       "      <td>1041912</td>\n",
       "      <td>Psicologia</td>\n",
       "      <td>651.00</td>\n",
       "      <td>652.22</td>\n",
       "      <td>NaN</td>\n",
       "      <td>NaN</td>\n",
       "    </tr>\n",
       "    <tr>\n",
       "      <th>65899611932754</th>\n",
       "      <td>Bacharelado</td>\n",
       "      <td>Integral</td>\n",
       "      <td>9674.34</td>\n",
       "      <td>4</td>\n",
       "      <td>1.0</td>\n",
       "      <td>5.0</td>\n",
       "      <td>2.0</td>\n",
       "      <td>Medicina</td>\n",
       "      <td>Rio Branco</td>\n",
       "      <td>AC</td>\n",
       "      <td>MTIwMjAwNDAwNDAx</td>\n",
       "      <td>Faculdade Barão do Rio Branco - FAB</td>\n",
       "      <td>CAMPUS  - RIO BRANCO - JARDIM EUROPA II - Jard...</td>\n",
       "      <td>658996</td>\n",
       "      <td>Medicina</td>\n",
       "      <td>758.32</td>\n",
       "      <td>723.94</td>\n",
       "      <td>734.92</td>\n",
       "      <td>711.26</td>\n",
       "    </tr>\n",
       "  </tbody>\n",
       "</table>\n",
       "</div>"
      ]
     },
     "metadata": {
      "application/vnd.databricks.v1+output": {
       "addedWidgets": {},
       "arguments": {},
       "data": "<div>\n<style scoped>\n    .dataframe tbody tr th:only-of-type {\n        vertical-align: middle;\n    }\n\n    .dataframe tbody tr th {\n        vertical-align: top;\n    }\n\n    .dataframe thead th {\n        text-align: right;\n    }\n</style>\n<table border=\"1\" class=\"dataframe\">\n  <thead>\n    <tr style=\"text-align: right;\">\n      <th></th>\n      <th>grau</th>\n      <th>turno</th>\n      <th>mensalidade</th>\n      <th>bolsa_integral_cotas</th>\n      <th>bolsa_integral_ampla</th>\n      <th>bolsa_parcial_cotas</th>\n      <th>bolsa_parcial_ampla</th>\n      <th>curso_busca</th>\n      <th>cidade_busca</th>\n      <th>uf_busca</th>\n      <th>cidade_filtro</th>\n      <th>universidade_nome</th>\n      <th>campus_nome</th>\n      <th>campus_id</th>\n      <th>nome</th>\n      <th>nota_integral_ampla</th>\n      <th>nota_integral_cotas</th>\n      <th>nota_parcial_ampla</th>\n      <th>nota_parcial_cotas</th>\n    </tr>\n    <tr>\n      <th>curso_id</th>\n      <th></th>\n      <th></th>\n      <th></th>\n      <th></th>\n      <th></th>\n      <th></th>\n      <th></th>\n      <th></th>\n      <th></th>\n      <th></th>\n      <th></th>\n      <th></th>\n      <th></th>\n      <th></th>\n      <th></th>\n      <th></th>\n      <th></th>\n      <th></th>\n      <th></th>\n    </tr>\n  </thead>\n  <tbody>\n    <tr>\n      <th>706710394154</th>\n      <td>Bacharelado</td>\n      <td>Integral</td>\n      <td>9999.99</td>\n      <td>15</td>\n      <td>14.0</td>\n      <td>NaN</td>\n      <td>NaN</td>\n      <td>Medicina</td>\n      <td>Campo Grande</td>\n      <td>MS</td>\n      <td>NTAwMjAwNDAyNzA0</td>\n      <td>Universidade Anhanguera - UNIDERP</td>\n      <td>CAMPO GRANDE - SEDE - Miguel Couto</td>\n      <td>706710</td>\n      <td>Medicina</td>\n      <td>740.22</td>\n      <td>726.46</td>\n      <td>NaN</td>\n      <td>NaN</td>\n    </tr>\n    <tr>\n      <th>104191210567043</th>\n      <td>Bacharelado</td>\n      <td>Noturno</td>\n      <td>9836.40</td>\n      <td>1</td>\n      <td>NaN</td>\n      <td>NaN</td>\n      <td>NaN</td>\n      <td>Enfermagem</td>\n      <td>Crateus</td>\n      <td>CE</td>\n      <td>MjMwNDAxODA0MTAz</td>\n      <td>Faculdade Princesa do Oeste - FPO</td>\n      <td>UNIDADE SEDE - São Vicente</td>\n      <td>1041912</td>\n      <td>Enfermagem</td>\n      <td>663.36</td>\n      <td>NaN</td>\n      <td>NaN</td>\n      <td>NaN</td>\n    </tr>\n    <tr>\n      <th>1002328574024</th>\n      <td>Bacharelado</td>\n      <td>Integral</td>\n      <td>9715.61</td>\n      <td>2</td>\n      <td>5.0</td>\n      <td>6.0</td>\n      <td>10.0</td>\n      <td>Medicina</td>\n      <td>Sao Paulo</td>\n      <td>SP</td>\n      <td>MzUxNTA2MTUwMzA4</td>\n      <td>Universidade Cidade de São Paulo - UNICID</td>\n      <td>UNIVERSIDADE CIDADE DE SÃO PAULO - UNICID - SE...</td>\n      <td>1002328</td>\n      <td>Medicina</td>\n      <td>739.62</td>\n      <td>738.08</td>\n      <td>738.96</td>\n      <td>718.64</td>\n    </tr>\n    <tr>\n      <th>104191212798093</th>\n      <td>Bacharelado</td>\n      <td>Noturno</td>\n      <td>9689.34</td>\n      <td>3</td>\n      <td>2.0</td>\n      <td>NaN</td>\n      <td>NaN</td>\n      <td>Psicologia</td>\n      <td>Crateus</td>\n      <td>CE</td>\n      <td>MjMwNDAxODA0MTAz</td>\n      <td>Faculdade Princesa do Oeste - FPO</td>\n      <td>UNIDADE SEDE - São Vicente</td>\n      <td>1041912</td>\n      <td>Psicologia</td>\n      <td>651.00</td>\n      <td>652.22</td>\n      <td>NaN</td>\n      <td>NaN</td>\n    </tr>\n    <tr>\n      <th>65899611932754</th>\n      <td>Bacharelado</td>\n      <td>Integral</td>\n      <td>9674.34</td>\n      <td>4</td>\n      <td>1.0</td>\n      <td>5.0</td>\n      <td>2.0</td>\n      <td>Medicina</td>\n      <td>Rio Branco</td>\n      <td>AC</td>\n      <td>MTIwMjAwNDAwNDAx</td>\n      <td>Faculdade Barão do Rio Branco - FAB</td>\n      <td>CAMPUS  - RIO BRANCO - JARDIM EUROPA II - Jard...</td>\n      <td>658996</td>\n      <td>Medicina</td>\n      <td>758.32</td>\n      <td>723.94</td>\n      <td>734.92</td>\n      <td>711.26</td>\n    </tr>\n  </tbody>\n</table>\n</div>",
       "datasetInfos": [],
       "metadata": {},
       "removedWidgets": [],
       "textData": null,
       "type": "htmlSandbox"
      }
     },
     "output_type": "display_data"
    }
   ],
   "source": [
    "# carregando o dataset\n",
    "\n",
    "local_arquivo = '/FileStore/cursos_prouni.csv'\n",
    "df = ps.read_csv(local_arquivo, index_col='curso_id')\n",
    "df.head()"
   ]
  },
  {
   "cell_type": "code",
   "execution_count": 0,
   "metadata": {
    "application/vnd.databricks.v1+cell": {
     "cellMetadata": {
      "byteLimit": 2048000,
      "rowLimit": 10000
     },
     "inputWidgets": {},
     "nuid": "a14e09a5-897b-406e-895b-b8ed86369d76",
     "showTitle": false,
     "tableResultSettingsMap": {},
     "title": ""
    }
   },
   "outputs": [
    {
     "output_type": "stream",
     "name": "stdout",
     "output_type": "stream",
     "text": [
      "Out[3]: (41447, 19)"
     ]
    }
   ],
   "source": [
    "# tamanho do dataset\n",
    "\n",
    "df.shape"
   ]
  },
  {
   "cell_type": "markdown",
   "metadata": {
    "application/vnd.databricks.v1+cell": {
     "cellMetadata": {
      "byteLimit": 2048000,
      "rowLimit": 10000
     },
     "inputWidgets": {},
     "nuid": "292ca92d-b830-4d84-9ffc-7819c5e4d5fc",
     "showTitle": false,
     "tableResultSettingsMap": {},
     "title": ""
    }
   },
   "source": [
    "Nota-se que possivelmente existem 2 colunas que mostram a mesma informação."
   ]
  },
  {
   "cell_type": "code",
   "execution_count": 0,
   "metadata": {
    "application/vnd.databricks.v1+cell": {
     "cellMetadata": {
      "byteLimit": 2048000,
      "rowLimit": 10000
     },
     "inputWidgets": {},
     "nuid": "dc5b573f-5abc-4981-adb6-7a9d520c6f59",
     "showTitle": false,
     "tableResultSettingsMap": {},
     "title": ""
    }
   },
   "outputs": [
    {
     "output_type": "stream",
     "name": "stdout",
     "output_type": "stream",
     "text": [
      "Out[4]: curso_id\n706710394154       True\n104191210567043    True\n1002328574024      True\n104191212798093    True\n65899611932754     True\n65781564964        True\n65788486984        True\n65861111850254     True\n658099184724       True\n10505911785244     True\n65921511844324     True\n1055878921193      True\n65881713994834     True\n104123711716094    True\n689693216461       True\n6896933216461      True\n105821211803184    True\n699042726814       True\n100369211074       True\n6576768684         True\n105887911921884    True\n658119591744       True\n105596711902804    True\n25031009564        True\n137380663614       True\n405659244          True\n256016294          True\n699950009794       True\n108119413996154    True\n65941410292044     True\n65886811637384     True\n107783113635364    True\n103635150009314    True\n1004316634941      True\n706703822244       True\n1003235594144      True\n2457651144         True\n658670718594       True\n105458350008124    True\n702329994764       True\n3349900844         True\n65836311859034     True\n70703413994804     True\n1004316683271      True\n1004316683273      True\n65784811906674     True\n659109904834       True\n65792598054        True\n3705649184         True\n65842811906214     True\n65912011881274     True\n149610591794       True\n185511082814       True\n100645418794       True\n626506624          True\n65833250013414     True\n1054150727674      True\n657741198504       True\n657950105914       True\n657746203604       True\n1079920726674      True\n133011365094       True\n100431613322983    True\n10001841006884     True\n65783171054        True\n65790193264        True\n65924911896074     True\n65986212005784     True\n105527111683134    True\n1038222900594      True\n65854813903094     True\n65793650009334     True\n105738811791894    True\n59213994894        True\n65944411914154     True\n3366111023604      True\n692496184474       True\n65768923044        True\n65767813977734     True\n65784776764        True\n7052291076664      True\n68969310741451     True\n68969310741453     True\n2819845034         True\n1793112334         True\n65792497724        True\n65772213855214     True\n658461856524       True\n689693216621       True\n689693216623       True\n14721111932644     True\n658612862884       True\n25918518354        True\n658582726694       True\n6580651009584      True\n1004316487721      True\n1004316487723      True\n657723200584       True\n658870984094       True\n2445912194         True\n6594671080144      True\n65787350000014     True\n690864844084       True\n105582350013004    True\n1002398913994      True\n105983611087864    True\n657876488544       True\n66007913994844     True\n658249726754       True\n344976794          True\n65894350013141     True\n134687102224       True\n22413994854        True\n7634985064         True\n65885813003623     True\n696949745944       True\n54499964           True\n105011552064       True\n1866726634         True\n68638759204        True\n658345863564       True\n1004951984064      True\n658503782564       True\n658022154754       True\n65788711833134     True\n60815184           True\n657735879414       True\n100431610741433    True\n687142102244       True\n13374711922374     True\n1044591202494      True\n65975011358973     True\n65975012006563     True\n657927380714       True\n6582721077664      True\n69254413994874     True\n6578661088844      True\n65885813652153     True\n65901511042644     True\n657725194344       True\n65885812590303     True\n65975013650153     True\n6597501170563      True\n65767712007124     True\n659566875374       True\n65885813641553     True\n65784977054        True\n658858810823       True\n657724696244       True\n6590711181133      True\n65772539324        True\n100431611227263    True\n657954108704       True\n65885813655473     True\n104511012052913    True\n657954108744       True\n6579543108774      True\n6579543108754      True\n657954329754       True\n657954444314       True\n657954294464       True\n657954872004       True\n657954237024       True\n65795411555814     True\n657954242604       True\n657954326554       True\n657954294454       True\n657954705234       True\n65885813655463     True\n65885813035553     True\n13675511225684     True\n6579541142864      True\n1002398190044      True\n100645418834       True\n1003235421541      True\n657954599624       True\n65767612682411     True\n658483207514       True\n658483961124       True\n65848312598264     True\n65848312043004     True\n658484570164       True\n658484484974       True\n658484570184       True\n658484207524       True\n65795411516814     True\n65795413591794     True\n256016314          True\n6576768694         True\n6591201228024      True\n105658711107604    True\n10563813650344     True\n105658712849404    True\n105658711836304    True\n105658711477984    True\n105638178094       True\n105658713651374    True\n658612549694       True\n657759185954       True\n65996411847541     True\n65996411847543     True\n104909950007224    True\n6591661176713      True\n105658711336004    True\n105638225664       True\n65768217264        True\n1044591202504      True\n1003235421543      True\n6579543108714      True\n657954282994       True\n657954354074       True\n6579541013304      True\n6579541013314      True\n657954108681       True\n65885812601853     True\n658858511803       True\n100431611589563    True\n657954289104       True\n6579543311504      True\n657963112304       True\n657954108671       True\n657954108672       True\n657954108733       True\n657954706084       True\n657954108714       True\n657954108683       True\n657954223894       True\n657954283024       True\n657954872024       True\n6993231172781      True\n1006454732352      True\n475426684          True\n47611136624        True\n2487790354         True\n14068410242304     True\n693427464933       True\n693427464934       True\n106015711935344    True\n657954108614       True\n65892411686173     True\n105739312805241    True\n105739312805243    True\n657723191214       True\n60812792994        True\n29839481           True\n29839483           True\n657954108673       True\n657954108724       True\n6579543108724      True\n657954108594       True\n6579543108594      True\n693427972094       True\n105658711336014    True\n13976310756374     True\n10004013537351     True\n657954108624       True\n657954108634       True\n6579543108634      True\n6579541139624      True\n1006454395164      True\n65969712796324     True\n658104181664       True\n107386813308744    True\n658858511783       True\n658858511843       True\n65982911017801     True\n696949955791       True\n657963112211       True\n657963112213       True\n100222274924       True\n1006454193344      True\n107005212143421    True\n107005212143422    True\n100645419234       True\n65768116344        True\n105887912794314    True\n658119195844       True\n657963112421       True\n657963112423       True\n2503213511         True\n65768420161        True\n65768420162        True\n65768420163        True\n104909911199324    True\n100323513438301    True\n105230250007891    True\n100012213224461    True\n65775913498051     True\n65775913498053     True\n68877712850804     True\n65835413645141     True\n65781564833        True\n65781564834        True\n65772511408172     True\n2068601231         True\n9543658691         True\n65786513235801     True\n105658713651574    True\n105658711496634    True\n105658711484794    True\n10563813651561     True\n100239814049694    True\n100239813695604    True\n105695113237143    True\n1006454180564      True\n1000701387874      True\n10799061008784     True\n657676618261       True\n65864412797124     True\n65786681004        True\n657684623783       True\n657684623784       True\n68697911794434     True\n256016441          True\n693830479183       True\n693830479184       True\n100499812845064    True\n106102510596324    True\n105603413001951    True\n100018412790143    True\n107386813308743    True\n65984412993421     True\n657725724591       True\n65946713219441     True\n65965012795231     True\n256013748464       True\n100323513775483    True\n100018413222581    True\n100018413222583    True\n6576768641         True\n6576768643         True\n65965310693201     True\n657925207324       True\n6592911045383      True\n100222274923       True\n100645413657272    True\n65841513494254     True\n104909911589084    True\n65946852834        True\n65986650007591     True\n256016304          True\n65934412810994     True\n657963112373       True\n33661103504        True\n70315513391354     True\n1855208274         True\n6594441093371      True\n6594441093373      True\n1003235215811      True\n10049511228094     True\n657963505001       True\n657746185724       True\n657963216942       True\n65792711520831     True\n657963112201       True\n657963112203       True\n24367533141        True\n24367533143        True\n65957235274        True\n65774645854        True\n13383210456844     True\n10032351200704     True\n179414197923       True\n179414197931       True\n2445186752         True\n25631110084        True\n14390050005521     True\n14390050005523     True\n65986211708324     True\n657963112193       True\n2000211566641      True\n657684418843       True\n657963112181       True\n657963112241       True\n657963112243       True\n65885812036363     True\n65885812606943     True\n65885813226333     True\n657684419134       True\n65768420244        True\n65768420234        True\n100020811694231    True\n25918156484        True\n104909911162311    True\n65777914210051     True\n65777914210053     True\n100645419041       True\n658249179554       True\n65874111048831     True\n65874111048832     True\n657873186814       True\n6578481018201      True\n100020813219664    True\n699912654551       True\n102593960964       True\n105059517014       True\n2560476624         True\n69249656233        True\n69249656234        True\n100645419244       True\n699912654552       True\n100645419254       True\n100645418864       True\n657724219864       True\n65986312837211     True\n105603413001952    True\n65789189881        True\n65789189883        True\n58511823473        True\n100369211053302    True\n100369211053303    True\n65794613045283     True\n100645419153       True\n65928713003134     True\n658249737531       True\n104459112164754    True\n100012850374       True\n65768111876814     True\n657963112183       True\n65768111695204     True\n100645419163       True\n106484613004921    True\n1002398190034      True\n1003235203301      True\n1003235203303      True\n65768922974        True\n65884512844574     True\n100645413142993    True\n65996412577483     True\n2503213512         True\n103627312800723    True\n104909913321811    True\n107776212996133    True\n100645419144       True\n658996998241       True\n658996998243       True\n6587481017494      True\n65794613045281     True\n105040512848803    True\n107112913117513    True\n1003692706044      True\n65873813311411     True\n65873813311413     True\n1002398201072      True\n105458350008164    True\n1006454647463      True\n1006454275081      True\n1006454275083      True\n100645413657251    True\n65783772781        True\n100645419032       True\n100645419033       True\n1006454566962      True\n106982212994304    True\n6589691177471      True\n107804513659614    True\n1002398385254      True\n106146312071173    True\n65996412045371     True\n65996412045373     True\n660185024          True\n657684418762       True\n65774044154        True\n657684261011       True\n657684261012       True\n658838348721       True\n658838641121       True\n658838260231       True\n658838226071       True\n658838260211       True\n6588381183781      True\n658838640571       True\n658838349811       True\n658838349791       True\n106988212804893    True\n1006454332881      True\n1006454332883      True\n1006454229801      True\n1006454229803      True\n103952312848733    True\n6936791003801      True\n372734001          True\n65901512838271     True\n65901512838273     True\n1003692503024      True\n104123712795964    True\n106807512828411    True\n65931950005721     True\n65894312580664     True\n6576768701         True\n1006454567024      True\n200017465831       True\n659695725572       True\n659695725573       True\n6576761097643      True\n3507184551         True\n3507184553         True\n657936184431       True\n2436713212621      True\n2436713212623      True\n65886813038011     True\n2654812794334      True\n2769311105634      True\n65873812993411     True\n65873812993413     True\n107112913117511    True\n658858563463       True\n1036351207253      True\n1003692577143      True\n106779512862344    True\n658281204281       True\n65768112629064     True\n106770213046843    True\n334911788881       True\n334911788883       True\n585891343          True\n1003692226423      True\n657963223961       True\n657963223963       True\n105460112809961    True\n6591301129723      True\n2406613141444      True\n59612618154        True\n549602164          True\n1006454567663      True\n224201064          True\n106282412996324    True\n1392190054         True\n2241228004         True\n1054846185144      True\n68654168074        True\n100369214249633    True\n658088206901       True\n657901728463       True\n2994218412         True\n2994218413         True\n2993218421         True\n657887802724       True\n22513073024        True\n65912013221344     True\n658216148584       True\n693679187661       True\n65783772691        True\n373187681          True\n10799061008783     True\n3196113049351      True\n3196113049353      True\n68697912860654     True\n106911612924871    True\n106911612924873    True\n106637912849613    True\n103756311578501    True\n103756311578503    True\n65772539471        True\n105603513647393    True\n6592911045381      True\n10759671191124     True\n657938194811       True\n1040227983504      True\n65834512796744     True\n65891811924711     True\n65827273991        True\n657895712524       True\n657891349651       True\n657891341231       True\n657891349171       True\n107269313250181    True\n658503592024       True\n65768420302        True\n65768420303        True\n104752713038093    True\n65768212662692     True\n65768211095011     True\n65768211331984     True\n100239813695593    True\n100369212644813    True\n149343215064       True\n1493431076681      True\n14934311159494     True\n14934311835994     True\n14934311833654     True\n149343216674       True\n14934313641904     True\n65913252774        True\n65790193013        True\n58512841173        True\n1003692297333      True\n1003692297334      True\n107112913117512    True\n107005213130401    True\n107005213130403    True\n65790011662311     True\n103822212852243    True\n100018313037973    True\n3247491081         True\n3247491083         True\n105596311850271    True\n105027913668093    True\n100232885791       True\n100232885793       True\n252264974          True\n658461579264       True\n658104740924       True\n65767612682381     True\n65767612682383     True\n65931912055571     True\n14087913039003     True\n104825913224031    True\n224641644          True\n104909913321801    True\n657684795744       True\n6576768661         True\n2563109683         True\n107776212996131    True\n1003692404043      True\n65790192753        True\n658582383131       True\n1003235203281      True\n1003235203283      True\n256016321          True\n65790011664541     True\n65790011664543     True\n65913011893973     True\n65913011893974     True\n659130907263       True\n10036923011094     True\n3317906814         True\n106053912835781    True\n106053912835783    True\n65979013002371     True\n65979013002373     True\n1044433208154      True\n179414197901       True\n657684680481       True\n657684680483       True\n1614310553         True\n65768420121        True\n65768420123        True\n65854013214311     True\n687176104231       True\n65768420092        True\n657678983984       True\n105984511921184    True\n65768411921923     True\n65768113748474     True\n65790092641        True\n65790092642        True\n139213219943       True\n65886712809013     True\n105689112829081    True\n65768116604        True\n1003692981183      True\n100369212644823    True\n585577063          True\n100369211685233    True\n693830888343       True\n693830888344       True\n1392691093         True\n14390013991191     True\n14390013991193     True\n65878813214594     True\n657790704671       True\n657790704673       True\n104752713038091    True\n65995513034033     True\n1054150727634      True\n657936191191       True\n657936191193       True\n659646923011       True\n659646923013       True\n100222275152       True\n100222275153       True\n70315513753671     True\n10001221236291     True\n10001221236293     True\n100012211793761    True\n100012211793763    True\n105564550003201    True\n105564550003203    True\n107005213130431    True\n107005213130432    True\n14068412841803     True\n658022154763       True\n1003692260653      True\n65790011077471     True\n65790011077472     True\n6576761097901      True\n65964712810001     True\n65964712810003     True\n657927649751       True\n65965012796441     True\n65965012796443     True\n65775950681        True\n65775950683        True\n65775950661        True\n65775950663        True\n657950105881       True\n104909911211832    True\n1003235203271      True\n1003235203273      True\n65799312041973     True\n65799312041983     True\n65799311465763     True\n1045316801411      True\n1045316801413      True\n100645413306363    True\n65790193073        True\n65886813038013     True\n65774645853        True\n657901728403       True\n65768420111        True\n65768420113        True\n65790193233        True\n707034179343       True\n1003692404053      True\n65839913003281     True\n65768420151        True\n65768420153        True\n65912011533541     True\n65912011533543     True\n657676384091       True\n657901184993       True\n65790192873        True\n657963112321       True\n481189954          True\n657901602803       True\n2521411924674      True\n4233951373         True\n2521411924614      True\n1006454889231      True\n1006454889233      True\n1006454889323      True\n100645418901       True\n100645418903       True\n100530813228621    True\n65790011836001     True\n65790193083        True\n100369211167953    True\n657900508661       True\n657900508662       True\n100369214252483    True\n65768213129962     True\n6576811114763      True\n657684983891       True\n1793112341         True\n657684189741       True\n100645418881       True\n100645418882       True\n657901329443       True\n657759448631       True\n657759448633       True\n65775913857101     True\n6577591234321      True\n6577591234323      True\n6577591141911      True\n58511812603        True\n68557611403        True\n68557611404        True\n1056381166143      True\n65768217181        True\n65768217183        True\n65768217483        True\n256016284          True\n65768116351        True\n65768116353        True\n105229913045183    True\n104909913321851    True\n1043210675844      True\n657681218633       True\n66010012805494     True\n6576768851         True\n657676613371       True\n6576768811         True\n6576768841         True\n6576768843         True\n6576768721         True\n65767612648051     True\n6576768631         True\n6576768633         True\n657901263963       True\n333421069403       True\n65995513034031     True\n272181274          True\n1003235203291      True\n1003235203293      True\n1002303184513      True\n1193449291         True\n1193449293         True\n6576781162003      True\n65906812056143     True\n608648384          True\n657682209494       True\n3334213828181      True\n3334213828183      True\n100239612800131    True\n100239612800133    True\n65869412841972     True\n10250311841911     True\n10250311841913     True\n108221114201171    True\n108221114201173    True\n108221014201091    True\n108221014201093    True\n105230250007881    True\n658596866061       True\n658596866063       True\n658596866081       True\n658596866083       True\n658596468711       True\n658596468713       True\n108221114201571    True\n108221114201573    True\n108221014201421    True\n108221014201423    True\n65777913748661     True\n65777913748662     True\n108221114201521    True\n108221114201523    True\n108221014201341    True\n108221014201343    True\n108360414202013    True\n108221114201481    True\n108221114201483    True\n108221014201321    True\n108221014201323    True\n108221114201551    True\n108221114201553    True\n108221014201401    True\n108221014201403    True\n108221114201431    True\n108221114201433    True\n108221014201241    True\n108221014201243    True\n108221114201411    True\n108221114201413    True\n108221014201191    True\n108221014201193    True\n108221114201391    True\n108221114201393    True\n108221014201181    True\n108221014201183    True\n65834512796743     True\n65928911654674     True\n2563109754         True\n706435201101       True\n658216148583       True\n659695883141       True\n659695883143       True\n65790011690041     True\n65790011690043     True\n65790011689461     True\n65790011689463     True\n105909512588723    True\n14721113226134     True\n65955614098351     True\n139292263          True\n657956109823       True\n2563185083         True\n59711496743        True\n59711121363        True\n70232911779101     True\n6581381056901      True\n6581381056903      True\n103973912055773    True\n65822313033901     True\n65864913045222     True\n69931013002331     True\n104656412836601    True\n104656412836603    True\n1002222971231      True\n6576781028593      True\n658121180991       True\n658121180993       True\n65790011301301     True\n65790011301303     True\n104909912850281    True\n65824611924083     True\n65857611660321     True\n65857611660323     True\n250313142461       True\n250313142463       True\n65768217864        True\n658217525541       True\n658838641123       True\n658838260233       True\n658838226073       True\n658838260213       True\n657684214461       True\n657684214463       True\n6599281172921      True\n106831212029904    True\n658181192054       True\n25590215484        True\n657999150753       True\n657963112433       True\n6579633112431      True\n6579633112293      True\n100495412999533    True\n65982813033993     True\n657725194313       True\n4233951371         True\n702329955811       True\n2000211619073      True\n105739312795241    True\n105739312795243    True\n657950105883       True\n102260951641       True\n102260951643       True\n65786580621        True\n104863913048351    True\n104863913048353    True\n105020311432414    True\n100323511444791    True\n2563209744         True\n107784113225691    True\n1003235435611      True\n1003235435613      True\n47112791393        True\n104718612791383    True\n2487711120973      True\n65768922954        True\n65768217284        True\n25603016241        True\n192612042573       True\n2563109674         True\n107005213154651    True\n107005213154652    True\n1037253553624      True\n100070111505181    True\n657759185961       True\n657759185963       True\n65767812371        True\n657681350483       True\n2563295853         True\n598109903          True\n65824612851153     True\n65824612851154     True\n6599271148071      True\n1036351207254      True\n104909913494513    True\n2788811131         True\n108385213979675    True\n10004013809081     True\n10004013809083     True\n1496902143         True\n657790184423       True\n65768116411        True\n6576813016411      True\n65861113220791     True\n65861113220793     True\n1044433208153      True\n6591251095351      True\n659125741621       True\n66010012805493     True\n17911001853        True\n65994912843214     True\n108001113977973    True\n706435201103       True\n854612839904       True\n853513979675       True\n1668313979675      True\n853413979675       True\n853313979675       True\n2563185094         True\n105860112795091    True\n105860112795093    True\n106146312071213    True\n106151612075523    True\n65996412045331     True\n65996412045333     True\n65996412045343     True\n69522013324621     True\n69522013324623     True\n54112838942        True\n103973950000031    True\n574198984          True\n657900645871       True\n657900645873       True\n225380264          True\n6576768651         True\n350712625871       True\n350712625873       True\n350712880471       True\n350712880473       True\n1000122617921      True\n65775950851        True\n65788486664        True\n607611995433       True\n65767811789183     True\n699379740894       True\n65779559561        True\n105229912598283    True\n1002398982943      True\n1002398752421      True\n1044661194711      True\n1044661194713      True\n657950105921       True\n70323613303031     True\n70323613303033     True\n6865501500593      True\ndtype: bool\nShowing only the first 1000"
     ]
    }
   ],
   "source": [
    "# verificar se as colunas apresentam a mesma informação\n",
    "\n",
    "df['curso_busca'].equals(df['nome'])"
   ]
  },
  {
   "cell_type": "markdown",
   "metadata": {
    "application/vnd.databricks.v1+cell": {
     "cellMetadata": {
      "byteLimit": 2048000,
      "rowLimit": 10000
     },
     "inputWidgets": {},
     "nuid": "27dd2b29-37be-4309-be25-8309698c5832",
     "showTitle": false,
     "tableResultSettingsMap": {},
     "title": ""
    }
   },
   "source": [
    "O método equals retorna True quandos os resgistros comparados são iguais"
   ]
  },
  {
   "cell_type": "code",
   "execution_count": 0,
   "metadata": {
    "application/vnd.databricks.v1+cell": {
     "cellMetadata": {
      "byteLimit": 2048000,
      "rowLimit": 10000
     },
     "inputWidgets": {},
     "nuid": "4f9837ec-5883-43d7-8245-9a27b645e62d",
     "showTitle": false,
     "tableResultSettingsMap": {},
     "title": ""
    }
   },
   "outputs": [
    {
     "output_type": "stream",
     "name": "stdout",
     "output_type": "stream",
     "text": [
      "Out[5]: True    41447\ndtype: int64"
     ]
    }
   ],
   "source": [
    "# quantidade de ocorrências\n",
    "\n",
    "iguais = df['curso_busca'].equals(df['nome'])\n",
    "iguais.value_counts()"
   ]
  },
  {
   "cell_type": "code",
   "execution_count": 0,
   "metadata": {
    "application/vnd.databricks.v1+cell": {
     "cellMetadata": {
      "byteLimit": 2048000,
      "rowLimit": 10000
     },
     "inputWidgets": {},
     "nuid": "08f6c296-6ff1-4c31-a06d-edb79e0bb660",
     "showTitle": false,
     "tableResultSettingsMap": {},
     "title": ""
    }
   },
   "outputs": [
    {
     "output_type": "display_data",
     "data": {
      "text/html": [
       "<div>\n",
       "<style scoped>\n",
       "    .dataframe tbody tr th:only-of-type {\n",
       "        vertical-align: middle;\n",
       "    }\n",
       "\n",
       "    .dataframe tbody tr th {\n",
       "        vertical-align: top;\n",
       "    }\n",
       "\n",
       "    .dataframe thead th {\n",
       "        text-align: right;\n",
       "    }\n",
       "</style>\n",
       "<table border=\"1\" class=\"dataframe\">\n",
       "  <thead>\n",
       "    <tr style=\"text-align: right;\">\n",
       "      <th></th>\n",
       "      <th>grau</th>\n",
       "      <th>turno</th>\n",
       "      <th>mensalidade</th>\n",
       "      <th>bolsa_integral_cotas</th>\n",
       "      <th>bolsa_integral_ampla</th>\n",
       "      <th>bolsa_parcial_cotas</th>\n",
       "      <th>bolsa_parcial_ampla</th>\n",
       "      <th>cidade_busca</th>\n",
       "      <th>uf_busca</th>\n",
       "      <th>cidade_filtro</th>\n",
       "      <th>universidade_nome</th>\n",
       "      <th>campus_nome</th>\n",
       "      <th>campus_id</th>\n",
       "      <th>nome</th>\n",
       "      <th>nota_integral_ampla</th>\n",
       "      <th>nota_integral_cotas</th>\n",
       "      <th>nota_parcial_ampla</th>\n",
       "      <th>nota_parcial_cotas</th>\n",
       "    </tr>\n",
       "    <tr>\n",
       "      <th>curso_id</th>\n",
       "      <th></th>\n",
       "      <th></th>\n",
       "      <th></th>\n",
       "      <th></th>\n",
       "      <th></th>\n",
       "      <th></th>\n",
       "      <th></th>\n",
       "      <th></th>\n",
       "      <th></th>\n",
       "      <th></th>\n",
       "      <th></th>\n",
       "      <th></th>\n",
       "      <th></th>\n",
       "      <th></th>\n",
       "      <th></th>\n",
       "      <th></th>\n",
       "      <th></th>\n",
       "      <th></th>\n",
       "    </tr>\n",
       "  </thead>\n",
       "  <tbody>\n",
       "    <tr>\n",
       "      <th>706710394154</th>\n",
       "      <td>Bacharelado</td>\n",
       "      <td>Integral</td>\n",
       "      <td>9999.99</td>\n",
       "      <td>15</td>\n",
       "      <td>14.0</td>\n",
       "      <td>NaN</td>\n",
       "      <td>NaN</td>\n",
       "      <td>Campo Grande</td>\n",
       "      <td>MS</td>\n",
       "      <td>NTAwMjAwNDAyNzA0</td>\n",
       "      <td>Universidade Anhanguera - UNIDERP</td>\n",
       "      <td>CAMPO GRANDE - SEDE - Miguel Couto</td>\n",
       "      <td>706710</td>\n",
       "      <td>Medicina</td>\n",
       "      <td>740.22</td>\n",
       "      <td>726.46</td>\n",
       "      <td>NaN</td>\n",
       "      <td>NaN</td>\n",
       "    </tr>\n",
       "    <tr>\n",
       "      <th>104191210567043</th>\n",
       "      <td>Bacharelado</td>\n",
       "      <td>Noturno</td>\n",
       "      <td>9836.40</td>\n",
       "      <td>1</td>\n",
       "      <td>NaN</td>\n",
       "      <td>NaN</td>\n",
       "      <td>NaN</td>\n",
       "      <td>Crateus</td>\n",
       "      <td>CE</td>\n",
       "      <td>MjMwNDAxODA0MTAz</td>\n",
       "      <td>Faculdade Princesa do Oeste - FPO</td>\n",
       "      <td>UNIDADE SEDE - São Vicente</td>\n",
       "      <td>1041912</td>\n",
       "      <td>Enfermagem</td>\n",
       "      <td>663.36</td>\n",
       "      <td>NaN</td>\n",
       "      <td>NaN</td>\n",
       "      <td>NaN</td>\n",
       "    </tr>\n",
       "    <tr>\n",
       "      <th>1002328574024</th>\n",
       "      <td>Bacharelado</td>\n",
       "      <td>Integral</td>\n",
       "      <td>9715.61</td>\n",
       "      <td>2</td>\n",
       "      <td>5.0</td>\n",
       "      <td>6.0</td>\n",
       "      <td>10.0</td>\n",
       "      <td>Sao Paulo</td>\n",
       "      <td>SP</td>\n",
       "      <td>MzUxNTA2MTUwMzA4</td>\n",
       "      <td>Universidade Cidade de São Paulo - UNICID</td>\n",
       "      <td>UNIVERSIDADE CIDADE DE SÃO PAULO - UNICID - SE...</td>\n",
       "      <td>1002328</td>\n",
       "      <td>Medicina</td>\n",
       "      <td>739.62</td>\n",
       "      <td>738.08</td>\n",
       "      <td>738.96</td>\n",
       "      <td>718.64</td>\n",
       "    </tr>\n",
       "    <tr>\n",
       "      <th>104191212798093</th>\n",
       "      <td>Bacharelado</td>\n",
       "      <td>Noturno</td>\n",
       "      <td>9689.34</td>\n",
       "      <td>3</td>\n",
       "      <td>2.0</td>\n",
       "      <td>NaN</td>\n",
       "      <td>NaN</td>\n",
       "      <td>Crateus</td>\n",
       "      <td>CE</td>\n",
       "      <td>MjMwNDAxODA0MTAz</td>\n",
       "      <td>Faculdade Princesa do Oeste - FPO</td>\n",
       "      <td>UNIDADE SEDE - São Vicente</td>\n",
       "      <td>1041912</td>\n",
       "      <td>Psicologia</td>\n",
       "      <td>651.00</td>\n",
       "      <td>652.22</td>\n",
       "      <td>NaN</td>\n",
       "      <td>NaN</td>\n",
       "    </tr>\n",
       "    <tr>\n",
       "      <th>65899611932754</th>\n",
       "      <td>Bacharelado</td>\n",
       "      <td>Integral</td>\n",
       "      <td>9674.34</td>\n",
       "      <td>4</td>\n",
       "      <td>1.0</td>\n",
       "      <td>5.0</td>\n",
       "      <td>2.0</td>\n",
       "      <td>Rio Branco</td>\n",
       "      <td>AC</td>\n",
       "      <td>MTIwMjAwNDAwNDAx</td>\n",
       "      <td>Faculdade Barão do Rio Branco - FAB</td>\n",
       "      <td>CAMPUS  - RIO BRANCO - JARDIM EUROPA II - Jard...</td>\n",
       "      <td>658996</td>\n",
       "      <td>Medicina</td>\n",
       "      <td>758.32</td>\n",
       "      <td>723.94</td>\n",
       "      <td>734.92</td>\n",
       "      <td>711.26</td>\n",
       "    </tr>\n",
       "  </tbody>\n",
       "</table>\n",
       "</div>"
      ]
     },
     "metadata": {
      "application/vnd.databricks.v1+output": {
       "addedWidgets": {},
       "arguments": {},
       "data": "<div>\n<style scoped>\n    .dataframe tbody tr th:only-of-type {\n        vertical-align: middle;\n    }\n\n    .dataframe tbody tr th {\n        vertical-align: top;\n    }\n\n    .dataframe thead th {\n        text-align: right;\n    }\n</style>\n<table border=\"1\" class=\"dataframe\">\n  <thead>\n    <tr style=\"text-align: right;\">\n      <th></th>\n      <th>grau</th>\n      <th>turno</th>\n      <th>mensalidade</th>\n      <th>bolsa_integral_cotas</th>\n      <th>bolsa_integral_ampla</th>\n      <th>bolsa_parcial_cotas</th>\n      <th>bolsa_parcial_ampla</th>\n      <th>cidade_busca</th>\n      <th>uf_busca</th>\n      <th>cidade_filtro</th>\n      <th>universidade_nome</th>\n      <th>campus_nome</th>\n      <th>campus_id</th>\n      <th>nome</th>\n      <th>nota_integral_ampla</th>\n      <th>nota_integral_cotas</th>\n      <th>nota_parcial_ampla</th>\n      <th>nota_parcial_cotas</th>\n    </tr>\n    <tr>\n      <th>curso_id</th>\n      <th></th>\n      <th></th>\n      <th></th>\n      <th></th>\n      <th></th>\n      <th></th>\n      <th></th>\n      <th></th>\n      <th></th>\n      <th></th>\n      <th></th>\n      <th></th>\n      <th></th>\n      <th></th>\n      <th></th>\n      <th></th>\n      <th></th>\n      <th></th>\n    </tr>\n  </thead>\n  <tbody>\n    <tr>\n      <th>706710394154</th>\n      <td>Bacharelado</td>\n      <td>Integral</td>\n      <td>9999.99</td>\n      <td>15</td>\n      <td>14.0</td>\n      <td>NaN</td>\n      <td>NaN</td>\n      <td>Campo Grande</td>\n      <td>MS</td>\n      <td>NTAwMjAwNDAyNzA0</td>\n      <td>Universidade Anhanguera - UNIDERP</td>\n      <td>CAMPO GRANDE - SEDE - Miguel Couto</td>\n      <td>706710</td>\n      <td>Medicina</td>\n      <td>740.22</td>\n      <td>726.46</td>\n      <td>NaN</td>\n      <td>NaN</td>\n    </tr>\n    <tr>\n      <th>104191210567043</th>\n      <td>Bacharelado</td>\n      <td>Noturno</td>\n      <td>9836.40</td>\n      <td>1</td>\n      <td>NaN</td>\n      <td>NaN</td>\n      <td>NaN</td>\n      <td>Crateus</td>\n      <td>CE</td>\n      <td>MjMwNDAxODA0MTAz</td>\n      <td>Faculdade Princesa do Oeste - FPO</td>\n      <td>UNIDADE SEDE - São Vicente</td>\n      <td>1041912</td>\n      <td>Enfermagem</td>\n      <td>663.36</td>\n      <td>NaN</td>\n      <td>NaN</td>\n      <td>NaN</td>\n    </tr>\n    <tr>\n      <th>1002328574024</th>\n      <td>Bacharelado</td>\n      <td>Integral</td>\n      <td>9715.61</td>\n      <td>2</td>\n      <td>5.0</td>\n      <td>6.0</td>\n      <td>10.0</td>\n      <td>Sao Paulo</td>\n      <td>SP</td>\n      <td>MzUxNTA2MTUwMzA4</td>\n      <td>Universidade Cidade de São Paulo - UNICID</td>\n      <td>UNIVERSIDADE CIDADE DE SÃO PAULO - UNICID - SE...</td>\n      <td>1002328</td>\n      <td>Medicina</td>\n      <td>739.62</td>\n      <td>738.08</td>\n      <td>738.96</td>\n      <td>718.64</td>\n    </tr>\n    <tr>\n      <th>104191212798093</th>\n      <td>Bacharelado</td>\n      <td>Noturno</td>\n      <td>9689.34</td>\n      <td>3</td>\n      <td>2.0</td>\n      <td>NaN</td>\n      <td>NaN</td>\n      <td>Crateus</td>\n      <td>CE</td>\n      <td>MjMwNDAxODA0MTAz</td>\n      <td>Faculdade Princesa do Oeste - FPO</td>\n      <td>UNIDADE SEDE - São Vicente</td>\n      <td>1041912</td>\n      <td>Psicologia</td>\n      <td>651.00</td>\n      <td>652.22</td>\n      <td>NaN</td>\n      <td>NaN</td>\n    </tr>\n    <tr>\n      <th>65899611932754</th>\n      <td>Bacharelado</td>\n      <td>Integral</td>\n      <td>9674.34</td>\n      <td>4</td>\n      <td>1.0</td>\n      <td>5.0</td>\n      <td>2.0</td>\n      <td>Rio Branco</td>\n      <td>AC</td>\n      <td>MTIwMjAwNDAwNDAx</td>\n      <td>Faculdade Barão do Rio Branco - FAB</td>\n      <td>CAMPUS  - RIO BRANCO - JARDIM EUROPA II - Jard...</td>\n      <td>658996</td>\n      <td>Medicina</td>\n      <td>758.32</td>\n      <td>723.94</td>\n      <td>734.92</td>\n      <td>711.26</td>\n    </tr>\n  </tbody>\n</table>\n</div>",
       "datasetInfos": [],
       "metadata": {},
       "removedWidgets": [],
       "textData": null,
       "type": "htmlSandbox"
      }
     },
     "output_type": "display_data"
    }
   ],
   "source": [
    "# remover coluna\n",
    "\n",
    "df = df.drop(['curso_busca'], axis=1)\n",
    "df.head()"
   ]
  },
  {
   "cell_type": "code",
   "execution_count": 0,
   "metadata": {
    "application/vnd.databricks.v1+cell": {
     "cellMetadata": {
      "byteLimit": 2048000,
      "rowLimit": 10000
     },
     "inputWidgets": {},
     "nuid": "c65122f8-8501-47f3-890f-7d4223364899",
     "showTitle": false,
     "tableResultSettingsMap": {},
     "title": ""
    }
   },
   "outputs": [],
   "source": [
    "# renomear a coluna de nome do curso\n",
    "\n",
    "df = df.rename(columns={'nome':'nome_curso'})"
   ]
  },
  {
   "cell_type": "markdown",
   "metadata": {
    "application/vnd.databricks.v1+cell": {
     "cellMetadata": {
      "byteLimit": 2048000,
      "rowLimit": 10000
     },
     "inputWidgets": {},
     "nuid": "c8d305bd-260c-4ca6-963d-ee03c4e877ee",
     "showTitle": false,
     "tableResultSettingsMap": {},
     "title": ""
    }
   },
   "source": [
    "# Operações no Dataset"
   ]
  },
  {
   "cell_type": "markdown",
   "metadata": {
    "application/vnd.databricks.v1+cell": {
     "cellMetadata": {
      "byteLimit": 2048000,
      "rowLimit": 10000
     },
     "inputWidgets": {},
     "nuid": "25b55fab-f90d-4981-8d9c-a86d0e6f7613",
     "showTitle": false,
     "tableResultSettingsMap": {},
     "title": ""
    }
   },
   "source": [
    "Quantos cursos de Medicina temos nesse conjunto de dados do Prouni?"
   ]
  },
  {
   "cell_type": "code",
   "execution_count": 0,
   "metadata": {
    "application/vnd.databricks.v1+cell": {
     "cellMetadata": {
      "byteLimit": 2048000,
      "rowLimit": 10000
     },
     "inputWidgets": {},
     "nuid": "d53f0ed3-ab4b-4931-8170-f29a66cd5246",
     "showTitle": false,
     "tableResultSettingsMap": {},
     "title": ""
    }
   },
   "outputs": [
    {
     "output_type": "stream",
     "name": "stdout",
     "output_type": "stream",
     "text": [
      "Out[8]: 124"
     ]
    }
   ],
   "source": [
    "# quantidade de cursos\n",
    "\n",
    "df[df['nome_curso']=='Medicina']['nome_curso'].count()"
   ]
  },
  {
   "cell_type": "code",
   "execution_count": 0,
   "metadata": {
    "application/vnd.databricks.v1+cell": {
     "cellMetadata": {
      "byteLimit": 2048000,
      "rowLimit": 10000
     },
     "inputWidgets": {},
     "nuid": "d14e8b45-f689-4f09-b587-878a5e3b2783",
     "showTitle": false,
     "tableResultSettingsMap": {},
     "title": ""
    }
   },
   "outputs": [
    {
     "output_type": "stream",
     "name": "stdout",
     "output_type": "stream",
     "text": [
      "Out[9]: 0             Matutino\n1    Curso a Distância\n2           Vespertino\n3             Integral\n4              Noturno\nName: turno, dtype: object"
     ]
    }
   ],
   "source": [
    "# modalidades de turno\n",
    "\n",
    "df['turno'].unique()"
   ]
  },
  {
   "cell_type": "code",
   "execution_count": 0,
   "metadata": {
    "application/vnd.databricks.v1+cell": {
     "cellMetadata": {
      "byteLimit": 2048000,
      "rowLimit": 10000
     },
     "inputWidgets": {},
     "nuid": "97d04050-e85d-4a3a-97f8-00a87b7cffed",
     "showTitle": false,
     "tableResultSettingsMap": {},
     "title": ""
    }
   },
   "outputs": [
    {
     "output_type": "stream",
     "name": "stdout",
     "output_type": "stream",
     "text": [
      "Out[10]: 123"
     ]
    }
   ],
   "source": [
    "# cursos de medicina em periodo integral\n",
    "\n",
    "df[(df['turno']=='Integral') & (df['nome_curso']=='Medicina')]['nome_curso'].count()"
   ]
  },
  {
   "cell_type": "code",
   "execution_count": 0,
   "metadata": {
    "application/vnd.databricks.v1+cell": {
     "cellMetadata": {
      "byteLimit": 2048000,
      "rowLimit": 10000
     },
     "inputWidgets": {},
     "nuid": "16388bd5-ca56-4dd5-958f-76a069e57bc0",
     "showTitle": false,
     "tableResultSettingsMap": {},
     "title": ""
    }
   },
   "outputs": [
    {
     "output_type": "stream",
     "name": "stdout",
     "output_type": "stream",
     "text": [
      "Out[11]: 124"
     ]
    }
   ],
   "source": [
    "# verificando se os cursos são integral ou matutino\n",
    "\n",
    "df[(df['turno']=='Integral') & (df['nome_curso']=='Medicina') | (df['turno']=='Matutino') & (df['nome_curso']=='Medicina') ]['nome_curso'].count()"
   ]
  },
  {
   "cell_type": "code",
   "execution_count": 0,
   "metadata": {
    "application/vnd.databricks.v1+cell": {
     "cellMetadata": {
      "byteLimit": 2048000,
      "rowLimit": 10000
     },
     "inputWidgets": {},
     "nuid": "46e4d229-f65f-48f6-b664-3c9f7b4cd696",
     "showTitle": false,
     "tableResultSettingsMap": {},
     "title": ""
    }
   },
   "outputs": [
    {
     "output_type": "display_data",
     "data": {
      "text/html": [
       "<div>\n",
       "<style scoped>\n",
       "    .dataframe tbody tr th:only-of-type {\n",
       "        vertical-align: middle;\n",
       "    }\n",
       "\n",
       "    .dataframe tbody tr th {\n",
       "        vertical-align: top;\n",
       "    }\n",
       "\n",
       "    .dataframe thead th {\n",
       "        text-align: right;\n",
       "    }\n",
       "</style>\n",
       "<table border=\"1\" class=\"dataframe\">\n",
       "  <thead>\n",
       "    <tr style=\"text-align: right;\">\n",
       "      <th></th>\n",
       "      <th>reajuste</th>\n",
       "    </tr>\n",
       "  </thead>\n",
       "  <tbody>\n",
       "    <tr>\n",
       "      <th>0</th>\n",
       "      <td>100</td>\n",
       "    </tr>\n",
       "    <tr>\n",
       "      <th>1</th>\n",
       "      <td>50</td>\n",
       "    </tr>\n",
       "    <tr>\n",
       "      <th>2</th>\n",
       "      <td>100</td>\n",
       "    </tr>\n",
       "    <tr>\n",
       "      <th>3</th>\n",
       "      <td>50</td>\n",
       "    </tr>\n",
       "    <tr>\n",
       "      <th>4</th>\n",
       "      <td>100</td>\n",
       "    </tr>\n",
       "  </tbody>\n",
       "</table>\n",
       "</div>"
      ]
     },
     "metadata": {
      "application/vnd.databricks.v1+output": {
       "addedWidgets": {},
       "arguments": {},
       "data": "<div>\n<style scoped>\n    .dataframe tbody tr th:only-of-type {\n        vertical-align: middle;\n    }\n\n    .dataframe tbody tr th {\n        vertical-align: top;\n    }\n\n    .dataframe thead th {\n        text-align: right;\n    }\n</style>\n<table border=\"1\" class=\"dataframe\">\n  <thead>\n    <tr style=\"text-align: right;\">\n      <th></th>\n      <th>reajuste</th>\n    </tr>\n  </thead>\n  <tbody>\n    <tr>\n      <th>0</th>\n      <td>100</td>\n    </tr>\n    <tr>\n      <th>1</th>\n      <td>50</td>\n    </tr>\n    <tr>\n      <th>2</th>\n      <td>100</td>\n    </tr>\n    <tr>\n      <th>3</th>\n      <td>50</td>\n    </tr>\n    <tr>\n      <th>4</th>\n      <td>100</td>\n    </tr>\n  </tbody>\n</table>\n</div>",
       "datasetInfos": [],
       "metadata": {},
       "removedWidgets": [],
       "textData": null,
       "type": "htmlSandbox"
      }
     },
     "output_type": "display_data"
    }
   ],
   "source": [
    "# carregando o segundo dataset - reajuste\n",
    "\n",
    "local_do_arquivo = '/FileStore/reajuste.csv'\n",
    "df_mensalidade = ps.read_csv(local_do_arquivo)\n",
    "df_mensalidade.head()"
   ]
  },
  {
   "cell_type": "code",
   "execution_count": 0,
   "metadata": {
    "application/vnd.databricks.v1+cell": {
     "cellMetadata": {
      "byteLimit": 2048000,
      "rowLimit": 10000
     },
     "inputWidgets": {},
     "nuid": "363b5374-806d-40ec-acb2-68b7209087af",
     "showTitle": false,
     "tableResultSettingsMap": {},
     "title": ""
    }
   },
   "outputs": [
    {
     "output_type": "stream",
     "name": "stdout",
     "output_type": "stream",
     "text": [
      "Out[13]: (41447, 1)"
     ]
    }
   ],
   "source": [
    "# tamanho do dataset\n",
    "\n",
    "df_mensalidade.shape"
   ]
  },
  {
   "cell_type": "markdown",
   "metadata": {
    "application/vnd.databricks.v1+cell": {
     "cellMetadata": {
      "byteLimit": 2048000,
      "rowLimit": 10000
     },
     "inputWidgets": {},
     "nuid": "40c1fcb5-5b1b-43a5-a1bb-178d7d1c6fcc",
     "showTitle": false,
     "tableResultSettingsMap": {},
     "title": ""
    }
   },
   "source": [
    "o dataset \"reajuste\" tem o mesmo número de linhas que o primeiro"
   ]
  },
  {
   "cell_type": "code",
   "execution_count": 0,
   "metadata": {
    "application/vnd.databricks.v1+cell": {
     "cellMetadata": {
      "byteLimit": 2048000,
      "rowLimit": 10000
     },
     "inputWidgets": {},
     "nuid": "966482e6-1010-4fca-83f5-956529da1a86",
     "showTitle": false,
     "tableResultSettingsMap": {},
     "title": ""
    }
   },
   "outputs": [],
   "source": [
    "# habilitar a combinação de diferentes datasets\n",
    "\n",
    "ps.set_option('compute.ops_on_diff_frames',True)"
   ]
  },
  {
   "cell_type": "code",
   "execution_count": 0,
   "metadata": {
    "application/vnd.databricks.v1+cell": {
     "cellMetadata": {
      "byteLimit": 2048000,
      "rowLimit": 10000
     },
     "inputWidgets": {},
     "nuid": "3e8c703b-346f-4b25-88c1-71975f6c2965",
     "showTitle": false,
     "tableResultSettingsMap": {},
     "title": ""
    }
   },
   "outputs": [],
   "source": [
    "# remover indice do primeiro df\n",
    "\n",
    "df.reset_index(inplace=True)"
   ]
  },
  {
   "cell_type": "code",
   "execution_count": 0,
   "metadata": {
    "application/vnd.databricks.v1+cell": {
     "cellMetadata": {
      "byteLimit": 2048000,
      "rowLimit": 10000
     },
     "inputWidgets": {},
     "nuid": "e2237c9d-46c5-4598-b0c6-dade3e55eed1",
     "showTitle": false,
     "tableResultSettingsMap": {},
     "title": ""
    }
   },
   "outputs": [],
   "source": [
    "# adicinaro valor de reajuste a coluna de mensalidade\n",
    "\n",
    "df['mensalidade'] = df['mensalidade'] + df_mensalidade['reajuste']"
   ]
  },
  {
   "cell_type": "markdown",
   "metadata": {
    "application/vnd.databricks.v1+cell": {
     "cellMetadata": {
      "byteLimit": 2048000,
      "rowLimit": 10000
     },
     "inputWidgets": {},
     "nuid": "38320ed2-714a-4ff7-9dad-f1298a19d044",
     "showTitle": false,
     "tableResultSettingsMap": {},
     "title": ""
    }
   },
   "source": [
    "# Resumo do Dataframe"
   ]
  },
  {
   "cell_type": "code",
   "execution_count": 0,
   "metadata": {
    "application/vnd.databricks.v1+cell": {
     "cellMetadata": {
      "byteLimit": 2048000,
      "rowLimit": 10000
     },
     "inputWidgets": {},
     "nuid": "764013c2-2eb1-40ec-9983-690e966e9751",
     "showTitle": false,
     "tableResultSettingsMap": {},
     "title": ""
    }
   },
   "outputs": [
    {
     "output_type": "display_data",
     "data": {
      "text/html": [
       "<div>\n",
       "<style scoped>\n",
       "    .dataframe tbody tr th:only-of-type {\n",
       "        vertical-align: middle;\n",
       "    }\n",
       "\n",
       "    .dataframe tbody tr th {\n",
       "        vertical-align: top;\n",
       "    }\n",
       "\n",
       "    .dataframe thead th {\n",
       "        text-align: right;\n",
       "    }\n",
       "</style>\n",
       "<table border=\"1\" class=\"dataframe\">\n",
       "  <thead>\n",
       "    <tr style=\"text-align: right;\">\n",
       "      <th></th>\n",
       "      <th>curso_id</th>\n",
       "      <th>grau</th>\n",
       "      <th>turno</th>\n",
       "      <th>mensalidade</th>\n",
       "      <th>bolsa_integral_cotas</th>\n",
       "      <th>bolsa_integral_ampla</th>\n",
       "      <th>bolsa_parcial_cotas</th>\n",
       "      <th>bolsa_parcial_ampla</th>\n",
       "      <th>cidade_busca</th>\n",
       "      <th>uf_busca</th>\n",
       "      <th>cidade_filtro</th>\n",
       "      <th>universidade_nome</th>\n",
       "      <th>campus_nome</th>\n",
       "      <th>campus_id</th>\n",
       "      <th>nome_curso</th>\n",
       "      <th>nota_integral_ampla</th>\n",
       "      <th>nota_integral_cotas</th>\n",
       "      <th>nota_parcial_ampla</th>\n",
       "      <th>nota_parcial_cotas</th>\n",
       "    </tr>\n",
       "  </thead>\n",
       "  <tbody>\n",
       "    <tr>\n",
       "      <th>1950</th>\n",
       "      <td>65982912800701</td>\n",
       "      <td>Bacharelado</td>\n",
       "      <td>Matutino</td>\n",
       "      <td>1561.29</td>\n",
       "      <td>1</td>\n",
       "      <td>1</td>\n",
       "      <td>1</td>\n",
       "      <td>30</td>\n",
       "      <td>Caucaia</td>\n",
       "      <td>CE</td>\n",
       "      <td>MjMwMzAxNjAzNzA5</td>\n",
       "      <td>Faculdade Terra Nordeste - FATENE</td>\n",
       "      <td>UNIDADE SEDE - Soledade</td>\n",
       "      <td>659829</td>\n",
       "      <td>Engenharia Civil</td>\n",
       "      <td>688.70</td>\n",
       "      <td>693.02</td>\n",
       "      <td>450.00</td>\n",
       "      <td>450.00</td>\n",
       "    </tr>\n",
       "    <tr>\n",
       "      <th>8440</th>\n",
       "      <td>65928650009893</td>\n",
       "      <td>Bacharelado</td>\n",
       "      <td>Noturno</td>\n",
       "      <td>980.00</td>\n",
       "      <td>1</td>\n",
       "      <td>1</td>\n",
       "      <td>3</td>\n",
       "      <td>2</td>\n",
       "      <td>Sao Gotardo</td>\n",
       "      <td>MG</td>\n",
       "      <td>MzEwNTAyMDYyMTA0</td>\n",
       "      <td>Faculdade de Ciências Gerenciais de São Gotard...</td>\n",
       "      <td>UNIDADE SEDE - Boa Esperança</td>\n",
       "      <td>659286</td>\n",
       "      <td>Direito</td>\n",
       "      <td>638.94</td>\n",
       "      <td>612.92</td>\n",
       "      <td>608.26</td>\n",
       "      <td>579.50</td>\n",
       "    </tr>\n",
       "    <tr>\n",
       "      <th>9458</th>\n",
       "      <td>658024423323</td>\n",
       "      <td>Bacharelado</td>\n",
       "      <td>Noturno</td>\n",
       "      <td>927.00</td>\n",
       "      <td>2</td>\n",
       "      <td>1</td>\n",
       "      <td>3</td>\n",
       "      <td>2</td>\n",
       "      <td>Dourados</td>\n",
       "      <td>MS</td>\n",
       "      <td>NTAwNDAxMDAzNzAy</td>\n",
       "      <td>Centro Universitário da Grande Dourados - Unig...</td>\n",
       "      <td>DOURADOS - Jardim</td>\n",
       "      <td>658024</td>\n",
       "      <td>Psicologia</td>\n",
       "      <td>631.32</td>\n",
       "      <td>609.34</td>\n",
       "      <td>618.58</td>\n",
       "      <td>557.68</td>\n",
       "    </tr>\n",
       "    <tr>\n",
       "      <th>11190</th>\n",
       "      <td>1072630671593</td>\n",
       "      <td>Bacharelado</td>\n",
       "      <td>Noturno</td>\n",
       "      <td>829.00</td>\n",
       "      <td>6</td>\n",
       "      <td>5</td>\n",
       "      <td>10</td>\n",
       "      <td>9</td>\n",
       "      <td>Juiz de Fora</td>\n",
       "      <td>MG</td>\n",
       "      <td>MzExMjA2NTM2NzAy</td>\n",
       "      <td>Faculdade Doctum de Juiz de Fora - DOCTUM</td>\n",
       "      <td>CAMPUS APOGEU - Centro</td>\n",
       "      <td>1072630</td>\n",
       "      <td>Direito</td>\n",
       "      <td>669.40</td>\n",
       "      <td>632.94</td>\n",
       "      <td>615.56</td>\n",
       "      <td>584.58</td>\n",
       "    </tr>\n",
       "    <tr>\n",
       "      <th>17979</th>\n",
       "      <td>69558711774842</td>\n",
       "      <td>Tecnológico</td>\n",
       "      <td>Vespertino</td>\n",
       "      <td>543.00</td>\n",
       "      <td>1</td>\n",
       "      <td>1</td>\n",
       "      <td>1</td>\n",
       "      <td>1</td>\n",
       "      <td>Rio Branco</td>\n",
       "      <td>AC</td>\n",
       "      <td>MTIwMjAwNDAwNDAx</td>\n",
       "      <td>Faculdade da Amazônia Ocidental - FAAO</td>\n",
       "      <td>CAMPUS - RIO BRANCO - JARDIM PRIMAVERA - Jardi...</td>\n",
       "      <td>695587</td>\n",
       "      <td>Análise e Desenvolvimento de Sistemas</td>\n",
       "      <td>615.54</td>\n",
       "      <td>574.42</td>\n",
       "      <td>582.66</td>\n",
       "      <td>623.22</td>\n",
       "    </tr>\n",
       "  </tbody>\n",
       "</table>\n",
       "</div>"
      ]
     },
     "metadata": {
      "application/vnd.databricks.v1+output": {
       "addedWidgets": {},
       "arguments": {},
       "data": "<div>\n<style scoped>\n    .dataframe tbody tr th:only-of-type {\n        vertical-align: middle;\n    }\n\n    .dataframe tbody tr th {\n        vertical-align: top;\n    }\n\n    .dataframe thead th {\n        text-align: right;\n    }\n</style>\n<table border=\"1\" class=\"dataframe\">\n  <thead>\n    <tr style=\"text-align: right;\">\n      <th></th>\n      <th>curso_id</th>\n      <th>grau</th>\n      <th>turno</th>\n      <th>mensalidade</th>\n      <th>bolsa_integral_cotas</th>\n      <th>bolsa_integral_ampla</th>\n      <th>bolsa_parcial_cotas</th>\n      <th>bolsa_parcial_ampla</th>\n      <th>cidade_busca</th>\n      <th>uf_busca</th>\n      <th>cidade_filtro</th>\n      <th>universidade_nome</th>\n      <th>campus_nome</th>\n      <th>campus_id</th>\n      <th>nome_curso</th>\n      <th>nota_integral_ampla</th>\n      <th>nota_integral_cotas</th>\n      <th>nota_parcial_ampla</th>\n      <th>nota_parcial_cotas</th>\n    </tr>\n  </thead>\n  <tbody>\n    <tr>\n      <th>1950</th>\n      <td>65982912800701</td>\n      <td>Bacharelado</td>\n      <td>Matutino</td>\n      <td>1561.29</td>\n      <td>1</td>\n      <td>1</td>\n      <td>1</td>\n      <td>30</td>\n      <td>Caucaia</td>\n      <td>CE</td>\n      <td>MjMwMzAxNjAzNzA5</td>\n      <td>Faculdade Terra Nordeste - FATENE</td>\n      <td>UNIDADE SEDE - Soledade</td>\n      <td>659829</td>\n      <td>Engenharia Civil</td>\n      <td>688.70</td>\n      <td>693.02</td>\n      <td>450.00</td>\n      <td>450.00</td>\n    </tr>\n    <tr>\n      <th>8440</th>\n      <td>65928650009893</td>\n      <td>Bacharelado</td>\n      <td>Noturno</td>\n      <td>980.00</td>\n      <td>1</td>\n      <td>1</td>\n      <td>3</td>\n      <td>2</td>\n      <td>Sao Gotardo</td>\n      <td>MG</td>\n      <td>MzEwNTAyMDYyMTA0</td>\n      <td>Faculdade de Ciências Gerenciais de São Gotard...</td>\n      <td>UNIDADE SEDE - Boa Esperança</td>\n      <td>659286</td>\n      <td>Direito</td>\n      <td>638.94</td>\n      <td>612.92</td>\n      <td>608.26</td>\n      <td>579.50</td>\n    </tr>\n    <tr>\n      <th>9458</th>\n      <td>658024423323</td>\n      <td>Bacharelado</td>\n      <td>Noturno</td>\n      <td>927.00</td>\n      <td>2</td>\n      <td>1</td>\n      <td>3</td>\n      <td>2</td>\n      <td>Dourados</td>\n      <td>MS</td>\n      <td>NTAwNDAxMDAzNzAy</td>\n      <td>Centro Universitário da Grande Dourados - Unig...</td>\n      <td>DOURADOS - Jardim</td>\n      <td>658024</td>\n      <td>Psicologia</td>\n      <td>631.32</td>\n      <td>609.34</td>\n      <td>618.58</td>\n      <td>557.68</td>\n    </tr>\n    <tr>\n      <th>11190</th>\n      <td>1072630671593</td>\n      <td>Bacharelado</td>\n      <td>Noturno</td>\n      <td>829.00</td>\n      <td>6</td>\n      <td>5</td>\n      <td>10</td>\n      <td>9</td>\n      <td>Juiz de Fora</td>\n      <td>MG</td>\n      <td>MzExMjA2NTM2NzAy</td>\n      <td>Faculdade Doctum de Juiz de Fora - DOCTUM</td>\n      <td>CAMPUS APOGEU - Centro</td>\n      <td>1072630</td>\n      <td>Direito</td>\n      <td>669.40</td>\n      <td>632.94</td>\n      <td>615.56</td>\n      <td>584.58</td>\n    </tr>\n    <tr>\n      <th>17979</th>\n      <td>69558711774842</td>\n      <td>Tecnológico</td>\n      <td>Vespertino</td>\n      <td>543.00</td>\n      <td>1</td>\n      <td>1</td>\n      <td>1</td>\n      <td>1</td>\n      <td>Rio Branco</td>\n      <td>AC</td>\n      <td>MTIwMjAwNDAwNDAx</td>\n      <td>Faculdade da Amazônia Ocidental - FAAO</td>\n      <td>CAMPUS - RIO BRANCO - JARDIM PRIMAVERA - Jardi...</td>\n      <td>695587</td>\n      <td>Análise e Desenvolvimento de Sistemas</td>\n      <td>615.54</td>\n      <td>574.42</td>\n      <td>582.66</td>\n      <td>623.22</td>\n    </tr>\n  </tbody>\n</table>\n</div>",
       "datasetInfos": [],
       "metadata": {},
       "removedWidgets": [],
       "textData": null,
       "type": "htmlSandbox"
      }
     },
     "output_type": "display_data"
    }
   ],
   "source": [
    "# remover valores nulos\n",
    "\n",
    "df.dropna(inplace=True)\n",
    "df.head()"
   ]
  },
  {
   "cell_type": "code",
   "execution_count": 0,
   "metadata": {
    "application/vnd.databricks.v1+cell": {
     "cellMetadata": {
      "byteLimit": 2048000,
      "rowLimit": 10000
     },
     "inputWidgets": {},
     "nuid": "776d4387-b7e7-4475-869b-acb757489432",
     "showTitle": false,
     "tableResultSettingsMap": {},
     "title": ""
    }
   },
   "outputs": [
    {
     "output_type": "display_data",
     "data": {
      "text/html": [
       "<div>\n",
       "<style scoped>\n",
       "    .dataframe tbody tr th:only-of-type {\n",
       "        vertical-align: middle;\n",
       "    }\n",
       "\n",
       "    .dataframe tbody tr th {\n",
       "        vertical-align: top;\n",
       "    }\n",
       "\n",
       "    .dataframe thead th {\n",
       "        text-align: right;\n",
       "    }\n",
       "</style>\n",
       "<table border=\"1\" class=\"dataframe\">\n",
       "  <thead>\n",
       "    <tr style=\"text-align: right;\">\n",
       "      <th></th>\n",
       "      <th>curso_id</th>\n",
       "      <th>mensalidade</th>\n",
       "      <th>bolsa_integral_cotas</th>\n",
       "      <th>bolsa_integral_ampla</th>\n",
       "      <th>bolsa_parcial_cotas</th>\n",
       "      <th>bolsa_parcial_ampla</th>\n",
       "      <th>campus_id</th>\n",
       "      <th>nota_integral_ampla</th>\n",
       "      <th>nota_integral_cotas</th>\n",
       "      <th>nota_parcial_ampla</th>\n",
       "      <th>nota_parcial_cotas</th>\n",
       "    </tr>\n",
       "  </thead>\n",
       "  <tbody>\n",
       "    <tr>\n",
       "      <th>count</th>\n",
       "      <td>2.203000e+03</td>\n",
       "      <td>2203.000000</td>\n",
       "      <td>2203.000000</td>\n",
       "      <td>2203.000000</td>\n",
       "      <td>2203.000000</td>\n",
       "      <td>2203.000000</td>\n",
       "      <td>2.203000e+03</td>\n",
       "      <td>2203.000000</td>\n",
       "      <td>2203.000000</td>\n",
       "      <td>2203.000000</td>\n",
       "      <td>2203.000000</td>\n",
       "    </tr>\n",
       "    <tr>\n",
       "      <th>mean</th>\n",
       "      <td>4.376614e+13</td>\n",
       "      <td>881.605556</td>\n",
       "      <td>1.891058</td>\n",
       "      <td>2.082161</td>\n",
       "      <td>3.387199</td>\n",
       "      <td>7.190649</td>\n",
       "      <td>7.510660e+05</td>\n",
       "      <td>599.380390</td>\n",
       "      <td>574.097921</td>\n",
       "      <td>547.297204</td>\n",
       "      <td>521.452964</td>\n",
       "    </tr>\n",
       "    <tr>\n",
       "      <th>std</th>\n",
       "      <td>4.862265e+13</td>\n",
       "      <td>737.440291</td>\n",
       "      <td>1.969321</td>\n",
       "      <td>2.105756</td>\n",
       "      <td>4.020312</td>\n",
       "      <td>13.897084</td>\n",
       "      <td>4.202414e+05</td>\n",
       "      <td>53.194117</td>\n",
       "      <td>59.868058</td>\n",
       "      <td>58.971101</td>\n",
       "      <td>56.371352</td>\n",
       "    </tr>\n",
       "    <tr>\n",
       "      <th>min</th>\n",
       "      <td>1.649611e+08</td>\n",
       "      <td>194.000000</td>\n",
       "      <td>1.000000</td>\n",
       "      <td>1.000000</td>\n",
       "      <td>1.000000</td>\n",
       "      <td>1.000000</td>\n",
       "      <td>4.790000e+02</td>\n",
       "      <td>450.000000</td>\n",
       "      <td>450.000000</td>\n",
       "      <td>450.000000</td>\n",
       "      <td>450.000000</td>\n",
       "    </tr>\n",
       "    <tr>\n",
       "      <th>25%</th>\n",
       "      <td>6.589496e+11</td>\n",
       "      <td>500.000000</td>\n",
       "      <td>1.000000</td>\n",
       "      <td>1.000000</td>\n",
       "      <td>1.000000</td>\n",
       "      <td>2.000000</td>\n",
       "      <td>6.582050e+05</td>\n",
       "      <td>569.520000</td>\n",
       "      <td>542.220000</td>\n",
       "      <td>507.160000</td>\n",
       "      <td>450.000000</td>\n",
       "    </tr>\n",
       "    <tr>\n",
       "      <th>50%</th>\n",
       "      <td>1.002328e+13</td>\n",
       "      <td>773.830000</td>\n",
       "      <td>1.000000</td>\n",
       "      <td>1.000000</td>\n",
       "      <td>2.000000</td>\n",
       "      <td>3.000000</td>\n",
       "      <td>6.596950e+05</td>\n",
       "      <td>602.040000</td>\n",
       "      <td>583.320000</td>\n",
       "      <td>555.240000</td>\n",
       "      <td>526.540000</td>\n",
       "    </tr>\n",
       "    <tr>\n",
       "      <th>75%</th>\n",
       "      <td>1.040060e+14</td>\n",
       "      <td>1049.000000</td>\n",
       "      <td>2.000000</td>\n",
       "      <td>2.000000</td>\n",
       "      <td>4.000000</td>\n",
       "      <td>6.000000</td>\n",
       "      <td>1.054619e+06</td>\n",
       "      <td>634.600000</td>\n",
       "      <td>614.340000</td>\n",
       "      <td>588.160000</td>\n",
       "      <td>563.620000</td>\n",
       "    </tr>\n",
       "    <tr>\n",
       "      <th>max</th>\n",
       "      <td>2.008254e+14</td>\n",
       "      <td>9815.610000</td>\n",
       "      <td>34.000000</td>\n",
       "      <td>50.000000</td>\n",
       "      <td>74.000000</td>\n",
       "      <td>179.000000</td>\n",
       "      <td>2.008254e+06</td>\n",
       "      <td>781.200000</td>\n",
       "      <td>792.240000</td>\n",
       "      <td>776.360000</td>\n",
       "      <td>768.340000</td>\n",
       "    </tr>\n",
       "  </tbody>\n",
       "</table>\n",
       "</div>"
      ]
     },
     "metadata": {
      "application/vnd.databricks.v1+output": {
       "addedWidgets": {},
       "arguments": {},
       "data": "<div>\n<style scoped>\n    .dataframe tbody tr th:only-of-type {\n        vertical-align: middle;\n    }\n\n    .dataframe tbody tr th {\n        vertical-align: top;\n    }\n\n    .dataframe thead th {\n        text-align: right;\n    }\n</style>\n<table border=\"1\" class=\"dataframe\">\n  <thead>\n    <tr style=\"text-align: right;\">\n      <th></th>\n      <th>curso_id</th>\n      <th>mensalidade</th>\n      <th>bolsa_integral_cotas</th>\n      <th>bolsa_integral_ampla</th>\n      <th>bolsa_parcial_cotas</th>\n      <th>bolsa_parcial_ampla</th>\n      <th>campus_id</th>\n      <th>nota_integral_ampla</th>\n      <th>nota_integral_cotas</th>\n      <th>nota_parcial_ampla</th>\n      <th>nota_parcial_cotas</th>\n    </tr>\n  </thead>\n  <tbody>\n    <tr>\n      <th>count</th>\n      <td>2.203000e+03</td>\n      <td>2203.000000</td>\n      <td>2203.000000</td>\n      <td>2203.000000</td>\n      <td>2203.000000</td>\n      <td>2203.000000</td>\n      <td>2.203000e+03</td>\n      <td>2203.000000</td>\n      <td>2203.000000</td>\n      <td>2203.000000</td>\n      <td>2203.000000</td>\n    </tr>\n    <tr>\n      <th>mean</th>\n      <td>4.376614e+13</td>\n      <td>881.605556</td>\n      <td>1.891058</td>\n      <td>2.082161</td>\n      <td>3.387199</td>\n      <td>7.190649</td>\n      <td>7.510660e+05</td>\n      <td>599.380390</td>\n      <td>574.097921</td>\n      <td>547.297204</td>\n      <td>521.452964</td>\n    </tr>\n    <tr>\n      <th>std</th>\n      <td>4.862265e+13</td>\n      <td>737.440291</td>\n      <td>1.969321</td>\n      <td>2.105756</td>\n      <td>4.020312</td>\n      <td>13.897084</td>\n      <td>4.202414e+05</td>\n      <td>53.194117</td>\n      <td>59.868058</td>\n      <td>58.971101</td>\n      <td>56.371352</td>\n    </tr>\n    <tr>\n      <th>min</th>\n      <td>1.649611e+08</td>\n      <td>194.000000</td>\n      <td>1.000000</td>\n      <td>1.000000</td>\n      <td>1.000000</td>\n      <td>1.000000</td>\n      <td>4.790000e+02</td>\n      <td>450.000000</td>\n      <td>450.000000</td>\n      <td>450.000000</td>\n      <td>450.000000</td>\n    </tr>\n    <tr>\n      <th>25%</th>\n      <td>6.589496e+11</td>\n      <td>500.000000</td>\n      <td>1.000000</td>\n      <td>1.000000</td>\n      <td>1.000000</td>\n      <td>2.000000</td>\n      <td>6.582050e+05</td>\n      <td>569.520000</td>\n      <td>542.220000</td>\n      <td>507.160000</td>\n      <td>450.000000</td>\n    </tr>\n    <tr>\n      <th>50%</th>\n      <td>1.002328e+13</td>\n      <td>773.830000</td>\n      <td>1.000000</td>\n      <td>1.000000</td>\n      <td>2.000000</td>\n      <td>3.000000</td>\n      <td>6.596950e+05</td>\n      <td>602.040000</td>\n      <td>583.320000</td>\n      <td>555.240000</td>\n      <td>526.540000</td>\n    </tr>\n    <tr>\n      <th>75%</th>\n      <td>1.040060e+14</td>\n      <td>1049.000000</td>\n      <td>2.000000</td>\n      <td>2.000000</td>\n      <td>4.000000</td>\n      <td>6.000000</td>\n      <td>1.054619e+06</td>\n      <td>634.600000</td>\n      <td>614.340000</td>\n      <td>588.160000</td>\n      <td>563.620000</td>\n    </tr>\n    <tr>\n      <th>max</th>\n      <td>2.008254e+14</td>\n      <td>9815.610000</td>\n      <td>34.000000</td>\n      <td>50.000000</td>\n      <td>74.000000</td>\n      <td>179.000000</td>\n      <td>2.008254e+06</td>\n      <td>781.200000</td>\n      <td>792.240000</td>\n      <td>776.360000</td>\n      <td>768.340000</td>\n    </tr>\n  </tbody>\n</table>\n</div>",
       "datasetInfos": [],
       "metadata": {},
       "removedWidgets": [],
       "textData": null,
       "type": "htmlSandbox"
      }
     },
     "output_type": "display_data"
    }
   ],
   "source": [
    "# estatísticas descritivas\n",
    "\n",
    "df.describe()"
   ]
  },
  {
   "cell_type": "code",
   "execution_count": 0,
   "metadata": {
    "application/vnd.databricks.v1+cell": {
     "cellMetadata": {
      "byteLimit": 2048000,
      "rowLimit": 10000
     },
     "inputWidgets": {},
     "nuid": "7eeac34e-4c5f-4d44-8a03-a5076b5334cd",
     "showTitle": false,
     "tableResultSettingsMap": {},
     "title": ""
    }
   },
   "outputs": [
    {
     "output_type": "display_data",
     "data": {
      "text/html": [
       "<div>\n",
       "<style scoped>\n",
       "    .dataframe tbody tr th:only-of-type {\n",
       "        vertical-align: middle;\n",
       "    }\n",
       "\n",
       "    .dataframe tbody tr th {\n",
       "        vertical-align: top;\n",
       "    }\n",
       "\n",
       "    .dataframe thead th {\n",
       "        text-align: right;\n",
       "    }\n",
       "</style>\n",
       "<table border=\"1\" class=\"dataframe\">\n",
       "  <thead>\n",
       "    <tr style=\"text-align: right;\">\n",
       "      <th></th>\n",
       "      <th>curso_id</th>\n",
       "      <th>mensalidade</th>\n",
       "      <th>bolsa_integral_cotas</th>\n",
       "      <th>bolsa_integral_ampla</th>\n",
       "      <th>bolsa_parcial_cotas</th>\n",
       "      <th>bolsa_parcial_ampla</th>\n",
       "      <th>campus_id</th>\n",
       "      <th>nota_integral_ampla</th>\n",
       "      <th>nota_integral_cotas</th>\n",
       "      <th>nota_parcial_ampla</th>\n",
       "      <th>nota_parcial_cotas</th>\n",
       "    </tr>\n",
       "  </thead>\n",
       "  <tbody>\n",
       "    <tr>\n",
       "      <th>count</th>\n",
       "      <td>1.500000e+01</td>\n",
       "      <td>15.000000</td>\n",
       "      <td>15.000000</td>\n",
       "      <td>15.000000</td>\n",
       "      <td>15.000000</td>\n",
       "      <td>15.000000</td>\n",
       "      <td>1.500000e+01</td>\n",
       "      <td>15.000000</td>\n",
       "      <td>15.000000</td>\n",
       "      <td>15.000000</td>\n",
       "      <td>15.000000</td>\n",
       "    </tr>\n",
       "    <tr>\n",
       "      <th>mean</th>\n",
       "      <td>4.407875e+13</td>\n",
       "      <td>8007.354667</td>\n",
       "      <td>2.800000</td>\n",
       "      <td>2.266667</td>\n",
       "      <td>4.466667</td>\n",
       "      <td>3.866667</td>\n",
       "      <td>7.599417e+05</td>\n",
       "      <td>753.249333</td>\n",
       "      <td>738.438667</td>\n",
       "      <td>746.453333</td>\n",
       "      <td>724.676000</td>\n",
       "    </tr>\n",
       "    <tr>\n",
       "      <th>std</th>\n",
       "      <td>4.349636e+13</td>\n",
       "      <td>1096.173682</td>\n",
       "      <td>1.859339</td>\n",
       "      <td>1.533747</td>\n",
       "      <td>2.587516</td>\n",
       "      <td>2.669047</td>\n",
       "      <td>2.510458e+05</td>\n",
       "      <td>13.109076</td>\n",
       "      <td>16.966989</td>\n",
       "      <td>14.295313</td>\n",
       "      <td>18.302904</td>\n",
       "    </tr>\n",
       "    <tr>\n",
       "      <th>min</th>\n",
       "      <td>1.373807e+11</td>\n",
       "      <td>6113.000000</td>\n",
       "      <td>1.000000</td>\n",
       "      <td>1.000000</td>\n",
       "      <td>1.000000</td>\n",
       "      <td>1.000000</td>\n",
       "      <td>1.373800e+05</td>\n",
       "      <td>735.840000</td>\n",
       "      <td>720.200000</td>\n",
       "      <td>729.720000</td>\n",
       "      <td>690.180000</td>\n",
       "    </tr>\n",
       "    <tr>\n",
       "      <th>25%</th>\n",
       "      <td>6.584619e+11</td>\n",
       "      <td>7130.000000</td>\n",
       "      <td>1.000000</td>\n",
       "      <td>1.000000</td>\n",
       "      <td>1.000000</td>\n",
       "      <td>2.000000</td>\n",
       "      <td>6.583450e+05</td>\n",
       "      <td>741.360000</td>\n",
       "      <td>729.020000</td>\n",
       "      <td>735.760000</td>\n",
       "      <td>715.100000</td>\n",
       "    </tr>\n",
       "    <tr>\n",
       "      <th>50%</th>\n",
       "      <td>6.579365e+13</td>\n",
       "      <td>8295.000000</td>\n",
       "      <td>2.000000</td>\n",
       "      <td>1.000000</td>\n",
       "      <td>5.000000</td>\n",
       "      <td>3.000000</td>\n",
       "      <td>6.600790e+05</td>\n",
       "      <td>754.980000</td>\n",
       "      <td>737.880000</td>\n",
       "      <td>743.140000</td>\n",
       "      <td>721.080000</td>\n",
       "    </tr>\n",
       "    <tr>\n",
       "      <th>75%</th>\n",
       "      <td>7.070341e+13</td>\n",
       "      <td>8608.540000</td>\n",
       "      <td>4.000000</td>\n",
       "      <td>3.000000</td>\n",
       "      <td>6.000000</td>\n",
       "      <td>5.000000</td>\n",
       "      <td>1.041237e+06</td>\n",
       "      <td>762.740000</td>\n",
       "      <td>741.100000</td>\n",
       "      <td>750.440000</td>\n",
       "      <td>732.460000</td>\n",
       "    </tr>\n",
       "    <tr>\n",
       "      <th>max</th>\n",
       "      <td>1.058879e+14</td>\n",
       "      <td>9815.610000</td>\n",
       "      <td>8.000000</td>\n",
       "      <td>5.000000</td>\n",
       "      <td>9.000000</td>\n",
       "      <td>10.000000</td>\n",
       "      <td>1.079920e+06</td>\n",
       "      <td>781.200000</td>\n",
       "      <td>792.240000</td>\n",
       "      <td>776.360000</td>\n",
       "      <td>768.340000</td>\n",
       "    </tr>\n",
       "  </tbody>\n",
       "</table>\n",
       "</div>"
      ]
     },
     "metadata": {
      "application/vnd.databricks.v1+output": {
       "addedWidgets": {},
       "arguments": {},
       "data": "<div>\n<style scoped>\n    .dataframe tbody tr th:only-of-type {\n        vertical-align: middle;\n    }\n\n    .dataframe tbody tr th {\n        vertical-align: top;\n    }\n\n    .dataframe thead th {\n        text-align: right;\n    }\n</style>\n<table border=\"1\" class=\"dataframe\">\n  <thead>\n    <tr style=\"text-align: right;\">\n      <th></th>\n      <th>curso_id</th>\n      <th>mensalidade</th>\n      <th>bolsa_integral_cotas</th>\n      <th>bolsa_integral_ampla</th>\n      <th>bolsa_parcial_cotas</th>\n      <th>bolsa_parcial_ampla</th>\n      <th>campus_id</th>\n      <th>nota_integral_ampla</th>\n      <th>nota_integral_cotas</th>\n      <th>nota_parcial_ampla</th>\n      <th>nota_parcial_cotas</th>\n    </tr>\n  </thead>\n  <tbody>\n    <tr>\n      <th>count</th>\n      <td>1.500000e+01</td>\n      <td>15.000000</td>\n      <td>15.000000</td>\n      <td>15.000000</td>\n      <td>15.000000</td>\n      <td>15.000000</td>\n      <td>1.500000e+01</td>\n      <td>15.000000</td>\n      <td>15.000000</td>\n      <td>15.000000</td>\n      <td>15.000000</td>\n    </tr>\n    <tr>\n      <th>mean</th>\n      <td>4.407875e+13</td>\n      <td>8007.354667</td>\n      <td>2.800000</td>\n      <td>2.266667</td>\n      <td>4.466667</td>\n      <td>3.866667</td>\n      <td>7.599417e+05</td>\n      <td>753.249333</td>\n      <td>738.438667</td>\n      <td>746.453333</td>\n      <td>724.676000</td>\n    </tr>\n    <tr>\n      <th>std</th>\n      <td>4.349636e+13</td>\n      <td>1096.173682</td>\n      <td>1.859339</td>\n      <td>1.533747</td>\n      <td>2.587516</td>\n      <td>2.669047</td>\n      <td>2.510458e+05</td>\n      <td>13.109076</td>\n      <td>16.966989</td>\n      <td>14.295313</td>\n      <td>18.302904</td>\n    </tr>\n    <tr>\n      <th>min</th>\n      <td>1.373807e+11</td>\n      <td>6113.000000</td>\n      <td>1.000000</td>\n      <td>1.000000</td>\n      <td>1.000000</td>\n      <td>1.000000</td>\n      <td>1.373800e+05</td>\n      <td>735.840000</td>\n      <td>720.200000</td>\n      <td>729.720000</td>\n      <td>690.180000</td>\n    </tr>\n    <tr>\n      <th>25%</th>\n      <td>6.584619e+11</td>\n      <td>7130.000000</td>\n      <td>1.000000</td>\n      <td>1.000000</td>\n      <td>1.000000</td>\n      <td>2.000000</td>\n      <td>6.583450e+05</td>\n      <td>741.360000</td>\n      <td>729.020000</td>\n      <td>735.760000</td>\n      <td>715.100000</td>\n    </tr>\n    <tr>\n      <th>50%</th>\n      <td>6.579365e+13</td>\n      <td>8295.000000</td>\n      <td>2.000000</td>\n      <td>1.000000</td>\n      <td>5.000000</td>\n      <td>3.000000</td>\n      <td>6.600790e+05</td>\n      <td>754.980000</td>\n      <td>737.880000</td>\n      <td>743.140000</td>\n      <td>721.080000</td>\n    </tr>\n    <tr>\n      <th>75%</th>\n      <td>7.070341e+13</td>\n      <td>8608.540000</td>\n      <td>4.000000</td>\n      <td>3.000000</td>\n      <td>6.000000</td>\n      <td>5.000000</td>\n      <td>1.041237e+06</td>\n      <td>762.740000</td>\n      <td>741.100000</td>\n      <td>750.440000</td>\n      <td>732.460000</td>\n    </tr>\n    <tr>\n      <th>max</th>\n      <td>1.058879e+14</td>\n      <td>9815.610000</td>\n      <td>8.000000</td>\n      <td>5.000000</td>\n      <td>9.000000</td>\n      <td>10.000000</td>\n      <td>1.079920e+06</td>\n      <td>781.200000</td>\n      <td>792.240000</td>\n      <td>776.360000</td>\n      <td>768.340000</td>\n    </tr>\n  </tbody>\n</table>\n</div>",
       "datasetInfos": [],
       "metadata": {},
       "removedWidgets": [],
       "textData": null,
       "type": "htmlSandbox"
      }
     },
     "output_type": "display_data"
    }
   ],
   "source": [
    "# estatísticas descritivas apenas dos cursos de medicina\n",
    "\n",
    "df[df['nome_curso'] == 'Medicina'].describe()"
   ]
  },
  {
   "cell_type": "code",
   "execution_count": 0,
   "metadata": {
    "application/vnd.databricks.v1+cell": {
     "cellMetadata": {
      "byteLimit": 2048000,
      "rowLimit": 10000
     },
     "inputWidgets": {},
     "nuid": "b16acb93-6ada-45de-8cb7-1062f6f514d7",
     "showTitle": false,
     "tableResultSettingsMap": {},
     "title": ""
    }
   },
   "outputs": [],
   "source": [
    "# atribuir a desciração a uma variável\n",
    "\n",
    "df_descricao = df[df['nome_curso'] == 'Medicina'].describe()"
   ]
  },
  {
   "cell_type": "markdown",
   "metadata": {
    "application/vnd.databricks.v1+cell": {
     "cellMetadata": {
      "byteLimit": 2048000,
      "rowLimit": 10000
     },
     "inputWidgets": {},
     "nuid": "8f189147-095b-4b50-8575-8cf3dc81b9ce",
     "showTitle": false,
     "tableResultSettingsMap": {},
     "title": ""
    }
   },
   "source": [
    "# Analisando Dados Sobre Bolsas"
   ]
  },
  {
   "cell_type": "code",
   "execution_count": 0,
   "metadata": {
    "application/vnd.databricks.v1+cell": {
     "cellMetadata": {
      "byteLimit": 2048000,
      "rowLimit": 10000
     },
     "inputWidgets": {},
     "nuid": "7e074ef8-5a36-4888-8778-03de76d62d73",
     "showTitle": false,
     "tableResultSettingsMap": {},
     "title": ""
    }
   },
   "outputs": [],
   "source": [
    "# excluir colunas não relevantes na análise\n",
    "\n",
    "['mensalidade','curso_id','campus_id',\"nota_integral_ampla\", \"nota_integral_cotas\", \"nota_parcial_ampla\", \"nota_parcial_cotas\"] # colunas a serem removidas\n",
    "\n",
    "df_descricao_bolsa = df_descricao.drop(['mensalidade','curso_id','campus_id',\"nota_integral_ampla\", \"nota_integral_cotas\", \"nota_parcial_ampla\", \"nota_parcial_cotas\"],axis=1)"
   ]
  },
  {
   "cell_type": "code",
   "execution_count": 0,
   "metadata": {
    "application/vnd.databricks.v1+cell": {
     "cellMetadata": {
      "byteLimit": 2048000,
      "rowLimit": 10000
     },
     "inputWidgets": {},
     "nuid": "c9f25e29-901e-4ac8-b4f1-69875bac3eec",
     "showTitle": false,
     "tableResultSettingsMap": {},
     "title": ""
    }
   },
   "outputs": [
    {
     "output_type": "display_data",
     "data": {
      "text/html": [
       "<div>\n",
       "<style scoped>\n",
       "    .dataframe tbody tr th:only-of-type {\n",
       "        vertical-align: middle;\n",
       "    }\n",
       "\n",
       "    .dataframe tbody tr th {\n",
       "        vertical-align: top;\n",
       "    }\n",
       "\n",
       "    .dataframe thead th {\n",
       "        text-align: right;\n",
       "    }\n",
       "</style>\n",
       "<table border=\"1\" class=\"dataframe\">\n",
       "  <thead>\n",
       "    <tr style=\"text-align: right;\">\n",
       "      <th></th>\n",
       "      <th>bolsa_integral_cotas</th>\n",
       "      <th>bolsa_integral_ampla</th>\n",
       "      <th>bolsa_parcial_cotas</th>\n",
       "      <th>bolsa_parcial_ampla</th>\n",
       "    </tr>\n",
       "  </thead>\n",
       "  <tbody>\n",
       "    <tr>\n",
       "      <th>count</th>\n",
       "      <td>15.000000</td>\n",
       "      <td>15.000000</td>\n",
       "      <td>15.000000</td>\n",
       "      <td>15.000000</td>\n",
       "    </tr>\n",
       "    <tr>\n",
       "      <th>mean</th>\n",
       "      <td>2.800000</td>\n",
       "      <td>2.266667</td>\n",
       "      <td>4.466667</td>\n",
       "      <td>3.866667</td>\n",
       "    </tr>\n",
       "    <tr>\n",
       "      <th>std</th>\n",
       "      <td>1.859339</td>\n",
       "      <td>1.533747</td>\n",
       "      <td>2.587516</td>\n",
       "      <td>2.669047</td>\n",
       "    </tr>\n",
       "    <tr>\n",
       "      <th>min</th>\n",
       "      <td>1.000000</td>\n",
       "      <td>1.000000</td>\n",
       "      <td>1.000000</td>\n",
       "      <td>1.000000</td>\n",
       "    </tr>\n",
       "    <tr>\n",
       "      <th>25%</th>\n",
       "      <td>1.000000</td>\n",
       "      <td>1.000000</td>\n",
       "      <td>1.000000</td>\n",
       "      <td>2.000000</td>\n",
       "    </tr>\n",
       "    <tr>\n",
       "      <th>50%</th>\n",
       "      <td>2.000000</td>\n",
       "      <td>1.000000</td>\n",
       "      <td>5.000000</td>\n",
       "      <td>3.000000</td>\n",
       "    </tr>\n",
       "    <tr>\n",
       "      <th>75%</th>\n",
       "      <td>4.000000</td>\n",
       "      <td>3.000000</td>\n",
       "      <td>6.000000</td>\n",
       "      <td>5.000000</td>\n",
       "    </tr>\n",
       "    <tr>\n",
       "      <th>max</th>\n",
       "      <td>8.000000</td>\n",
       "      <td>5.000000</td>\n",
       "      <td>9.000000</td>\n",
       "      <td>10.000000</td>\n",
       "    </tr>\n",
       "  </tbody>\n",
       "</table>\n",
       "</div>"
      ]
     },
     "metadata": {
      "application/vnd.databricks.v1+output": {
       "addedWidgets": {},
       "arguments": {},
       "data": "<div>\n<style scoped>\n    .dataframe tbody tr th:only-of-type {\n        vertical-align: middle;\n    }\n\n    .dataframe tbody tr th {\n        vertical-align: top;\n    }\n\n    .dataframe thead th {\n        text-align: right;\n    }\n</style>\n<table border=\"1\" class=\"dataframe\">\n  <thead>\n    <tr style=\"text-align: right;\">\n      <th></th>\n      <th>bolsa_integral_cotas</th>\n      <th>bolsa_integral_ampla</th>\n      <th>bolsa_parcial_cotas</th>\n      <th>bolsa_parcial_ampla</th>\n    </tr>\n  </thead>\n  <tbody>\n    <tr>\n      <th>count</th>\n      <td>15.000000</td>\n      <td>15.000000</td>\n      <td>15.000000</td>\n      <td>15.000000</td>\n    </tr>\n    <tr>\n      <th>mean</th>\n      <td>2.800000</td>\n      <td>2.266667</td>\n      <td>4.466667</td>\n      <td>3.866667</td>\n    </tr>\n    <tr>\n      <th>std</th>\n      <td>1.859339</td>\n      <td>1.533747</td>\n      <td>2.587516</td>\n      <td>2.669047</td>\n    </tr>\n    <tr>\n      <th>min</th>\n      <td>1.000000</td>\n      <td>1.000000</td>\n      <td>1.000000</td>\n      <td>1.000000</td>\n    </tr>\n    <tr>\n      <th>25%</th>\n      <td>1.000000</td>\n      <td>1.000000</td>\n      <td>1.000000</td>\n      <td>2.000000</td>\n    </tr>\n    <tr>\n      <th>50%</th>\n      <td>2.000000</td>\n      <td>1.000000</td>\n      <td>5.000000</td>\n      <td>3.000000</td>\n    </tr>\n    <tr>\n      <th>75%</th>\n      <td>4.000000</td>\n      <td>3.000000</td>\n      <td>6.000000</td>\n      <td>5.000000</td>\n    </tr>\n    <tr>\n      <th>max</th>\n      <td>8.000000</td>\n      <td>5.000000</td>\n      <td>9.000000</td>\n      <td>10.000000</td>\n    </tr>\n  </tbody>\n</table>\n</div>",
       "datasetInfos": [],
       "metadata": {},
       "removedWidgets": [],
       "textData": null,
       "type": "htmlSandbox"
      }
     },
     "output_type": "display_data"
    }
   ],
   "source": [
    "# resumo do dataframe\n",
    "\n",
    "df_descricao_bolsa"
   ]
  },
  {
   "cell_type": "code",
   "execution_count": 0,
   "metadata": {
    "application/vnd.databricks.v1+cell": {
     "cellMetadata": {
      "byteLimit": 2048000,
      "rowLimit": 10000
     },
     "inputWidgets": {},
     "nuid": "c7a32069-0fc0-4d82-bfce-29847d0b014b",
     "showTitle": false,
     "tableResultSettingsMap": {},
     "title": ""
    }
   },
   "outputs": [],
   "source": [
    "# excluir a linha de count\n",
    "\n",
    "df_descricao_bolsa = df_descricao_bolsa.drop(['count'],axis=0)"
   ]
  },
  {
   "cell_type": "code",
   "execution_count": 0,
   "metadata": {
    "application/vnd.databricks.v1+cell": {
     "cellMetadata": {
      "byteLimit": 2048000,
      "rowLimit": 10000
     },
     "inputWidgets": {},
     "nuid": "ecb8d475-db84-4f29-9ece-823dd235223d",
     "showTitle": false,
     "tableResultSettingsMap": {},
     "title": ""
    }
   },
   "outputs": [
    {
     "output_type": "display_data",
     "data": {
      "text/html": [
       "<style type=\"text/css\">\n",
       "#T_a141a_row0_col0 {\n",
       "  background-color: #d2d2e7;\n",
       "  color: #000000;\n",
       "}\n",
       "#T_a141a_row0_col1, #T_a141a_row1_col1, #T_a141a_row2_col0, #T_a141a_row2_col1, #T_a141a_row2_col2, #T_a141a_row2_col3, #T_a141a_row3_col0, #T_a141a_row3_col1, #T_a141a_row3_col2, #T_a141a_row4_col1, #T_a141a_row5_col1, #T_a141a_row6_col1 {\n",
       "  background-color: #fff7fb;\n",
       "  color: #000000;\n",
       "}\n",
       "#T_a141a_row0_col2, #T_a141a_row1_col3, #T_a141a_row3_col3, #T_a141a_row4_col2, #T_a141a_row5_col2, #T_a141a_row6_col3 {\n",
       "  background-color: #023858;\n",
       "  color: #f1f1f1;\n",
       "}\n",
       "#T_a141a_row0_col3 {\n",
       "  background-color: #0d75b3;\n",
       "  color: #f1f1f1;\n",
       "}\n",
       "#T_a141a_row1_col0 {\n",
       "  background-color: #c4cbe3;\n",
       "  color: #000000;\n",
       "}\n",
       "#T_a141a_row1_col2 {\n",
       "  background-color: #034b76;\n",
       "  color: #f1f1f1;\n",
       "}\n",
       "#T_a141a_row4_col0 {\n",
       "  background-color: #d0d1e6;\n",
       "  color: #000000;\n",
       "}\n",
       "#T_a141a_row4_col3 {\n",
       "  background-color: #73a9cf;\n",
       "  color: #f1f1f1;\n",
       "}\n",
       "#T_a141a_row5_col0 {\n",
       "  background-color: #b4c4df;\n",
       "  color: #000000;\n",
       "}\n",
       "#T_a141a_row5_col3 {\n",
       "  background-color: #2685bb;\n",
       "  color: #f1f1f1;\n",
       "}\n",
       "#T_a141a_row6_col0 {\n",
       "  background-color: #4295c3;\n",
       "  color: #f1f1f1;\n",
       "}\n",
       "#T_a141a_row6_col2 {\n",
       "  background-color: #0567a2;\n",
       "  color: #f1f1f1;\n",
       "}\n",
       "</style>\n",
       "<table id=\"T_a141a\">\n",
       "  <thead>\n",
       "    <tr>\n",
       "      <th class=\"blank level0\" >&nbsp;</th>\n",
       "      <th id=\"T_a141a_level0_col0\" class=\"col_heading level0 col0\" >bolsa_integral_cotas</th>\n",
       "      <th id=\"T_a141a_level0_col1\" class=\"col_heading level0 col1\" >bolsa_integral_ampla</th>\n",
       "      <th id=\"T_a141a_level0_col2\" class=\"col_heading level0 col2\" >bolsa_parcial_cotas</th>\n",
       "      <th id=\"T_a141a_level0_col3\" class=\"col_heading level0 col3\" >bolsa_parcial_ampla</th>\n",
       "    </tr>\n",
       "  </thead>\n",
       "  <tbody>\n",
       "    <tr>\n",
       "      <th id=\"T_a141a_level0_row0\" class=\"row_heading level0 row0\" >mean</th>\n",
       "      <td id=\"T_a141a_row0_col0\" class=\"data row0 col0\" >2.80</td>\n",
       "      <td id=\"T_a141a_row0_col1\" class=\"data row0 col1\" >2.27</td>\n",
       "      <td id=\"T_a141a_row0_col2\" class=\"data row0 col2\" >4.47</td>\n",
       "      <td id=\"T_a141a_row0_col3\" class=\"data row0 col3\" >3.87</td>\n",
       "    </tr>\n",
       "    <tr>\n",
       "      <th id=\"T_a141a_level0_row1\" class=\"row_heading level0 row1\" >std</th>\n",
       "      <td id=\"T_a141a_row1_col0\" class=\"data row1 col0\" >1.86</td>\n",
       "      <td id=\"T_a141a_row1_col1\" class=\"data row1 col1\" >1.53</td>\n",
       "      <td id=\"T_a141a_row1_col2\" class=\"data row1 col2\" >2.59</td>\n",
       "      <td id=\"T_a141a_row1_col3\" class=\"data row1 col3\" >2.67</td>\n",
       "    </tr>\n",
       "    <tr>\n",
       "      <th id=\"T_a141a_level0_row2\" class=\"row_heading level0 row2\" >min</th>\n",
       "      <td id=\"T_a141a_row2_col0\" class=\"data row2 col0\" >1.00</td>\n",
       "      <td id=\"T_a141a_row2_col1\" class=\"data row2 col1\" >1.00</td>\n",
       "      <td id=\"T_a141a_row2_col2\" class=\"data row2 col2\" >1.00</td>\n",
       "      <td id=\"T_a141a_row2_col3\" class=\"data row2 col3\" >1.00</td>\n",
       "    </tr>\n",
       "    <tr>\n",
       "      <th id=\"T_a141a_level0_row3\" class=\"row_heading level0 row3\" >25%</th>\n",
       "      <td id=\"T_a141a_row3_col0\" class=\"data row3 col0\" >1.00</td>\n",
       "      <td id=\"T_a141a_row3_col1\" class=\"data row3 col1\" >1.00</td>\n",
       "      <td id=\"T_a141a_row3_col2\" class=\"data row3 col2\" >1.00</td>\n",
       "      <td id=\"T_a141a_row3_col3\" class=\"data row3 col3\" >2.00</td>\n",
       "    </tr>\n",
       "    <tr>\n",
       "      <th id=\"T_a141a_level0_row4\" class=\"row_heading level0 row4\" >50%</th>\n",
       "      <td id=\"T_a141a_row4_col0\" class=\"data row4 col0\" >2.00</td>\n",
       "      <td id=\"T_a141a_row4_col1\" class=\"data row4 col1\" >1.00</td>\n",
       "      <td id=\"T_a141a_row4_col2\" class=\"data row4 col2\" >5.00</td>\n",
       "      <td id=\"T_a141a_row4_col3\" class=\"data row4 col3\" >3.00</td>\n",
       "    </tr>\n",
       "    <tr>\n",
       "      <th id=\"T_a141a_level0_row5\" class=\"row_heading level0 row5\" >75%</th>\n",
       "      <td id=\"T_a141a_row5_col0\" class=\"data row5 col0\" >4.00</td>\n",
       "      <td id=\"T_a141a_row5_col1\" class=\"data row5 col1\" >3.00</td>\n",
       "      <td id=\"T_a141a_row5_col2\" class=\"data row5 col2\" >6.00</td>\n",
       "      <td id=\"T_a141a_row5_col3\" class=\"data row5 col3\" >5.00</td>\n",
       "    </tr>\n",
       "    <tr>\n",
       "      <th id=\"T_a141a_level0_row6\" class=\"row_heading level0 row6\" >max</th>\n",
       "      <td id=\"T_a141a_row6_col0\" class=\"data row6 col0\" >8.00</td>\n",
       "      <td id=\"T_a141a_row6_col1\" class=\"data row6 col1\" >5.00</td>\n",
       "      <td id=\"T_a141a_row6_col2\" class=\"data row6 col2\" >9.00</td>\n",
       "      <td id=\"T_a141a_row6_col3\" class=\"data row6 col3\" >10.00</td>\n",
       "    </tr>\n",
       "  </tbody>\n",
       "</table>\n"
      ]
     },
     "metadata": {
      "application/vnd.databricks.v1+output": {
       "addedWidgets": {},
       "arguments": {},
       "data": "<style type=\"text/css\">\n#T_a141a_row0_col0 {\n  background-color: #d2d2e7;\n  color: #000000;\n}\n#T_a141a_row0_col1, #T_a141a_row1_col1, #T_a141a_row2_col0, #T_a141a_row2_col1, #T_a141a_row2_col2, #T_a141a_row2_col3, #T_a141a_row3_col0, #T_a141a_row3_col1, #T_a141a_row3_col2, #T_a141a_row4_col1, #T_a141a_row5_col1, #T_a141a_row6_col1 {\n  background-color: #fff7fb;\n  color: #000000;\n}\n#T_a141a_row0_col2, #T_a141a_row1_col3, #T_a141a_row3_col3, #T_a141a_row4_col2, #T_a141a_row5_col2, #T_a141a_row6_col3 {\n  background-color: #023858;\n  color: #f1f1f1;\n}\n#T_a141a_row0_col3 {\n  background-color: #0d75b3;\n  color: #f1f1f1;\n}\n#T_a141a_row1_col0 {\n  background-color: #c4cbe3;\n  color: #000000;\n}\n#T_a141a_row1_col2 {\n  background-color: #034b76;\n  color: #f1f1f1;\n}\n#T_a141a_row4_col0 {\n  background-color: #d0d1e6;\n  color: #000000;\n}\n#T_a141a_row4_col3 {\n  background-color: #73a9cf;\n  color: #f1f1f1;\n}\n#T_a141a_row5_col0 {\n  background-color: #b4c4df;\n  color: #000000;\n}\n#T_a141a_row5_col3 {\n  background-color: #2685bb;\n  color: #f1f1f1;\n}\n#T_a141a_row6_col0 {\n  background-color: #4295c3;\n  color: #f1f1f1;\n}\n#T_a141a_row6_col2 {\n  background-color: #0567a2;\n  color: #f1f1f1;\n}\n</style>\n<table id=\"T_a141a\">\n  <thead>\n    <tr>\n      <th class=\"blank level0\" >&nbsp;</th>\n      <th id=\"T_a141a_level0_col0\" class=\"col_heading level0 col0\" >bolsa_integral_cotas</th>\n      <th id=\"T_a141a_level0_col1\" class=\"col_heading level0 col1\" >bolsa_integral_ampla</th>\n      <th id=\"T_a141a_level0_col2\" class=\"col_heading level0 col2\" >bolsa_parcial_cotas</th>\n      <th id=\"T_a141a_level0_col3\" class=\"col_heading level0 col3\" >bolsa_parcial_ampla</th>\n    </tr>\n  </thead>\n  <tbody>\n    <tr>\n      <th id=\"T_a141a_level0_row0\" class=\"row_heading level0 row0\" >mean</th>\n      <td id=\"T_a141a_row0_col0\" class=\"data row0 col0\" >2.80</td>\n      <td id=\"T_a141a_row0_col1\" class=\"data row0 col1\" >2.27</td>\n      <td id=\"T_a141a_row0_col2\" class=\"data row0 col2\" >4.47</td>\n      <td id=\"T_a141a_row0_col3\" class=\"data row0 col3\" >3.87</td>\n    </tr>\n    <tr>\n      <th id=\"T_a141a_level0_row1\" class=\"row_heading level0 row1\" >std</th>\n      <td id=\"T_a141a_row1_col0\" class=\"data row1 col0\" >1.86</td>\n      <td id=\"T_a141a_row1_col1\" class=\"data row1 col1\" >1.53</td>\n      <td id=\"T_a141a_row1_col2\" class=\"data row1 col2\" >2.59</td>\n      <td id=\"T_a141a_row1_col3\" class=\"data row1 col3\" >2.67</td>\n    </tr>\n    <tr>\n      <th id=\"T_a141a_level0_row2\" class=\"row_heading level0 row2\" >min</th>\n      <td id=\"T_a141a_row2_col0\" class=\"data row2 col0\" >1.00</td>\n      <td id=\"T_a141a_row2_col1\" class=\"data row2 col1\" >1.00</td>\n      <td id=\"T_a141a_row2_col2\" class=\"data row2 col2\" >1.00</td>\n      <td id=\"T_a141a_row2_col3\" class=\"data row2 col3\" >1.00</td>\n    </tr>\n    <tr>\n      <th id=\"T_a141a_level0_row3\" class=\"row_heading level0 row3\" >25%</th>\n      <td id=\"T_a141a_row3_col0\" class=\"data row3 col0\" >1.00</td>\n      <td id=\"T_a141a_row3_col1\" class=\"data row3 col1\" >1.00</td>\n      <td id=\"T_a141a_row3_col2\" class=\"data row3 col2\" >1.00</td>\n      <td id=\"T_a141a_row3_col3\" class=\"data row3 col3\" >2.00</td>\n    </tr>\n    <tr>\n      <th id=\"T_a141a_level0_row4\" class=\"row_heading level0 row4\" >50%</th>\n      <td id=\"T_a141a_row4_col0\" class=\"data row4 col0\" >2.00</td>\n      <td id=\"T_a141a_row4_col1\" class=\"data row4 col1\" >1.00</td>\n      <td id=\"T_a141a_row4_col2\" class=\"data row4 col2\" >5.00</td>\n      <td id=\"T_a141a_row4_col3\" class=\"data row4 col3\" >3.00</td>\n    </tr>\n    <tr>\n      <th id=\"T_a141a_level0_row5\" class=\"row_heading level0 row5\" >75%</th>\n      <td id=\"T_a141a_row5_col0\" class=\"data row5 col0\" >4.00</td>\n      <td id=\"T_a141a_row5_col1\" class=\"data row5 col1\" >3.00</td>\n      <td id=\"T_a141a_row5_col2\" class=\"data row5 col2\" >6.00</td>\n      <td id=\"T_a141a_row5_col3\" class=\"data row5 col3\" >5.00</td>\n    </tr>\n    <tr>\n      <th id=\"T_a141a_level0_row6\" class=\"row_heading level0 row6\" >max</th>\n      <td id=\"T_a141a_row6_col0\" class=\"data row6 col0\" >8.00</td>\n      <td id=\"T_a141a_row6_col1\" class=\"data row6 col1\" >5.00</td>\n      <td id=\"T_a141a_row6_col2\" class=\"data row6 col2\" >9.00</td>\n      <td id=\"T_a141a_row6_col3\" class=\"data row6 col3\" >10.00</td>\n    </tr>\n  </tbody>\n</table>\n",
       "datasetInfos": [],
       "metadata": {},
       "removedWidgets": [],
       "textData": null,
       "type": "htmlSandbox"
      }
     },
     "output_type": "display_data"
    }
   ],
   "source": [
    "# melhorar a visualização\n",
    "\n",
    "df_descricao_bolsa.style.format('{:,.2f}').background_gradient(axis=1)"
   ]
  },
  {
   "cell_type": "markdown",
   "metadata": {
    "application/vnd.databricks.v1+cell": {
     "cellMetadata": {
      "byteLimit": 2048000,
      "rowLimit": 10000
     },
     "inputWidgets": {},
     "nuid": "49fa8f96-2e0f-4c79-bbd2-35dc5349124d",
     "showTitle": false,
     "tableResultSettingsMap": {},
     "title": ""
    }
   },
   "source": [
    "# Método Query"
   ]
  },
  {
   "cell_type": "markdown",
   "metadata": {
    "application/vnd.databricks.v1+cell": {
     "cellMetadata": {
      "byteLimit": 2048000,
      "rowLimit": 10000
     },
     "inputWidgets": {},
     "nuid": "aca85011-c207-4a45-8471-90bf6c515450",
     "showTitle": false,
     "tableResultSettingsMap": {},
     "title": ""
    }
   },
   "source": [
    "Qual é a média de mensalidade dos cursos de medicina por estado?"
   ]
  },
  {
   "cell_type": "code",
   "execution_count": 0,
   "metadata": {
    "application/vnd.databricks.v1+cell": {
     "cellMetadata": {
      "byteLimit": 2048000,
      "rowLimit": 10000
     },
     "inputWidgets": {},
     "nuid": "e09e0a43-fa95-41f8-a078-de32c0d32341",
     "showTitle": false,
     "tableResultSettingsMap": {},
     "title": ""
    }
   },
   "outputs": [
    {
     "output_type": "display_data",
     "data": {
      "text/html": [
       "<div>\n",
       "<style scoped>\n",
       "    .dataframe tbody tr th:only-of-type {\n",
       "        vertical-align: middle;\n",
       "    }\n",
       "\n",
       "    .dataframe tbody tr th {\n",
       "        vertical-align: top;\n",
       "    }\n",
       "\n",
       "    .dataframe thead th {\n",
       "        text-align: right;\n",
       "    }\n",
       "</style>\n",
       "<table border=\"1\" class=\"dataframe\">\n",
       "  <thead>\n",
       "    <tr style=\"text-align: right;\">\n",
       "      <th></th>\n",
       "      <th>curso_id</th>\n",
       "      <th>grau</th>\n",
       "      <th>turno</th>\n",
       "      <th>mensalidade</th>\n",
       "      <th>bolsa_integral_cotas</th>\n",
       "      <th>bolsa_integral_ampla</th>\n",
       "      <th>bolsa_parcial_cotas</th>\n",
       "      <th>bolsa_parcial_ampla</th>\n",
       "      <th>cidade_busca</th>\n",
       "      <th>uf_busca</th>\n",
       "      <th>cidade_filtro</th>\n",
       "      <th>universidade_nome</th>\n",
       "      <th>campus_nome</th>\n",
       "      <th>campus_id</th>\n",
       "      <th>nome_curso</th>\n",
       "      <th>nota_integral_ampla</th>\n",
       "      <th>nota_integral_cotas</th>\n",
       "      <th>nota_parcial_ampla</th>\n",
       "      <th>nota_parcial_cotas</th>\n",
       "    </tr>\n",
       "  </thead>\n",
       "  <tbody>\n",
       "    <tr>\n",
       "      <th>22</th>\n",
       "      <td>105596711902804</td>\n",
       "      <td>Bacharelado</td>\n",
       "      <td>Integral</td>\n",
       "      <td>8300.00</td>\n",
       "      <td>2</td>\n",
       "      <td>3</td>\n",
       "      <td>4</td>\n",
       "      <td>7</td>\n",
       "      <td>Sao Paulo</td>\n",
       "      <td>SP</td>\n",
       "      <td>MzUxNTA2MTUwMzA4</td>\n",
       "      <td>Faculdade das Américas - FAM</td>\n",
       "      <td>RUA AUGUSTA - Consolação</td>\n",
       "      <td>1055967</td>\n",
       "      <td>Medicina</td>\n",
       "      <td>735.84</td>\n",
       "      <td>724.70</td>\n",
       "      <td>738.42</td>\n",
       "      <td>723.28</td>\n",
       "    </tr>\n",
       "    <tr>\n",
       "      <th>71</th>\n",
       "      <td>65793650009334</td>\n",
       "      <td>Bacharelado</td>\n",
       "      <td>Integral</td>\n",
       "      <td>7316.79</td>\n",
       "      <td>2</td>\n",
       "      <td>3</td>\n",
       "      <td>4</td>\n",
       "      <td>8</td>\n",
       "      <td>Franca</td>\n",
       "      <td>SP</td>\n",
       "      <td>MzUwMjAxMjE2MjAw</td>\n",
       "      <td>Universidade de Franca - UNIFRAN</td>\n",
       "      <td>POLO NA SEDE - Parque Universitário</td>\n",
       "      <td>657936</td>\n",
       "      <td>Medicina</td>\n",
       "      <td>744.88</td>\n",
       "      <td>730.88</td>\n",
       "      <td>741.36</td>\n",
       "      <td>721.08</td>\n",
       "    </tr>\n",
       "    <tr>\n",
       "      <th>87</th>\n",
       "      <td>658461856524</td>\n",
       "      <td>Bacharelado</td>\n",
       "      <td>Integral</td>\n",
       "      <td>7009.97</td>\n",
       "      <td>4</td>\n",
       "      <td>3</td>\n",
       "      <td>9</td>\n",
       "      <td>5</td>\n",
       "      <td>Porto Velho</td>\n",
       "      <td>RO</td>\n",
       "      <td>MTEwMTAwMTAwMjA1</td>\n",
       "      <td>Centro Universitário São Lucas - UniSL</td>\n",
       "      <td>CAMPUS  - PORTO VELHO - AREAL - Areal</td>\n",
       "      <td>658461</td>\n",
       "      <td>Medicina</td>\n",
       "      <td>742.72</td>\n",
       "      <td>720.20</td>\n",
       "      <td>729.72</td>\n",
       "      <td>711.68</td>\n",
       "    </tr>\n",
       "    <tr>\n",
       "      <th>107</th>\n",
       "      <td>66007913994844</td>\n",
       "      <td>Bacharelado</td>\n",
       "      <td>Integral</td>\n",
       "      <td>6498.55</td>\n",
       "      <td>1</td>\n",
       "      <td>1</td>\n",
       "      <td>1</td>\n",
       "      <td>4</td>\n",
       "      <td>Guarapuava</td>\n",
       "      <td>PR</td>\n",
       "      <td>NDEwODAyOTA5NDAx</td>\n",
       "      <td>Faculdade Campo Real - CAMPO REAL</td>\n",
       "      <td>BLOCO 1 - Santa Cruz</td>\n",
       "      <td>660079</td>\n",
       "      <td>Medicina</td>\n",
       "      <td>781.20</td>\n",
       "      <td>731.04</td>\n",
       "      <td>745.06</td>\n",
       "      <td>741.00</td>\n",
       "    </tr>\n",
       "    <tr>\n",
       "      <th>10</th>\n",
       "      <td>65921511844324</td>\n",
       "      <td>Bacharelado</td>\n",
       "      <td>Integral</td>\n",
       "      <td>9123.07</td>\n",
       "      <td>4</td>\n",
       "      <td>4</td>\n",
       "      <td>5</td>\n",
       "      <td>5</td>\n",
       "      <td>Itaperuna</td>\n",
       "      <td>RJ</td>\n",
       "      <td>MzMwMTAwMTAyMjA1</td>\n",
       "      <td>Faculdade Redentor - FACREDENTOR</td>\n",
       "      <td>CAMPUS  - ITAPERUNA - PRESIDENTE COSTA E SILVA...</td>\n",
       "      <td>659215</td>\n",
       "      <td>Medicina</td>\n",
       "      <td>741.06</td>\n",
       "      <td>729.02</td>\n",
       "      <td>730.98</td>\n",
       "      <td>722.82</td>\n",
       "    </tr>\n",
       "  </tbody>\n",
       "</table>\n",
       "</div>"
      ]
     },
     "metadata": {
      "application/vnd.databricks.v1+output": {
       "addedWidgets": {},
       "arguments": {},
       "data": "<div>\n<style scoped>\n    .dataframe tbody tr th:only-of-type {\n        vertical-align: middle;\n    }\n\n    .dataframe tbody tr th {\n        vertical-align: top;\n    }\n\n    .dataframe thead th {\n        text-align: right;\n    }\n</style>\n<table border=\"1\" class=\"dataframe\">\n  <thead>\n    <tr style=\"text-align: right;\">\n      <th></th>\n      <th>curso_id</th>\n      <th>grau</th>\n      <th>turno</th>\n      <th>mensalidade</th>\n      <th>bolsa_integral_cotas</th>\n      <th>bolsa_integral_ampla</th>\n      <th>bolsa_parcial_cotas</th>\n      <th>bolsa_parcial_ampla</th>\n      <th>cidade_busca</th>\n      <th>uf_busca</th>\n      <th>cidade_filtro</th>\n      <th>universidade_nome</th>\n      <th>campus_nome</th>\n      <th>campus_id</th>\n      <th>nome_curso</th>\n      <th>nota_integral_ampla</th>\n      <th>nota_integral_cotas</th>\n      <th>nota_parcial_ampla</th>\n      <th>nota_parcial_cotas</th>\n    </tr>\n  </thead>\n  <tbody>\n    <tr>\n      <th>22</th>\n      <td>105596711902804</td>\n      <td>Bacharelado</td>\n      <td>Integral</td>\n      <td>8300.00</td>\n      <td>2</td>\n      <td>3</td>\n      <td>4</td>\n      <td>7</td>\n      <td>Sao Paulo</td>\n      <td>SP</td>\n      <td>MzUxNTA2MTUwMzA4</td>\n      <td>Faculdade das Américas - FAM</td>\n      <td>RUA AUGUSTA - Consolação</td>\n      <td>1055967</td>\n      <td>Medicina</td>\n      <td>735.84</td>\n      <td>724.70</td>\n      <td>738.42</td>\n      <td>723.28</td>\n    </tr>\n    <tr>\n      <th>71</th>\n      <td>65793650009334</td>\n      <td>Bacharelado</td>\n      <td>Integral</td>\n      <td>7316.79</td>\n      <td>2</td>\n      <td>3</td>\n      <td>4</td>\n      <td>8</td>\n      <td>Franca</td>\n      <td>SP</td>\n      <td>MzUwMjAxMjE2MjAw</td>\n      <td>Universidade de Franca - UNIFRAN</td>\n      <td>POLO NA SEDE - Parque Universitário</td>\n      <td>657936</td>\n      <td>Medicina</td>\n      <td>744.88</td>\n      <td>730.88</td>\n      <td>741.36</td>\n      <td>721.08</td>\n    </tr>\n    <tr>\n      <th>87</th>\n      <td>658461856524</td>\n      <td>Bacharelado</td>\n      <td>Integral</td>\n      <td>7009.97</td>\n      <td>4</td>\n      <td>3</td>\n      <td>9</td>\n      <td>5</td>\n      <td>Porto Velho</td>\n      <td>RO</td>\n      <td>MTEwMTAwMTAwMjA1</td>\n      <td>Centro Universitário São Lucas - UniSL</td>\n      <td>CAMPUS  - PORTO VELHO - AREAL - Areal</td>\n      <td>658461</td>\n      <td>Medicina</td>\n      <td>742.72</td>\n      <td>720.20</td>\n      <td>729.72</td>\n      <td>711.68</td>\n    </tr>\n    <tr>\n      <th>107</th>\n      <td>66007913994844</td>\n      <td>Bacharelado</td>\n      <td>Integral</td>\n      <td>6498.55</td>\n      <td>1</td>\n      <td>1</td>\n      <td>1</td>\n      <td>4</td>\n      <td>Guarapuava</td>\n      <td>PR</td>\n      <td>NDEwODAyOTA5NDAx</td>\n      <td>Faculdade Campo Real - CAMPO REAL</td>\n      <td>BLOCO 1 - Santa Cruz</td>\n      <td>660079</td>\n      <td>Medicina</td>\n      <td>781.20</td>\n      <td>731.04</td>\n      <td>745.06</td>\n      <td>741.00</td>\n    </tr>\n    <tr>\n      <th>10</th>\n      <td>65921511844324</td>\n      <td>Bacharelado</td>\n      <td>Integral</td>\n      <td>9123.07</td>\n      <td>4</td>\n      <td>4</td>\n      <td>5</td>\n      <td>5</td>\n      <td>Itaperuna</td>\n      <td>RJ</td>\n      <td>MzMwMTAwMTAyMjA1</td>\n      <td>Faculdade Redentor - FACREDENTOR</td>\n      <td>CAMPUS  - ITAPERUNA - PRESIDENTE COSTA E SILVA...</td>\n      <td>659215</td>\n      <td>Medicina</td>\n      <td>741.06</td>\n      <td>729.02</td>\n      <td>730.98</td>\n      <td>722.82</td>\n    </tr>\n  </tbody>\n</table>\n</div>",
       "datasetInfos": [],
       "metadata": {},
       "removedWidgets": [],
       "textData": null,
       "type": "htmlSandbox"
      }
     },
     "output_type": "display_data"
    }
   ],
   "source": [
    "# criar um dataset apenas com cursos de medicina\n",
    "\n",
    "df_medicina = df.query(\"nome_curso == 'Medicina'\")\n",
    "df_medicina.head()"
   ]
  },
  {
   "cell_type": "code",
   "execution_count": 0,
   "metadata": {
    "application/vnd.databricks.v1+cell": {
     "cellMetadata": {
      "byteLimit": 2048000,
      "rowLimit": 10000
     },
     "inputWidgets": {},
     "nuid": "6ed80e86-f824-41ca-8add-af57b24d4721",
     "showTitle": false,
     "tableResultSettingsMap": {},
     "title": ""
    }
   },
   "outputs": [
    {
     "output_type": "stream",
     "name": "stdout",
     "output_type": "stream",
     "text": [
      "Out[26]: 8007.354666666666"
     ]
    }
   ],
   "source": [
    "# média as mensalidades\n",
    "\n",
    "df_medicina['mensalidade'].mean()"
   ]
  },
  {
   "cell_type": "code",
   "execution_count": 0,
   "metadata": {
    "application/vnd.databricks.v1+cell": {
     "cellMetadata": {
      "byteLimit": 2048000,
      "rowLimit": 10000
     },
     "inputWidgets": {},
     "nuid": "f2a9d554-0839-4bdd-b393-7cee3d547346",
     "showTitle": false,
     "tableResultSettingsMap": {},
     "title": ""
    }
   },
   "outputs": [
    {
     "output_type": "display_data",
     "data": {
      "text/html": [
       "<div>\n",
       "<style scoped>\n",
       "    .dataframe tbody tr th:only-of-type {\n",
       "        vertical-align: middle;\n",
       "    }\n",
       "\n",
       "    .dataframe tbody tr th {\n",
       "        vertical-align: top;\n",
       "    }\n",
       "\n",
       "    .dataframe thead th {\n",
       "        text-align: right;\n",
       "    }\n",
       "</style>\n",
       "<table border=\"1\" class=\"dataframe\">\n",
       "  <thead>\n",
       "    <tr style=\"text-align: right;\">\n",
       "      <th></th>\n",
       "      <th>curso_id</th>\n",
       "      <th>grau</th>\n",
       "      <th>turno</th>\n",
       "      <th>mensalidade</th>\n",
       "      <th>bolsa_integral_cotas</th>\n",
       "      <th>bolsa_integral_ampla</th>\n",
       "      <th>bolsa_parcial_cotas</th>\n",
       "      <th>bolsa_parcial_ampla</th>\n",
       "      <th>cidade_busca</th>\n",
       "      <th>uf_busca</th>\n",
       "      <th>cidade_filtro</th>\n",
       "      <th>universidade_nome</th>\n",
       "      <th>campus_nome</th>\n",
       "      <th>campus_id</th>\n",
       "      <th>nome_curso</th>\n",
       "      <th>nota_integral_ampla</th>\n",
       "      <th>nota_integral_cotas</th>\n",
       "      <th>nota_parcial_ampla</th>\n",
       "      <th>nota_parcial_cotas</th>\n",
       "    </tr>\n",
       "  </thead>\n",
       "  <tbody>\n",
       "    <tr>\n",
       "      <th>2</th>\n",
       "      <td>1002328574024</td>\n",
       "      <td>Bacharelado</td>\n",
       "      <td>Integral</td>\n",
       "      <td>9815.61</td>\n",
       "      <td>2</td>\n",
       "      <td>5</td>\n",
       "      <td>6</td>\n",
       "      <td>10</td>\n",
       "      <td>Sao Paulo</td>\n",
       "      <td>SP</td>\n",
       "      <td>MzUxNTA2MTUwMzA4</td>\n",
       "      <td>Universidade Cidade de São Paulo - UNICID</td>\n",
       "      <td>UNIVERSIDADE CIDADE DE SÃO PAULO - UNICID - SE...</td>\n",
       "      <td>1002328</td>\n",
       "      <td>Medicina</td>\n",
       "      <td>739.62</td>\n",
       "      <td>738.08</td>\n",
       "      <td>738.96</td>\n",
       "      <td>718.64</td>\n",
       "    </tr>\n",
       "    <tr>\n",
       "      <th>22</th>\n",
       "      <td>105596711902804</td>\n",
       "      <td>Bacharelado</td>\n",
       "      <td>Integral</td>\n",
       "      <td>8300.00</td>\n",
       "      <td>2</td>\n",
       "      <td>3</td>\n",
       "      <td>4</td>\n",
       "      <td>7</td>\n",
       "      <td>Sao Paulo</td>\n",
       "      <td>SP</td>\n",
       "      <td>MzUxNTA2MTUwMzA4</td>\n",
       "      <td>Faculdade das Américas - FAM</td>\n",
       "      <td>RUA AUGUSTA - Consolação</td>\n",
       "      <td>1055967</td>\n",
       "      <td>Medicina</td>\n",
       "      <td>735.84</td>\n",
       "      <td>724.70</td>\n",
       "      <td>738.42</td>\n",
       "      <td>723.28</td>\n",
       "    </tr>\n",
       "  </tbody>\n",
       "</table>\n",
       "</div>"
      ]
     },
     "metadata": {
      "application/vnd.databricks.v1+output": {
       "addedWidgets": {},
       "arguments": {},
       "data": "<div>\n<style scoped>\n    .dataframe tbody tr th:only-of-type {\n        vertical-align: middle;\n    }\n\n    .dataframe tbody tr th {\n        vertical-align: top;\n    }\n\n    .dataframe thead th {\n        text-align: right;\n    }\n</style>\n<table border=\"1\" class=\"dataframe\">\n  <thead>\n    <tr style=\"text-align: right;\">\n      <th></th>\n      <th>curso_id</th>\n      <th>grau</th>\n      <th>turno</th>\n      <th>mensalidade</th>\n      <th>bolsa_integral_cotas</th>\n      <th>bolsa_integral_ampla</th>\n      <th>bolsa_parcial_cotas</th>\n      <th>bolsa_parcial_ampla</th>\n      <th>cidade_busca</th>\n      <th>uf_busca</th>\n      <th>cidade_filtro</th>\n      <th>universidade_nome</th>\n      <th>campus_nome</th>\n      <th>campus_id</th>\n      <th>nome_curso</th>\n      <th>nota_integral_ampla</th>\n      <th>nota_integral_cotas</th>\n      <th>nota_parcial_ampla</th>\n      <th>nota_parcial_cotas</th>\n    </tr>\n  </thead>\n  <tbody>\n    <tr>\n      <th>2</th>\n      <td>1002328574024</td>\n      <td>Bacharelado</td>\n      <td>Integral</td>\n      <td>9815.61</td>\n      <td>2</td>\n      <td>5</td>\n      <td>6</td>\n      <td>10</td>\n      <td>Sao Paulo</td>\n      <td>SP</td>\n      <td>MzUxNTA2MTUwMzA4</td>\n      <td>Universidade Cidade de São Paulo - UNICID</td>\n      <td>UNIVERSIDADE CIDADE DE SÃO PAULO - UNICID - SE...</td>\n      <td>1002328</td>\n      <td>Medicina</td>\n      <td>739.62</td>\n      <td>738.08</td>\n      <td>738.96</td>\n      <td>718.64</td>\n    </tr>\n    <tr>\n      <th>22</th>\n      <td>105596711902804</td>\n      <td>Bacharelado</td>\n      <td>Integral</td>\n      <td>8300.00</td>\n      <td>2</td>\n      <td>3</td>\n      <td>4</td>\n      <td>7</td>\n      <td>Sao Paulo</td>\n      <td>SP</td>\n      <td>MzUxNTA2MTUwMzA4</td>\n      <td>Faculdade das Américas - FAM</td>\n      <td>RUA AUGUSTA - Consolação</td>\n      <td>1055967</td>\n      <td>Medicina</td>\n      <td>735.84</td>\n      <td>724.70</td>\n      <td>738.42</td>\n      <td>723.28</td>\n    </tr>\n  </tbody>\n</table>\n</div>",
       "datasetInfos": [],
       "metadata": {},
       "removedWidgets": [],
       "textData": null,
       "type": "htmlSandbox"
      }
     },
     "output_type": "display_data"
    }
   ],
   "source": [
    "# filtro período integral e cidade de SP\n",
    "\n",
    "df_medicina.query(\"turno == 'Integral' AND cidade_busca == 'Sao Paulo'\")"
   ]
  },
  {
   "cell_type": "code",
   "execution_count": 0,
   "metadata": {
    "application/vnd.databricks.v1+cell": {
     "cellMetadata": {
      "byteLimit": 2048000,
      "rowLimit": 10000
     },
     "inputWidgets": {},
     "nuid": "95c3992d-c453-4d0a-996f-509db6e6bc5b",
     "showTitle": false,
     "tableResultSettingsMap": {},
     "title": ""
    }
   },
   "outputs": [
    {
     "output_type": "display_data",
     "data": {
      "text/html": [
       "<div>\n",
       "<style scoped>\n",
       "    .dataframe tbody tr th:only-of-type {\n",
       "        vertical-align: middle;\n",
       "    }\n",
       "\n",
       "    .dataframe tbody tr th {\n",
       "        vertical-align: top;\n",
       "    }\n",
       "\n",
       "    .dataframe thead th {\n",
       "        text-align: right;\n",
       "    }\n",
       "</style>\n",
       "<table border=\"1\" class=\"dataframe\">\n",
       "  <thead>\n",
       "    <tr style=\"text-align: right;\">\n",
       "      <th></th>\n",
       "      <th>curso_id</th>\n",
       "      <th>grau</th>\n",
       "      <th>turno</th>\n",
       "      <th>mensalidade</th>\n",
       "      <th>bolsa_integral_cotas</th>\n",
       "      <th>bolsa_integral_ampla</th>\n",
       "      <th>bolsa_parcial_cotas</th>\n",
       "      <th>bolsa_parcial_ampla</th>\n",
       "      <th>cidade_busca</th>\n",
       "      <th>uf_busca</th>\n",
       "      <th>cidade_filtro</th>\n",
       "      <th>universidade_nome</th>\n",
       "      <th>campus_nome</th>\n",
       "      <th>campus_id</th>\n",
       "      <th>nome_curso</th>\n",
       "      <th>nota_integral_ampla</th>\n",
       "      <th>nota_integral_cotas</th>\n",
       "      <th>nota_parcial_ampla</th>\n",
       "      <th>nota_parcial_cotas</th>\n",
       "    </tr>\n",
       "  </thead>\n",
       "  <tbody>\n",
       "    <tr>\n",
       "      <th>22</th>\n",
       "      <td>105596711902804</td>\n",
       "      <td>Bacharelado</td>\n",
       "      <td>Integral</td>\n",
       "      <td>8300.00</td>\n",
       "      <td>2</td>\n",
       "      <td>3</td>\n",
       "      <td>4</td>\n",
       "      <td>7</td>\n",
       "      <td>Sao Paulo</td>\n",
       "      <td>SP</td>\n",
       "      <td>MzUxNTA2MTUwMzA4</td>\n",
       "      <td>Faculdade das Américas - FAM</td>\n",
       "      <td>RUA AUGUSTA - Consolação</td>\n",
       "      <td>1055967</td>\n",
       "      <td>Medicina</td>\n",
       "      <td>735.84</td>\n",
       "      <td>724.70</td>\n",
       "      <td>738.42</td>\n",
       "      <td>723.28</td>\n",
       "    </tr>\n",
       "    <tr>\n",
       "      <th>71</th>\n",
       "      <td>65793650009334</td>\n",
       "      <td>Bacharelado</td>\n",
       "      <td>Integral</td>\n",
       "      <td>7316.79</td>\n",
       "      <td>2</td>\n",
       "      <td>3</td>\n",
       "      <td>4</td>\n",
       "      <td>8</td>\n",
       "      <td>Franca</td>\n",
       "      <td>SP</td>\n",
       "      <td>MzUwMjAxMjE2MjAw</td>\n",
       "      <td>Universidade de Franca - UNIFRAN</td>\n",
       "      <td>POLO NA SEDE - Parque Universitário</td>\n",
       "      <td>657936</td>\n",
       "      <td>Medicina</td>\n",
       "      <td>744.88</td>\n",
       "      <td>730.88</td>\n",
       "      <td>741.36</td>\n",
       "      <td>721.08</td>\n",
       "    </tr>\n",
       "    <tr>\n",
       "      <th>87</th>\n",
       "      <td>658461856524</td>\n",
       "      <td>Bacharelado</td>\n",
       "      <td>Integral</td>\n",
       "      <td>7009.97</td>\n",
       "      <td>4</td>\n",
       "      <td>3</td>\n",
       "      <td>9</td>\n",
       "      <td>5</td>\n",
       "      <td>Porto Velho</td>\n",
       "      <td>RO</td>\n",
       "      <td>MTEwMTAwMTAwMjA1</td>\n",
       "      <td>Centro Universitário São Lucas - UniSL</td>\n",
       "      <td>CAMPUS  - PORTO VELHO - AREAL - Areal</td>\n",
       "      <td>658461</td>\n",
       "      <td>Medicina</td>\n",
       "      <td>742.72</td>\n",
       "      <td>720.20</td>\n",
       "      <td>729.72</td>\n",
       "      <td>711.68</td>\n",
       "    </tr>\n",
       "    <tr>\n",
       "      <th>107</th>\n",
       "      <td>66007913994844</td>\n",
       "      <td>Bacharelado</td>\n",
       "      <td>Integral</td>\n",
       "      <td>6498.55</td>\n",
       "      <td>1</td>\n",
       "      <td>1</td>\n",
       "      <td>1</td>\n",
       "      <td>4</td>\n",
       "      <td>Guarapuava</td>\n",
       "      <td>PR</td>\n",
       "      <td>NDEwODAyOTA5NDAx</td>\n",
       "      <td>Faculdade Campo Real - CAMPO REAL</td>\n",
       "      <td>BLOCO 1 - Santa Cruz</td>\n",
       "      <td>660079</td>\n",
       "      <td>Medicina</td>\n",
       "      <td>781.20</td>\n",
       "      <td>731.04</td>\n",
       "      <td>745.06</td>\n",
       "      <td>741.00</td>\n",
       "    </tr>\n",
       "    <tr>\n",
       "      <th>10</th>\n",
       "      <td>65921511844324</td>\n",
       "      <td>Bacharelado</td>\n",
       "      <td>Integral</td>\n",
       "      <td>9123.07</td>\n",
       "      <td>4</td>\n",
       "      <td>4</td>\n",
       "      <td>5</td>\n",
       "      <td>5</td>\n",
       "      <td>Itaperuna</td>\n",
       "      <td>RJ</td>\n",
       "      <td>MzMwMTAwMTAyMjA1</td>\n",
       "      <td>Faculdade Redentor - FACREDENTOR</td>\n",
       "      <td>CAMPUS  - ITAPERUNA - PRESIDENTE COSTA E SILVA...</td>\n",
       "      <td>659215</td>\n",
       "      <td>Medicina</td>\n",
       "      <td>741.06</td>\n",
       "      <td>729.02</td>\n",
       "      <td>730.98</td>\n",
       "      <td>722.82</td>\n",
       "    </tr>\n",
       "    <tr>\n",
       "      <th>120</th>\n",
       "      <td>658345863564</td>\n",
       "      <td>Bacharelado</td>\n",
       "      <td>Integral</td>\n",
       "      <td>6113.00</td>\n",
       "      <td>3</td>\n",
       "      <td>3</td>\n",
       "      <td>1</td>\n",
       "      <td>1</td>\n",
       "      <td>Vitoria</td>\n",
       "      <td>ES</td>\n",
       "      <td>MzIwMzAwOTA1MzA5</td>\n",
       "      <td>Faculdade Brasileira - MULTIVIX VITÓRIA</td>\n",
       "      <td>CAMPUS GOIABEIRAS - Goiabeiras</td>\n",
       "      <td>658345</td>\n",
       "      <td>Medicina</td>\n",
       "      <td>762.74</td>\n",
       "      <td>749.00</td>\n",
       "      <td>776.36</td>\n",
       "      <td>768.34</td>\n",
       "    </tr>\n",
       "    <tr>\n",
       "      <th>80</th>\n",
       "      <td>7052291076664</td>\n",
       "      <td>Bacharelado</td>\n",
       "      <td>Integral</td>\n",
       "      <td>7130.00</td>\n",
       "      <td>1</td>\n",
       "      <td>1</td>\n",
       "      <td>1</td>\n",
       "      <td>1</td>\n",
       "      <td>Montes Claros</td>\n",
       "      <td>MG</td>\n",
       "      <td>MzEwMjAwNzQzMzAy</td>\n",
       "      <td>Faculdades Integradas Pitágoras - FIP-MOC</td>\n",
       "      <td>UNIDADE SEDE - Ibituruna</td>\n",
       "      <td>705229</td>\n",
       "      <td>Medicina</td>\n",
       "      <td>765.76</td>\n",
       "      <td>741.10</td>\n",
       "      <td>774.96</td>\n",
       "      <td>750.64</td>\n",
       "    </tr>\n",
       "    <tr>\n",
       "      <th>2</th>\n",
       "      <td>1002328574024</td>\n",
       "      <td>Bacharelado</td>\n",
       "      <td>Integral</td>\n",
       "      <td>9815.61</td>\n",
       "      <td>2</td>\n",
       "      <td>5</td>\n",
       "      <td>6</td>\n",
       "      <td>10</td>\n",
       "      <td>Sao Paulo</td>\n",
       "      <td>SP</td>\n",
       "      <td>MzUxNTA2MTUwMzA4</td>\n",
       "      <td>Universidade Cidade de São Paulo - UNICID</td>\n",
       "      <td>UNIVERSIDADE CIDADE DE SÃO PAULO - UNICID - SE...</td>\n",
       "      <td>1002328</td>\n",
       "      <td>Medicina</td>\n",
       "      <td>739.62</td>\n",
       "      <td>738.08</td>\n",
       "      <td>738.96</td>\n",
       "      <td>718.64</td>\n",
       "    </tr>\n",
       "    <tr>\n",
       "      <th>4</th>\n",
       "      <td>65899611932754</td>\n",
       "      <td>Bacharelado</td>\n",
       "      <td>Integral</td>\n",
       "      <td>9774.34</td>\n",
       "      <td>4</td>\n",
       "      <td>1</td>\n",
       "      <td>5</td>\n",
       "      <td>2</td>\n",
       "      <td>Rio Branco</td>\n",
       "      <td>AC</td>\n",
       "      <td>MTIwMjAwNDAwNDAx</td>\n",
       "      <td>Faculdade Barão do Rio Branco - FAB</td>\n",
       "      <td>CAMPUS  - RIO BRANCO - JARDIM EUROPA II - Jard...</td>\n",
       "      <td>658996</td>\n",
       "      <td>Medicina</td>\n",
       "      <td>758.32</td>\n",
       "      <td>723.94</td>\n",
       "      <td>734.92</td>\n",
       "      <td>711.26</td>\n",
       "    </tr>\n",
       "    <tr>\n",
       "      <th>13</th>\n",
       "      <td>104123711716094</td>\n",
       "      <td>Bacharelado</td>\n",
       "      <td>Integral</td>\n",
       "      <td>8608.54</td>\n",
       "      <td>2</td>\n",
       "      <td>1</td>\n",
       "      <td>7</td>\n",
       "      <td>2</td>\n",
       "      <td>Belem</td>\n",
       "      <td>PA</td>\n",
       "      <td>MTUwMzAwNzAxNDAy</td>\n",
       "      <td>Faculdade Metropolitana da Amazônia - FAMAZ</td>\n",
       "      <td>FACULDADE METROPOLITANA DA AMAZÔNIA - FAMAZ - ...</td>\n",
       "      <td>1041237</td>\n",
       "      <td>Medicina</td>\n",
       "      <td>741.36</td>\n",
       "      <td>739.90</td>\n",
       "      <td>760.80</td>\n",
       "      <td>715.10</td>\n",
       "    </tr>\n",
       "    <tr>\n",
       "      <th>21</th>\n",
       "      <td>658119591744</td>\n",
       "      <td>Bacharelado</td>\n",
       "      <td>Integral</td>\n",
       "      <td>8381.37</td>\n",
       "      <td>4</td>\n",
       "      <td>1</td>\n",
       "      <td>8</td>\n",
       "      <td>2</td>\n",
       "      <td>Sao Luis</td>\n",
       "      <td>MA</td>\n",
       "      <td>MjEwMTAwMjExMzAw</td>\n",
       "      <td>Universidade do Ceuma - Uniceuma - UNICEUMA</td>\n",
       "      <td>UNICEUMA - CAMPUS RENASCENÇA - Renascença II</td>\n",
       "      <td>658119</td>\n",
       "      <td>Medicina</td>\n",
       "      <td>757.84</td>\n",
       "      <td>738.90</td>\n",
       "      <td>735.76</td>\n",
       "      <td>718.48</td>\n",
       "    </tr>\n",
       "    <tr>\n",
       "      <th>42</th>\n",
       "      <td>70703413994804</td>\n",
       "      <td>Bacharelado</td>\n",
       "      <td>Integral</td>\n",
       "      <td>7850.00</td>\n",
       "      <td>1</td>\n",
       "      <td>1</td>\n",
       "      <td>1</td>\n",
       "      <td>3</td>\n",
       "      <td>Campo Mourao</td>\n",
       "      <td>PR</td>\n",
       "      <td>NDEwMjAwNTA0MzAz</td>\n",
       "      <td>Centro Universitário Integrado de Campo Mourão</td>\n",
       "      <td>UNIDADE CAMPUS - Jardim Batel</td>\n",
       "      <td>707034</td>\n",
       "      <td>Medicina</td>\n",
       "      <td>745.46</td>\n",
       "      <td>746.10</td>\n",
       "      <td>743.14</td>\n",
       "      <td>690.18</td>\n",
       "    </tr>\n",
       "    <tr>\n",
       "      <th>20</th>\n",
       "      <td>105887911921884</td>\n",
       "      <td>Bacharelado</td>\n",
       "      <td>Integral</td>\n",
       "      <td>8381.38</td>\n",
       "      <td>3</td>\n",
       "      <td>1</td>\n",
       "      <td>6</td>\n",
       "      <td>2</td>\n",
       "      <td>Imperatriz</td>\n",
       "      <td>MA</td>\n",
       "      <td>MjEwMjAwOTA1MzAy</td>\n",
       "      <td>Universidade do Ceuma - Uniceuma - UNICEUMA</td>\n",
       "      <td>UNIVERSIDADE DO CEUMA - UNICEUMA - CAMPUS IMPE...</td>\n",
       "      <td>1058879</td>\n",
       "      <td>Medicina</td>\n",
       "      <td>756.46</td>\n",
       "      <td>737.88</td>\n",
       "      <td>747.14</td>\n",
       "      <td>717.60</td>\n",
       "    </tr>\n",
       "    <tr>\n",
       "      <th>60</th>\n",
       "      <td>1079920726674</td>\n",
       "      <td>Bacharelado</td>\n",
       "      <td>Integral</td>\n",
       "      <td>7512.70</td>\n",
       "      <td>8</td>\n",
       "      <td>5</td>\n",
       "      <td>5</td>\n",
       "      <td>3</td>\n",
       "      <td>Joao Pessoa</td>\n",
       "      <td>PB</td>\n",
       "      <td>MjUwNDAyMjA3NTA3</td>\n",
       "      <td>Faculdade de Ciências Médicas da Paraíba - FCM-PB</td>\n",
       "      <td>LADEIRA DE S FRANCISCO - Centro</td>\n",
       "      <td>1079920</td>\n",
       "      <td>Medicina</td>\n",
       "      <td>754.98</td>\n",
       "      <td>733.60</td>\n",
       "      <td>748.78</td>\n",
       "      <td>727.58</td>\n",
       "    </tr>\n",
       "    <tr>\n",
       "      <th>24</th>\n",
       "      <td>137380663614</td>\n",
       "      <td>Bacharelado</td>\n",
       "      <td>Integral</td>\n",
       "      <td>8295.00</td>\n",
       "      <td>1</td>\n",
       "      <td>1</td>\n",
       "      <td>4</td>\n",
       "      <td>3</td>\n",
       "      <td>Vespasiano</td>\n",
       "      <td>MG</td>\n",
       "      <td>MzEwNzAzMDcxMjA0</td>\n",
       "      <td>Faculdade da Saúde e Ecologia Humana - FASEH</td>\n",
       "      <td>UNIDADE SEDE - Jardim Alterosa</td>\n",
       "      <td>137380</td>\n",
       "      <td>Medicina</td>\n",
       "      <td>770.50</td>\n",
       "      <td>792.24</td>\n",
       "      <td>750.44</td>\n",
       "      <td>732.46</td>\n",
       "    </tr>\n",
       "  </tbody>\n",
       "</table>\n",
       "</div>"
      ]
     },
     "metadata": {
      "application/vnd.databricks.v1+output": {
       "addedWidgets": {},
       "arguments": {},
       "data": "<div>\n<style scoped>\n    .dataframe tbody tr th:only-of-type {\n        vertical-align: middle;\n    }\n\n    .dataframe tbody tr th {\n        vertical-align: top;\n    }\n\n    .dataframe thead th {\n        text-align: right;\n    }\n</style>\n<table border=\"1\" class=\"dataframe\">\n  <thead>\n    <tr style=\"text-align: right;\">\n      <th></th>\n      <th>curso_id</th>\n      <th>grau</th>\n      <th>turno</th>\n      <th>mensalidade</th>\n      <th>bolsa_integral_cotas</th>\n      <th>bolsa_integral_ampla</th>\n      <th>bolsa_parcial_cotas</th>\n      <th>bolsa_parcial_ampla</th>\n      <th>cidade_busca</th>\n      <th>uf_busca</th>\n      <th>cidade_filtro</th>\n      <th>universidade_nome</th>\n      <th>campus_nome</th>\n      <th>campus_id</th>\n      <th>nome_curso</th>\n      <th>nota_integral_ampla</th>\n      <th>nota_integral_cotas</th>\n      <th>nota_parcial_ampla</th>\n      <th>nota_parcial_cotas</th>\n    </tr>\n  </thead>\n  <tbody>\n    <tr>\n      <th>22</th>\n      <td>105596711902804</td>\n      <td>Bacharelado</td>\n      <td>Integral</td>\n      <td>8300.00</td>\n      <td>2</td>\n      <td>3</td>\n      <td>4</td>\n      <td>7</td>\n      <td>Sao Paulo</td>\n      <td>SP</td>\n      <td>MzUxNTA2MTUwMzA4</td>\n      <td>Faculdade das Américas - FAM</td>\n      <td>RUA AUGUSTA - Consolação</td>\n      <td>1055967</td>\n      <td>Medicina</td>\n      <td>735.84</td>\n      <td>724.70</td>\n      <td>738.42</td>\n      <td>723.28</td>\n    </tr>\n    <tr>\n      <th>71</th>\n      <td>65793650009334</td>\n      <td>Bacharelado</td>\n      <td>Integral</td>\n      <td>7316.79</td>\n      <td>2</td>\n      <td>3</td>\n      <td>4</td>\n      <td>8</td>\n      <td>Franca</td>\n      <td>SP</td>\n      <td>MzUwMjAxMjE2MjAw</td>\n      <td>Universidade de Franca - UNIFRAN</td>\n      <td>POLO NA SEDE - Parque Universitário</td>\n      <td>657936</td>\n      <td>Medicina</td>\n      <td>744.88</td>\n      <td>730.88</td>\n      <td>741.36</td>\n      <td>721.08</td>\n    </tr>\n    <tr>\n      <th>87</th>\n      <td>658461856524</td>\n      <td>Bacharelado</td>\n      <td>Integral</td>\n      <td>7009.97</td>\n      <td>4</td>\n      <td>3</td>\n      <td>9</td>\n      <td>5</td>\n      <td>Porto Velho</td>\n      <td>RO</td>\n      <td>MTEwMTAwMTAwMjA1</td>\n      <td>Centro Universitário São Lucas - UniSL</td>\n      <td>CAMPUS  - PORTO VELHO - AREAL - Areal</td>\n      <td>658461</td>\n      <td>Medicina</td>\n      <td>742.72</td>\n      <td>720.20</td>\n      <td>729.72</td>\n      <td>711.68</td>\n    </tr>\n    <tr>\n      <th>107</th>\n      <td>66007913994844</td>\n      <td>Bacharelado</td>\n      <td>Integral</td>\n      <td>6498.55</td>\n      <td>1</td>\n      <td>1</td>\n      <td>1</td>\n      <td>4</td>\n      <td>Guarapuava</td>\n      <td>PR</td>\n      <td>NDEwODAyOTA5NDAx</td>\n      <td>Faculdade Campo Real - CAMPO REAL</td>\n      <td>BLOCO 1 - Santa Cruz</td>\n      <td>660079</td>\n      <td>Medicina</td>\n      <td>781.20</td>\n      <td>731.04</td>\n      <td>745.06</td>\n      <td>741.00</td>\n    </tr>\n    <tr>\n      <th>10</th>\n      <td>65921511844324</td>\n      <td>Bacharelado</td>\n      <td>Integral</td>\n      <td>9123.07</td>\n      <td>4</td>\n      <td>4</td>\n      <td>5</td>\n      <td>5</td>\n      <td>Itaperuna</td>\n      <td>RJ</td>\n      <td>MzMwMTAwMTAyMjA1</td>\n      <td>Faculdade Redentor - FACREDENTOR</td>\n      <td>CAMPUS  - ITAPERUNA - PRESIDENTE COSTA E SILVA...</td>\n      <td>659215</td>\n      <td>Medicina</td>\n      <td>741.06</td>\n      <td>729.02</td>\n      <td>730.98</td>\n      <td>722.82</td>\n    </tr>\n    <tr>\n      <th>120</th>\n      <td>658345863564</td>\n      <td>Bacharelado</td>\n      <td>Integral</td>\n      <td>6113.00</td>\n      <td>3</td>\n      <td>3</td>\n      <td>1</td>\n      <td>1</td>\n      <td>Vitoria</td>\n      <td>ES</td>\n      <td>MzIwMzAwOTA1MzA5</td>\n      <td>Faculdade Brasileira - MULTIVIX VITÓRIA</td>\n      <td>CAMPUS GOIABEIRAS - Goiabeiras</td>\n      <td>658345</td>\n      <td>Medicina</td>\n      <td>762.74</td>\n      <td>749.00</td>\n      <td>776.36</td>\n      <td>768.34</td>\n    </tr>\n    <tr>\n      <th>80</th>\n      <td>7052291076664</td>\n      <td>Bacharelado</td>\n      <td>Integral</td>\n      <td>7130.00</td>\n      <td>1</td>\n      <td>1</td>\n      <td>1</td>\n      <td>1</td>\n      <td>Montes Claros</td>\n      <td>MG</td>\n      <td>MzEwMjAwNzQzMzAy</td>\n      <td>Faculdades Integradas Pitágoras - FIP-MOC</td>\n      <td>UNIDADE SEDE - Ibituruna</td>\n      <td>705229</td>\n      <td>Medicina</td>\n      <td>765.76</td>\n      <td>741.10</td>\n      <td>774.96</td>\n      <td>750.64</td>\n    </tr>\n    <tr>\n      <th>2</th>\n      <td>1002328574024</td>\n      <td>Bacharelado</td>\n      <td>Integral</td>\n      <td>9815.61</td>\n      <td>2</td>\n      <td>5</td>\n      <td>6</td>\n      <td>10</td>\n      <td>Sao Paulo</td>\n      <td>SP</td>\n      <td>MzUxNTA2MTUwMzA4</td>\n      <td>Universidade Cidade de São Paulo - UNICID</td>\n      <td>UNIVERSIDADE CIDADE DE SÃO PAULO - UNICID - SE...</td>\n      <td>1002328</td>\n      <td>Medicina</td>\n      <td>739.62</td>\n      <td>738.08</td>\n      <td>738.96</td>\n      <td>718.64</td>\n    </tr>\n    <tr>\n      <th>4</th>\n      <td>65899611932754</td>\n      <td>Bacharelado</td>\n      <td>Integral</td>\n      <td>9774.34</td>\n      <td>4</td>\n      <td>1</td>\n      <td>5</td>\n      <td>2</td>\n      <td>Rio Branco</td>\n      <td>AC</td>\n      <td>MTIwMjAwNDAwNDAx</td>\n      <td>Faculdade Barão do Rio Branco - FAB</td>\n      <td>CAMPUS  - RIO BRANCO - JARDIM EUROPA II - Jard...</td>\n      <td>658996</td>\n      <td>Medicina</td>\n      <td>758.32</td>\n      <td>723.94</td>\n      <td>734.92</td>\n      <td>711.26</td>\n    </tr>\n    <tr>\n      <th>13</th>\n      <td>104123711716094</td>\n      <td>Bacharelado</td>\n      <td>Integral</td>\n      <td>8608.54</td>\n      <td>2</td>\n      <td>1</td>\n      <td>7</td>\n      <td>2</td>\n      <td>Belem</td>\n      <td>PA</td>\n      <td>MTUwMzAwNzAxNDAy</td>\n      <td>Faculdade Metropolitana da Amazônia - FAMAZ</td>\n      <td>FACULDADE METROPOLITANA DA AMAZÔNIA - FAMAZ - ...</td>\n      <td>1041237</td>\n      <td>Medicina</td>\n      <td>741.36</td>\n      <td>739.90</td>\n      <td>760.80</td>\n      <td>715.10</td>\n    </tr>\n    <tr>\n      <th>21</th>\n      <td>658119591744</td>\n      <td>Bacharelado</td>\n      <td>Integral</td>\n      <td>8381.37</td>\n      <td>4</td>\n      <td>1</td>\n      <td>8</td>\n      <td>2</td>\n      <td>Sao Luis</td>\n      <td>MA</td>\n      <td>MjEwMTAwMjExMzAw</td>\n      <td>Universidade do Ceuma - Uniceuma - UNICEUMA</td>\n      <td>UNICEUMA - CAMPUS RENASCENÇA - Renascença II</td>\n      <td>658119</td>\n      <td>Medicina</td>\n      <td>757.84</td>\n      <td>738.90</td>\n      <td>735.76</td>\n      <td>718.48</td>\n    </tr>\n    <tr>\n      <th>42</th>\n      <td>70703413994804</td>\n      <td>Bacharelado</td>\n      <td>Integral</td>\n      <td>7850.00</td>\n      <td>1</td>\n      <td>1</td>\n      <td>1</td>\n      <td>3</td>\n      <td>Campo Mourao</td>\n      <td>PR</td>\n      <td>NDEwMjAwNTA0MzAz</td>\n      <td>Centro Universitário Integrado de Campo Mourão</td>\n      <td>UNIDADE CAMPUS - Jardim Batel</td>\n      <td>707034</td>\n      <td>Medicina</td>\n      <td>745.46</td>\n      <td>746.10</td>\n      <td>743.14</td>\n      <td>690.18</td>\n    </tr>\n    <tr>\n      <th>20</th>\n      <td>105887911921884</td>\n      <td>Bacharelado</td>\n      <td>Integral</td>\n      <td>8381.38</td>\n      <td>3</td>\n      <td>1</td>\n      <td>6</td>\n      <td>2</td>\n      <td>Imperatriz</td>\n      <td>MA</td>\n      <td>MjEwMjAwOTA1MzAy</td>\n      <td>Universidade do Ceuma - Uniceuma - UNICEUMA</td>\n      <td>UNIVERSIDADE DO CEUMA - UNICEUMA - CAMPUS IMPE...</td>\n      <td>1058879</td>\n      <td>Medicina</td>\n      <td>756.46</td>\n      <td>737.88</td>\n      <td>747.14</td>\n      <td>717.60</td>\n    </tr>\n    <tr>\n      <th>60</th>\n      <td>1079920726674</td>\n      <td>Bacharelado</td>\n      <td>Integral</td>\n      <td>7512.70</td>\n      <td>8</td>\n      <td>5</td>\n      <td>5</td>\n      <td>3</td>\n      <td>Joao Pessoa</td>\n      <td>PB</td>\n      <td>MjUwNDAyMjA3NTA3</td>\n      <td>Faculdade de Ciências Médicas da Paraíba - FCM-PB</td>\n      <td>LADEIRA DE S FRANCISCO - Centro</td>\n      <td>1079920</td>\n      <td>Medicina</td>\n      <td>754.98</td>\n      <td>733.60</td>\n      <td>748.78</td>\n      <td>727.58</td>\n    </tr>\n    <tr>\n      <th>24</th>\n      <td>137380663614</td>\n      <td>Bacharelado</td>\n      <td>Integral</td>\n      <td>8295.00</td>\n      <td>1</td>\n      <td>1</td>\n      <td>4</td>\n      <td>3</td>\n      <td>Vespasiano</td>\n      <td>MG</td>\n      <td>MzEwNzAzMDcxMjA0</td>\n      <td>Faculdade da Saúde e Ecologia Humana - FASEH</td>\n      <td>UNIDADE SEDE - Jardim Alterosa</td>\n      <td>137380</td>\n      <td>Medicina</td>\n      <td>770.50</td>\n      <td>792.24</td>\n      <td>750.44</td>\n      <td>732.46</td>\n    </tr>\n  </tbody>\n</table>\n</div>",
       "datasetInfos": [],
       "metadata": {},
       "removedWidgets": [],
       "textData": null,
       "type": "htmlSandbox"
      }
     },
     "output_type": "display_data"
    }
   ],
   "source": [
    "# filtro período integral ou matutino\n",
    "\n",
    "df_medicina.query(\"turno == 'Integral' OR turno == 'Matutino'\")"
   ]
  },
  {
   "cell_type": "code",
   "execution_count": 0,
   "metadata": {
    "application/vnd.databricks.v1+cell": {
     "cellMetadata": {
      "byteLimit": 2048000,
      "rowLimit": 10000
     },
     "inputWidgets": {},
     "nuid": "e6d47078-5077-4b91-b141-08407c15490c",
     "showTitle": false,
     "tableResultSettingsMap": {},
     "title": ""
    }
   },
   "outputs": [
    {
     "output_type": "stream",
     "name": "stdout",
     "output_type": "stream",
     "text": [
      "Out[29]: uf_busca\nRO    7009.970000\nSP    8477.466667\nES    6113.000000\nPB    7512.700000\nMG    7712.500000\nPA    8608.540000\nRJ    9123.070000\nMA    8381.375000\nAC    9774.340000\nPR    7174.275000\nName: mensalidade, dtype: float64"
     ]
    }
   ],
   "source": [
    "# agrupando por estados e suas médias de mensalidade\n",
    "\n",
    "agrupado = df_medicina.query(\"turno == 'Integral' OR turno == 'Matutino'\").groupby('uf_busca')['mensalidade'].mean()\n",
    "agrupado"
   ]
  },
  {
   "cell_type": "code",
   "execution_count": 0,
   "metadata": {
    "application/vnd.databricks.v1+cell": {
     "cellMetadata": {
      "byteLimit": 2048000,
      "rowLimit": 10000
     },
     "inputWidgets": {},
     "nuid": "ea5d6818-998b-4d49-880c-69975b5b9732",
     "showTitle": false,
     "tableResultSettingsMap": {},
     "title": ""
    }
   },
   "outputs": [
    {
     "output_type": "display_data",
     "data": {
      "text/html": [
       "<div>\n",
       "<style scoped>\n",
       "    .dataframe tbody tr th:only-of-type {\n",
       "        vertical-align: middle;\n",
       "    }\n",
       "\n",
       "    .dataframe tbody tr th {\n",
       "        vertical-align: top;\n",
       "    }\n",
       "\n",
       "    .dataframe thead th {\n",
       "        text-align: right;\n",
       "    }\n",
       "</style>\n",
       "<table border=\"1\" class=\"dataframe\">\n",
       "  <thead>\n",
       "    <tr style=\"text-align: right;\">\n",
       "      <th></th>\n",
       "      <th>mensalidade</th>\n",
       "    </tr>\n",
       "    <tr>\n",
       "      <th>uf_busca</th>\n",
       "      <th></th>\n",
       "    </tr>\n",
       "  </thead>\n",
       "  <tbody>\n",
       "    <tr>\n",
       "      <th>RO</th>\n",
       "      <td>7009.970000</td>\n",
       "    </tr>\n",
       "    <tr>\n",
       "      <th>SP</th>\n",
       "      <td>8477.466667</td>\n",
       "    </tr>\n",
       "    <tr>\n",
       "      <th>ES</th>\n",
       "      <td>6113.000000</td>\n",
       "    </tr>\n",
       "    <tr>\n",
       "      <th>PB</th>\n",
       "      <td>7512.700000</td>\n",
       "    </tr>\n",
       "    <tr>\n",
       "      <th>MG</th>\n",
       "      <td>7712.500000</td>\n",
       "    </tr>\n",
       "    <tr>\n",
       "      <th>PA</th>\n",
       "      <td>8608.540000</td>\n",
       "    </tr>\n",
       "    <tr>\n",
       "      <th>RJ</th>\n",
       "      <td>9123.070000</td>\n",
       "    </tr>\n",
       "    <tr>\n",
       "      <th>MA</th>\n",
       "      <td>8381.375000</td>\n",
       "    </tr>\n",
       "    <tr>\n",
       "      <th>AC</th>\n",
       "      <td>9774.340000</td>\n",
       "    </tr>\n",
       "    <tr>\n",
       "      <th>PR</th>\n",
       "      <td>7174.275000</td>\n",
       "    </tr>\n",
       "  </tbody>\n",
       "</table>\n",
       "</div>"
      ]
     },
     "metadata": {
      "application/vnd.databricks.v1+output": {
       "addedWidgets": {},
       "arguments": {},
       "data": "<div>\n<style scoped>\n    .dataframe tbody tr th:only-of-type {\n        vertical-align: middle;\n    }\n\n    .dataframe tbody tr th {\n        vertical-align: top;\n    }\n\n    .dataframe thead th {\n        text-align: right;\n    }\n</style>\n<table border=\"1\" class=\"dataframe\">\n  <thead>\n    <tr style=\"text-align: right;\">\n      <th></th>\n      <th>mensalidade</th>\n    </tr>\n    <tr>\n      <th>uf_busca</th>\n      <th></th>\n    </tr>\n  </thead>\n  <tbody>\n    <tr>\n      <th>RO</th>\n      <td>7009.970000</td>\n    </tr>\n    <tr>\n      <th>SP</th>\n      <td>8477.466667</td>\n    </tr>\n    <tr>\n      <th>ES</th>\n      <td>6113.000000</td>\n    </tr>\n    <tr>\n      <th>PB</th>\n      <td>7512.700000</td>\n    </tr>\n    <tr>\n      <th>MG</th>\n      <td>7712.500000</td>\n    </tr>\n    <tr>\n      <th>PA</th>\n      <td>8608.540000</td>\n    </tr>\n    <tr>\n      <th>RJ</th>\n      <td>9123.070000</td>\n    </tr>\n    <tr>\n      <th>MA</th>\n      <td>8381.375000</td>\n    </tr>\n    <tr>\n      <th>AC</th>\n      <td>9774.340000</td>\n    </tr>\n    <tr>\n      <th>PR</th>\n      <td>7174.275000</td>\n    </tr>\n  </tbody>\n</table>\n</div>",
       "datasetInfos": [],
       "metadata": {},
       "removedWidgets": [],
       "textData": null,
       "type": "htmlSandbox"
      }
     },
     "output_type": "display_data"
    }
   ],
   "source": [
    "# retornar um dataframe\n",
    "\n",
    "df_agrupado = ps.DataFrame(agrupado)\n",
    "df_agrupado"
   ]
  },
  {
   "cell_type": "markdown",
   "metadata": {
    "application/vnd.databricks.v1+cell": {
     "cellMetadata": {
      "byteLimit": 2048000,
      "rowLimit": 10000
     },
     "inputWidgets": {},
     "nuid": "6cdb4a62-f1f4-4d9d-8644-6b926592747a",
     "showTitle": false,
     "tableResultSettingsMap": {},
     "title": ""
    }
   },
   "source": [
    "# Gráficos"
   ]
  },
  {
   "cell_type": "code",
   "execution_count": 0,
   "metadata": {
    "application/vnd.databricks.v1+cell": {
     "cellMetadata": {
      "byteLimit": 2048000,
      "rowLimit": 10000
     },
     "inputWidgets": {},
     "nuid": "ebca0ea3-731a-45d8-b16c-f40bb2a78f41",
     "showTitle": false,
     "tableResultSettingsMap": {},
     "title": ""
    }
   },
   "outputs": [
    {
     "output_type": "display_data",
     "data": {
      "text/html": [
       "<div>\n",
       "<style scoped>\n",
       "    .dataframe tbody tr th:only-of-type {\n",
       "        vertical-align: middle;\n",
       "    }\n",
       "\n",
       "    .dataframe tbody tr th {\n",
       "        vertical-align: top;\n",
       "    }\n",
       "\n",
       "    .dataframe thead th {\n",
       "        text-align: right;\n",
       "    }\n",
       "</style>\n",
       "<table border=\"1\" class=\"dataframe\">\n",
       "  <thead>\n",
       "    <tr style=\"text-align: right;\">\n",
       "      <th></th>\n",
       "      <th>mensalidade</th>\n",
       "    </tr>\n",
       "    <tr>\n",
       "      <th>uf_busca</th>\n",
       "      <th></th>\n",
       "    </tr>\n",
       "  </thead>\n",
       "  <tbody>\n",
       "    <tr>\n",
       "      <th>AC</th>\n",
       "      <td>9774.340000</td>\n",
       "    </tr>\n",
       "    <tr>\n",
       "      <th>RJ</th>\n",
       "      <td>9123.070000</td>\n",
       "    </tr>\n",
       "    <tr>\n",
       "      <th>PA</th>\n",
       "      <td>8608.540000</td>\n",
       "    </tr>\n",
       "    <tr>\n",
       "      <th>SP</th>\n",
       "      <td>8477.466667</td>\n",
       "    </tr>\n",
       "    <tr>\n",
       "      <th>MA</th>\n",
       "      <td>8381.375000</td>\n",
       "    </tr>\n",
       "    <tr>\n",
       "      <th>MG</th>\n",
       "      <td>7712.500000</td>\n",
       "    </tr>\n",
       "    <tr>\n",
       "      <th>PB</th>\n",
       "      <td>7512.700000</td>\n",
       "    </tr>\n",
       "    <tr>\n",
       "      <th>PR</th>\n",
       "      <td>7174.275000</td>\n",
       "    </tr>\n",
       "    <tr>\n",
       "      <th>RO</th>\n",
       "      <td>7009.970000</td>\n",
       "    </tr>\n",
       "    <tr>\n",
       "      <th>ES</th>\n",
       "      <td>6113.000000</td>\n",
       "    </tr>\n",
       "  </tbody>\n",
       "</table>\n",
       "</div>"
      ]
     },
     "metadata": {
      "application/vnd.databricks.v1+output": {
       "addedWidgets": {},
       "arguments": {},
       "data": "<div>\n<style scoped>\n    .dataframe tbody tr th:only-of-type {\n        vertical-align: middle;\n    }\n\n    .dataframe tbody tr th {\n        vertical-align: top;\n    }\n\n    .dataframe thead th {\n        text-align: right;\n    }\n</style>\n<table border=\"1\" class=\"dataframe\">\n  <thead>\n    <tr style=\"text-align: right;\">\n      <th></th>\n      <th>mensalidade</th>\n    </tr>\n    <tr>\n      <th>uf_busca</th>\n      <th></th>\n    </tr>\n  </thead>\n  <tbody>\n    <tr>\n      <th>AC</th>\n      <td>9774.340000</td>\n    </tr>\n    <tr>\n      <th>RJ</th>\n      <td>9123.070000</td>\n    </tr>\n    <tr>\n      <th>PA</th>\n      <td>8608.540000</td>\n    </tr>\n    <tr>\n      <th>SP</th>\n      <td>8477.466667</td>\n    </tr>\n    <tr>\n      <th>MA</th>\n      <td>8381.375000</td>\n    </tr>\n    <tr>\n      <th>MG</th>\n      <td>7712.500000</td>\n    </tr>\n    <tr>\n      <th>PB</th>\n      <td>7512.700000</td>\n    </tr>\n    <tr>\n      <th>PR</th>\n      <td>7174.275000</td>\n    </tr>\n    <tr>\n      <th>RO</th>\n      <td>7009.970000</td>\n    </tr>\n    <tr>\n      <th>ES</th>\n      <td>6113.000000</td>\n    </tr>\n  </tbody>\n</table>\n</div>",
       "datasetInfos": [],
       "metadata": {},
       "removedWidgets": [],
       "textData": null,
       "type": "htmlSandbox"
      }
     },
     "output_type": "display_data"
    }
   ],
   "source": [
    "# ordenando por valor\n",
    "\n",
    "df_agrupado.sort_values(by='mensalidade',inplace=True,ascending=False)\n",
    "df_agrupado"
   ]
  },
  {
   "cell_type": "code",
   "execution_count": 0,
   "metadata": {
    "application/vnd.databricks.v1+cell": {
     "cellMetadata": {
      "byteLimit": 2048000,
      "rowLimit": 10000
     },
     "inputWidgets": {},
     "nuid": "2e79be49-e589-458e-8d19-d6c0074c6133",
     "showTitle": false,
     "tableResultSettingsMap": {},
     "title": ""
    }
   },
   "outputs": [
    {
     "output_type": "display_data",
     "data": {
      "text/html": [
       "<div>\n",
       "<style scoped>\n",
       "    .dataframe tbody tr th:only-of-type {\n",
       "        vertical-align: middle;\n",
       "    }\n",
       "\n",
       "    .dataframe tbody tr th {\n",
       "        vertical-align: top;\n",
       "    }\n",
       "\n",
       "    .dataframe thead th {\n",
       "        text-align: right;\n",
       "    }\n",
       "</style>\n",
       "<table border=\"1\" class=\"dataframe\">\n",
       "  <thead>\n",
       "    <tr style=\"text-align: right;\">\n",
       "      <th></th>\n",
       "      <th>uf_busca</th>\n",
       "      <th>mensalidade</th>\n",
       "    </tr>\n",
       "  </thead>\n",
       "  <tbody>\n",
       "    <tr>\n",
       "      <th>0</th>\n",
       "      <td>AC</td>\n",
       "      <td>9774.340000</td>\n",
       "    </tr>\n",
       "    <tr>\n",
       "      <th>1</th>\n",
       "      <td>RJ</td>\n",
       "      <td>9123.070000</td>\n",
       "    </tr>\n",
       "    <tr>\n",
       "      <th>2</th>\n",
       "      <td>PA</td>\n",
       "      <td>8608.540000</td>\n",
       "    </tr>\n",
       "    <tr>\n",
       "      <th>3</th>\n",
       "      <td>SP</td>\n",
       "      <td>8477.466667</td>\n",
       "    </tr>\n",
       "    <tr>\n",
       "      <th>4</th>\n",
       "      <td>MA</td>\n",
       "      <td>8381.375000</td>\n",
       "    </tr>\n",
       "    <tr>\n",
       "      <th>5</th>\n",
       "      <td>MG</td>\n",
       "      <td>7712.500000</td>\n",
       "    </tr>\n",
       "    <tr>\n",
       "      <th>6</th>\n",
       "      <td>PB</td>\n",
       "      <td>7512.700000</td>\n",
       "    </tr>\n",
       "    <tr>\n",
       "      <th>7</th>\n",
       "      <td>PR</td>\n",
       "      <td>7174.275000</td>\n",
       "    </tr>\n",
       "    <tr>\n",
       "      <th>8</th>\n",
       "      <td>RO</td>\n",
       "      <td>7009.970000</td>\n",
       "    </tr>\n",
       "    <tr>\n",
       "      <th>9</th>\n",
       "      <td>ES</td>\n",
       "      <td>6113.000000</td>\n",
       "    </tr>\n",
       "  </tbody>\n",
       "</table>\n",
       "</div>"
      ]
     },
     "metadata": {
      "application/vnd.databricks.v1+output": {
       "addedWidgets": {},
       "arguments": {},
       "data": "<div>\n<style scoped>\n    .dataframe tbody tr th:only-of-type {\n        vertical-align: middle;\n    }\n\n    .dataframe tbody tr th {\n        vertical-align: top;\n    }\n\n    .dataframe thead th {\n        text-align: right;\n    }\n</style>\n<table border=\"1\" class=\"dataframe\">\n  <thead>\n    <tr style=\"text-align: right;\">\n      <th></th>\n      <th>uf_busca</th>\n      <th>mensalidade</th>\n    </tr>\n  </thead>\n  <tbody>\n    <tr>\n      <th>0</th>\n      <td>AC</td>\n      <td>9774.340000</td>\n    </tr>\n    <tr>\n      <th>1</th>\n      <td>RJ</td>\n      <td>9123.070000</td>\n    </tr>\n    <tr>\n      <th>2</th>\n      <td>PA</td>\n      <td>8608.540000</td>\n    </tr>\n    <tr>\n      <th>3</th>\n      <td>SP</td>\n      <td>8477.466667</td>\n    </tr>\n    <tr>\n      <th>4</th>\n      <td>MA</td>\n      <td>8381.375000</td>\n    </tr>\n    <tr>\n      <th>5</th>\n      <td>MG</td>\n      <td>7712.500000</td>\n    </tr>\n    <tr>\n      <th>6</th>\n      <td>PB</td>\n      <td>7512.700000</td>\n    </tr>\n    <tr>\n      <th>7</th>\n      <td>PR</td>\n      <td>7174.275000</td>\n    </tr>\n    <tr>\n      <th>8</th>\n      <td>RO</td>\n      <td>7009.970000</td>\n    </tr>\n    <tr>\n      <th>9</th>\n      <td>ES</td>\n      <td>6113.000000</td>\n    </tr>\n  </tbody>\n</table>\n</div>",
       "datasetInfos": [],
       "metadata": {},
       "removedWidgets": [],
       "textData": null,
       "type": "htmlSandbox"
      }
     },
     "output_type": "display_data"
    }
   ],
   "source": [
    "# reset index\n",
    "\n",
    "df_agrupado = df_agrupado.reset_index()\n",
    "df_agrupado"
   ]
  },
  {
   "cell_type": "code",
   "execution_count": 0,
   "metadata": {
    "application/vnd.databricks.v1+cell": {
     "cellMetadata": {
      "byteLimit": 2048000,
      "rowLimit": 10000
     },
     "inputWidgets": {},
     "nuid": "cd39d70b-db15-4cde-9b74-cfcafe32bbde",
     "showTitle": false,
     "tableResultSettingsMap": {},
     "title": ""
    }
   },
   "outputs": [
    {
     "output_type": "display_data",
     "data": {
      "text/html": [
       "<html>\n",
       "<head><meta charset=\"utf-8\" /></head>\n",
       "<body>\n",
       "    <div>            <script src=\"https://cdnjs.cloudflare.com/ajax/libs/mathjax/2.7.5/MathJax.js?config=TeX-AMS-MML_SVG\"></script><script type=\"text/javascript\">if (window.MathJax) {MathJax.Hub.Config({SVG: {font: \"STIX-Web\"}});}</script>                <script type=\"text/javascript\">window.PlotlyConfig = {MathJaxConfig: 'local'};</script>\n",
       "        <script src=\"https://cdn.plot.ly/plotly-2.9.0.min.js\"></script>                <div id=\"f09d00a7-8ce8-4506-ab9d-f32fcbfb5da2\" class=\"plotly-graph-div\" style=\"height:100%; width:100%;\"></div>            <script type=\"text/javascript\">                                    window.PLOTLYENV=window.PLOTLYENV || {};                                    if (document.getElementById(\"f09d00a7-8ce8-4506-ab9d-f32fcbfb5da2\")) {                    Plotly.newPlot(                        \"f09d00a7-8ce8-4506-ab9d-f32fcbfb5da2\",                        [{\"alignmentgroup\":\"True\",\"hovertemplate\":\"uf_busca=%{x}<br>mensalidade=%{y}<extra></extra>\",\"legendgroup\":\"\",\"marker\":{\"color\":\"#636efa\",\"pattern\":{\"shape\":\"\"}},\"name\":\"\",\"offsetgroup\":\"\",\"orientation\":\"v\",\"showlegend\":false,\"textposition\":\"auto\",\"x\":[\"AC\",\"RJ\",\"PA\",\"SP\",\"MA\",\"MG\",\"PB\",\"PR\",\"RO\",\"ES\"],\"xaxis\":\"x\",\"y\":[9774.34,9123.07,8608.54,8477.466666666667,8381.375,7712.5,7512.7,7174.275,7009.97,6113.0],\"yaxis\":\"y\",\"type\":\"bar\"}],                        {\"template\":{\"data\":{\"bar\":[{\"error_x\":{\"color\":\"#2a3f5f\"},\"error_y\":{\"color\":\"#2a3f5f\"},\"marker\":{\"line\":{\"color\":\"#E5ECF6\",\"width\":0.5},\"pattern\":{\"fillmode\":\"overlay\",\"size\":10,\"solidity\":0.2}},\"type\":\"bar\"}],\"barpolar\":[{\"marker\":{\"line\":{\"color\":\"#E5ECF6\",\"width\":0.5},\"pattern\":{\"fillmode\":\"overlay\",\"size\":10,\"solidity\":0.2}},\"type\":\"barpolar\"}],\"carpet\":[{\"aaxis\":{\"endlinecolor\":\"#2a3f5f\",\"gridcolor\":\"white\",\"linecolor\":\"white\",\"minorgridcolor\":\"white\",\"startlinecolor\":\"#2a3f5f\"},\"baxis\":{\"endlinecolor\":\"#2a3f5f\",\"gridcolor\":\"white\",\"linecolor\":\"white\",\"minorgridcolor\":\"white\",\"startlinecolor\":\"#2a3f5f\"},\"type\":\"carpet\"}],\"choropleth\":[{\"colorbar\":{\"outlinewidth\":0,\"ticks\":\"\"},\"type\":\"choropleth\"}],\"contour\":[{\"colorbar\":{\"outlinewidth\":0,\"ticks\":\"\"},\"colorscale\":[[0.0,\"#0d0887\"],[0.1111111111111111,\"#46039f\"],[0.2222222222222222,\"#7201a8\"],[0.3333333333333333,\"#9c179e\"],[0.4444444444444444,\"#bd3786\"],[0.5555555555555556,\"#d8576b\"],[0.6666666666666666,\"#ed7953\"],[0.7777777777777778,\"#fb9f3a\"],[0.8888888888888888,\"#fdca26\"],[1.0,\"#f0f921\"]],\"type\":\"contour\"}],\"contourcarpet\":[{\"colorbar\":{\"outlinewidth\":0,\"ticks\":\"\"},\"type\":\"contourcarpet\"}],\"heatmap\":[{\"colorbar\":{\"outlinewidth\":0,\"ticks\":\"\"},\"colorscale\":[[0.0,\"#0d0887\"],[0.1111111111111111,\"#46039f\"],[0.2222222222222222,\"#7201a8\"],[0.3333333333333333,\"#9c179e\"],[0.4444444444444444,\"#bd3786\"],[0.5555555555555556,\"#d8576b\"],[0.6666666666666666,\"#ed7953\"],[0.7777777777777778,\"#fb9f3a\"],[0.8888888888888888,\"#fdca26\"],[1.0,\"#f0f921\"]],\"type\":\"heatmap\"}],\"heatmapgl\":[{\"colorbar\":{\"outlinewidth\":0,\"ticks\":\"\"},\"colorscale\":[[0.0,\"#0d0887\"],[0.1111111111111111,\"#46039f\"],[0.2222222222222222,\"#7201a8\"],[0.3333333333333333,\"#9c179e\"],[0.4444444444444444,\"#bd3786\"],[0.5555555555555556,\"#d8576b\"],[0.6666666666666666,\"#ed7953\"],[0.7777777777777778,\"#fb9f3a\"],[0.8888888888888888,\"#fdca26\"],[1.0,\"#f0f921\"]],\"type\":\"heatmapgl\"}],\"histogram\":[{\"marker\":{\"pattern\":{\"fillmode\":\"overlay\",\"size\":10,\"solidity\":0.2}},\"type\":\"histogram\"}],\"histogram2d\":[{\"colorbar\":{\"outlinewidth\":0,\"ticks\":\"\"},\"colorscale\":[[0.0,\"#0d0887\"],[0.1111111111111111,\"#46039f\"],[0.2222222222222222,\"#7201a8\"],[0.3333333333333333,\"#9c179e\"],[0.4444444444444444,\"#bd3786\"],[0.5555555555555556,\"#d8576b\"],[0.6666666666666666,\"#ed7953\"],[0.7777777777777778,\"#fb9f3a\"],[0.8888888888888888,\"#fdca26\"],[1.0,\"#f0f921\"]],\"type\":\"histogram2d\"}],\"histogram2dcontour\":[{\"colorbar\":{\"outlinewidth\":0,\"ticks\":\"\"},\"colorscale\":[[0.0,\"#0d0887\"],[0.1111111111111111,\"#46039f\"],[0.2222222222222222,\"#7201a8\"],[0.3333333333333333,\"#9c179e\"],[0.4444444444444444,\"#bd3786\"],[0.5555555555555556,\"#d8576b\"],[0.6666666666666666,\"#ed7953\"],[0.7777777777777778,\"#fb9f3a\"],[0.8888888888888888,\"#fdca26\"],[1.0,\"#f0f921\"]],\"type\":\"histogram2dcontour\"}],\"mesh3d\":[{\"colorbar\":{\"outlinewidth\":0,\"ticks\":\"\"},\"type\":\"mesh3d\"}],\"parcoords\":[{\"line\":{\"colorbar\":{\"outlinewidth\":0,\"ticks\":\"\"}},\"type\":\"parcoords\"}],\"pie\":[{\"automargin\":true,\"type\":\"pie\"}],\"scatter\":[{\"marker\":{\"colorbar\":{\"outlinewidth\":0,\"ticks\":\"\"}},\"type\":\"scatter\"}],\"scatter3d\":[{\"line\":{\"colorbar\":{\"outlinewidth\":0,\"ticks\":\"\"}},\"marker\":{\"colorbar\":{\"outlinewidth\":0,\"ticks\":\"\"}},\"type\":\"scatter3d\"}],\"scattercarpet\":[{\"marker\":{\"colorbar\":{\"outlinewidth\":0,\"ticks\":\"\"}},\"type\":\"scattercarpet\"}],\"scattergeo\":[{\"marker\":{\"colorbar\":{\"outlinewidth\":0,\"ticks\":\"\"}},\"type\":\"scattergeo\"}],\"scattergl\":[{\"marker\":{\"colorbar\":{\"outlinewidth\":0,\"ticks\":\"\"}},\"type\":\"scattergl\"}],\"scattermapbox\":[{\"marker\":{\"colorbar\":{\"outlinewidth\":0,\"ticks\":\"\"}},\"type\":\"scattermapbox\"}],\"scatterpolar\":[{\"marker\":{\"colorbar\":{\"outlinewidth\":0,\"ticks\":\"\"}},\"type\":\"scatterpolar\"}],\"scatterpolargl\":[{\"marker\":{\"colorbar\":{\"outlinewidth\":0,\"ticks\":\"\"}},\"type\":\"scatterpolargl\"}],\"scatterternary\":[{\"marker\":{\"colorbar\":{\"outlinewidth\":0,\"ticks\":\"\"}},\"type\":\"scatterternary\"}],\"surface\":[{\"colorbar\":{\"outlinewidth\":0,\"ticks\":\"\"},\"colorscale\":[[0.0,\"#0d0887\"],[0.1111111111111111,\"#46039f\"],[0.2222222222222222,\"#7201a8\"],[0.3333333333333333,\"#9c179e\"],[0.4444444444444444,\"#bd3786\"],[0.5555555555555556,\"#d8576b\"],[0.6666666666666666,\"#ed7953\"],[0.7777777777777778,\"#fb9f3a\"],[0.8888888888888888,\"#fdca26\"],[1.0,\"#f0f921\"]],\"type\":\"surface\"}],\"table\":[{\"cells\":{\"fill\":{\"color\":\"#EBF0F8\"},\"line\":{\"color\":\"white\"}},\"header\":{\"fill\":{\"color\":\"#C8D4E3\"},\"line\":{\"color\":\"white\"}},\"type\":\"table\"}]},\"layout\":{\"annotationdefaults\":{\"arrowcolor\":\"#2a3f5f\",\"arrowhead\":0,\"arrowwidth\":1},\"autotypenumbers\":\"strict\",\"coloraxis\":{\"colorbar\":{\"outlinewidth\":0,\"ticks\":\"\"}},\"colorscale\":{\"diverging\":[[0,\"#8e0152\"],[0.1,\"#c51b7d\"],[0.2,\"#de77ae\"],[0.3,\"#f1b6da\"],[0.4,\"#fde0ef\"],[0.5,\"#f7f7f7\"],[0.6,\"#e6f5d0\"],[0.7,\"#b8e186\"],[0.8,\"#7fbc41\"],[0.9,\"#4d9221\"],[1,\"#276419\"]],\"sequential\":[[0.0,\"#0d0887\"],[0.1111111111111111,\"#46039f\"],[0.2222222222222222,\"#7201a8\"],[0.3333333333333333,\"#9c179e\"],[0.4444444444444444,\"#bd3786\"],[0.5555555555555556,\"#d8576b\"],[0.6666666666666666,\"#ed7953\"],[0.7777777777777778,\"#fb9f3a\"],[0.8888888888888888,\"#fdca26\"],[1.0,\"#f0f921\"]],\"sequentialminus\":[[0.0,\"#0d0887\"],[0.1111111111111111,\"#46039f\"],[0.2222222222222222,\"#7201a8\"],[0.3333333333333333,\"#9c179e\"],[0.4444444444444444,\"#bd3786\"],[0.5555555555555556,\"#d8576b\"],[0.6666666666666666,\"#ed7953\"],[0.7777777777777778,\"#fb9f3a\"],[0.8888888888888888,\"#fdca26\"],[1.0,\"#f0f921\"]]},\"colorway\":[\"#636efa\",\"#EF553B\",\"#00cc96\",\"#ab63fa\",\"#FFA15A\",\"#19d3f3\",\"#FF6692\",\"#B6E880\",\"#FF97FF\",\"#FECB52\"],\"font\":{\"color\":\"#2a3f5f\"},\"geo\":{\"bgcolor\":\"white\",\"lakecolor\":\"white\",\"landcolor\":\"#E5ECF6\",\"showlakes\":true,\"showland\":true,\"subunitcolor\":\"white\"},\"hoverlabel\":{\"align\":\"left\"},\"hovermode\":\"closest\",\"mapbox\":{\"style\":\"light\"},\"paper_bgcolor\":\"white\",\"plot_bgcolor\":\"#E5ECF6\",\"polar\":{\"angularaxis\":{\"gridcolor\":\"white\",\"linecolor\":\"white\",\"ticks\":\"\"},\"bgcolor\":\"#E5ECF6\",\"radialaxis\":{\"gridcolor\":\"white\",\"linecolor\":\"white\",\"ticks\":\"\"}},\"scene\":{\"xaxis\":{\"backgroundcolor\":\"#E5ECF6\",\"gridcolor\":\"white\",\"gridwidth\":2,\"linecolor\":\"white\",\"showbackground\":true,\"ticks\":\"\",\"zerolinecolor\":\"white\"},\"yaxis\":{\"backgroundcolor\":\"#E5ECF6\",\"gridcolor\":\"white\",\"gridwidth\":2,\"linecolor\":\"white\",\"showbackground\":true,\"ticks\":\"\",\"zerolinecolor\":\"white\"},\"zaxis\":{\"backgroundcolor\":\"#E5ECF6\",\"gridcolor\":\"white\",\"gridwidth\":2,\"linecolor\":\"white\",\"showbackground\":true,\"ticks\":\"\",\"zerolinecolor\":\"white\"}},\"shapedefaults\":{\"line\":{\"color\":\"#2a3f5f\"}},\"ternary\":{\"aaxis\":{\"gridcolor\":\"white\",\"linecolor\":\"white\",\"ticks\":\"\"},\"baxis\":{\"gridcolor\":\"white\",\"linecolor\":\"white\",\"ticks\":\"\"},\"bgcolor\":\"#E5ECF6\",\"caxis\":{\"gridcolor\":\"white\",\"linecolor\":\"white\",\"ticks\":\"\"}},\"title\":{\"x\":0.05},\"xaxis\":{\"automargin\":true,\"gridcolor\":\"white\",\"linecolor\":\"white\",\"ticks\":\"\",\"title\":{\"standoff\":15},\"zerolinecolor\":\"white\",\"zerolinewidth\":2},\"yaxis\":{\"automargin\":true,\"gridcolor\":\"white\",\"linecolor\":\"white\",\"ticks\":\"\",\"title\":{\"standoff\":15},\"zerolinecolor\":\"white\",\"zerolinewidth\":2}}},\"xaxis\":{\"anchor\":\"y\",\"domain\":[0.0,1.0],\"title\":{\"text\":\"uf_busca\"}},\"yaxis\":{\"anchor\":\"x\",\"domain\":[0.0,1.0],\"title\":{\"text\":\"mensalidade\"}},\"legend\":{\"tracegroupgap\":0},\"margin\":{\"t\":60},\"barmode\":\"relative\"},                        {\"responsive\": true}                    )                };                            </script>        </div>\n",
       "</body>\n",
       "</html>"
      ]
     },
     "metadata": {
      "application/vnd.databricks.v1+output": {
       "addedWidgets": {},
       "arguments": {},
       "data": "<html>\n<head><meta charset=\"utf-8\" /></head>\n<body>\n    <div>            <script src=\"https://cdnjs.cloudflare.com/ajax/libs/mathjax/2.7.5/MathJax.js?config=TeX-AMS-MML_SVG\"></script><script type=\"text/javascript\">if (window.MathJax) {MathJax.Hub.Config({SVG: {font: \"STIX-Web\"}});}</script>                <script type=\"text/javascript\">window.PlotlyConfig = {MathJaxConfig: 'local'};</script>\n        <script src=\"https://cdn.plot.ly/plotly-2.9.0.min.js\"></script>                <div id=\"f09d00a7-8ce8-4506-ab9d-f32fcbfb5da2\" class=\"plotly-graph-div\" style=\"height:100%; width:100%;\"></div>            <script type=\"text/javascript\">                                    window.PLOTLYENV=window.PLOTLYENV || {};                                    if (document.getElementById(\"f09d00a7-8ce8-4506-ab9d-f32fcbfb5da2\")) {                    Plotly.newPlot(                        \"f09d00a7-8ce8-4506-ab9d-f32fcbfb5da2\",                        [{\"alignmentgroup\":\"True\",\"hovertemplate\":\"uf_busca=%{x}<br>mensalidade=%{y}<extra></extra>\",\"legendgroup\":\"\",\"marker\":{\"color\":\"#636efa\",\"pattern\":{\"shape\":\"\"}},\"name\":\"\",\"offsetgroup\":\"\",\"orientation\":\"v\",\"showlegend\":false,\"textposition\":\"auto\",\"x\":[\"AC\",\"RJ\",\"PA\",\"SP\",\"MA\",\"MG\",\"PB\",\"PR\",\"RO\",\"ES\"],\"xaxis\":\"x\",\"y\":[9774.34,9123.07,8608.54,8477.466666666667,8381.375,7712.5,7512.7,7174.275,7009.97,6113.0],\"yaxis\":\"y\",\"type\":\"bar\"}],                        {\"template\":{\"data\":{\"bar\":[{\"error_x\":{\"color\":\"#2a3f5f\"},\"error_y\":{\"color\":\"#2a3f5f\"},\"marker\":{\"line\":{\"color\":\"#E5ECF6\",\"width\":0.5},\"pattern\":{\"fillmode\":\"overlay\",\"size\":10,\"solidity\":0.2}},\"type\":\"bar\"}],\"barpolar\":[{\"marker\":{\"line\":{\"color\":\"#E5ECF6\",\"width\":0.5},\"pattern\":{\"fillmode\":\"overlay\",\"size\":10,\"solidity\":0.2}},\"type\":\"barpolar\"}],\"carpet\":[{\"aaxis\":{\"endlinecolor\":\"#2a3f5f\",\"gridcolor\":\"white\",\"linecolor\":\"white\",\"minorgridcolor\":\"white\",\"startlinecolor\":\"#2a3f5f\"},\"baxis\":{\"endlinecolor\":\"#2a3f5f\",\"gridcolor\":\"white\",\"linecolor\":\"white\",\"minorgridcolor\":\"white\",\"startlinecolor\":\"#2a3f5f\"},\"type\":\"carpet\"}],\"choropleth\":[{\"colorbar\":{\"outlinewidth\":0,\"ticks\":\"\"},\"type\":\"choropleth\"}],\"contour\":[{\"colorbar\":{\"outlinewidth\":0,\"ticks\":\"\"},\"colorscale\":[[0.0,\"#0d0887\"],[0.1111111111111111,\"#46039f\"],[0.2222222222222222,\"#7201a8\"],[0.3333333333333333,\"#9c179e\"],[0.4444444444444444,\"#bd3786\"],[0.5555555555555556,\"#d8576b\"],[0.6666666666666666,\"#ed7953\"],[0.7777777777777778,\"#fb9f3a\"],[0.8888888888888888,\"#fdca26\"],[1.0,\"#f0f921\"]],\"type\":\"contour\"}],\"contourcarpet\":[{\"colorbar\":{\"outlinewidth\":0,\"ticks\":\"\"},\"type\":\"contourcarpet\"}],\"heatmap\":[{\"colorbar\":{\"outlinewidth\":0,\"ticks\":\"\"},\"colorscale\":[[0.0,\"#0d0887\"],[0.1111111111111111,\"#46039f\"],[0.2222222222222222,\"#7201a8\"],[0.3333333333333333,\"#9c179e\"],[0.4444444444444444,\"#bd3786\"],[0.5555555555555556,\"#d8576b\"],[0.6666666666666666,\"#ed7953\"],[0.7777777777777778,\"#fb9f3a\"],[0.8888888888888888,\"#fdca26\"],[1.0,\"#f0f921\"]],\"type\":\"heatmap\"}],\"heatmapgl\":[{\"colorbar\":{\"outlinewidth\":0,\"ticks\":\"\"},\"colorscale\":[[0.0,\"#0d0887\"],[0.1111111111111111,\"#46039f\"],[0.2222222222222222,\"#7201a8\"],[0.3333333333333333,\"#9c179e\"],[0.4444444444444444,\"#bd3786\"],[0.5555555555555556,\"#d8576b\"],[0.6666666666666666,\"#ed7953\"],[0.7777777777777778,\"#fb9f3a\"],[0.8888888888888888,\"#fdca26\"],[1.0,\"#f0f921\"]],\"type\":\"heatmapgl\"}],\"histogram\":[{\"marker\":{\"pattern\":{\"fillmode\":\"overlay\",\"size\":10,\"solidity\":0.2}},\"type\":\"histogram\"}],\"histogram2d\":[{\"colorbar\":{\"outlinewidth\":0,\"ticks\":\"\"},\"colorscale\":[[0.0,\"#0d0887\"],[0.1111111111111111,\"#46039f\"],[0.2222222222222222,\"#7201a8\"],[0.3333333333333333,\"#9c179e\"],[0.4444444444444444,\"#bd3786\"],[0.5555555555555556,\"#d8576b\"],[0.6666666666666666,\"#ed7953\"],[0.7777777777777778,\"#fb9f3a\"],[0.8888888888888888,\"#fdca26\"],[1.0,\"#f0f921\"]],\"type\":\"histogram2d\"}],\"histogram2dcontour\":[{\"colorbar\":{\"outlinewidth\":0,\"ticks\":\"\"},\"colorscale\":[[0.0,\"#0d0887\"],[0.1111111111111111,\"#46039f\"],[0.2222222222222222,\"#7201a8\"],[0.3333333333333333,\"#9c179e\"],[0.4444444444444444,\"#bd3786\"],[0.5555555555555556,\"#d8576b\"],[0.6666666666666666,\"#ed7953\"],[0.7777777777777778,\"#fb9f3a\"],[0.8888888888888888,\"#fdca26\"],[1.0,\"#f0f921\"]],\"type\":\"histogram2dcontour\"}],\"mesh3d\":[{\"colorbar\":{\"outlinewidth\":0,\"ticks\":\"\"},\"type\":\"mesh3d\"}],\"parcoords\":[{\"line\":{\"colorbar\":{\"outlinewidth\":0,\"ticks\":\"\"}},\"type\":\"parcoords\"}],\"pie\":[{\"automargin\":true,\"type\":\"pie\"}],\"scatter\":[{\"marker\":{\"colorbar\":{\"outlinewidth\":0,\"ticks\":\"\"}},\"type\":\"scatter\"}],\"scatter3d\":[{\"line\":{\"colorbar\":{\"outlinewidth\":0,\"ticks\":\"\"}},\"marker\":{\"colorbar\":{\"outlinewidth\":0,\"ticks\":\"\"}},\"type\":\"scatter3d\"}],\"scattercarpet\":[{\"marker\":{\"colorbar\":{\"outlinewidth\":0,\"ticks\":\"\"}},\"type\":\"scattercarpet\"}],\"scattergeo\":[{\"marker\":{\"colorbar\":{\"outlinewidth\":0,\"ticks\":\"\"}},\"type\":\"scattergeo\"}],\"scattergl\":[{\"marker\":{\"colorbar\":{\"outlinewidth\":0,\"ticks\":\"\"}},\"type\":\"scattergl\"}],\"scattermapbox\":[{\"marker\":{\"colorbar\":{\"outlinewidth\":0,\"ticks\":\"\"}},\"type\":\"scattermapbox\"}],\"scatterpolar\":[{\"marker\":{\"colorbar\":{\"outlinewidth\":0,\"ticks\":\"\"}},\"type\":\"scatterpolar\"}],\"scatterpolargl\":[{\"marker\":{\"colorbar\":{\"outlinewidth\":0,\"ticks\":\"\"}},\"type\":\"scatterpolargl\"}],\"scatterternary\":[{\"marker\":{\"colorbar\":{\"outlinewidth\":0,\"ticks\":\"\"}},\"type\":\"scatterternary\"}],\"surface\":[{\"colorbar\":{\"outlinewidth\":0,\"ticks\":\"\"},\"colorscale\":[[0.0,\"#0d0887\"],[0.1111111111111111,\"#46039f\"],[0.2222222222222222,\"#7201a8\"],[0.3333333333333333,\"#9c179e\"],[0.4444444444444444,\"#bd3786\"],[0.5555555555555556,\"#d8576b\"],[0.6666666666666666,\"#ed7953\"],[0.7777777777777778,\"#fb9f3a\"],[0.8888888888888888,\"#fdca26\"],[1.0,\"#f0f921\"]],\"type\":\"surface\"}],\"table\":[{\"cells\":{\"fill\":{\"color\":\"#EBF0F8\"},\"line\":{\"color\":\"white\"}},\"header\":{\"fill\":{\"color\":\"#C8D4E3\"},\"line\":{\"color\":\"white\"}},\"type\":\"table\"}]},\"layout\":{\"annotationdefaults\":{\"arrowcolor\":\"#2a3f5f\",\"arrowhead\":0,\"arrowwidth\":1},\"autotypenumbers\":\"strict\",\"coloraxis\":{\"colorbar\":{\"outlinewidth\":0,\"ticks\":\"\"}},\"colorscale\":{\"diverging\":[[0,\"#8e0152\"],[0.1,\"#c51b7d\"],[0.2,\"#de77ae\"],[0.3,\"#f1b6da\"],[0.4,\"#fde0ef\"],[0.5,\"#f7f7f7\"],[0.6,\"#e6f5d0\"],[0.7,\"#b8e186\"],[0.8,\"#7fbc41\"],[0.9,\"#4d9221\"],[1,\"#276419\"]],\"sequential\":[[0.0,\"#0d0887\"],[0.1111111111111111,\"#46039f\"],[0.2222222222222222,\"#7201a8\"],[0.3333333333333333,\"#9c179e\"],[0.4444444444444444,\"#bd3786\"],[0.5555555555555556,\"#d8576b\"],[0.6666666666666666,\"#ed7953\"],[0.7777777777777778,\"#fb9f3a\"],[0.8888888888888888,\"#fdca26\"],[1.0,\"#f0f921\"]],\"sequentialminus\":[[0.0,\"#0d0887\"],[0.1111111111111111,\"#46039f\"],[0.2222222222222222,\"#7201a8\"],[0.3333333333333333,\"#9c179e\"],[0.4444444444444444,\"#bd3786\"],[0.5555555555555556,\"#d8576b\"],[0.6666666666666666,\"#ed7953\"],[0.7777777777777778,\"#fb9f3a\"],[0.8888888888888888,\"#fdca26\"],[1.0,\"#f0f921\"]]},\"colorway\":[\"#636efa\",\"#EF553B\",\"#00cc96\",\"#ab63fa\",\"#FFA15A\",\"#19d3f3\",\"#FF6692\",\"#B6E880\",\"#FF97FF\",\"#FECB52\"],\"font\":{\"color\":\"#2a3f5f\"},\"geo\":{\"bgcolor\":\"white\",\"lakecolor\":\"white\",\"landcolor\":\"#E5ECF6\",\"showlakes\":true,\"showland\":true,\"subunitcolor\":\"white\"},\"hoverlabel\":{\"align\":\"left\"},\"hovermode\":\"closest\",\"mapbox\":{\"style\":\"light\"},\"paper_bgcolor\":\"white\",\"plot_bgcolor\":\"#E5ECF6\",\"polar\":{\"angularaxis\":{\"gridcolor\":\"white\",\"linecolor\":\"white\",\"ticks\":\"\"},\"bgcolor\":\"#E5ECF6\",\"radialaxis\":{\"gridcolor\":\"white\",\"linecolor\":\"white\",\"ticks\":\"\"}},\"scene\":{\"xaxis\":{\"backgroundcolor\":\"#E5ECF6\",\"gridcolor\":\"white\",\"gridwidth\":2,\"linecolor\":\"white\",\"showbackground\":true,\"ticks\":\"\",\"zerolinecolor\":\"white\"},\"yaxis\":{\"backgroundcolor\":\"#E5ECF6\",\"gridcolor\":\"white\",\"gridwidth\":2,\"linecolor\":\"white\",\"showbackground\":true,\"ticks\":\"\",\"zerolinecolor\":\"white\"},\"zaxis\":{\"backgroundcolor\":\"#E5ECF6\",\"gridcolor\":\"white\",\"gridwidth\":2,\"linecolor\":\"white\",\"showbackground\":true,\"ticks\":\"\",\"zerolinecolor\":\"white\"}},\"shapedefaults\":{\"line\":{\"color\":\"#2a3f5f\"}},\"ternary\":{\"aaxis\":{\"gridcolor\":\"white\",\"linecolor\":\"white\",\"ticks\":\"\"},\"baxis\":{\"gridcolor\":\"white\",\"linecolor\":\"white\",\"ticks\":\"\"},\"bgcolor\":\"#E5ECF6\",\"caxis\":{\"gridcolor\":\"white\",\"linecolor\":\"white\",\"ticks\":\"\"}},\"title\":{\"x\":0.05},\"xaxis\":{\"automargin\":true,\"gridcolor\":\"white\",\"linecolor\":\"white\",\"ticks\":\"\",\"title\":{\"standoff\":15},\"zerolinecolor\":\"white\",\"zerolinewidth\":2},\"yaxis\":{\"automargin\":true,\"gridcolor\":\"white\",\"linecolor\":\"white\",\"ticks\":\"\",\"title\":{\"standoff\":15},\"zerolinecolor\":\"white\",\"zerolinewidth\":2}}},\"xaxis\":{\"anchor\":\"y\",\"domain\":[0.0,1.0],\"title\":{\"text\":\"uf_busca\"}},\"yaxis\":{\"anchor\":\"x\",\"domain\":[0.0,1.0],\"title\":{\"text\":\"mensalidade\"}},\"legend\":{\"tracegroupgap\":0},\"margin\":{\"t\":60},\"barmode\":\"relative\"},                        {\"responsive\": true}                    )                };                            </script>        </div>\n</body>\n</html>",
       "datasetInfos": [],
       "metadata": {},
       "removedWidgets": [],
       "textData": null,
       "type": "htmlSandbox"
      }
     },
     "output_type": "display_data"
    }
   ],
   "source": [
    "# grafico de barras\n",
    "\n",
    "df_agrupado.plot.bar(x='uf_busca',y='mensalidade')"
   ]
  },
  {
   "cell_type": "markdown",
   "metadata": {
    "application/vnd.databricks.v1+cell": {
     "cellMetadata": {
      "byteLimit": 2048000,
      "rowLimit": 10000
     },
     "inputWidgets": {},
     "nuid": "07ef5505-aca9-4eab-9591-4c491b2405a9",
     "showTitle": false,
     "tableResultSettingsMap": {},
     "title": ""
    }
   },
   "source": [
    "no pandas api é utilizado a biblioteca plotly por padrão para os gráficos"
   ]
  },
  {
   "cell_type": "markdown",
   "metadata": {
    "application/vnd.databricks.v1+cell": {
     "cellMetadata": {
      "byteLimit": 2048000,
      "rowLimit": 10000
     },
     "inputWidgets": {},
     "nuid": "104f4dc4-a0f1-47a6-96d7-ee9fcbe2039c",
     "showTitle": false,
     "tableResultSettingsMap": {},
     "title": ""
    }
   },
   "source": [
    "# SQL"
   ]
  },
  {
   "cell_type": "markdown",
   "metadata": {
    "application/vnd.databricks.v1+cell": {
     "cellMetadata": {
      "byteLimit": 2048000,
      "rowLimit": 10000
     },
     "inputWidgets": {},
     "nuid": "73931cf0-0624-47ca-820e-1481466d5ce2",
     "showTitle": false,
     "tableResultSettingsMap": {},
     "title": ""
    }
   },
   "source": [
    "Qual é o número total de bolsas por estado?"
   ]
  },
  {
   "cell_type": "code",
   "execution_count": 0,
   "metadata": {
    "application/vnd.databricks.v1+cell": {
     "cellMetadata": {
      "byteLimit": 2048000,
      "rowLimit": 10000
     },
     "inputWidgets": {},
     "nuid": "3e8111b7-ca8a-4c3b-adb1-ccad2559a1ee",
     "showTitle": false,
     "tableResultSettingsMap": {},
     "title": ""
    }
   },
   "outputs": [
    {
     "output_type": "display_data",
     "data": {
      "text/html": [
       "<div>\n",
       "<style scoped>\n",
       "    .dataframe tbody tr th:only-of-type {\n",
       "        vertical-align: middle;\n",
       "    }\n",
       "\n",
       "    .dataframe tbody tr th {\n",
       "        vertical-align: top;\n",
       "    }\n",
       "\n",
       "    .dataframe thead th {\n",
       "        text-align: right;\n",
       "    }\n",
       "</style>\n",
       "<table border=\"1\" class=\"dataframe\">\n",
       "  <thead>\n",
       "    <tr style=\"text-align: right;\">\n",
       "      <th></th>\n",
       "      <th>bolsa_integral_cotas</th>\n",
       "      <th>uf_busca</th>\n",
       "    </tr>\n",
       "  </thead>\n",
       "  <tbody>\n",
       "    <tr>\n",
       "      <th>0</th>\n",
       "      <td>2</td>\n",
       "      <td>SP</td>\n",
       "    </tr>\n",
       "    <tr>\n",
       "      <th>1</th>\n",
       "      <td>2</td>\n",
       "      <td>SP</td>\n",
       "    </tr>\n",
       "    <tr>\n",
       "      <th>2</th>\n",
       "      <td>4</td>\n",
       "      <td>RO</td>\n",
       "    </tr>\n",
       "    <tr>\n",
       "      <th>3</th>\n",
       "      <td>1</td>\n",
       "      <td>PR</td>\n",
       "    </tr>\n",
       "    <tr>\n",
       "      <th>4</th>\n",
       "      <td>4</td>\n",
       "      <td>RJ</td>\n",
       "    </tr>\n",
       "  </tbody>\n",
       "</table>\n",
       "</div>"
      ]
     },
     "metadata": {
      "application/vnd.databricks.v1+output": {
       "addedWidgets": {},
       "arguments": {},
       "data": "<div>\n<style scoped>\n    .dataframe tbody tr th:only-of-type {\n        vertical-align: middle;\n    }\n\n    .dataframe tbody tr th {\n        vertical-align: top;\n    }\n\n    .dataframe thead th {\n        text-align: right;\n    }\n</style>\n<table border=\"1\" class=\"dataframe\">\n  <thead>\n    <tr style=\"text-align: right;\">\n      <th></th>\n      <th>bolsa_integral_cotas</th>\n      <th>uf_busca</th>\n    </tr>\n  </thead>\n  <tbody>\n    <tr>\n      <th>0</th>\n      <td>2</td>\n      <td>SP</td>\n    </tr>\n    <tr>\n      <th>1</th>\n      <td>2</td>\n      <td>SP</td>\n    </tr>\n    <tr>\n      <th>2</th>\n      <td>4</td>\n      <td>RO</td>\n    </tr>\n    <tr>\n      <th>3</th>\n      <td>1</td>\n      <td>PR</td>\n    </tr>\n    <tr>\n      <th>4</th>\n      <td>4</td>\n      <td>RJ</td>\n    </tr>\n  </tbody>\n</table>\n</div>",
       "datasetInfos": [],
       "metadata": {},
       "removedWidgets": [],
       "textData": null,
       "type": "htmlSandbox"
      }
     },
     "output_type": "display_data"
    }
   ],
   "source": [
    "# bolsas integrais por estado\n",
    "\n",
    "ps.sql('''\n",
    "SELECT bolsa_integral_cotas, uf_busca\n",
    "FROM {DF}\n",
    "WHERE nome_curso = 'Medicina'\n",
    "LIMIT 5\n",
    "''', DF=df)"
   ]
  },
  {
   "cell_type": "code",
   "execution_count": 0,
   "metadata": {
    "application/vnd.databricks.v1+cell": {
     "cellMetadata": {
      "byteLimit": 2048000,
      "rowLimit": 10000
     },
     "inputWidgets": {},
     "nuid": "b8071425-83f9-4675-85eb-11a23e6ff4b5",
     "showTitle": false,
     "tableResultSettingsMap": {},
     "title": ""
    }
   },
   "outputs": [
    {
     "output_type": "display_data",
     "data": {
      "text/html": [
       "<div>\n",
       "<style scoped>\n",
       "    .dataframe tbody tr th:only-of-type {\n",
       "        vertical-align: middle;\n",
       "    }\n",
       "\n",
       "    .dataframe tbody tr th {\n",
       "        vertical-align: top;\n",
       "    }\n",
       "\n",
       "    .dataframe thead th {\n",
       "        text-align: right;\n",
       "    }\n",
       "</style>\n",
       "<table border=\"1\" class=\"dataframe\">\n",
       "  <thead>\n",
       "    <tr style=\"text-align: right;\">\n",
       "      <th></th>\n",
       "      <th>uf_busca</th>\n",
       "      <th>Total_de_cotas</th>\n",
       "    </tr>\n",
       "  </thead>\n",
       "  <tbody>\n",
       "    <tr>\n",
       "      <th>0</th>\n",
       "      <td>PB</td>\n",
       "      <td>8</td>\n",
       "    </tr>\n",
       "    <tr>\n",
       "      <th>1</th>\n",
       "      <td>MA</td>\n",
       "      <td>7</td>\n",
       "    </tr>\n",
       "    <tr>\n",
       "      <th>2</th>\n",
       "      <td>SP</td>\n",
       "      <td>6</td>\n",
       "    </tr>\n",
       "    <tr>\n",
       "      <th>3</th>\n",
       "      <td>RO</td>\n",
       "      <td>4</td>\n",
       "    </tr>\n",
       "    <tr>\n",
       "      <th>4</th>\n",
       "      <td>RJ</td>\n",
       "      <td>4</td>\n",
       "    </tr>\n",
       "    <tr>\n",
       "      <th>5</th>\n",
       "      <td>AC</td>\n",
       "      <td>4</td>\n",
       "    </tr>\n",
       "    <tr>\n",
       "      <th>6</th>\n",
       "      <td>ES</td>\n",
       "      <td>3</td>\n",
       "    </tr>\n",
       "    <tr>\n",
       "      <th>7</th>\n",
       "      <td>MG</td>\n",
       "      <td>2</td>\n",
       "    </tr>\n",
       "    <tr>\n",
       "      <th>8</th>\n",
       "      <td>PA</td>\n",
       "      <td>2</td>\n",
       "    </tr>\n",
       "    <tr>\n",
       "      <th>9</th>\n",
       "      <td>PR</td>\n",
       "      <td>2</td>\n",
       "    </tr>\n",
       "  </tbody>\n",
       "</table>\n",
       "</div>"
      ]
     },
     "metadata": {
      "application/vnd.databricks.v1+output": {
       "addedWidgets": {},
       "arguments": {},
       "data": "<div>\n<style scoped>\n    .dataframe tbody tr th:only-of-type {\n        vertical-align: middle;\n    }\n\n    .dataframe tbody tr th {\n        vertical-align: top;\n    }\n\n    .dataframe thead th {\n        text-align: right;\n    }\n</style>\n<table border=\"1\" class=\"dataframe\">\n  <thead>\n    <tr style=\"text-align: right;\">\n      <th></th>\n      <th>uf_busca</th>\n      <th>Total_de_cotas</th>\n    </tr>\n  </thead>\n  <tbody>\n    <tr>\n      <th>0</th>\n      <td>PB</td>\n      <td>8</td>\n    </tr>\n    <tr>\n      <th>1</th>\n      <td>MA</td>\n      <td>7</td>\n    </tr>\n    <tr>\n      <th>2</th>\n      <td>SP</td>\n      <td>6</td>\n    </tr>\n    <tr>\n      <th>3</th>\n      <td>RO</td>\n      <td>4</td>\n    </tr>\n    <tr>\n      <th>4</th>\n      <td>RJ</td>\n      <td>4</td>\n    </tr>\n    <tr>\n      <th>5</th>\n      <td>AC</td>\n      <td>4</td>\n    </tr>\n    <tr>\n      <th>6</th>\n      <td>ES</td>\n      <td>3</td>\n    </tr>\n    <tr>\n      <th>7</th>\n      <td>MG</td>\n      <td>2</td>\n    </tr>\n    <tr>\n      <th>8</th>\n      <td>PA</td>\n      <td>2</td>\n    </tr>\n    <tr>\n      <th>9</th>\n      <td>PR</td>\n      <td>2</td>\n    </tr>\n  </tbody>\n</table>\n</div>",
       "datasetInfos": [],
       "metadata": {},
       "removedWidgets": [],
       "textData": null,
       "type": "htmlSandbox"
      }
     },
     "output_type": "display_data"
    }
   ],
   "source": [
    "# total de cotas ordenadas por estado\n",
    "\n",
    "cotas_ordenadas = ps.sql('''\n",
    "SELECT uf_busca, SUM(bolsa_integral_cotas) as Total_de_cotas\n",
    "FROM {DF}\n",
    "WHERE nome_curso = 'Medicina'\n",
    "GROUP BY uf_busca\n",
    "ORDER BY Total_de_cotas DESC\n",
    "''', DF=df)\n",
    "\n",
    "cotas_ordenadas"
   ]
  },
  {
   "cell_type": "code",
   "execution_count": 0,
   "metadata": {
    "application/vnd.databricks.v1+cell": {
     "cellMetadata": {
      "byteLimit": 2048000,
      "rowLimit": 10000
     },
     "inputWidgets": {},
     "nuid": "39e547d9-a285-45ed-8159-dc30582bdfda",
     "showTitle": false,
     "tableResultSettingsMap": {},
     "title": ""
    }
   },
   "outputs": [
    {
     "output_type": "display_data",
     "data": {
      "text/html": [
       "<html>\n",
       "<head><meta charset=\"utf-8\" /></head>\n",
       "<body>\n",
       "    <div>            <script src=\"https://cdnjs.cloudflare.com/ajax/libs/mathjax/2.7.5/MathJax.js?config=TeX-AMS-MML_SVG\"></script><script type=\"text/javascript\">if (window.MathJax) {MathJax.Hub.Config({SVG: {font: \"STIX-Web\"}});}</script>                <script type=\"text/javascript\">window.PlotlyConfig = {MathJaxConfig: 'local'};</script>\n",
       "        <script src=\"https://cdn.plot.ly/plotly-2.9.0.min.js\"></script>                <div id=\"a53dd5e6-703e-455b-b3ca-5ce33e8e0672\" class=\"plotly-graph-div\" style=\"height:100%; width:100%;\"></div>            <script type=\"text/javascript\">                                    window.PLOTLYENV=window.PLOTLYENV || {};                                    if (document.getElementById(\"a53dd5e6-703e-455b-b3ca-5ce33e8e0672\")) {                    Plotly.newPlot(                        \"a53dd5e6-703e-455b-b3ca-5ce33e8e0672\",                        [{\"alignmentgroup\":\"True\",\"hovertemplate\":\"uf_busca=%{x}<br>Total_de_cotas=%{y}<extra></extra>\",\"legendgroup\":\"\",\"marker\":{\"color\":\"#636efa\",\"pattern\":{\"shape\":\"\"}},\"name\":\"\",\"offsetgroup\":\"\",\"orientation\":\"v\",\"showlegend\":false,\"textposition\":\"auto\",\"x\":[\"PB\",\"MA\",\"SP\",\"RO\",\"RJ\",\"AC\",\"ES\",\"MG\",\"PA\",\"PR\"],\"xaxis\":\"x\",\"y\":[8,7,6,4,4,4,3,2,2,2],\"yaxis\":\"y\",\"type\":\"bar\"}],                        {\"template\":{\"data\":{\"bar\":[{\"error_x\":{\"color\":\"#2a3f5f\"},\"error_y\":{\"color\":\"#2a3f5f\"},\"marker\":{\"line\":{\"color\":\"#E5ECF6\",\"width\":0.5},\"pattern\":{\"fillmode\":\"overlay\",\"size\":10,\"solidity\":0.2}},\"type\":\"bar\"}],\"barpolar\":[{\"marker\":{\"line\":{\"color\":\"#E5ECF6\",\"width\":0.5},\"pattern\":{\"fillmode\":\"overlay\",\"size\":10,\"solidity\":0.2}},\"type\":\"barpolar\"}],\"carpet\":[{\"aaxis\":{\"endlinecolor\":\"#2a3f5f\",\"gridcolor\":\"white\",\"linecolor\":\"white\",\"minorgridcolor\":\"white\",\"startlinecolor\":\"#2a3f5f\"},\"baxis\":{\"endlinecolor\":\"#2a3f5f\",\"gridcolor\":\"white\",\"linecolor\":\"white\",\"minorgridcolor\":\"white\",\"startlinecolor\":\"#2a3f5f\"},\"type\":\"carpet\"}],\"choropleth\":[{\"colorbar\":{\"outlinewidth\":0,\"ticks\":\"\"},\"type\":\"choropleth\"}],\"contour\":[{\"colorbar\":{\"outlinewidth\":0,\"ticks\":\"\"},\"colorscale\":[[0.0,\"#0d0887\"],[0.1111111111111111,\"#46039f\"],[0.2222222222222222,\"#7201a8\"],[0.3333333333333333,\"#9c179e\"],[0.4444444444444444,\"#bd3786\"],[0.5555555555555556,\"#d8576b\"],[0.6666666666666666,\"#ed7953\"],[0.7777777777777778,\"#fb9f3a\"],[0.8888888888888888,\"#fdca26\"],[1.0,\"#f0f921\"]],\"type\":\"contour\"}],\"contourcarpet\":[{\"colorbar\":{\"outlinewidth\":0,\"ticks\":\"\"},\"type\":\"contourcarpet\"}],\"heatmap\":[{\"colorbar\":{\"outlinewidth\":0,\"ticks\":\"\"},\"colorscale\":[[0.0,\"#0d0887\"],[0.1111111111111111,\"#46039f\"],[0.2222222222222222,\"#7201a8\"],[0.3333333333333333,\"#9c179e\"],[0.4444444444444444,\"#bd3786\"],[0.5555555555555556,\"#d8576b\"],[0.6666666666666666,\"#ed7953\"],[0.7777777777777778,\"#fb9f3a\"],[0.8888888888888888,\"#fdca26\"],[1.0,\"#f0f921\"]],\"type\":\"heatmap\"}],\"heatmapgl\":[{\"colorbar\":{\"outlinewidth\":0,\"ticks\":\"\"},\"colorscale\":[[0.0,\"#0d0887\"],[0.1111111111111111,\"#46039f\"],[0.2222222222222222,\"#7201a8\"],[0.3333333333333333,\"#9c179e\"],[0.4444444444444444,\"#bd3786\"],[0.5555555555555556,\"#d8576b\"],[0.6666666666666666,\"#ed7953\"],[0.7777777777777778,\"#fb9f3a\"],[0.8888888888888888,\"#fdca26\"],[1.0,\"#f0f921\"]],\"type\":\"heatmapgl\"}],\"histogram\":[{\"marker\":{\"pattern\":{\"fillmode\":\"overlay\",\"size\":10,\"solidity\":0.2}},\"type\":\"histogram\"}],\"histogram2d\":[{\"colorbar\":{\"outlinewidth\":0,\"ticks\":\"\"},\"colorscale\":[[0.0,\"#0d0887\"],[0.1111111111111111,\"#46039f\"],[0.2222222222222222,\"#7201a8\"],[0.3333333333333333,\"#9c179e\"],[0.4444444444444444,\"#bd3786\"],[0.5555555555555556,\"#d8576b\"],[0.6666666666666666,\"#ed7953\"],[0.7777777777777778,\"#fb9f3a\"],[0.8888888888888888,\"#fdca26\"],[1.0,\"#f0f921\"]],\"type\":\"histogram2d\"}],\"histogram2dcontour\":[{\"colorbar\":{\"outlinewidth\":0,\"ticks\":\"\"},\"colorscale\":[[0.0,\"#0d0887\"],[0.1111111111111111,\"#46039f\"],[0.2222222222222222,\"#7201a8\"],[0.3333333333333333,\"#9c179e\"],[0.4444444444444444,\"#bd3786\"],[0.5555555555555556,\"#d8576b\"],[0.6666666666666666,\"#ed7953\"],[0.7777777777777778,\"#fb9f3a\"],[0.8888888888888888,\"#fdca26\"],[1.0,\"#f0f921\"]],\"type\":\"histogram2dcontour\"}],\"mesh3d\":[{\"colorbar\":{\"outlinewidth\":0,\"ticks\":\"\"},\"type\":\"mesh3d\"}],\"parcoords\":[{\"line\":{\"colorbar\":{\"outlinewidth\":0,\"ticks\":\"\"}},\"type\":\"parcoords\"}],\"pie\":[{\"automargin\":true,\"type\":\"pie\"}],\"scatter\":[{\"marker\":{\"colorbar\":{\"outlinewidth\":0,\"ticks\":\"\"}},\"type\":\"scatter\"}],\"scatter3d\":[{\"line\":{\"colorbar\":{\"outlinewidth\":0,\"ticks\":\"\"}},\"marker\":{\"colorbar\":{\"outlinewidth\":0,\"ticks\":\"\"}},\"type\":\"scatter3d\"}],\"scattercarpet\":[{\"marker\":{\"colorbar\":{\"outlinewidth\":0,\"ticks\":\"\"}},\"type\":\"scattercarpet\"}],\"scattergeo\":[{\"marker\":{\"colorbar\":{\"outlinewidth\":0,\"ticks\":\"\"}},\"type\":\"scattergeo\"}],\"scattergl\":[{\"marker\":{\"colorbar\":{\"outlinewidth\":0,\"ticks\":\"\"}},\"type\":\"scattergl\"}],\"scattermapbox\":[{\"marker\":{\"colorbar\":{\"outlinewidth\":0,\"ticks\":\"\"}},\"type\":\"scattermapbox\"}],\"scatterpolar\":[{\"marker\":{\"colorbar\":{\"outlinewidth\":0,\"ticks\":\"\"}},\"type\":\"scatterpolar\"}],\"scatterpolargl\":[{\"marker\":{\"colorbar\":{\"outlinewidth\":0,\"ticks\":\"\"}},\"type\":\"scatterpolargl\"}],\"scatterternary\":[{\"marker\":{\"colorbar\":{\"outlinewidth\":0,\"ticks\":\"\"}},\"type\":\"scatterternary\"}],\"surface\":[{\"colorbar\":{\"outlinewidth\":0,\"ticks\":\"\"},\"colorscale\":[[0.0,\"#0d0887\"],[0.1111111111111111,\"#46039f\"],[0.2222222222222222,\"#7201a8\"],[0.3333333333333333,\"#9c179e\"],[0.4444444444444444,\"#bd3786\"],[0.5555555555555556,\"#d8576b\"],[0.6666666666666666,\"#ed7953\"],[0.7777777777777778,\"#fb9f3a\"],[0.8888888888888888,\"#fdca26\"],[1.0,\"#f0f921\"]],\"type\":\"surface\"}],\"table\":[{\"cells\":{\"fill\":{\"color\":\"#EBF0F8\"},\"line\":{\"color\":\"white\"}},\"header\":{\"fill\":{\"color\":\"#C8D4E3\"},\"line\":{\"color\":\"white\"}},\"type\":\"table\"}]},\"layout\":{\"annotationdefaults\":{\"arrowcolor\":\"#2a3f5f\",\"arrowhead\":0,\"arrowwidth\":1},\"autotypenumbers\":\"strict\",\"coloraxis\":{\"colorbar\":{\"outlinewidth\":0,\"ticks\":\"\"}},\"colorscale\":{\"diverging\":[[0,\"#8e0152\"],[0.1,\"#c51b7d\"],[0.2,\"#de77ae\"],[0.3,\"#f1b6da\"],[0.4,\"#fde0ef\"],[0.5,\"#f7f7f7\"],[0.6,\"#e6f5d0\"],[0.7,\"#b8e186\"],[0.8,\"#7fbc41\"],[0.9,\"#4d9221\"],[1,\"#276419\"]],\"sequential\":[[0.0,\"#0d0887\"],[0.1111111111111111,\"#46039f\"],[0.2222222222222222,\"#7201a8\"],[0.3333333333333333,\"#9c179e\"],[0.4444444444444444,\"#bd3786\"],[0.5555555555555556,\"#d8576b\"],[0.6666666666666666,\"#ed7953\"],[0.7777777777777778,\"#fb9f3a\"],[0.8888888888888888,\"#fdca26\"],[1.0,\"#f0f921\"]],\"sequentialminus\":[[0.0,\"#0d0887\"],[0.1111111111111111,\"#46039f\"],[0.2222222222222222,\"#7201a8\"],[0.3333333333333333,\"#9c179e\"],[0.4444444444444444,\"#bd3786\"],[0.5555555555555556,\"#d8576b\"],[0.6666666666666666,\"#ed7953\"],[0.7777777777777778,\"#fb9f3a\"],[0.8888888888888888,\"#fdca26\"],[1.0,\"#f0f921\"]]},\"colorway\":[\"#636efa\",\"#EF553B\",\"#00cc96\",\"#ab63fa\",\"#FFA15A\",\"#19d3f3\",\"#FF6692\",\"#B6E880\",\"#FF97FF\",\"#FECB52\"],\"font\":{\"color\":\"#2a3f5f\"},\"geo\":{\"bgcolor\":\"white\",\"lakecolor\":\"white\",\"landcolor\":\"#E5ECF6\",\"showlakes\":true,\"showland\":true,\"subunitcolor\":\"white\"},\"hoverlabel\":{\"align\":\"left\"},\"hovermode\":\"closest\",\"mapbox\":{\"style\":\"light\"},\"paper_bgcolor\":\"white\",\"plot_bgcolor\":\"#E5ECF6\",\"polar\":{\"angularaxis\":{\"gridcolor\":\"white\",\"linecolor\":\"white\",\"ticks\":\"\"},\"bgcolor\":\"#E5ECF6\",\"radialaxis\":{\"gridcolor\":\"white\",\"linecolor\":\"white\",\"ticks\":\"\"}},\"scene\":{\"xaxis\":{\"backgroundcolor\":\"#E5ECF6\",\"gridcolor\":\"white\",\"gridwidth\":2,\"linecolor\":\"white\",\"showbackground\":true,\"ticks\":\"\",\"zerolinecolor\":\"white\"},\"yaxis\":{\"backgroundcolor\":\"#E5ECF6\",\"gridcolor\":\"white\",\"gridwidth\":2,\"linecolor\":\"white\",\"showbackground\":true,\"ticks\":\"\",\"zerolinecolor\":\"white\"},\"zaxis\":{\"backgroundcolor\":\"#E5ECF6\",\"gridcolor\":\"white\",\"gridwidth\":2,\"linecolor\":\"white\",\"showbackground\":true,\"ticks\":\"\",\"zerolinecolor\":\"white\"}},\"shapedefaults\":{\"line\":{\"color\":\"#2a3f5f\"}},\"ternary\":{\"aaxis\":{\"gridcolor\":\"white\",\"linecolor\":\"white\",\"ticks\":\"\"},\"baxis\":{\"gridcolor\":\"white\",\"linecolor\":\"white\",\"ticks\":\"\"},\"bgcolor\":\"#E5ECF6\",\"caxis\":{\"gridcolor\":\"white\",\"linecolor\":\"white\",\"ticks\":\"\"}},\"title\":{\"x\":0.05},\"xaxis\":{\"automargin\":true,\"gridcolor\":\"white\",\"linecolor\":\"white\",\"ticks\":\"\",\"title\":{\"standoff\":15},\"zerolinecolor\":\"white\",\"zerolinewidth\":2},\"yaxis\":{\"automargin\":true,\"gridcolor\":\"white\",\"linecolor\":\"white\",\"ticks\":\"\",\"title\":{\"standoff\":15},\"zerolinecolor\":\"white\",\"zerolinewidth\":2}}},\"xaxis\":{\"anchor\":\"y\",\"domain\":[0.0,1.0],\"title\":{\"text\":\"uf_busca\"}},\"yaxis\":{\"anchor\":\"x\",\"domain\":[0.0,1.0],\"title\":{\"text\":\"Total_de_cotas\"}},\"legend\":{\"tracegroupgap\":0},\"margin\":{\"t\":60},\"barmode\":\"relative\"},                        {\"responsive\": true}                    )                };                            </script>        </div>\n",
       "</body>\n",
       "</html>"
      ]
     },
     "metadata": {
      "application/vnd.databricks.v1+output": {
       "addedWidgets": {},
       "arguments": {},
       "data": "<html>\n<head><meta charset=\"utf-8\" /></head>\n<body>\n    <div>            <script src=\"https://cdnjs.cloudflare.com/ajax/libs/mathjax/2.7.5/MathJax.js?config=TeX-AMS-MML_SVG\"></script><script type=\"text/javascript\">if (window.MathJax) {MathJax.Hub.Config({SVG: {font: \"STIX-Web\"}});}</script>                <script type=\"text/javascript\">window.PlotlyConfig = {MathJaxConfig: 'local'};</script>\n        <script src=\"https://cdn.plot.ly/plotly-2.9.0.min.js\"></script>                <div id=\"a53dd5e6-703e-455b-b3ca-5ce33e8e0672\" class=\"plotly-graph-div\" style=\"height:100%; width:100%;\"></div>            <script type=\"text/javascript\">                                    window.PLOTLYENV=window.PLOTLYENV || {};                                    if (document.getElementById(\"a53dd5e6-703e-455b-b3ca-5ce33e8e0672\")) {                    Plotly.newPlot(                        \"a53dd5e6-703e-455b-b3ca-5ce33e8e0672\",                        [{\"alignmentgroup\":\"True\",\"hovertemplate\":\"uf_busca=%{x}<br>Total_de_cotas=%{y}<extra></extra>\",\"legendgroup\":\"\",\"marker\":{\"color\":\"#636efa\",\"pattern\":{\"shape\":\"\"}},\"name\":\"\",\"offsetgroup\":\"\",\"orientation\":\"v\",\"showlegend\":false,\"textposition\":\"auto\",\"x\":[\"PB\",\"MA\",\"SP\",\"RO\",\"RJ\",\"AC\",\"ES\",\"MG\",\"PA\",\"PR\"],\"xaxis\":\"x\",\"y\":[8,7,6,4,4,4,3,2,2,2],\"yaxis\":\"y\",\"type\":\"bar\"}],                        {\"template\":{\"data\":{\"bar\":[{\"error_x\":{\"color\":\"#2a3f5f\"},\"error_y\":{\"color\":\"#2a3f5f\"},\"marker\":{\"line\":{\"color\":\"#E5ECF6\",\"width\":0.5},\"pattern\":{\"fillmode\":\"overlay\",\"size\":10,\"solidity\":0.2}},\"type\":\"bar\"}],\"barpolar\":[{\"marker\":{\"line\":{\"color\":\"#E5ECF6\",\"width\":0.5},\"pattern\":{\"fillmode\":\"overlay\",\"size\":10,\"solidity\":0.2}},\"type\":\"barpolar\"}],\"carpet\":[{\"aaxis\":{\"endlinecolor\":\"#2a3f5f\",\"gridcolor\":\"white\",\"linecolor\":\"white\",\"minorgridcolor\":\"white\",\"startlinecolor\":\"#2a3f5f\"},\"baxis\":{\"endlinecolor\":\"#2a3f5f\",\"gridcolor\":\"white\",\"linecolor\":\"white\",\"minorgridcolor\":\"white\",\"startlinecolor\":\"#2a3f5f\"},\"type\":\"carpet\"}],\"choropleth\":[{\"colorbar\":{\"outlinewidth\":0,\"ticks\":\"\"},\"type\":\"choropleth\"}],\"contour\":[{\"colorbar\":{\"outlinewidth\":0,\"ticks\":\"\"},\"colorscale\":[[0.0,\"#0d0887\"],[0.1111111111111111,\"#46039f\"],[0.2222222222222222,\"#7201a8\"],[0.3333333333333333,\"#9c179e\"],[0.4444444444444444,\"#bd3786\"],[0.5555555555555556,\"#d8576b\"],[0.6666666666666666,\"#ed7953\"],[0.7777777777777778,\"#fb9f3a\"],[0.8888888888888888,\"#fdca26\"],[1.0,\"#f0f921\"]],\"type\":\"contour\"}],\"contourcarpet\":[{\"colorbar\":{\"outlinewidth\":0,\"ticks\":\"\"},\"type\":\"contourcarpet\"}],\"heatmap\":[{\"colorbar\":{\"outlinewidth\":0,\"ticks\":\"\"},\"colorscale\":[[0.0,\"#0d0887\"],[0.1111111111111111,\"#46039f\"],[0.2222222222222222,\"#7201a8\"],[0.3333333333333333,\"#9c179e\"],[0.4444444444444444,\"#bd3786\"],[0.5555555555555556,\"#d8576b\"],[0.6666666666666666,\"#ed7953\"],[0.7777777777777778,\"#fb9f3a\"],[0.8888888888888888,\"#fdca26\"],[1.0,\"#f0f921\"]],\"type\":\"heatmap\"}],\"heatmapgl\":[{\"colorbar\":{\"outlinewidth\":0,\"ticks\":\"\"},\"colorscale\":[[0.0,\"#0d0887\"],[0.1111111111111111,\"#46039f\"],[0.2222222222222222,\"#7201a8\"],[0.3333333333333333,\"#9c179e\"],[0.4444444444444444,\"#bd3786\"],[0.5555555555555556,\"#d8576b\"],[0.6666666666666666,\"#ed7953\"],[0.7777777777777778,\"#fb9f3a\"],[0.8888888888888888,\"#fdca26\"],[1.0,\"#f0f921\"]],\"type\":\"heatmapgl\"}],\"histogram\":[{\"marker\":{\"pattern\":{\"fillmode\":\"overlay\",\"size\":10,\"solidity\":0.2}},\"type\":\"histogram\"}],\"histogram2d\":[{\"colorbar\":{\"outlinewidth\":0,\"ticks\":\"\"},\"colorscale\":[[0.0,\"#0d0887\"],[0.1111111111111111,\"#46039f\"],[0.2222222222222222,\"#7201a8\"],[0.3333333333333333,\"#9c179e\"],[0.4444444444444444,\"#bd3786\"],[0.5555555555555556,\"#d8576b\"],[0.6666666666666666,\"#ed7953\"],[0.7777777777777778,\"#fb9f3a\"],[0.8888888888888888,\"#fdca26\"],[1.0,\"#f0f921\"]],\"type\":\"histogram2d\"}],\"histogram2dcontour\":[{\"colorbar\":{\"outlinewidth\":0,\"ticks\":\"\"},\"colorscale\":[[0.0,\"#0d0887\"],[0.1111111111111111,\"#46039f\"],[0.2222222222222222,\"#7201a8\"],[0.3333333333333333,\"#9c179e\"],[0.4444444444444444,\"#bd3786\"],[0.5555555555555556,\"#d8576b\"],[0.6666666666666666,\"#ed7953\"],[0.7777777777777778,\"#fb9f3a\"],[0.8888888888888888,\"#fdca26\"],[1.0,\"#f0f921\"]],\"type\":\"histogram2dcontour\"}],\"mesh3d\":[{\"colorbar\":{\"outlinewidth\":0,\"ticks\":\"\"},\"type\":\"mesh3d\"}],\"parcoords\":[{\"line\":{\"colorbar\":{\"outlinewidth\":0,\"ticks\":\"\"}},\"type\":\"parcoords\"}],\"pie\":[{\"automargin\":true,\"type\":\"pie\"}],\"scatter\":[{\"marker\":{\"colorbar\":{\"outlinewidth\":0,\"ticks\":\"\"}},\"type\":\"scatter\"}],\"scatter3d\":[{\"line\":{\"colorbar\":{\"outlinewidth\":0,\"ticks\":\"\"}},\"marker\":{\"colorbar\":{\"outlinewidth\":0,\"ticks\":\"\"}},\"type\":\"scatter3d\"}],\"scattercarpet\":[{\"marker\":{\"colorbar\":{\"outlinewidth\":0,\"ticks\":\"\"}},\"type\":\"scattercarpet\"}],\"scattergeo\":[{\"marker\":{\"colorbar\":{\"outlinewidth\":0,\"ticks\":\"\"}},\"type\":\"scattergeo\"}],\"scattergl\":[{\"marker\":{\"colorbar\":{\"outlinewidth\":0,\"ticks\":\"\"}},\"type\":\"scattergl\"}],\"scattermapbox\":[{\"marker\":{\"colorbar\":{\"outlinewidth\":0,\"ticks\":\"\"}},\"type\":\"scattermapbox\"}],\"scatterpolar\":[{\"marker\":{\"colorbar\":{\"outlinewidth\":0,\"ticks\":\"\"}},\"type\":\"scatterpolar\"}],\"scatterpolargl\":[{\"marker\":{\"colorbar\":{\"outlinewidth\":0,\"ticks\":\"\"}},\"type\":\"scatterpolargl\"}],\"scatterternary\":[{\"marker\":{\"colorbar\":{\"outlinewidth\":0,\"ticks\":\"\"}},\"type\":\"scatterternary\"}],\"surface\":[{\"colorbar\":{\"outlinewidth\":0,\"ticks\":\"\"},\"colorscale\":[[0.0,\"#0d0887\"],[0.1111111111111111,\"#46039f\"],[0.2222222222222222,\"#7201a8\"],[0.3333333333333333,\"#9c179e\"],[0.4444444444444444,\"#bd3786\"],[0.5555555555555556,\"#d8576b\"],[0.6666666666666666,\"#ed7953\"],[0.7777777777777778,\"#fb9f3a\"],[0.8888888888888888,\"#fdca26\"],[1.0,\"#f0f921\"]],\"type\":\"surface\"}],\"table\":[{\"cells\":{\"fill\":{\"color\":\"#EBF0F8\"},\"line\":{\"color\":\"white\"}},\"header\":{\"fill\":{\"color\":\"#C8D4E3\"},\"line\":{\"color\":\"white\"}},\"type\":\"table\"}]},\"layout\":{\"annotationdefaults\":{\"arrowcolor\":\"#2a3f5f\",\"arrowhead\":0,\"arrowwidth\":1},\"autotypenumbers\":\"strict\",\"coloraxis\":{\"colorbar\":{\"outlinewidth\":0,\"ticks\":\"\"}},\"colorscale\":{\"diverging\":[[0,\"#8e0152\"],[0.1,\"#c51b7d\"],[0.2,\"#de77ae\"],[0.3,\"#f1b6da\"],[0.4,\"#fde0ef\"],[0.5,\"#f7f7f7\"],[0.6,\"#e6f5d0\"],[0.7,\"#b8e186\"],[0.8,\"#7fbc41\"],[0.9,\"#4d9221\"],[1,\"#276419\"]],\"sequential\":[[0.0,\"#0d0887\"],[0.1111111111111111,\"#46039f\"],[0.2222222222222222,\"#7201a8\"],[0.3333333333333333,\"#9c179e\"],[0.4444444444444444,\"#bd3786\"],[0.5555555555555556,\"#d8576b\"],[0.6666666666666666,\"#ed7953\"],[0.7777777777777778,\"#fb9f3a\"],[0.8888888888888888,\"#fdca26\"],[1.0,\"#f0f921\"]],\"sequentialminus\":[[0.0,\"#0d0887\"],[0.1111111111111111,\"#46039f\"],[0.2222222222222222,\"#7201a8\"],[0.3333333333333333,\"#9c179e\"],[0.4444444444444444,\"#bd3786\"],[0.5555555555555556,\"#d8576b\"],[0.6666666666666666,\"#ed7953\"],[0.7777777777777778,\"#fb9f3a\"],[0.8888888888888888,\"#fdca26\"],[1.0,\"#f0f921\"]]},\"colorway\":[\"#636efa\",\"#EF553B\",\"#00cc96\",\"#ab63fa\",\"#FFA15A\",\"#19d3f3\",\"#FF6692\",\"#B6E880\",\"#FF97FF\",\"#FECB52\"],\"font\":{\"color\":\"#2a3f5f\"},\"geo\":{\"bgcolor\":\"white\",\"lakecolor\":\"white\",\"landcolor\":\"#E5ECF6\",\"showlakes\":true,\"showland\":true,\"subunitcolor\":\"white\"},\"hoverlabel\":{\"align\":\"left\"},\"hovermode\":\"closest\",\"mapbox\":{\"style\":\"light\"},\"paper_bgcolor\":\"white\",\"plot_bgcolor\":\"#E5ECF6\",\"polar\":{\"angularaxis\":{\"gridcolor\":\"white\",\"linecolor\":\"white\",\"ticks\":\"\"},\"bgcolor\":\"#E5ECF6\",\"radialaxis\":{\"gridcolor\":\"white\",\"linecolor\":\"white\",\"ticks\":\"\"}},\"scene\":{\"xaxis\":{\"backgroundcolor\":\"#E5ECF6\",\"gridcolor\":\"white\",\"gridwidth\":2,\"linecolor\":\"white\",\"showbackground\":true,\"ticks\":\"\",\"zerolinecolor\":\"white\"},\"yaxis\":{\"backgroundcolor\":\"#E5ECF6\",\"gridcolor\":\"white\",\"gridwidth\":2,\"linecolor\":\"white\",\"showbackground\":true,\"ticks\":\"\",\"zerolinecolor\":\"white\"},\"zaxis\":{\"backgroundcolor\":\"#E5ECF6\",\"gridcolor\":\"white\",\"gridwidth\":2,\"linecolor\":\"white\",\"showbackground\":true,\"ticks\":\"\",\"zerolinecolor\":\"white\"}},\"shapedefaults\":{\"line\":{\"color\":\"#2a3f5f\"}},\"ternary\":{\"aaxis\":{\"gridcolor\":\"white\",\"linecolor\":\"white\",\"ticks\":\"\"},\"baxis\":{\"gridcolor\":\"white\",\"linecolor\":\"white\",\"ticks\":\"\"},\"bgcolor\":\"#E5ECF6\",\"caxis\":{\"gridcolor\":\"white\",\"linecolor\":\"white\",\"ticks\":\"\"}},\"title\":{\"x\":0.05},\"xaxis\":{\"automargin\":true,\"gridcolor\":\"white\",\"linecolor\":\"white\",\"ticks\":\"\",\"title\":{\"standoff\":15},\"zerolinecolor\":\"white\",\"zerolinewidth\":2},\"yaxis\":{\"automargin\":true,\"gridcolor\":\"white\",\"linecolor\":\"white\",\"ticks\":\"\",\"title\":{\"standoff\":15},\"zerolinecolor\":\"white\",\"zerolinewidth\":2}}},\"xaxis\":{\"anchor\":\"y\",\"domain\":[0.0,1.0],\"title\":{\"text\":\"uf_busca\"}},\"yaxis\":{\"anchor\":\"x\",\"domain\":[0.0,1.0],\"title\":{\"text\":\"Total_de_cotas\"}},\"legend\":{\"tracegroupgap\":0},\"margin\":{\"t\":60},\"barmode\":\"relative\"},                        {\"responsive\": true}                    )                };                            </script>        </div>\n</body>\n</html>",
       "datasetInfos": [],
       "metadata": {},
       "removedWidgets": [],
       "textData": null,
       "type": "htmlSandbox"
      }
     },
     "output_type": "display_data"
    }
   ],
   "source": [
    "# gráfico de barras\n",
    "\n",
    "cotas_ordenadas.plot.bar(x='uf_busca',y='Total_de_cotas')"
   ]
  },
  {
   "cell_type": "markdown",
   "metadata": {
    "application/vnd.databricks.v1+cell": {
     "cellMetadata": {
      "byteLimit": 2048000,
      "rowLimit": 10000
     },
     "inputWidgets": {},
     "nuid": "929ea977-c17c-44e8-9063-36e6438fb6b0",
     "showTitle": false,
     "tableResultSettingsMap": {},
     "title": ""
    }
   },
   "source": [
    "# MAP"
   ]
  },
  {
   "cell_type": "markdown",
   "metadata": {
    "application/vnd.databricks.v1+cell": {
     "cellMetadata": {
      "byteLimit": 2048000,
      "rowLimit": 10000
     },
     "inputWidgets": {},
     "nuid": "80b51e7f-e8fd-459d-b581-1964d1da7c72",
     "showTitle": false,
     "tableResultSettingsMap": {},
     "title": ""
    }
   },
   "source": [
    "Temos mais cotas em capitais de estado ou em outros municípios?"
   ]
  },
  {
   "cell_type": "code",
   "execution_count": 0,
   "metadata": {
    "application/vnd.databricks.v1+cell": {
     "cellMetadata": {
      "byteLimit": 2048000,
      "rowLimit": 10000
     },
     "inputWidgets": {},
     "nuid": "2478ca11-90c5-4535-b5ca-e397e8f00b42",
     "showTitle": false,
     "tableResultSettingsMap": {},
     "title": ""
    }
   },
   "outputs": [
    {
     "output_type": "stream",
     "name": "stdout",
     "output_type": "stream",
     "text": [
      "Out[37]: 0          Sao Luis\n1       Joao Pessoa\n2             Belem\n3         Itaperuna\n4           Vitoria\n5            Franca\n6         Sao Paulo\n7        Guarapuava\n8      Campo Mourao\n9     Montes Claros\n10       Rio Branco\n11       Imperatriz\n12       Vespasiano\n13      Porto Velho\nName: cidade_busca, dtype: object"
     ]
    }
   ],
   "source": [
    "# cidades no dataframe \n",
    "\n",
    "df_medicina['cidade_busca'].unique()"
   ]
  },
  {
   "cell_type": "code",
   "execution_count": 0,
   "metadata": {
    "application/vnd.databricks.v1+cell": {
     "cellMetadata": {
      "byteLimit": 2048000,
      "rowLimit": 10000
     },
     "inputWidgets": {},
     "nuid": "e8d20c1b-daba-426c-a460-fe839cf25bfa",
     "showTitle": false,
     "tableResultSettingsMap": {},
     "title": ""
    }
   },
   "outputs": [],
   "source": [
    "# dicionário com a categoria de cada cidade\n",
    "\n",
    "nomes_cidades = {\n",
    "\"Sao Luis\": \"Capital\",\n",
    "\"Joao Pessoa\":\"Capital\",\n",
    "\"Belem\":\"Capital\",\n",
    "\"Itaperuna\":\"Município\",\n",
    "\"Vitoria\":\"Município\",\n",
    "\"Franca\":\"Município\",\n",
    "\"Sao Paulo\":\"Capital\",\n",
    "\"Guarapuava\":\"Município\",\n",
    "\"Campo Mourao\":\"Município\",\n",
    "\"Montes Claros\":\"Município\",\n",
    "\"Rio Branco\":\"Município\",\n",
    "\"Imperatriz\":\"Município\",\n",
    "\"Vespasiano\":\"Município\",\n",
    "\"Porto Velho\": \"Município\"\n",
    "}"
   ]
  },
  {
   "cell_type": "code",
   "execution_count": 0,
   "metadata": {
    "application/vnd.databricks.v1+cell": {
     "cellMetadata": {
      "byteLimit": 2048000,
      "rowLimit": 10000
     },
     "inputWidgets": {},
     "nuid": "2682a831-0bb6-44d4-897e-de455e797c57",
     "showTitle": false,
     "tableResultSettingsMap": {},
     "title": ""
    }
   },
   "outputs": [],
   "source": [
    "# aplicar o map\n",
    "\n",
    "capitais = df_medicina['cidade_busca'].map(nomes_cidades)"
   ]
  },
  {
   "cell_type": "code",
   "execution_count": 0,
   "metadata": {
    "application/vnd.databricks.v1+cell": {
     "cellMetadata": {
      "byteLimit": 2048000,
      "rowLimit": 10000
     },
     "inputWidgets": {},
     "nuid": "c7478ff5-9be6-4e7a-ae54-61270e57b327",
     "showTitle": false,
     "tableResultSettingsMap": {},
     "title": ""
    }
   },
   "outputs": [
    {
     "output_type": "display_data",
     "data": {
      "text/html": [
       "<div>\n",
       "<style scoped>\n",
       "    .dataframe tbody tr th:only-of-type {\n",
       "        vertical-align: middle;\n",
       "    }\n",
       "\n",
       "    .dataframe tbody tr th {\n",
       "        vertical-align: top;\n",
       "    }\n",
       "\n",
       "    .dataframe thead th {\n",
       "        text-align: right;\n",
       "    }\n",
       "</style>\n",
       "<table border=\"1\" class=\"dataframe\">\n",
       "  <thead>\n",
       "    <tr style=\"text-align: right;\">\n",
       "      <th></th>\n",
       "      <th>curso_id</th>\n",
       "      <th>grau</th>\n",
       "      <th>turno</th>\n",
       "      <th>mensalidade</th>\n",
       "      <th>bolsa_integral_cotas</th>\n",
       "      <th>bolsa_integral_ampla</th>\n",
       "      <th>bolsa_parcial_cotas</th>\n",
       "      <th>bolsa_parcial_ampla</th>\n",
       "      <th>cidade_busca</th>\n",
       "      <th>uf_busca</th>\n",
       "      <th>cidade_filtro</th>\n",
       "      <th>universidade_nome</th>\n",
       "      <th>campus_nome</th>\n",
       "      <th>campus_id</th>\n",
       "      <th>nome_curso</th>\n",
       "      <th>nota_integral_ampla</th>\n",
       "      <th>nota_integral_cotas</th>\n",
       "      <th>nota_parcial_ampla</th>\n",
       "      <th>nota_parcial_cotas</th>\n",
       "    </tr>\n",
       "  </thead>\n",
       "  <tbody>\n",
       "    <tr>\n",
       "      <th>22</th>\n",
       "      <td>105596711902804</td>\n",
       "      <td>Bacharelado</td>\n",
       "      <td>Integral</td>\n",
       "      <td>8300.00</td>\n",
       "      <td>2</td>\n",
       "      <td>3</td>\n",
       "      <td>4</td>\n",
       "      <td>7</td>\n",
       "      <td>Sao Paulo</td>\n",
       "      <td>SP</td>\n",
       "      <td>MzUxNTA2MTUwMzA4</td>\n",
       "      <td>Faculdade das Américas - FAM</td>\n",
       "      <td>RUA AUGUSTA - Consolação</td>\n",
       "      <td>1055967</td>\n",
       "      <td>Medicina</td>\n",
       "      <td>735.84</td>\n",
       "      <td>724.70</td>\n",
       "      <td>738.42</td>\n",
       "      <td>723.28</td>\n",
       "    </tr>\n",
       "    <tr>\n",
       "      <th>71</th>\n",
       "      <td>65793650009334</td>\n",
       "      <td>Bacharelado</td>\n",
       "      <td>Integral</td>\n",
       "      <td>7316.79</td>\n",
       "      <td>2</td>\n",
       "      <td>3</td>\n",
       "      <td>4</td>\n",
       "      <td>8</td>\n",
       "      <td>Franca</td>\n",
       "      <td>SP</td>\n",
       "      <td>MzUwMjAxMjE2MjAw</td>\n",
       "      <td>Universidade de Franca - UNIFRAN</td>\n",
       "      <td>POLO NA SEDE - Parque Universitário</td>\n",
       "      <td>657936</td>\n",
       "      <td>Medicina</td>\n",
       "      <td>744.88</td>\n",
       "      <td>730.88</td>\n",
       "      <td>741.36</td>\n",
       "      <td>721.08</td>\n",
       "    </tr>\n",
       "    <tr>\n",
       "      <th>87</th>\n",
       "      <td>658461856524</td>\n",
       "      <td>Bacharelado</td>\n",
       "      <td>Integral</td>\n",
       "      <td>7009.97</td>\n",
       "      <td>4</td>\n",
       "      <td>3</td>\n",
       "      <td>9</td>\n",
       "      <td>5</td>\n",
       "      <td>Porto Velho</td>\n",
       "      <td>RO</td>\n",
       "      <td>MTEwMTAwMTAwMjA1</td>\n",
       "      <td>Centro Universitário São Lucas - UniSL</td>\n",
       "      <td>CAMPUS  - PORTO VELHO - AREAL - Areal</td>\n",
       "      <td>658461</td>\n",
       "      <td>Medicina</td>\n",
       "      <td>742.72</td>\n",
       "      <td>720.20</td>\n",
       "      <td>729.72</td>\n",
       "      <td>711.68</td>\n",
       "    </tr>\n",
       "    <tr>\n",
       "      <th>107</th>\n",
       "      <td>66007913994844</td>\n",
       "      <td>Bacharelado</td>\n",
       "      <td>Integral</td>\n",
       "      <td>6498.55</td>\n",
       "      <td>1</td>\n",
       "      <td>1</td>\n",
       "      <td>1</td>\n",
       "      <td>4</td>\n",
       "      <td>Guarapuava</td>\n",
       "      <td>PR</td>\n",
       "      <td>NDEwODAyOTA5NDAx</td>\n",
       "      <td>Faculdade Campo Real - CAMPO REAL</td>\n",
       "      <td>BLOCO 1 - Santa Cruz</td>\n",
       "      <td>660079</td>\n",
       "      <td>Medicina</td>\n",
       "      <td>781.20</td>\n",
       "      <td>731.04</td>\n",
       "      <td>745.06</td>\n",
       "      <td>741.00</td>\n",
       "    </tr>\n",
       "    <tr>\n",
       "      <th>10</th>\n",
       "      <td>65921511844324</td>\n",
       "      <td>Bacharelado</td>\n",
       "      <td>Integral</td>\n",
       "      <td>9123.07</td>\n",
       "      <td>4</td>\n",
       "      <td>4</td>\n",
       "      <td>5</td>\n",
       "      <td>5</td>\n",
       "      <td>Itaperuna</td>\n",
       "      <td>RJ</td>\n",
       "      <td>MzMwMTAwMTAyMjA1</td>\n",
       "      <td>Faculdade Redentor - FACREDENTOR</td>\n",
       "      <td>CAMPUS  - ITAPERUNA - PRESIDENTE COSTA E SILVA...</td>\n",
       "      <td>659215</td>\n",
       "      <td>Medicina</td>\n",
       "      <td>741.06</td>\n",
       "      <td>729.02</td>\n",
       "      <td>730.98</td>\n",
       "      <td>722.82</td>\n",
       "    </tr>\n",
       "  </tbody>\n",
       "</table>\n",
       "</div>"
      ]
     },
     "metadata": {
      "application/vnd.databricks.v1+output": {
       "addedWidgets": {},
       "arguments": {},
       "data": "<div>\n<style scoped>\n    .dataframe tbody tr th:only-of-type {\n        vertical-align: middle;\n    }\n\n    .dataframe tbody tr th {\n        vertical-align: top;\n    }\n\n    .dataframe thead th {\n        text-align: right;\n    }\n</style>\n<table border=\"1\" class=\"dataframe\">\n  <thead>\n    <tr style=\"text-align: right;\">\n      <th></th>\n      <th>curso_id</th>\n      <th>grau</th>\n      <th>turno</th>\n      <th>mensalidade</th>\n      <th>bolsa_integral_cotas</th>\n      <th>bolsa_integral_ampla</th>\n      <th>bolsa_parcial_cotas</th>\n      <th>bolsa_parcial_ampla</th>\n      <th>cidade_busca</th>\n      <th>uf_busca</th>\n      <th>cidade_filtro</th>\n      <th>universidade_nome</th>\n      <th>campus_nome</th>\n      <th>campus_id</th>\n      <th>nome_curso</th>\n      <th>nota_integral_ampla</th>\n      <th>nota_integral_cotas</th>\n      <th>nota_parcial_ampla</th>\n      <th>nota_parcial_cotas</th>\n    </tr>\n  </thead>\n  <tbody>\n    <tr>\n      <th>22</th>\n      <td>105596711902804</td>\n      <td>Bacharelado</td>\n      <td>Integral</td>\n      <td>8300.00</td>\n      <td>2</td>\n      <td>3</td>\n      <td>4</td>\n      <td>7</td>\n      <td>Sao Paulo</td>\n      <td>SP</td>\n      <td>MzUxNTA2MTUwMzA4</td>\n      <td>Faculdade das Américas - FAM</td>\n      <td>RUA AUGUSTA - Consolação</td>\n      <td>1055967</td>\n      <td>Medicina</td>\n      <td>735.84</td>\n      <td>724.70</td>\n      <td>738.42</td>\n      <td>723.28</td>\n    </tr>\n    <tr>\n      <th>71</th>\n      <td>65793650009334</td>\n      <td>Bacharelado</td>\n      <td>Integral</td>\n      <td>7316.79</td>\n      <td>2</td>\n      <td>3</td>\n      <td>4</td>\n      <td>8</td>\n      <td>Franca</td>\n      <td>SP</td>\n      <td>MzUwMjAxMjE2MjAw</td>\n      <td>Universidade de Franca - UNIFRAN</td>\n      <td>POLO NA SEDE - Parque Universitário</td>\n      <td>657936</td>\n      <td>Medicina</td>\n      <td>744.88</td>\n      <td>730.88</td>\n      <td>741.36</td>\n      <td>721.08</td>\n    </tr>\n    <tr>\n      <th>87</th>\n      <td>658461856524</td>\n      <td>Bacharelado</td>\n      <td>Integral</td>\n      <td>7009.97</td>\n      <td>4</td>\n      <td>3</td>\n      <td>9</td>\n      <td>5</td>\n      <td>Porto Velho</td>\n      <td>RO</td>\n      <td>MTEwMTAwMTAwMjA1</td>\n      <td>Centro Universitário São Lucas - UniSL</td>\n      <td>CAMPUS  - PORTO VELHO - AREAL - Areal</td>\n      <td>658461</td>\n      <td>Medicina</td>\n      <td>742.72</td>\n      <td>720.20</td>\n      <td>729.72</td>\n      <td>711.68</td>\n    </tr>\n    <tr>\n      <th>107</th>\n      <td>66007913994844</td>\n      <td>Bacharelado</td>\n      <td>Integral</td>\n      <td>6498.55</td>\n      <td>1</td>\n      <td>1</td>\n      <td>1</td>\n      <td>4</td>\n      <td>Guarapuava</td>\n      <td>PR</td>\n      <td>NDEwODAyOTA5NDAx</td>\n      <td>Faculdade Campo Real - CAMPO REAL</td>\n      <td>BLOCO 1 - Santa Cruz</td>\n      <td>660079</td>\n      <td>Medicina</td>\n      <td>781.20</td>\n      <td>731.04</td>\n      <td>745.06</td>\n      <td>741.00</td>\n    </tr>\n    <tr>\n      <th>10</th>\n      <td>65921511844324</td>\n      <td>Bacharelado</td>\n      <td>Integral</td>\n      <td>9123.07</td>\n      <td>4</td>\n      <td>4</td>\n      <td>5</td>\n      <td>5</td>\n      <td>Itaperuna</td>\n      <td>RJ</td>\n      <td>MzMwMTAwMTAyMjA1</td>\n      <td>Faculdade Redentor - FACREDENTOR</td>\n      <td>CAMPUS  - ITAPERUNA - PRESIDENTE COSTA E SILVA...</td>\n      <td>659215</td>\n      <td>Medicina</td>\n      <td>741.06</td>\n      <td>729.02</td>\n      <td>730.98</td>\n      <td>722.82</td>\n    </tr>\n  </tbody>\n</table>\n</div>",
       "datasetInfos": [],
       "metadata": {},
       "removedWidgets": [],
       "textData": null,
       "type": "htmlSandbox"
      }
     },
     "output_type": "display_data"
    }
   ],
   "source": [
    "df_medicina.head()"
   ]
  },
  {
   "cell_type": "markdown",
   "metadata": {
    "application/vnd.databricks.v1+cell": {
     "cellMetadata": {
      "byteLimit": 2048000,
      "rowLimit": 10000
     },
     "inputWidgets": {},
     "nuid": "c351284b-4e0d-4e95-8f4a-9eb66cc4a084",
     "showTitle": false,
     "tableResultSettingsMap": {},
     "title": ""
    }
   },
   "source": [
    "para inserir a series criada ao lado da coluna de cidade, utiliza-se o parametro loc=8"
   ]
  },
  {
   "cell_type": "code",
   "execution_count": 0,
   "metadata": {
    "application/vnd.databricks.v1+cell": {
     "cellMetadata": {
      "byteLimit": 2048000,
      "rowLimit": 10000
     },
     "inputWidgets": {},
     "nuid": "65ac26b9-ca6e-4f61-9260-b3bed9e00779",
     "showTitle": false,
     "tableResultSettingsMap": {},
     "title": ""
    }
   },
   "outputs": [],
   "source": [
    "# inserir a informação no dataframe \n",
    "\n",
    "df_medicina.insert(loc=8, column='tipo_cidade', value=capitais)"
   ]
  },
  {
   "cell_type": "code",
   "execution_count": 0,
   "metadata": {
    "application/vnd.databricks.v1+cell": {
     "cellMetadata": {
      "byteLimit": 2048000,
      "rowLimit": 10000
     },
     "inputWidgets": {},
     "nuid": "379f84dc-7b50-4569-991f-f5ca3811d29b",
     "showTitle": false,
     "tableResultSettingsMap": {},
     "title": ""
    }
   },
   "outputs": [
    {
     "output_type": "display_data",
     "data": {
      "text/html": [
       "<div>\n",
       "<style scoped>\n",
       "    .dataframe tbody tr th:only-of-type {\n",
       "        vertical-align: middle;\n",
       "    }\n",
       "\n",
       "    .dataframe tbody tr th {\n",
       "        vertical-align: top;\n",
       "    }\n",
       "\n",
       "    .dataframe thead th {\n",
       "        text-align: right;\n",
       "    }\n",
       "</style>\n",
       "<table border=\"1\" class=\"dataframe\">\n",
       "  <thead>\n",
       "    <tr style=\"text-align: right;\">\n",
       "      <th></th>\n",
       "      <th>curso_id</th>\n",
       "      <th>grau</th>\n",
       "      <th>turno</th>\n",
       "      <th>mensalidade</th>\n",
       "      <th>bolsa_integral_cotas</th>\n",
       "      <th>bolsa_integral_ampla</th>\n",
       "      <th>bolsa_parcial_cotas</th>\n",
       "      <th>bolsa_parcial_ampla</th>\n",
       "      <th>tipo_cidade</th>\n",
       "      <th>cidade_busca</th>\n",
       "      <th>uf_busca</th>\n",
       "      <th>cidade_filtro</th>\n",
       "      <th>universidade_nome</th>\n",
       "      <th>campus_nome</th>\n",
       "      <th>campus_id</th>\n",
       "      <th>nome_curso</th>\n",
       "      <th>nota_integral_ampla</th>\n",
       "      <th>nota_integral_cotas</th>\n",
       "      <th>nota_parcial_ampla</th>\n",
       "      <th>nota_parcial_cotas</th>\n",
       "    </tr>\n",
       "  </thead>\n",
       "  <tbody>\n",
       "    <tr>\n",
       "      <th>22</th>\n",
       "      <td>105596711902804</td>\n",
       "      <td>Bacharelado</td>\n",
       "      <td>Integral</td>\n",
       "      <td>8300.00</td>\n",
       "      <td>2</td>\n",
       "      <td>3</td>\n",
       "      <td>4</td>\n",
       "      <td>7</td>\n",
       "      <td>Capital</td>\n",
       "      <td>Sao Paulo</td>\n",
       "      <td>SP</td>\n",
       "      <td>MzUxNTA2MTUwMzA4</td>\n",
       "      <td>Faculdade das Américas - FAM</td>\n",
       "      <td>RUA AUGUSTA - Consolação</td>\n",
       "      <td>1055967</td>\n",
       "      <td>Medicina</td>\n",
       "      <td>735.84</td>\n",
       "      <td>724.70</td>\n",
       "      <td>738.42</td>\n",
       "      <td>723.28</td>\n",
       "    </tr>\n",
       "    <tr>\n",
       "      <th>71</th>\n",
       "      <td>65793650009334</td>\n",
       "      <td>Bacharelado</td>\n",
       "      <td>Integral</td>\n",
       "      <td>7316.79</td>\n",
       "      <td>2</td>\n",
       "      <td>3</td>\n",
       "      <td>4</td>\n",
       "      <td>8</td>\n",
       "      <td>Município</td>\n",
       "      <td>Franca</td>\n",
       "      <td>SP</td>\n",
       "      <td>MzUwMjAxMjE2MjAw</td>\n",
       "      <td>Universidade de Franca - UNIFRAN</td>\n",
       "      <td>POLO NA SEDE - Parque Universitário</td>\n",
       "      <td>657936</td>\n",
       "      <td>Medicina</td>\n",
       "      <td>744.88</td>\n",
       "      <td>730.88</td>\n",
       "      <td>741.36</td>\n",
       "      <td>721.08</td>\n",
       "    </tr>\n",
       "    <tr>\n",
       "      <th>87</th>\n",
       "      <td>658461856524</td>\n",
       "      <td>Bacharelado</td>\n",
       "      <td>Integral</td>\n",
       "      <td>7009.97</td>\n",
       "      <td>4</td>\n",
       "      <td>3</td>\n",
       "      <td>9</td>\n",
       "      <td>5</td>\n",
       "      <td>Município</td>\n",
       "      <td>Porto Velho</td>\n",
       "      <td>RO</td>\n",
       "      <td>MTEwMTAwMTAwMjA1</td>\n",
       "      <td>Centro Universitário São Lucas - UniSL</td>\n",
       "      <td>CAMPUS  - PORTO VELHO - AREAL - Areal</td>\n",
       "      <td>658461</td>\n",
       "      <td>Medicina</td>\n",
       "      <td>742.72</td>\n",
       "      <td>720.20</td>\n",
       "      <td>729.72</td>\n",
       "      <td>711.68</td>\n",
       "    </tr>\n",
       "    <tr>\n",
       "      <th>107</th>\n",
       "      <td>66007913994844</td>\n",
       "      <td>Bacharelado</td>\n",
       "      <td>Integral</td>\n",
       "      <td>6498.55</td>\n",
       "      <td>1</td>\n",
       "      <td>1</td>\n",
       "      <td>1</td>\n",
       "      <td>4</td>\n",
       "      <td>Município</td>\n",
       "      <td>Guarapuava</td>\n",
       "      <td>PR</td>\n",
       "      <td>NDEwODAyOTA5NDAx</td>\n",
       "      <td>Faculdade Campo Real - CAMPO REAL</td>\n",
       "      <td>BLOCO 1 - Santa Cruz</td>\n",
       "      <td>660079</td>\n",
       "      <td>Medicina</td>\n",
       "      <td>781.20</td>\n",
       "      <td>731.04</td>\n",
       "      <td>745.06</td>\n",
       "      <td>741.00</td>\n",
       "    </tr>\n",
       "    <tr>\n",
       "      <th>10</th>\n",
       "      <td>65921511844324</td>\n",
       "      <td>Bacharelado</td>\n",
       "      <td>Integral</td>\n",
       "      <td>9123.07</td>\n",
       "      <td>4</td>\n",
       "      <td>4</td>\n",
       "      <td>5</td>\n",
       "      <td>5</td>\n",
       "      <td>Município</td>\n",
       "      <td>Itaperuna</td>\n",
       "      <td>RJ</td>\n",
       "      <td>MzMwMTAwMTAyMjA1</td>\n",
       "      <td>Faculdade Redentor - FACREDENTOR</td>\n",
       "      <td>CAMPUS  - ITAPERUNA - PRESIDENTE COSTA E SILVA...</td>\n",
       "      <td>659215</td>\n",
       "      <td>Medicina</td>\n",
       "      <td>741.06</td>\n",
       "      <td>729.02</td>\n",
       "      <td>730.98</td>\n",
       "      <td>722.82</td>\n",
       "    </tr>\n",
       "  </tbody>\n",
       "</table>\n",
       "</div>"
      ]
     },
     "metadata": {
      "application/vnd.databricks.v1+output": {
       "addedWidgets": {},
       "arguments": {},
       "data": "<div>\n<style scoped>\n    .dataframe tbody tr th:only-of-type {\n        vertical-align: middle;\n    }\n\n    .dataframe tbody tr th {\n        vertical-align: top;\n    }\n\n    .dataframe thead th {\n        text-align: right;\n    }\n</style>\n<table border=\"1\" class=\"dataframe\">\n  <thead>\n    <tr style=\"text-align: right;\">\n      <th></th>\n      <th>curso_id</th>\n      <th>grau</th>\n      <th>turno</th>\n      <th>mensalidade</th>\n      <th>bolsa_integral_cotas</th>\n      <th>bolsa_integral_ampla</th>\n      <th>bolsa_parcial_cotas</th>\n      <th>bolsa_parcial_ampla</th>\n      <th>tipo_cidade</th>\n      <th>cidade_busca</th>\n      <th>uf_busca</th>\n      <th>cidade_filtro</th>\n      <th>universidade_nome</th>\n      <th>campus_nome</th>\n      <th>campus_id</th>\n      <th>nome_curso</th>\n      <th>nota_integral_ampla</th>\n      <th>nota_integral_cotas</th>\n      <th>nota_parcial_ampla</th>\n      <th>nota_parcial_cotas</th>\n    </tr>\n  </thead>\n  <tbody>\n    <tr>\n      <th>22</th>\n      <td>105596711902804</td>\n      <td>Bacharelado</td>\n      <td>Integral</td>\n      <td>8300.00</td>\n      <td>2</td>\n      <td>3</td>\n      <td>4</td>\n      <td>7</td>\n      <td>Capital</td>\n      <td>Sao Paulo</td>\n      <td>SP</td>\n      <td>MzUxNTA2MTUwMzA4</td>\n      <td>Faculdade das Américas - FAM</td>\n      <td>RUA AUGUSTA - Consolação</td>\n      <td>1055967</td>\n      <td>Medicina</td>\n      <td>735.84</td>\n      <td>724.70</td>\n      <td>738.42</td>\n      <td>723.28</td>\n    </tr>\n    <tr>\n      <th>71</th>\n      <td>65793650009334</td>\n      <td>Bacharelado</td>\n      <td>Integral</td>\n      <td>7316.79</td>\n      <td>2</td>\n      <td>3</td>\n      <td>4</td>\n      <td>8</td>\n      <td>Município</td>\n      <td>Franca</td>\n      <td>SP</td>\n      <td>MzUwMjAxMjE2MjAw</td>\n      <td>Universidade de Franca - UNIFRAN</td>\n      <td>POLO NA SEDE - Parque Universitário</td>\n      <td>657936</td>\n      <td>Medicina</td>\n      <td>744.88</td>\n      <td>730.88</td>\n      <td>741.36</td>\n      <td>721.08</td>\n    </tr>\n    <tr>\n      <th>87</th>\n      <td>658461856524</td>\n      <td>Bacharelado</td>\n      <td>Integral</td>\n      <td>7009.97</td>\n      <td>4</td>\n      <td>3</td>\n      <td>9</td>\n      <td>5</td>\n      <td>Município</td>\n      <td>Porto Velho</td>\n      <td>RO</td>\n      <td>MTEwMTAwMTAwMjA1</td>\n      <td>Centro Universitário São Lucas - UniSL</td>\n      <td>CAMPUS  - PORTO VELHO - AREAL - Areal</td>\n      <td>658461</td>\n      <td>Medicina</td>\n      <td>742.72</td>\n      <td>720.20</td>\n      <td>729.72</td>\n      <td>711.68</td>\n    </tr>\n    <tr>\n      <th>107</th>\n      <td>66007913994844</td>\n      <td>Bacharelado</td>\n      <td>Integral</td>\n      <td>6498.55</td>\n      <td>1</td>\n      <td>1</td>\n      <td>1</td>\n      <td>4</td>\n      <td>Município</td>\n      <td>Guarapuava</td>\n      <td>PR</td>\n      <td>NDEwODAyOTA5NDAx</td>\n      <td>Faculdade Campo Real - CAMPO REAL</td>\n      <td>BLOCO 1 - Santa Cruz</td>\n      <td>660079</td>\n      <td>Medicina</td>\n      <td>781.20</td>\n      <td>731.04</td>\n      <td>745.06</td>\n      <td>741.00</td>\n    </tr>\n    <tr>\n      <th>10</th>\n      <td>65921511844324</td>\n      <td>Bacharelado</td>\n      <td>Integral</td>\n      <td>9123.07</td>\n      <td>4</td>\n      <td>4</td>\n      <td>5</td>\n      <td>5</td>\n      <td>Município</td>\n      <td>Itaperuna</td>\n      <td>RJ</td>\n      <td>MzMwMTAwMTAyMjA1</td>\n      <td>Faculdade Redentor - FACREDENTOR</td>\n      <td>CAMPUS  - ITAPERUNA - PRESIDENTE COSTA E SILVA...</td>\n      <td>659215</td>\n      <td>Medicina</td>\n      <td>741.06</td>\n      <td>729.02</td>\n      <td>730.98</td>\n      <td>722.82</td>\n    </tr>\n  </tbody>\n</table>\n</div>",
       "datasetInfos": [],
       "metadata": {},
       "removedWidgets": [],
       "textData": null,
       "type": "htmlSandbox"
      }
     },
     "output_type": "display_data"
    }
   ],
   "source": [
    "df_medicina.head()"
   ]
  },
  {
   "cell_type": "code",
   "execution_count": 0,
   "metadata": {
    "application/vnd.databricks.v1+cell": {
     "cellMetadata": {
      "byteLimit": 2048000,
      "rowLimit": 10000
     },
     "inputWidgets": {},
     "nuid": "e3535991-ce0c-48c6-b4a8-897797b85f68",
     "showTitle": false,
     "tableResultSettingsMap": {},
     "title": ""
    }
   },
   "outputs": [
    {
     "output_type": "display_data",
     "data": {
      "text/html": [
       "<html>\n",
       "<head><meta charset=\"utf-8\" /></head>\n",
       "<body>\n",
       "    <div>            <script src=\"https://cdnjs.cloudflare.com/ajax/libs/mathjax/2.7.5/MathJax.js?config=TeX-AMS-MML_SVG\"></script><script type=\"text/javascript\">if (window.MathJax) {MathJax.Hub.Config({SVG: {font: \"STIX-Web\"}});}</script>                <script type=\"text/javascript\">window.PlotlyConfig = {MathJaxConfig: 'local'};</script>\n",
       "        <script src=\"https://cdn.plot.ly/plotly-2.9.0.min.js\"></script>                <div id=\"58ed3d3c-d921-480f-8844-b2bafc38b6dc\" class=\"plotly-graph-div\" style=\"height:100%; width:100%;\"></div>            <script type=\"text/javascript\">                                    window.PLOTLYENV=window.PLOTLYENV || {};                                    if (document.getElementById(\"58ed3d3c-d921-480f-8844-b2bafc38b6dc\")) {                    Plotly.newPlot(                        \"58ed3d3c-d921-480f-8844-b2bafc38b6dc\",                        [{\"alignmentgroup\":\"True\",\"hovertemplate\":\"tipo_cidade=%{x}<br>Total_de_cotas=%{y}<extra></extra>\",\"legendgroup\":\"\",\"marker\":{\"color\":\"#636efa\",\"pattern\":{\"shape\":\"\"}},\"name\":\"\",\"offsetgroup\":\"\",\"orientation\":\"v\",\"showlegend\":false,\"textposition\":\"auto\",\"x\":[\"Munic\\u00edpio\",\"Capital\"],\"xaxis\":\"x\",\"y\":[24,18],\"yaxis\":\"y\",\"type\":\"bar\"}],                        {\"template\":{\"data\":{\"bar\":[{\"error_x\":{\"color\":\"#2a3f5f\"},\"error_y\":{\"color\":\"#2a3f5f\"},\"marker\":{\"line\":{\"color\":\"#E5ECF6\",\"width\":0.5},\"pattern\":{\"fillmode\":\"overlay\",\"size\":10,\"solidity\":0.2}},\"type\":\"bar\"}],\"barpolar\":[{\"marker\":{\"line\":{\"color\":\"#E5ECF6\",\"width\":0.5},\"pattern\":{\"fillmode\":\"overlay\",\"size\":10,\"solidity\":0.2}},\"type\":\"barpolar\"}],\"carpet\":[{\"aaxis\":{\"endlinecolor\":\"#2a3f5f\",\"gridcolor\":\"white\",\"linecolor\":\"white\",\"minorgridcolor\":\"white\",\"startlinecolor\":\"#2a3f5f\"},\"baxis\":{\"endlinecolor\":\"#2a3f5f\",\"gridcolor\":\"white\",\"linecolor\":\"white\",\"minorgridcolor\":\"white\",\"startlinecolor\":\"#2a3f5f\"},\"type\":\"carpet\"}],\"choropleth\":[{\"colorbar\":{\"outlinewidth\":0,\"ticks\":\"\"},\"type\":\"choropleth\"}],\"contour\":[{\"colorbar\":{\"outlinewidth\":0,\"ticks\":\"\"},\"colorscale\":[[0.0,\"#0d0887\"],[0.1111111111111111,\"#46039f\"],[0.2222222222222222,\"#7201a8\"],[0.3333333333333333,\"#9c179e\"],[0.4444444444444444,\"#bd3786\"],[0.5555555555555556,\"#d8576b\"],[0.6666666666666666,\"#ed7953\"],[0.7777777777777778,\"#fb9f3a\"],[0.8888888888888888,\"#fdca26\"],[1.0,\"#f0f921\"]],\"type\":\"contour\"}],\"contourcarpet\":[{\"colorbar\":{\"outlinewidth\":0,\"ticks\":\"\"},\"type\":\"contourcarpet\"}],\"heatmap\":[{\"colorbar\":{\"outlinewidth\":0,\"ticks\":\"\"},\"colorscale\":[[0.0,\"#0d0887\"],[0.1111111111111111,\"#46039f\"],[0.2222222222222222,\"#7201a8\"],[0.3333333333333333,\"#9c179e\"],[0.4444444444444444,\"#bd3786\"],[0.5555555555555556,\"#d8576b\"],[0.6666666666666666,\"#ed7953\"],[0.7777777777777778,\"#fb9f3a\"],[0.8888888888888888,\"#fdca26\"],[1.0,\"#f0f921\"]],\"type\":\"heatmap\"}],\"heatmapgl\":[{\"colorbar\":{\"outlinewidth\":0,\"ticks\":\"\"},\"colorscale\":[[0.0,\"#0d0887\"],[0.1111111111111111,\"#46039f\"],[0.2222222222222222,\"#7201a8\"],[0.3333333333333333,\"#9c179e\"],[0.4444444444444444,\"#bd3786\"],[0.5555555555555556,\"#d8576b\"],[0.6666666666666666,\"#ed7953\"],[0.7777777777777778,\"#fb9f3a\"],[0.8888888888888888,\"#fdca26\"],[1.0,\"#f0f921\"]],\"type\":\"heatmapgl\"}],\"histogram\":[{\"marker\":{\"pattern\":{\"fillmode\":\"overlay\",\"size\":10,\"solidity\":0.2}},\"type\":\"histogram\"}],\"histogram2d\":[{\"colorbar\":{\"outlinewidth\":0,\"ticks\":\"\"},\"colorscale\":[[0.0,\"#0d0887\"],[0.1111111111111111,\"#46039f\"],[0.2222222222222222,\"#7201a8\"],[0.3333333333333333,\"#9c179e\"],[0.4444444444444444,\"#bd3786\"],[0.5555555555555556,\"#d8576b\"],[0.6666666666666666,\"#ed7953\"],[0.7777777777777778,\"#fb9f3a\"],[0.8888888888888888,\"#fdca26\"],[1.0,\"#f0f921\"]],\"type\":\"histogram2d\"}],\"histogram2dcontour\":[{\"colorbar\":{\"outlinewidth\":0,\"ticks\":\"\"},\"colorscale\":[[0.0,\"#0d0887\"],[0.1111111111111111,\"#46039f\"],[0.2222222222222222,\"#7201a8\"],[0.3333333333333333,\"#9c179e\"],[0.4444444444444444,\"#bd3786\"],[0.5555555555555556,\"#d8576b\"],[0.6666666666666666,\"#ed7953\"],[0.7777777777777778,\"#fb9f3a\"],[0.8888888888888888,\"#fdca26\"],[1.0,\"#f0f921\"]],\"type\":\"histogram2dcontour\"}],\"mesh3d\":[{\"colorbar\":{\"outlinewidth\":0,\"ticks\":\"\"},\"type\":\"mesh3d\"}],\"parcoords\":[{\"line\":{\"colorbar\":{\"outlinewidth\":0,\"ticks\":\"\"}},\"type\":\"parcoords\"}],\"pie\":[{\"automargin\":true,\"type\":\"pie\"}],\"scatter\":[{\"marker\":{\"colorbar\":{\"outlinewidth\":0,\"ticks\":\"\"}},\"type\":\"scatter\"}],\"scatter3d\":[{\"line\":{\"colorbar\":{\"outlinewidth\":0,\"ticks\":\"\"}},\"marker\":{\"colorbar\":{\"outlinewidth\":0,\"ticks\":\"\"}},\"type\":\"scatter3d\"}],\"scattercarpet\":[{\"marker\":{\"colorbar\":{\"outlinewidth\":0,\"ticks\":\"\"}},\"type\":\"scattercarpet\"}],\"scattergeo\":[{\"marker\":{\"colorbar\":{\"outlinewidth\":0,\"ticks\":\"\"}},\"type\":\"scattergeo\"}],\"scattergl\":[{\"marker\":{\"colorbar\":{\"outlinewidth\":0,\"ticks\":\"\"}},\"type\":\"scattergl\"}],\"scattermapbox\":[{\"marker\":{\"colorbar\":{\"outlinewidth\":0,\"ticks\":\"\"}},\"type\":\"scattermapbox\"}],\"scatterpolar\":[{\"marker\":{\"colorbar\":{\"outlinewidth\":0,\"ticks\":\"\"}},\"type\":\"scatterpolar\"}],\"scatterpolargl\":[{\"marker\":{\"colorbar\":{\"outlinewidth\":0,\"ticks\":\"\"}},\"type\":\"scatterpolargl\"}],\"scatterternary\":[{\"marker\":{\"colorbar\":{\"outlinewidth\":0,\"ticks\":\"\"}},\"type\":\"scatterternary\"}],\"surface\":[{\"colorbar\":{\"outlinewidth\":0,\"ticks\":\"\"},\"colorscale\":[[0.0,\"#0d0887\"],[0.1111111111111111,\"#46039f\"],[0.2222222222222222,\"#7201a8\"],[0.3333333333333333,\"#9c179e\"],[0.4444444444444444,\"#bd3786\"],[0.5555555555555556,\"#d8576b\"],[0.6666666666666666,\"#ed7953\"],[0.7777777777777778,\"#fb9f3a\"],[0.8888888888888888,\"#fdca26\"],[1.0,\"#f0f921\"]],\"type\":\"surface\"}],\"table\":[{\"cells\":{\"fill\":{\"color\":\"#EBF0F8\"},\"line\":{\"color\":\"white\"}},\"header\":{\"fill\":{\"color\":\"#C8D4E3\"},\"line\":{\"color\":\"white\"}},\"type\":\"table\"}]},\"layout\":{\"annotationdefaults\":{\"arrowcolor\":\"#2a3f5f\",\"arrowhead\":0,\"arrowwidth\":1},\"autotypenumbers\":\"strict\",\"coloraxis\":{\"colorbar\":{\"outlinewidth\":0,\"ticks\":\"\"}},\"colorscale\":{\"diverging\":[[0,\"#8e0152\"],[0.1,\"#c51b7d\"],[0.2,\"#de77ae\"],[0.3,\"#f1b6da\"],[0.4,\"#fde0ef\"],[0.5,\"#f7f7f7\"],[0.6,\"#e6f5d0\"],[0.7,\"#b8e186\"],[0.8,\"#7fbc41\"],[0.9,\"#4d9221\"],[1,\"#276419\"]],\"sequential\":[[0.0,\"#0d0887\"],[0.1111111111111111,\"#46039f\"],[0.2222222222222222,\"#7201a8\"],[0.3333333333333333,\"#9c179e\"],[0.4444444444444444,\"#bd3786\"],[0.5555555555555556,\"#d8576b\"],[0.6666666666666666,\"#ed7953\"],[0.7777777777777778,\"#fb9f3a\"],[0.8888888888888888,\"#fdca26\"],[1.0,\"#f0f921\"]],\"sequentialminus\":[[0.0,\"#0d0887\"],[0.1111111111111111,\"#46039f\"],[0.2222222222222222,\"#7201a8\"],[0.3333333333333333,\"#9c179e\"],[0.4444444444444444,\"#bd3786\"],[0.5555555555555556,\"#d8576b\"],[0.6666666666666666,\"#ed7953\"],[0.7777777777777778,\"#fb9f3a\"],[0.8888888888888888,\"#fdca26\"],[1.0,\"#f0f921\"]]},\"colorway\":[\"#636efa\",\"#EF553B\",\"#00cc96\",\"#ab63fa\",\"#FFA15A\",\"#19d3f3\",\"#FF6692\",\"#B6E880\",\"#FF97FF\",\"#FECB52\"],\"font\":{\"color\":\"#2a3f5f\"},\"geo\":{\"bgcolor\":\"white\",\"lakecolor\":\"white\",\"landcolor\":\"#E5ECF6\",\"showlakes\":true,\"showland\":true,\"subunitcolor\":\"white\"},\"hoverlabel\":{\"align\":\"left\"},\"hovermode\":\"closest\",\"mapbox\":{\"style\":\"light\"},\"paper_bgcolor\":\"white\",\"plot_bgcolor\":\"#E5ECF6\",\"polar\":{\"angularaxis\":{\"gridcolor\":\"white\",\"linecolor\":\"white\",\"ticks\":\"\"},\"bgcolor\":\"#E5ECF6\",\"radialaxis\":{\"gridcolor\":\"white\",\"linecolor\":\"white\",\"ticks\":\"\"}},\"scene\":{\"xaxis\":{\"backgroundcolor\":\"#E5ECF6\",\"gridcolor\":\"white\",\"gridwidth\":2,\"linecolor\":\"white\",\"showbackground\":true,\"ticks\":\"\",\"zerolinecolor\":\"white\"},\"yaxis\":{\"backgroundcolor\":\"#E5ECF6\",\"gridcolor\":\"white\",\"gridwidth\":2,\"linecolor\":\"white\",\"showbackground\":true,\"ticks\":\"\",\"zerolinecolor\":\"white\"},\"zaxis\":{\"backgroundcolor\":\"#E5ECF6\",\"gridcolor\":\"white\",\"gridwidth\":2,\"linecolor\":\"white\",\"showbackground\":true,\"ticks\":\"\",\"zerolinecolor\":\"white\"}},\"shapedefaults\":{\"line\":{\"color\":\"#2a3f5f\"}},\"ternary\":{\"aaxis\":{\"gridcolor\":\"white\",\"linecolor\":\"white\",\"ticks\":\"\"},\"baxis\":{\"gridcolor\":\"white\",\"linecolor\":\"white\",\"ticks\":\"\"},\"bgcolor\":\"#E5ECF6\",\"caxis\":{\"gridcolor\":\"white\",\"linecolor\":\"white\",\"ticks\":\"\"}},\"title\":{\"x\":0.05},\"xaxis\":{\"automargin\":true,\"gridcolor\":\"white\",\"linecolor\":\"white\",\"ticks\":\"\",\"title\":{\"standoff\":15},\"zerolinecolor\":\"white\",\"zerolinewidth\":2},\"yaxis\":{\"automargin\":true,\"gridcolor\":\"white\",\"linecolor\":\"white\",\"ticks\":\"\",\"title\":{\"standoff\":15},\"zerolinecolor\":\"white\",\"zerolinewidth\":2}}},\"xaxis\":{\"anchor\":\"y\",\"domain\":[0.0,1.0],\"title\":{\"text\":\"tipo_cidade\"}},\"yaxis\":{\"anchor\":\"x\",\"domain\":[0.0,1.0],\"title\":{\"text\":\"Total_de_cotas\"}},\"legend\":{\"tracegroupgap\":0},\"margin\":{\"t\":60},\"barmode\":\"relative\"},                        {\"responsive\": true}                    )                };                            </script>        </div>\n",
       "</body>\n",
       "</html>"
      ]
     },
     "metadata": {
      "application/vnd.databricks.v1+output": {
       "addedWidgets": {},
       "arguments": {},
       "data": "<html>\n<head><meta charset=\"utf-8\" /></head>\n<body>\n    <div>            <script src=\"https://cdnjs.cloudflare.com/ajax/libs/mathjax/2.7.5/MathJax.js?config=TeX-AMS-MML_SVG\"></script><script type=\"text/javascript\">if (window.MathJax) {MathJax.Hub.Config({SVG: {font: \"STIX-Web\"}});}</script>                <script type=\"text/javascript\">window.PlotlyConfig = {MathJaxConfig: 'local'};</script>\n        <script src=\"https://cdn.plot.ly/plotly-2.9.0.min.js\"></script>                <div id=\"58ed3d3c-d921-480f-8844-b2bafc38b6dc\" class=\"plotly-graph-div\" style=\"height:100%; width:100%;\"></div>            <script type=\"text/javascript\">                                    window.PLOTLYENV=window.PLOTLYENV || {};                                    if (document.getElementById(\"58ed3d3c-d921-480f-8844-b2bafc38b6dc\")) {                    Plotly.newPlot(                        \"58ed3d3c-d921-480f-8844-b2bafc38b6dc\",                        [{\"alignmentgroup\":\"True\",\"hovertemplate\":\"tipo_cidade=%{x}<br>Total_de_cotas=%{y}<extra></extra>\",\"legendgroup\":\"\",\"marker\":{\"color\":\"#636efa\",\"pattern\":{\"shape\":\"\"}},\"name\":\"\",\"offsetgroup\":\"\",\"orientation\":\"v\",\"showlegend\":false,\"textposition\":\"auto\",\"x\":[\"Munic\\u00edpio\",\"Capital\"],\"xaxis\":\"x\",\"y\":[24,18],\"yaxis\":\"y\",\"type\":\"bar\"}],                        {\"template\":{\"data\":{\"bar\":[{\"error_x\":{\"color\":\"#2a3f5f\"},\"error_y\":{\"color\":\"#2a3f5f\"},\"marker\":{\"line\":{\"color\":\"#E5ECF6\",\"width\":0.5},\"pattern\":{\"fillmode\":\"overlay\",\"size\":10,\"solidity\":0.2}},\"type\":\"bar\"}],\"barpolar\":[{\"marker\":{\"line\":{\"color\":\"#E5ECF6\",\"width\":0.5},\"pattern\":{\"fillmode\":\"overlay\",\"size\":10,\"solidity\":0.2}},\"type\":\"barpolar\"}],\"carpet\":[{\"aaxis\":{\"endlinecolor\":\"#2a3f5f\",\"gridcolor\":\"white\",\"linecolor\":\"white\",\"minorgridcolor\":\"white\",\"startlinecolor\":\"#2a3f5f\"},\"baxis\":{\"endlinecolor\":\"#2a3f5f\",\"gridcolor\":\"white\",\"linecolor\":\"white\",\"minorgridcolor\":\"white\",\"startlinecolor\":\"#2a3f5f\"},\"type\":\"carpet\"}],\"choropleth\":[{\"colorbar\":{\"outlinewidth\":0,\"ticks\":\"\"},\"type\":\"choropleth\"}],\"contour\":[{\"colorbar\":{\"outlinewidth\":0,\"ticks\":\"\"},\"colorscale\":[[0.0,\"#0d0887\"],[0.1111111111111111,\"#46039f\"],[0.2222222222222222,\"#7201a8\"],[0.3333333333333333,\"#9c179e\"],[0.4444444444444444,\"#bd3786\"],[0.5555555555555556,\"#d8576b\"],[0.6666666666666666,\"#ed7953\"],[0.7777777777777778,\"#fb9f3a\"],[0.8888888888888888,\"#fdca26\"],[1.0,\"#f0f921\"]],\"type\":\"contour\"}],\"contourcarpet\":[{\"colorbar\":{\"outlinewidth\":0,\"ticks\":\"\"},\"type\":\"contourcarpet\"}],\"heatmap\":[{\"colorbar\":{\"outlinewidth\":0,\"ticks\":\"\"},\"colorscale\":[[0.0,\"#0d0887\"],[0.1111111111111111,\"#46039f\"],[0.2222222222222222,\"#7201a8\"],[0.3333333333333333,\"#9c179e\"],[0.4444444444444444,\"#bd3786\"],[0.5555555555555556,\"#d8576b\"],[0.6666666666666666,\"#ed7953\"],[0.7777777777777778,\"#fb9f3a\"],[0.8888888888888888,\"#fdca26\"],[1.0,\"#f0f921\"]],\"type\":\"heatmap\"}],\"heatmapgl\":[{\"colorbar\":{\"outlinewidth\":0,\"ticks\":\"\"},\"colorscale\":[[0.0,\"#0d0887\"],[0.1111111111111111,\"#46039f\"],[0.2222222222222222,\"#7201a8\"],[0.3333333333333333,\"#9c179e\"],[0.4444444444444444,\"#bd3786\"],[0.5555555555555556,\"#d8576b\"],[0.6666666666666666,\"#ed7953\"],[0.7777777777777778,\"#fb9f3a\"],[0.8888888888888888,\"#fdca26\"],[1.0,\"#f0f921\"]],\"type\":\"heatmapgl\"}],\"histogram\":[{\"marker\":{\"pattern\":{\"fillmode\":\"overlay\",\"size\":10,\"solidity\":0.2}},\"type\":\"histogram\"}],\"histogram2d\":[{\"colorbar\":{\"outlinewidth\":0,\"ticks\":\"\"},\"colorscale\":[[0.0,\"#0d0887\"],[0.1111111111111111,\"#46039f\"],[0.2222222222222222,\"#7201a8\"],[0.3333333333333333,\"#9c179e\"],[0.4444444444444444,\"#bd3786\"],[0.5555555555555556,\"#d8576b\"],[0.6666666666666666,\"#ed7953\"],[0.7777777777777778,\"#fb9f3a\"],[0.8888888888888888,\"#fdca26\"],[1.0,\"#f0f921\"]],\"type\":\"histogram2d\"}],\"histogram2dcontour\":[{\"colorbar\":{\"outlinewidth\":0,\"ticks\":\"\"},\"colorscale\":[[0.0,\"#0d0887\"],[0.1111111111111111,\"#46039f\"],[0.2222222222222222,\"#7201a8\"],[0.3333333333333333,\"#9c179e\"],[0.4444444444444444,\"#bd3786\"],[0.5555555555555556,\"#d8576b\"],[0.6666666666666666,\"#ed7953\"],[0.7777777777777778,\"#fb9f3a\"],[0.8888888888888888,\"#fdca26\"],[1.0,\"#f0f921\"]],\"type\":\"histogram2dcontour\"}],\"mesh3d\":[{\"colorbar\":{\"outlinewidth\":0,\"ticks\":\"\"},\"type\":\"mesh3d\"}],\"parcoords\":[{\"line\":{\"colorbar\":{\"outlinewidth\":0,\"ticks\":\"\"}},\"type\":\"parcoords\"}],\"pie\":[{\"automargin\":true,\"type\":\"pie\"}],\"scatter\":[{\"marker\":{\"colorbar\":{\"outlinewidth\":0,\"ticks\":\"\"}},\"type\":\"scatter\"}],\"scatter3d\":[{\"line\":{\"colorbar\":{\"outlinewidth\":0,\"ticks\":\"\"}},\"marker\":{\"colorbar\":{\"outlinewidth\":0,\"ticks\":\"\"}},\"type\":\"scatter3d\"}],\"scattercarpet\":[{\"marker\":{\"colorbar\":{\"outlinewidth\":0,\"ticks\":\"\"}},\"type\":\"scattercarpet\"}],\"scattergeo\":[{\"marker\":{\"colorbar\":{\"outlinewidth\":0,\"ticks\":\"\"}},\"type\":\"scattergeo\"}],\"scattergl\":[{\"marker\":{\"colorbar\":{\"outlinewidth\":0,\"ticks\":\"\"}},\"type\":\"scattergl\"}],\"scattermapbox\":[{\"marker\":{\"colorbar\":{\"outlinewidth\":0,\"ticks\":\"\"}},\"type\":\"scattermapbox\"}],\"scatterpolar\":[{\"marker\":{\"colorbar\":{\"outlinewidth\":0,\"ticks\":\"\"}},\"type\":\"scatterpolar\"}],\"scatterpolargl\":[{\"marker\":{\"colorbar\":{\"outlinewidth\":0,\"ticks\":\"\"}},\"type\":\"scatterpolargl\"}],\"scatterternary\":[{\"marker\":{\"colorbar\":{\"outlinewidth\":0,\"ticks\":\"\"}},\"type\":\"scatterternary\"}],\"surface\":[{\"colorbar\":{\"outlinewidth\":0,\"ticks\":\"\"},\"colorscale\":[[0.0,\"#0d0887\"],[0.1111111111111111,\"#46039f\"],[0.2222222222222222,\"#7201a8\"],[0.3333333333333333,\"#9c179e\"],[0.4444444444444444,\"#bd3786\"],[0.5555555555555556,\"#d8576b\"],[0.6666666666666666,\"#ed7953\"],[0.7777777777777778,\"#fb9f3a\"],[0.8888888888888888,\"#fdca26\"],[1.0,\"#f0f921\"]],\"type\":\"surface\"}],\"table\":[{\"cells\":{\"fill\":{\"color\":\"#EBF0F8\"},\"line\":{\"color\":\"white\"}},\"header\":{\"fill\":{\"color\":\"#C8D4E3\"},\"line\":{\"color\":\"white\"}},\"type\":\"table\"}]},\"layout\":{\"annotationdefaults\":{\"arrowcolor\":\"#2a3f5f\",\"arrowhead\":0,\"arrowwidth\":1},\"autotypenumbers\":\"strict\",\"coloraxis\":{\"colorbar\":{\"outlinewidth\":0,\"ticks\":\"\"}},\"colorscale\":{\"diverging\":[[0,\"#8e0152\"],[0.1,\"#c51b7d\"],[0.2,\"#de77ae\"],[0.3,\"#f1b6da\"],[0.4,\"#fde0ef\"],[0.5,\"#f7f7f7\"],[0.6,\"#e6f5d0\"],[0.7,\"#b8e186\"],[0.8,\"#7fbc41\"],[0.9,\"#4d9221\"],[1,\"#276419\"]],\"sequential\":[[0.0,\"#0d0887\"],[0.1111111111111111,\"#46039f\"],[0.2222222222222222,\"#7201a8\"],[0.3333333333333333,\"#9c179e\"],[0.4444444444444444,\"#bd3786\"],[0.5555555555555556,\"#d8576b\"],[0.6666666666666666,\"#ed7953\"],[0.7777777777777778,\"#fb9f3a\"],[0.8888888888888888,\"#fdca26\"],[1.0,\"#f0f921\"]],\"sequentialminus\":[[0.0,\"#0d0887\"],[0.1111111111111111,\"#46039f\"],[0.2222222222222222,\"#7201a8\"],[0.3333333333333333,\"#9c179e\"],[0.4444444444444444,\"#bd3786\"],[0.5555555555555556,\"#d8576b\"],[0.6666666666666666,\"#ed7953\"],[0.7777777777777778,\"#fb9f3a\"],[0.8888888888888888,\"#fdca26\"],[1.0,\"#f0f921\"]]},\"colorway\":[\"#636efa\",\"#EF553B\",\"#00cc96\",\"#ab63fa\",\"#FFA15A\",\"#19d3f3\",\"#FF6692\",\"#B6E880\",\"#FF97FF\",\"#FECB52\"],\"font\":{\"color\":\"#2a3f5f\"},\"geo\":{\"bgcolor\":\"white\",\"lakecolor\":\"white\",\"landcolor\":\"#E5ECF6\",\"showlakes\":true,\"showland\":true,\"subunitcolor\":\"white\"},\"hoverlabel\":{\"align\":\"left\"},\"hovermode\":\"closest\",\"mapbox\":{\"style\":\"light\"},\"paper_bgcolor\":\"white\",\"plot_bgcolor\":\"#E5ECF6\",\"polar\":{\"angularaxis\":{\"gridcolor\":\"white\",\"linecolor\":\"white\",\"ticks\":\"\"},\"bgcolor\":\"#E5ECF6\",\"radialaxis\":{\"gridcolor\":\"white\",\"linecolor\":\"white\",\"ticks\":\"\"}},\"scene\":{\"xaxis\":{\"backgroundcolor\":\"#E5ECF6\",\"gridcolor\":\"white\",\"gridwidth\":2,\"linecolor\":\"white\",\"showbackground\":true,\"ticks\":\"\",\"zerolinecolor\":\"white\"},\"yaxis\":{\"backgroundcolor\":\"#E5ECF6\",\"gridcolor\":\"white\",\"gridwidth\":2,\"linecolor\":\"white\",\"showbackground\":true,\"ticks\":\"\",\"zerolinecolor\":\"white\"},\"zaxis\":{\"backgroundcolor\":\"#E5ECF6\",\"gridcolor\":\"white\",\"gridwidth\":2,\"linecolor\":\"white\",\"showbackground\":true,\"ticks\":\"\",\"zerolinecolor\":\"white\"}},\"shapedefaults\":{\"line\":{\"color\":\"#2a3f5f\"}},\"ternary\":{\"aaxis\":{\"gridcolor\":\"white\",\"linecolor\":\"white\",\"ticks\":\"\"},\"baxis\":{\"gridcolor\":\"white\",\"linecolor\":\"white\",\"ticks\":\"\"},\"bgcolor\":\"#E5ECF6\",\"caxis\":{\"gridcolor\":\"white\",\"linecolor\":\"white\",\"ticks\":\"\"}},\"title\":{\"x\":0.05},\"xaxis\":{\"automargin\":true,\"gridcolor\":\"white\",\"linecolor\":\"white\",\"ticks\":\"\",\"title\":{\"standoff\":15},\"zerolinecolor\":\"white\",\"zerolinewidth\":2},\"yaxis\":{\"automargin\":true,\"gridcolor\":\"white\",\"linecolor\":\"white\",\"ticks\":\"\",\"title\":{\"standoff\":15},\"zerolinecolor\":\"white\",\"zerolinewidth\":2}}},\"xaxis\":{\"anchor\":\"y\",\"domain\":[0.0,1.0],\"title\":{\"text\":\"tipo_cidade\"}},\"yaxis\":{\"anchor\":\"x\",\"domain\":[0.0,1.0],\"title\":{\"text\":\"Total_de_cotas\"}},\"legend\":{\"tracegroupgap\":0},\"margin\":{\"t\":60},\"barmode\":\"relative\"},                        {\"responsive\": true}                    )                };                            </script>        </div>\n</body>\n</html>",
       "datasetInfos": [],
       "metadata": {},
       "removedWidgets": [],
       "textData": null,
       "type": "htmlSandbox"
      }
     },
     "output_type": "display_data"
    }
   ],
   "source": [
    "# total das bolsas integrais por tipo de cidade\n",
    "\n",
    "cotas_ordenadas = ps.sql('''\n",
    "SELECT tipo_cidade, SUM(bolsa_integral_cotas) AS Total_de_cotas\n",
    "FROM {DF}\n",
    "GROUP BY tipo_cidade\n",
    "ORDER BY Total_de_cotas DESC\n",
    "''', DF=df_medicina)\n",
    "\n",
    "\n",
    "cotas_ordenadas.plot.bar(x='tipo_cidade',y='Total_de_cotas')"
   ]
  },
  {
   "cell_type": "markdown",
   "metadata": {
    "application/vnd.databricks.v1+cell": {
     "cellMetadata": {
      "byteLimit": 2048000,
      "rowLimit": 10000
     },
     "inputWidgets": {},
     "nuid": "4d03bb06-50a8-41dc-b96e-391946b9d0e5",
     "showTitle": false,
     "tableResultSettingsMap": {},
     "title": ""
    }
   },
   "source": [
    "# Comparação entre Varriáveis - Correlação"
   ]
  },
  {
   "cell_type": "markdown",
   "metadata": {
    "application/vnd.databricks.v1+cell": {
     "cellMetadata": {
      "byteLimit": 2048000,
      "rowLimit": 10000
     },
     "inputWidgets": {},
     "nuid": "e4d6199e-e2e3-443c-844c-1059e3de7b2d",
     "showTitle": false,
     "tableResultSettingsMap": {},
     "title": ""
    }
   },
   "source": [
    "A correlação mede a força e a direção da relação linear entre duas variáveis. Podendo ela ser positiva, negativa ou nula."
   ]
  },
  {
   "cell_type": "code",
   "execution_count": 0,
   "metadata": {
    "application/vnd.databricks.v1+cell": {
     "cellMetadata": {
      "byteLimit": 2048000,
      "rowLimit": 10000
     },
     "inputWidgets": {},
     "nuid": "d14ec977-84c8-4ab4-a81b-48e71c30da50",
     "showTitle": false,
     "tableResultSettingsMap": {},
     "title": ""
    }
   },
   "outputs": [],
   "source": [
    "# df auxiliar com apenas colunas numéricas relevantes\n",
    "\n",
    "aux = df_medicina[['mensalidade','bolsa_integral_cotas','bolsa_integral_ampla','bolsa_parcial_cotas','bolsa_parcial_ampla','nota_integral_ampla', 'nota_integral_cotas', 'nota_parcial_ampla','nota_parcial_cotas']]"
   ]
  },
  {
   "cell_type": "code",
   "execution_count": 0,
   "metadata": {
    "application/vnd.databricks.v1+cell": {
     "cellMetadata": {
      "byteLimit": 2048000,
      "rowLimit": 10000
     },
     "inputWidgets": {},
     "nuid": "bb30472b-bbd3-4889-9657-c67357761f04",
     "showTitle": false,
     "tableResultSettingsMap": {},
     "title": ""
    }
   },
   "outputs": [
    {
     "output_type": "stream",
     "name": "stderr",
     "output_type": "stream",
     "text": [
      "/databricks/spark/python/pyspark/sql/pandas/conversion.py:122: UserWarning:\n\ntoPandas attempted Arrow optimization because 'spark.sql.execution.arrow.pyspark.enabled' is set to true; however, failed by the reason below:\n  Unable to convert the field pearson(__correlation_output__). If this column is not necessary, you may consider dropping it or converting to primitive type before the conversion.\nDirect cause: Unsupported type in conversion to Arrow: MatrixUDT()\nAttempting non-optimization as 'spark.sql.execution.arrow.pyspark.fallback.enabled' is set to true.\n\n"
     ]
    },
    {
     "output_type": "display_data",
     "data": {
      "text/html": [
       "<style type=\"text/css\">\n",
       "#T_57af4_row0_col0, #T_57af4_row1_col1, #T_57af4_row2_col2, #T_57af4_row3_col3, #T_57af4_row4_col4, #T_57af4_row5_col5, #T_57af4_row6_col6, #T_57af4_row7_col7, #T_57af4_row8_col8 {\n",
       "  background-color: #67000d;\n",
       "  color: #f1f1f1;\n",
       "}\n",
       "#T_57af4_row0_col1, #T_57af4_row0_col2, #T_57af4_row1_col0, #T_57af4_row2_col0, #T_57af4_row2_col8, #T_57af4_row8_col2 {\n",
       "  background-color: #f75b40;\n",
       "  color: #f1f1f1;\n",
       "}\n",
       "#T_57af4_row0_col3, #T_57af4_row3_col0 {\n",
       "  background-color: #d01d1f;\n",
       "  color: #f1f1f1;\n",
       "}\n",
       "#T_57af4_row0_col4, #T_57af4_row4_col0 {\n",
       "  background-color: #ea362a;\n",
       "  color: #f1f1f1;\n",
       "}\n",
       "#T_57af4_row0_col5, #T_57af4_row5_col0 {\n",
       "  background-color: #fcb296;\n",
       "  color: #000000;\n",
       "}\n",
       "#T_57af4_row0_col6, #T_57af4_row6_col0 {\n",
       "  background-color: #fb7151;\n",
       "  color: #f1f1f1;\n",
       "}\n",
       "#T_57af4_row0_col7, #T_57af4_row2_col5, #T_57af4_row5_col2, #T_57af4_row7_col0 {\n",
       "  background-color: #fcb99f;\n",
       "  color: #000000;\n",
       "}\n",
       "#T_57af4_row0_col8, #T_57af4_row8_col0 {\n",
       "  background-color: #fcc4ad;\n",
       "  color: #000000;\n",
       "}\n",
       "#T_57af4_row1_col2, #T_57af4_row2_col1 {\n",
       "  background-color: #c8171c;\n",
       "  color: #f1f1f1;\n",
       "}\n",
       "#T_57af4_row1_col3, #T_57af4_row3_col1 {\n",
       "  background-color: #d21f20;\n",
       "  color: #f1f1f1;\n",
       "}\n",
       "#T_57af4_row1_col4, #T_57af4_row4_col1 {\n",
       "  background-color: #fb7d5d;\n",
       "  color: #f1f1f1;\n",
       "}\n",
       "#T_57af4_row1_col5, #T_57af4_row5_col1 {\n",
       "  background-color: #fc8262;\n",
       "  color: #f1f1f1;\n",
       "}\n",
       "#T_57af4_row1_col6, #T_57af4_row6_col1 {\n",
       "  background-color: #fca588;\n",
       "  color: #000000;\n",
       "}\n",
       "#T_57af4_row1_col7, #T_57af4_row7_col1 {\n",
       "  background-color: #fc9272;\n",
       "  color: #000000;\n",
       "}\n",
       "#T_57af4_row1_col8, #T_57af4_row8_col1 {\n",
       "  background-color: #fb7555;\n",
       "  color: #f1f1f1;\n",
       "}\n",
       "#T_57af4_row2_col3, #T_57af4_row3_col2 {\n",
       "  background-color: #f24734;\n",
       "  color: #f1f1f1;\n",
       "}\n",
       "#T_57af4_row2_col4, #T_57af4_row4_col2 {\n",
       "  background-color: #b81419;\n",
       "  color: #f1f1f1;\n",
       "}\n",
       "#T_57af4_row2_col6, #T_57af4_row6_col2 {\n",
       "  background-color: #fc997a;\n",
       "  color: #000000;\n",
       "}\n",
       "#T_57af4_row2_col7, #T_57af4_row7_col2 {\n",
       "  background-color: #fc8d6d;\n",
       "  color: #f1f1f1;\n",
       "}\n",
       "#T_57af4_row3_col4, #T_57af4_row4_col3 {\n",
       "  background-color: #f14432;\n",
       "  color: #f1f1f1;\n",
       "}\n",
       "#T_57af4_row3_col5, #T_57af4_row3_col8, #T_57af4_row5_col3, #T_57af4_row8_col3 {\n",
       "  background-color: #fcb79c;\n",
       "  color: #000000;\n",
       "}\n",
       "#T_57af4_row3_col6, #T_57af4_row6_col3 {\n",
       "  background-color: #fc9373;\n",
       "  color: #000000;\n",
       "}\n",
       "#T_57af4_row3_col7, #T_57af4_row7_col3 {\n",
       "  background-color: #fcc2aa;\n",
       "  color: #000000;\n",
       "}\n",
       "#T_57af4_row4_col5, #T_57af4_row5_col4 {\n",
       "  background-color: #fcc3ab;\n",
       "  color: #000000;\n",
       "}\n",
       "#T_57af4_row4_col6, #T_57af4_row4_col8, #T_57af4_row6_col4, #T_57af4_row8_col4 {\n",
       "  background-color: #fc9576;\n",
       "  color: #000000;\n",
       "}\n",
       "#T_57af4_row4_col7, #T_57af4_row7_col4 {\n",
       "  background-color: #fcc1a8;\n",
       "  color: #000000;\n",
       "}\n",
       "#T_57af4_row5_col6, #T_57af4_row6_col5 {\n",
       "  background-color: #d72322;\n",
       "  color: #f1f1f1;\n",
       "}\n",
       "#T_57af4_row5_col7, #T_57af4_row7_col5 {\n",
       "  background-color: #d82422;\n",
       "  color: #f1f1f1;\n",
       "}\n",
       "#T_57af4_row5_col8, #T_57af4_row8_col5 {\n",
       "  background-color: #c1161b;\n",
       "  color: #f1f1f1;\n",
       "}\n",
       "#T_57af4_row6_col7, #T_57af4_row7_col6 {\n",
       "  background-color: #d92523;\n",
       "  color: #f1f1f1;\n",
       "}\n",
       "#T_57af4_row6_col8, #T_57af4_row8_col6 {\n",
       "  background-color: #f03d2d;\n",
       "  color: #f1f1f1;\n",
       "}\n",
       "#T_57af4_row7_col8, #T_57af4_row8_col7 {\n",
       "  background-color: #ac1117;\n",
       "  color: #f1f1f1;\n",
       "}\n",
       "</style>\n",
       "<table id=\"T_57af4\">\n",
       "  <thead>\n",
       "    <tr>\n",
       "      <th class=\"blank level0\" >&nbsp;</th>\n",
       "      <th id=\"T_57af4_level0_col0\" class=\"col_heading level0 col0\" >mensalidade</th>\n",
       "      <th id=\"T_57af4_level0_col1\" class=\"col_heading level0 col1\" >bolsa_integral_cotas</th>\n",
       "      <th id=\"T_57af4_level0_col2\" class=\"col_heading level0 col2\" >bolsa_integral_ampla</th>\n",
       "      <th id=\"T_57af4_level0_col3\" class=\"col_heading level0 col3\" >bolsa_parcial_cotas</th>\n",
       "      <th id=\"T_57af4_level0_col4\" class=\"col_heading level0 col4\" >bolsa_parcial_ampla</th>\n",
       "      <th id=\"T_57af4_level0_col5\" class=\"col_heading level0 col5\" >nota_integral_ampla</th>\n",
       "      <th id=\"T_57af4_level0_col6\" class=\"col_heading level0 col6\" >nota_integral_cotas</th>\n",
       "      <th id=\"T_57af4_level0_col7\" class=\"col_heading level0 col7\" >nota_parcial_ampla</th>\n",
       "      <th id=\"T_57af4_level0_col8\" class=\"col_heading level0 col8\" >nota_parcial_cotas</th>\n",
       "    </tr>\n",
       "  </thead>\n",
       "  <tbody>\n",
       "    <tr>\n",
       "      <th id=\"T_57af4_level0_row0\" class=\"row_heading level0 row0\" >mensalidade</th>\n",
       "      <td id=\"T_57af4_row0_col0\" class=\"data row0 col0\" >1.000000</td>\n",
       "      <td id=\"T_57af4_row0_col1\" class=\"data row0 col1\" >0.080124</td>\n",
       "      <td id=\"T_57af4_row0_col2\" class=\"data row0 col2\" >0.085915</td>\n",
       "      <td id=\"T_57af4_row0_col3\" class=\"data row0 col3\" >0.462838</td>\n",
       "      <td id=\"T_57af4_row0_col4\" class=\"data row0 col4\" >0.281507</td>\n",
       "      <td id=\"T_57af4_row0_col5\" class=\"data row0 col5\" >-0.438041</td>\n",
       "      <td id=\"T_57af4_row0_col6\" class=\"data row0 col6\" >-0.042471</td>\n",
       "      <td id=\"T_57af4_row0_col7\" class=\"data row0 col7\" >-0.490010</td>\n",
       "      <td id=\"T_57af4_row0_col8\" class=\"data row0 col8\" >-0.556348</td>\n",
       "    </tr>\n",
       "    <tr>\n",
       "      <th id=\"T_57af4_level0_row1\" class=\"row_heading level0 row1\" >bolsa_integral_cotas</th>\n",
       "      <td id=\"T_57af4_row1_col0\" class=\"data row1 col0\" >0.080124</td>\n",
       "      <td id=\"T_57af4_row1_col1\" class=\"data row1 col1\" >1.000000</td>\n",
       "      <td id=\"T_57af4_row1_col2\" class=\"data row1 col2\" >0.520982</td>\n",
       "      <td id=\"T_57af4_row1_col3\" class=\"data row1 col3\" >0.451340</td>\n",
       "      <td id=\"T_57af4_row1_col4\" class=\"data row1 col4\" >-0.120903</td>\n",
       "      <td id=\"T_57af4_row1_col5\" class=\"data row1 col5\" >-0.155176</td>\n",
       "      <td id=\"T_57af4_row1_col6\" class=\"data row1 col6\" >-0.360329</td>\n",
       "      <td id=\"T_57af4_row1_col7\" class=\"data row1 col7\" >-0.247502</td>\n",
       "      <td id=\"T_57af4_row1_col8\" class=\"data row1 col8\" >-0.064000</td>\n",
       "    </tr>\n",
       "    <tr>\n",
       "      <th id=\"T_57af4_level0_row2\" class=\"row_heading level0 row2\" >bolsa_integral_ampla</th>\n",
       "      <td id=\"T_57af4_row2_col0\" class=\"data row2 col0\" >0.085915</td>\n",
       "      <td id=\"T_57af4_row2_col1\" class=\"data row2 col1\" >0.520982</td>\n",
       "      <td id=\"T_57af4_row2_col2\" class=\"data row2 col2\" >1.000000</td>\n",
       "      <td id=\"T_57af4_row2_col3\" class=\"data row2 col3\" >0.182384</td>\n",
       "      <td id=\"T_57af4_row2_col4\" class=\"data row2 col4\" >0.620009</td>\n",
       "      <td id=\"T_57af4_row2_col5\" class=\"data row2 col5\" >-0.489539</td>\n",
       "      <td id=\"T_57af4_row2_col6\" class=\"data row2 col6\" >-0.293681</td>\n",
       "      <td id=\"T_57af4_row2_col7\" class=\"data row2 col7\" >-0.218251</td>\n",
       "      <td id=\"T_57af4_row2_col8\" class=\"data row2 col8\" >0.084619</td>\n",
       "    </tr>\n",
       "    <tr>\n",
       "      <th id=\"T_57af4_level0_row3\" class=\"row_heading level0 row3\" >bolsa_parcial_cotas</th>\n",
       "      <td id=\"T_57af4_row3_col0\" class=\"data row3 col0\" >0.462838</td>\n",
       "      <td id=\"T_57af4_row3_col1\" class=\"data row3 col1\" >0.451340</td>\n",
       "      <td id=\"T_57af4_row3_col2\" class=\"data row3 col2\" >0.182384</td>\n",
       "      <td id=\"T_57af4_row3_col3\" class=\"data row3 col3\" >1.000000</td>\n",
       "      <td id=\"T_57af4_row3_col4\" class=\"data row3 col4\" >0.195821</td>\n",
       "      <td id=\"T_57af4_row3_col5\" class=\"data row3 col5\" >-0.468888</td>\n",
       "      <td id=\"T_57af4_row3_col6\" class=\"data row3 col6\" >-0.253827</td>\n",
       "      <td id=\"T_57af4_row3_col7\" class=\"data row3 col7\" >-0.546129</td>\n",
       "      <td id=\"T_57af4_row3_col8\" class=\"data row3 col8\" >-0.469743</td>\n",
       "    </tr>\n",
       "    <tr>\n",
       "      <th id=\"T_57af4_level0_row4\" class=\"row_heading level0 row4\" >bolsa_parcial_ampla</th>\n",
       "      <td id=\"T_57af4_row4_col0\" class=\"data row4 col0\" >0.281507</td>\n",
       "      <td id=\"T_57af4_row4_col1\" class=\"data row4 col1\" >-0.120903</td>\n",
       "      <td id=\"T_57af4_row4_col2\" class=\"data row4 col2\" >0.620009</td>\n",
       "      <td id=\"T_57af4_row4_col3\" class=\"data row4 col3\" >0.195821</td>\n",
       "      <td id=\"T_57af4_row4_col4\" class=\"data row4 col4\" >1.000000</td>\n",
       "      <td id=\"T_57af4_row4_col5\" class=\"data row4 col5\" >-0.549894</td>\n",
       "      <td id=\"T_57af4_row4_col6\" class=\"data row4 col6\" >-0.270162</td>\n",
       "      <td id=\"T_57af4_row4_col7\" class=\"data row4 col7\" >-0.534464</td>\n",
       "      <td id=\"T_57af4_row4_col8\" class=\"data row4 col8\" >-0.266389</td>\n",
       "    </tr>\n",
       "    <tr>\n",
       "      <th id=\"T_57af4_level0_row5\" class=\"row_heading level0 row5\" >nota_integral_ampla</th>\n",
       "      <td id=\"T_57af4_row5_col0\" class=\"data row5 col0\" >-0.438041</td>\n",
       "      <td id=\"T_57af4_row5_col1\" class=\"data row5 col1\" >-0.155176</td>\n",
       "      <td id=\"T_57af4_row5_col2\" class=\"data row5 col2\" >-0.489539</td>\n",
       "      <td id=\"T_57af4_row5_col3\" class=\"data row5 col3\" >-0.468888</td>\n",
       "      <td id=\"T_57af4_row5_col4\" class=\"data row5 col4\" >-0.549894</td>\n",
       "      <td id=\"T_57af4_row5_col5\" class=\"data row5 col5\" >1.000000</td>\n",
       "      <td id=\"T_57af4_row5_col6\" class=\"data row5 col6\" >0.420823</td>\n",
       "      <td id=\"T_57af4_row5_col7\" class=\"data row5 col7\" >0.409216</td>\n",
       "      <td id=\"T_57af4_row5_col8\" class=\"data row5 col8\" >0.563932</td>\n",
       "    </tr>\n",
       "    <tr>\n",
       "      <th id=\"T_57af4_level0_row6\" class=\"row_heading level0 row6\" >nota_integral_cotas</th>\n",
       "      <td id=\"T_57af4_row6_col0\" class=\"data row6 col0\" >-0.042471</td>\n",
       "      <td id=\"T_57af4_row6_col1\" class=\"data row6 col1\" >-0.360329</td>\n",
       "      <td id=\"T_57af4_row6_col2\" class=\"data row6 col2\" >-0.293681</td>\n",
       "      <td id=\"T_57af4_row6_col3\" class=\"data row6 col3\" >-0.253827</td>\n",
       "      <td id=\"T_57af4_row6_col4\" class=\"data row6 col4\" >-0.270162</td>\n",
       "      <td id=\"T_57af4_row6_col5\" class=\"data row6 col5\" >0.420823</td>\n",
       "      <td id=\"T_57af4_row6_col6\" class=\"data row6 col6\" >1.000000</td>\n",
       "      <td id=\"T_57af4_row6_col7\" class=\"data row6 col7\" >0.402048</td>\n",
       "      <td id=\"T_57af4_row6_col8\" class=\"data row6 col8\" >0.237963</td>\n",
       "    </tr>\n",
       "    <tr>\n",
       "      <th id=\"T_57af4_level0_row7\" class=\"row_heading level0 row7\" >nota_parcial_ampla</th>\n",
       "      <td id=\"T_57af4_row7_col0\" class=\"data row7 col0\" >-0.490010</td>\n",
       "      <td id=\"T_57af4_row7_col1\" class=\"data row7 col1\" >-0.247502</td>\n",
       "      <td id=\"T_57af4_row7_col2\" class=\"data row7 col2\" >-0.218251</td>\n",
       "      <td id=\"T_57af4_row7_col3\" class=\"data row7 col3\" >-0.546129</td>\n",
       "      <td id=\"T_57af4_row7_col4\" class=\"data row7 col4\" >-0.534464</td>\n",
       "      <td id=\"T_57af4_row7_col5\" class=\"data row7 col5\" >0.409216</td>\n",
       "      <td id=\"T_57af4_row7_col6\" class=\"data row7 col6\" >0.402048</td>\n",
       "      <td id=\"T_57af4_row7_col7\" class=\"data row7 col7\" >1.000000</td>\n",
       "      <td id=\"T_57af4_row7_col8\" class=\"data row7 col8\" >0.702974</td>\n",
       "    </tr>\n",
       "    <tr>\n",
       "      <th id=\"T_57af4_level0_row8\" class=\"row_heading level0 row8\" >nota_parcial_cotas</th>\n",
       "      <td id=\"T_57af4_row8_col0\" class=\"data row8 col0\" >-0.556348</td>\n",
       "      <td id=\"T_57af4_row8_col1\" class=\"data row8 col1\" >-0.064000</td>\n",
       "      <td id=\"T_57af4_row8_col2\" class=\"data row8 col2\" >0.084619</td>\n",
       "      <td id=\"T_57af4_row8_col3\" class=\"data row8 col3\" >-0.469743</td>\n",
       "      <td id=\"T_57af4_row8_col4\" class=\"data row8 col4\" >-0.266389</td>\n",
       "      <td id=\"T_57af4_row8_col5\" class=\"data row8 col5\" >0.563932</td>\n",
       "      <td id=\"T_57af4_row8_col6\" class=\"data row8 col6\" >0.237963</td>\n",
       "      <td id=\"T_57af4_row8_col7\" class=\"data row8 col7\" >0.702974</td>\n",
       "      <td id=\"T_57af4_row8_col8\" class=\"data row8 col8\" >1.000000</td>\n",
       "    </tr>\n",
       "  </tbody>\n",
       "</table>\n"
      ]
     },
     "metadata": {
      "application/vnd.databricks.v1+output": {
       "addedWidgets": {},
       "arguments": {},
       "data": "<style type=\"text/css\">\n#T_57af4_row0_col0, #T_57af4_row1_col1, #T_57af4_row2_col2, #T_57af4_row3_col3, #T_57af4_row4_col4, #T_57af4_row5_col5, #T_57af4_row6_col6, #T_57af4_row7_col7, #T_57af4_row8_col8 {\n  background-color: #67000d;\n  color: #f1f1f1;\n}\n#T_57af4_row0_col1, #T_57af4_row0_col2, #T_57af4_row1_col0, #T_57af4_row2_col0, #T_57af4_row2_col8, #T_57af4_row8_col2 {\n  background-color: #f75b40;\n  color: #f1f1f1;\n}\n#T_57af4_row0_col3, #T_57af4_row3_col0 {\n  background-color: #d01d1f;\n  color: #f1f1f1;\n}\n#T_57af4_row0_col4, #T_57af4_row4_col0 {\n  background-color: #ea362a;\n  color: #f1f1f1;\n}\n#T_57af4_row0_col5, #T_57af4_row5_col0 {\n  background-color: #fcb296;\n  color: #000000;\n}\n#T_57af4_row0_col6, #T_57af4_row6_col0 {\n  background-color: #fb7151;\n  color: #f1f1f1;\n}\n#T_57af4_row0_col7, #T_57af4_row2_col5, #T_57af4_row5_col2, #T_57af4_row7_col0 {\n  background-color: #fcb99f;\n  color: #000000;\n}\n#T_57af4_row0_col8, #T_57af4_row8_col0 {\n  background-color: #fcc4ad;\n  color: #000000;\n}\n#T_57af4_row1_col2, #T_57af4_row2_col1 {\n  background-color: #c8171c;\n  color: #f1f1f1;\n}\n#T_57af4_row1_col3, #T_57af4_row3_col1 {\n  background-color: #d21f20;\n  color: #f1f1f1;\n}\n#T_57af4_row1_col4, #T_57af4_row4_col1 {\n  background-color: #fb7d5d;\n  color: #f1f1f1;\n}\n#T_57af4_row1_col5, #T_57af4_row5_col1 {\n  background-color: #fc8262;\n  color: #f1f1f1;\n}\n#T_57af4_row1_col6, #T_57af4_row6_col1 {\n  background-color: #fca588;\n  color: #000000;\n}\n#T_57af4_row1_col7, #T_57af4_row7_col1 {\n  background-color: #fc9272;\n  color: #000000;\n}\n#T_57af4_row1_col8, #T_57af4_row8_col1 {\n  background-color: #fb7555;\n  color: #f1f1f1;\n}\n#T_57af4_row2_col3, #T_57af4_row3_col2 {\n  background-color: #f24734;\n  color: #f1f1f1;\n}\n#T_57af4_row2_col4, #T_57af4_row4_col2 {\n  background-color: #b81419;\n  color: #f1f1f1;\n}\n#T_57af4_row2_col6, #T_57af4_row6_col2 {\n  background-color: #fc997a;\n  color: #000000;\n}\n#T_57af4_row2_col7, #T_57af4_row7_col2 {\n  background-color: #fc8d6d;\n  color: #f1f1f1;\n}\n#T_57af4_row3_col4, #T_57af4_row4_col3 {\n  background-color: #f14432;\n  color: #f1f1f1;\n}\n#T_57af4_row3_col5, #T_57af4_row3_col8, #T_57af4_row5_col3, #T_57af4_row8_col3 {\n  background-color: #fcb79c;\n  color: #000000;\n}\n#T_57af4_row3_col6, #T_57af4_row6_col3 {\n  background-color: #fc9373;\n  color: #000000;\n}\n#T_57af4_row3_col7, #T_57af4_row7_col3 {\n  background-color: #fcc2aa;\n  color: #000000;\n}\n#T_57af4_row4_col5, #T_57af4_row5_col4 {\n  background-color: #fcc3ab;\n  color: #000000;\n}\n#T_57af4_row4_col6, #T_57af4_row4_col8, #T_57af4_row6_col4, #T_57af4_row8_col4 {\n  background-color: #fc9576;\n  color: #000000;\n}\n#T_57af4_row4_col7, #T_57af4_row7_col4 {\n  background-color: #fcc1a8;\n  color: #000000;\n}\n#T_57af4_row5_col6, #T_57af4_row6_col5 {\n  background-color: #d72322;\n  color: #f1f1f1;\n}\n#T_57af4_row5_col7, #T_57af4_row7_col5 {\n  background-color: #d82422;\n  color: #f1f1f1;\n}\n#T_57af4_row5_col8, #T_57af4_row8_col5 {\n  background-color: #c1161b;\n  color: #f1f1f1;\n}\n#T_57af4_row6_col7, #T_57af4_row7_col6 {\n  background-color: #d92523;\n  color: #f1f1f1;\n}\n#T_57af4_row6_col8, #T_57af4_row8_col6 {\n  background-color: #f03d2d;\n  color: #f1f1f1;\n}\n#T_57af4_row7_col8, #T_57af4_row8_col7 {\n  background-color: #ac1117;\n  color: #f1f1f1;\n}\n</style>\n<table id=\"T_57af4\">\n  <thead>\n    <tr>\n      <th class=\"blank level0\" >&nbsp;</th>\n      <th id=\"T_57af4_level0_col0\" class=\"col_heading level0 col0\" >mensalidade</th>\n      <th id=\"T_57af4_level0_col1\" class=\"col_heading level0 col1\" >bolsa_integral_cotas</th>\n      <th id=\"T_57af4_level0_col2\" class=\"col_heading level0 col2\" >bolsa_integral_ampla</th>\n      <th id=\"T_57af4_level0_col3\" class=\"col_heading level0 col3\" >bolsa_parcial_cotas</th>\n      <th id=\"T_57af4_level0_col4\" class=\"col_heading level0 col4\" >bolsa_parcial_ampla</th>\n      <th id=\"T_57af4_level0_col5\" class=\"col_heading level0 col5\" >nota_integral_ampla</th>\n      <th id=\"T_57af4_level0_col6\" class=\"col_heading level0 col6\" >nota_integral_cotas</th>\n      <th id=\"T_57af4_level0_col7\" class=\"col_heading level0 col7\" >nota_parcial_ampla</th>\n      <th id=\"T_57af4_level0_col8\" class=\"col_heading level0 col8\" >nota_parcial_cotas</th>\n    </tr>\n  </thead>\n  <tbody>\n    <tr>\n      <th id=\"T_57af4_level0_row0\" class=\"row_heading level0 row0\" >mensalidade</th>\n      <td id=\"T_57af4_row0_col0\" class=\"data row0 col0\" >1.000000</td>\n      <td id=\"T_57af4_row0_col1\" class=\"data row0 col1\" >0.080124</td>\n      <td id=\"T_57af4_row0_col2\" class=\"data row0 col2\" >0.085915</td>\n      <td id=\"T_57af4_row0_col3\" class=\"data row0 col3\" >0.462838</td>\n      <td id=\"T_57af4_row0_col4\" class=\"data row0 col4\" >0.281507</td>\n      <td id=\"T_57af4_row0_col5\" class=\"data row0 col5\" >-0.438041</td>\n      <td id=\"T_57af4_row0_col6\" class=\"data row0 col6\" >-0.042471</td>\n      <td id=\"T_57af4_row0_col7\" class=\"data row0 col7\" >-0.490010</td>\n      <td id=\"T_57af4_row0_col8\" class=\"data row0 col8\" >-0.556348</td>\n    </tr>\n    <tr>\n      <th id=\"T_57af4_level0_row1\" class=\"row_heading level0 row1\" >bolsa_integral_cotas</th>\n      <td id=\"T_57af4_row1_col0\" class=\"data row1 col0\" >0.080124</td>\n      <td id=\"T_57af4_row1_col1\" class=\"data row1 col1\" >1.000000</td>\n      <td id=\"T_57af4_row1_col2\" class=\"data row1 col2\" >0.520982</td>\n      <td id=\"T_57af4_row1_col3\" class=\"data row1 col3\" >0.451340</td>\n      <td id=\"T_57af4_row1_col4\" class=\"data row1 col4\" >-0.120903</td>\n      <td id=\"T_57af4_row1_col5\" class=\"data row1 col5\" >-0.155176</td>\n      <td id=\"T_57af4_row1_col6\" class=\"data row1 col6\" >-0.360329</td>\n      <td id=\"T_57af4_row1_col7\" class=\"data row1 col7\" >-0.247502</td>\n      <td id=\"T_57af4_row1_col8\" class=\"data row1 col8\" >-0.064000</td>\n    </tr>\n    <tr>\n      <th id=\"T_57af4_level0_row2\" class=\"row_heading level0 row2\" >bolsa_integral_ampla</th>\n      <td id=\"T_57af4_row2_col0\" class=\"data row2 col0\" >0.085915</td>\n      <td id=\"T_57af4_row2_col1\" class=\"data row2 col1\" >0.520982</td>\n      <td id=\"T_57af4_row2_col2\" class=\"data row2 col2\" >1.000000</td>\n      <td id=\"T_57af4_row2_col3\" class=\"data row2 col3\" >0.182384</td>\n      <td id=\"T_57af4_row2_col4\" class=\"data row2 col4\" >0.620009</td>\n      <td id=\"T_57af4_row2_col5\" class=\"data row2 col5\" >-0.489539</td>\n      <td id=\"T_57af4_row2_col6\" class=\"data row2 col6\" >-0.293681</td>\n      <td id=\"T_57af4_row2_col7\" class=\"data row2 col7\" >-0.218251</td>\n      <td id=\"T_57af4_row2_col8\" class=\"data row2 col8\" >0.084619</td>\n    </tr>\n    <tr>\n      <th id=\"T_57af4_level0_row3\" class=\"row_heading level0 row3\" >bolsa_parcial_cotas</th>\n      <td id=\"T_57af4_row3_col0\" class=\"data row3 col0\" >0.462838</td>\n      <td id=\"T_57af4_row3_col1\" class=\"data row3 col1\" >0.451340</td>\n      <td id=\"T_57af4_row3_col2\" class=\"data row3 col2\" >0.182384</td>\n      <td id=\"T_57af4_row3_col3\" class=\"data row3 col3\" >1.000000</td>\n      <td id=\"T_57af4_row3_col4\" class=\"data row3 col4\" >0.195821</td>\n      <td id=\"T_57af4_row3_col5\" class=\"data row3 col5\" >-0.468888</td>\n      <td id=\"T_57af4_row3_col6\" class=\"data row3 col6\" >-0.253827</td>\n      <td id=\"T_57af4_row3_col7\" class=\"data row3 col7\" >-0.546129</td>\n      <td id=\"T_57af4_row3_col8\" class=\"data row3 col8\" >-0.469743</td>\n    </tr>\n    <tr>\n      <th id=\"T_57af4_level0_row4\" class=\"row_heading level0 row4\" >bolsa_parcial_ampla</th>\n      <td id=\"T_57af4_row4_col0\" class=\"data row4 col0\" >0.281507</td>\n      <td id=\"T_57af4_row4_col1\" class=\"data row4 col1\" >-0.120903</td>\n      <td id=\"T_57af4_row4_col2\" class=\"data row4 col2\" >0.620009</td>\n      <td id=\"T_57af4_row4_col3\" class=\"data row4 col3\" >0.195821</td>\n      <td id=\"T_57af4_row4_col4\" class=\"data row4 col4\" >1.000000</td>\n      <td id=\"T_57af4_row4_col5\" class=\"data row4 col5\" >-0.549894</td>\n      <td id=\"T_57af4_row4_col6\" class=\"data row4 col6\" >-0.270162</td>\n      <td id=\"T_57af4_row4_col7\" class=\"data row4 col7\" >-0.534464</td>\n      <td id=\"T_57af4_row4_col8\" class=\"data row4 col8\" >-0.266389</td>\n    </tr>\n    <tr>\n      <th id=\"T_57af4_level0_row5\" class=\"row_heading level0 row5\" >nota_integral_ampla</th>\n      <td id=\"T_57af4_row5_col0\" class=\"data row5 col0\" >-0.438041</td>\n      <td id=\"T_57af4_row5_col1\" class=\"data row5 col1\" >-0.155176</td>\n      <td id=\"T_57af4_row5_col2\" class=\"data row5 col2\" >-0.489539</td>\n      <td id=\"T_57af4_row5_col3\" class=\"data row5 col3\" >-0.468888</td>\n      <td id=\"T_57af4_row5_col4\" class=\"data row5 col4\" >-0.549894</td>\n      <td id=\"T_57af4_row5_col5\" class=\"data row5 col5\" >1.000000</td>\n      <td id=\"T_57af4_row5_col6\" class=\"data row5 col6\" >0.420823</td>\n      <td id=\"T_57af4_row5_col7\" class=\"data row5 col7\" >0.409216</td>\n      <td id=\"T_57af4_row5_col8\" class=\"data row5 col8\" >0.563932</td>\n    </tr>\n    <tr>\n      <th id=\"T_57af4_level0_row6\" class=\"row_heading level0 row6\" >nota_integral_cotas</th>\n      <td id=\"T_57af4_row6_col0\" class=\"data row6 col0\" >-0.042471</td>\n      <td id=\"T_57af4_row6_col1\" class=\"data row6 col1\" >-0.360329</td>\n      <td id=\"T_57af4_row6_col2\" class=\"data row6 col2\" >-0.293681</td>\n      <td id=\"T_57af4_row6_col3\" class=\"data row6 col3\" >-0.253827</td>\n      <td id=\"T_57af4_row6_col4\" class=\"data row6 col4\" >-0.270162</td>\n      <td id=\"T_57af4_row6_col5\" class=\"data row6 col5\" >0.420823</td>\n      <td id=\"T_57af4_row6_col6\" class=\"data row6 col6\" >1.000000</td>\n      <td id=\"T_57af4_row6_col7\" class=\"data row6 col7\" >0.402048</td>\n      <td id=\"T_57af4_row6_col8\" class=\"data row6 col8\" >0.237963</td>\n    </tr>\n    <tr>\n      <th id=\"T_57af4_level0_row7\" class=\"row_heading level0 row7\" >nota_parcial_ampla</th>\n      <td id=\"T_57af4_row7_col0\" class=\"data row7 col0\" >-0.490010</td>\n      <td id=\"T_57af4_row7_col1\" class=\"data row7 col1\" >-0.247502</td>\n      <td id=\"T_57af4_row7_col2\" class=\"data row7 col2\" >-0.218251</td>\n      <td id=\"T_57af4_row7_col3\" class=\"data row7 col3\" >-0.546129</td>\n      <td id=\"T_57af4_row7_col4\" class=\"data row7 col4\" >-0.534464</td>\n      <td id=\"T_57af4_row7_col5\" class=\"data row7 col5\" >0.409216</td>\n      <td id=\"T_57af4_row7_col6\" class=\"data row7 col6\" >0.402048</td>\n      <td id=\"T_57af4_row7_col7\" class=\"data row7 col7\" >1.000000</td>\n      <td id=\"T_57af4_row7_col8\" class=\"data row7 col8\" >0.702974</td>\n    </tr>\n    <tr>\n      <th id=\"T_57af4_level0_row8\" class=\"row_heading level0 row8\" >nota_parcial_cotas</th>\n      <td id=\"T_57af4_row8_col0\" class=\"data row8 col0\" >-0.556348</td>\n      <td id=\"T_57af4_row8_col1\" class=\"data row8 col1\" >-0.064000</td>\n      <td id=\"T_57af4_row8_col2\" class=\"data row8 col2\" >0.084619</td>\n      <td id=\"T_57af4_row8_col3\" class=\"data row8 col3\" >-0.469743</td>\n      <td id=\"T_57af4_row8_col4\" class=\"data row8 col4\" >-0.266389</td>\n      <td id=\"T_57af4_row8_col5\" class=\"data row8 col5\" >0.563932</td>\n      <td id=\"T_57af4_row8_col6\" class=\"data row8 col6\" >0.237963</td>\n      <td id=\"T_57af4_row8_col7\" class=\"data row8 col7\" >0.702974</td>\n      <td id=\"T_57af4_row8_col8\" class=\"data row8 col8\" >1.000000</td>\n    </tr>\n  </tbody>\n</table>\n",
       "datasetInfos": [],
       "metadata": {},
       "removedWidgets": [],
       "textData": null,
       "type": "htmlSandbox"
      }
     },
     "output_type": "display_data"
    }
   ],
   "source": [
    "# matriz de correlação\n",
    "\n",
    "aux.corr().style.background_gradient(cmap=\"Reds\",vmin=-1,vmax=1)"
   ]
  },
  {
   "cell_type": "markdown",
   "metadata": {
    "application/vnd.databricks.v1+cell": {
     "cellMetadata": {
      "byteLimit": 2048000,
      "rowLimit": 10000
     },
     "inputWidgets": {},
     "nuid": "db2243ea-9071-474e-9ac9-2e409568d14b",
     "showTitle": false,
     "tableResultSettingsMap": {},
     "title": ""
    }
   },
   "source": [
    "Pode-se oberservar uma leve corelação positva entre a mensalidade a quantidade de bolsas parciais para cotas"
   ]
  },
  {
   "cell_type": "code",
   "execution_count": 0,
   "metadata": {
    "application/vnd.databricks.v1+cell": {
     "cellMetadata": {
      "byteLimit": 2048000,
      "rowLimit": 10000
     },
     "inputWidgets": {},
     "nuid": "ee15e3f2-6d8f-4646-abce-b15ad02a5002",
     "showTitle": false,
     "tableResultSettingsMap": {},
     "title": ""
    }
   },
   "outputs": [
    {
     "output_type": "display_data",
     "data": {
      "text/html": [
       "<html>\n",
       "<head><meta charset=\"utf-8\" /></head>\n",
       "<body>\n",
       "    <div>            <script src=\"https://cdnjs.cloudflare.com/ajax/libs/mathjax/2.7.5/MathJax.js?config=TeX-AMS-MML_SVG\"></script><script type=\"text/javascript\">if (window.MathJax) {MathJax.Hub.Config({SVG: {font: \"STIX-Web\"}});}</script>                <script type=\"text/javascript\">window.PlotlyConfig = {MathJaxConfig: 'local'};</script>\n",
       "        <script src=\"https://cdn.plot.ly/plotly-2.9.0.min.js\"></script>                <div id=\"c6d68b93-8e4a-4fb8-a565-46b806f825ab\" class=\"plotly-graph-div\" style=\"height:100%; width:100%;\"></div>            <script type=\"text/javascript\">                                    window.PLOTLYENV=window.PLOTLYENV || {};                                    if (document.getElementById(\"c6d68b93-8e4a-4fb8-a565-46b806f825ab\")) {                    Plotly.newPlot(                        \"c6d68b93-8e4a-4fb8-a565-46b806f825ab\",                        [{\"hovertemplate\":\"mensalidade=%{x}<br>bolsa_parcial_cotas=%{y}<extra></extra>\",\"legendgroup\":\"\",\"marker\":{\"color\":\"#636efa\",\"symbol\":\"circle\"},\"mode\":\"markers\",\"name\":\"\",\"orientation\":\"v\",\"showlegend\":false,\"x\":[8300.0,7316.79,7009.97,6498.55,9123.07,6113.0,7130.0,9815.61,9774.34,8608.54,8381.37,7850.0,8381.38,7512.7,8295.0],\"xaxis\":\"x\",\"y\":[4,4,9,1,5,1,1,6,5,7,8,1,6,5,4],\"yaxis\":\"y\",\"type\":\"scatter\"}],                        {\"template\":{\"data\":{\"bar\":[{\"error_x\":{\"color\":\"#2a3f5f\"},\"error_y\":{\"color\":\"#2a3f5f\"},\"marker\":{\"line\":{\"color\":\"#E5ECF6\",\"width\":0.5},\"pattern\":{\"fillmode\":\"overlay\",\"size\":10,\"solidity\":0.2}},\"type\":\"bar\"}],\"barpolar\":[{\"marker\":{\"line\":{\"color\":\"#E5ECF6\",\"width\":0.5},\"pattern\":{\"fillmode\":\"overlay\",\"size\":10,\"solidity\":0.2}},\"type\":\"barpolar\"}],\"carpet\":[{\"aaxis\":{\"endlinecolor\":\"#2a3f5f\",\"gridcolor\":\"white\",\"linecolor\":\"white\",\"minorgridcolor\":\"white\",\"startlinecolor\":\"#2a3f5f\"},\"baxis\":{\"endlinecolor\":\"#2a3f5f\",\"gridcolor\":\"white\",\"linecolor\":\"white\",\"minorgridcolor\":\"white\",\"startlinecolor\":\"#2a3f5f\"},\"type\":\"carpet\"}],\"choropleth\":[{\"colorbar\":{\"outlinewidth\":0,\"ticks\":\"\"},\"type\":\"choropleth\"}],\"contour\":[{\"colorbar\":{\"outlinewidth\":0,\"ticks\":\"\"},\"colorscale\":[[0.0,\"#0d0887\"],[0.1111111111111111,\"#46039f\"],[0.2222222222222222,\"#7201a8\"],[0.3333333333333333,\"#9c179e\"],[0.4444444444444444,\"#bd3786\"],[0.5555555555555556,\"#d8576b\"],[0.6666666666666666,\"#ed7953\"],[0.7777777777777778,\"#fb9f3a\"],[0.8888888888888888,\"#fdca26\"],[1.0,\"#f0f921\"]],\"type\":\"contour\"}],\"contourcarpet\":[{\"colorbar\":{\"outlinewidth\":0,\"ticks\":\"\"},\"type\":\"contourcarpet\"}],\"heatmap\":[{\"colorbar\":{\"outlinewidth\":0,\"ticks\":\"\"},\"colorscale\":[[0.0,\"#0d0887\"],[0.1111111111111111,\"#46039f\"],[0.2222222222222222,\"#7201a8\"],[0.3333333333333333,\"#9c179e\"],[0.4444444444444444,\"#bd3786\"],[0.5555555555555556,\"#d8576b\"],[0.6666666666666666,\"#ed7953\"],[0.7777777777777778,\"#fb9f3a\"],[0.8888888888888888,\"#fdca26\"],[1.0,\"#f0f921\"]],\"type\":\"heatmap\"}],\"heatmapgl\":[{\"colorbar\":{\"outlinewidth\":0,\"ticks\":\"\"},\"colorscale\":[[0.0,\"#0d0887\"],[0.1111111111111111,\"#46039f\"],[0.2222222222222222,\"#7201a8\"],[0.3333333333333333,\"#9c179e\"],[0.4444444444444444,\"#bd3786\"],[0.5555555555555556,\"#d8576b\"],[0.6666666666666666,\"#ed7953\"],[0.7777777777777778,\"#fb9f3a\"],[0.8888888888888888,\"#fdca26\"],[1.0,\"#f0f921\"]],\"type\":\"heatmapgl\"}],\"histogram\":[{\"marker\":{\"pattern\":{\"fillmode\":\"overlay\",\"size\":10,\"solidity\":0.2}},\"type\":\"histogram\"}],\"histogram2d\":[{\"colorbar\":{\"outlinewidth\":0,\"ticks\":\"\"},\"colorscale\":[[0.0,\"#0d0887\"],[0.1111111111111111,\"#46039f\"],[0.2222222222222222,\"#7201a8\"],[0.3333333333333333,\"#9c179e\"],[0.4444444444444444,\"#bd3786\"],[0.5555555555555556,\"#d8576b\"],[0.6666666666666666,\"#ed7953\"],[0.7777777777777778,\"#fb9f3a\"],[0.8888888888888888,\"#fdca26\"],[1.0,\"#f0f921\"]],\"type\":\"histogram2d\"}],\"histogram2dcontour\":[{\"colorbar\":{\"outlinewidth\":0,\"ticks\":\"\"},\"colorscale\":[[0.0,\"#0d0887\"],[0.1111111111111111,\"#46039f\"],[0.2222222222222222,\"#7201a8\"],[0.3333333333333333,\"#9c179e\"],[0.4444444444444444,\"#bd3786\"],[0.5555555555555556,\"#d8576b\"],[0.6666666666666666,\"#ed7953\"],[0.7777777777777778,\"#fb9f3a\"],[0.8888888888888888,\"#fdca26\"],[1.0,\"#f0f921\"]],\"type\":\"histogram2dcontour\"}],\"mesh3d\":[{\"colorbar\":{\"outlinewidth\":0,\"ticks\":\"\"},\"type\":\"mesh3d\"}],\"parcoords\":[{\"line\":{\"colorbar\":{\"outlinewidth\":0,\"ticks\":\"\"}},\"type\":\"parcoords\"}],\"pie\":[{\"automargin\":true,\"type\":\"pie\"}],\"scatter\":[{\"marker\":{\"colorbar\":{\"outlinewidth\":0,\"ticks\":\"\"}},\"type\":\"scatter\"}],\"scatter3d\":[{\"line\":{\"colorbar\":{\"outlinewidth\":0,\"ticks\":\"\"}},\"marker\":{\"colorbar\":{\"outlinewidth\":0,\"ticks\":\"\"}},\"type\":\"scatter3d\"}],\"scattercarpet\":[{\"marker\":{\"colorbar\":{\"outlinewidth\":0,\"ticks\":\"\"}},\"type\":\"scattercarpet\"}],\"scattergeo\":[{\"marker\":{\"colorbar\":{\"outlinewidth\":0,\"ticks\":\"\"}},\"type\":\"scattergeo\"}],\"scattergl\":[{\"marker\":{\"colorbar\":{\"outlinewidth\":0,\"ticks\":\"\"}},\"type\":\"scattergl\"}],\"scattermapbox\":[{\"marker\":{\"colorbar\":{\"outlinewidth\":0,\"ticks\":\"\"}},\"type\":\"scattermapbox\"}],\"scatterpolar\":[{\"marker\":{\"colorbar\":{\"outlinewidth\":0,\"ticks\":\"\"}},\"type\":\"scatterpolar\"}],\"scatterpolargl\":[{\"marker\":{\"colorbar\":{\"outlinewidth\":0,\"ticks\":\"\"}},\"type\":\"scatterpolargl\"}],\"scatterternary\":[{\"marker\":{\"colorbar\":{\"outlinewidth\":0,\"ticks\":\"\"}},\"type\":\"scatterternary\"}],\"surface\":[{\"colorbar\":{\"outlinewidth\":0,\"ticks\":\"\"},\"colorscale\":[[0.0,\"#0d0887\"],[0.1111111111111111,\"#46039f\"],[0.2222222222222222,\"#7201a8\"],[0.3333333333333333,\"#9c179e\"],[0.4444444444444444,\"#bd3786\"],[0.5555555555555556,\"#d8576b\"],[0.6666666666666666,\"#ed7953\"],[0.7777777777777778,\"#fb9f3a\"],[0.8888888888888888,\"#fdca26\"],[1.0,\"#f0f921\"]],\"type\":\"surface\"}],\"table\":[{\"cells\":{\"fill\":{\"color\":\"#EBF0F8\"},\"line\":{\"color\":\"white\"}},\"header\":{\"fill\":{\"color\":\"#C8D4E3\"},\"line\":{\"color\":\"white\"}},\"type\":\"table\"}]},\"layout\":{\"annotationdefaults\":{\"arrowcolor\":\"#2a3f5f\",\"arrowhead\":0,\"arrowwidth\":1},\"autotypenumbers\":\"strict\",\"coloraxis\":{\"colorbar\":{\"outlinewidth\":0,\"ticks\":\"\"}},\"colorscale\":{\"diverging\":[[0,\"#8e0152\"],[0.1,\"#c51b7d\"],[0.2,\"#de77ae\"],[0.3,\"#f1b6da\"],[0.4,\"#fde0ef\"],[0.5,\"#f7f7f7\"],[0.6,\"#e6f5d0\"],[0.7,\"#b8e186\"],[0.8,\"#7fbc41\"],[0.9,\"#4d9221\"],[1,\"#276419\"]],\"sequential\":[[0.0,\"#0d0887\"],[0.1111111111111111,\"#46039f\"],[0.2222222222222222,\"#7201a8\"],[0.3333333333333333,\"#9c179e\"],[0.4444444444444444,\"#bd3786\"],[0.5555555555555556,\"#d8576b\"],[0.6666666666666666,\"#ed7953\"],[0.7777777777777778,\"#fb9f3a\"],[0.8888888888888888,\"#fdca26\"],[1.0,\"#f0f921\"]],\"sequentialminus\":[[0.0,\"#0d0887\"],[0.1111111111111111,\"#46039f\"],[0.2222222222222222,\"#7201a8\"],[0.3333333333333333,\"#9c179e\"],[0.4444444444444444,\"#bd3786\"],[0.5555555555555556,\"#d8576b\"],[0.6666666666666666,\"#ed7953\"],[0.7777777777777778,\"#fb9f3a\"],[0.8888888888888888,\"#fdca26\"],[1.0,\"#f0f921\"]]},\"colorway\":[\"#636efa\",\"#EF553B\",\"#00cc96\",\"#ab63fa\",\"#FFA15A\",\"#19d3f3\",\"#FF6692\",\"#B6E880\",\"#FF97FF\",\"#FECB52\"],\"font\":{\"color\":\"#2a3f5f\"},\"geo\":{\"bgcolor\":\"white\",\"lakecolor\":\"white\",\"landcolor\":\"#E5ECF6\",\"showlakes\":true,\"showland\":true,\"subunitcolor\":\"white\"},\"hoverlabel\":{\"align\":\"left\"},\"hovermode\":\"closest\",\"mapbox\":{\"style\":\"light\"},\"paper_bgcolor\":\"white\",\"plot_bgcolor\":\"#E5ECF6\",\"polar\":{\"angularaxis\":{\"gridcolor\":\"white\",\"linecolor\":\"white\",\"ticks\":\"\"},\"bgcolor\":\"#E5ECF6\",\"radialaxis\":{\"gridcolor\":\"white\",\"linecolor\":\"white\",\"ticks\":\"\"}},\"scene\":{\"xaxis\":{\"backgroundcolor\":\"#E5ECF6\",\"gridcolor\":\"white\",\"gridwidth\":2,\"linecolor\":\"white\",\"showbackground\":true,\"ticks\":\"\",\"zerolinecolor\":\"white\"},\"yaxis\":{\"backgroundcolor\":\"#E5ECF6\",\"gridcolor\":\"white\",\"gridwidth\":2,\"linecolor\":\"white\",\"showbackground\":true,\"ticks\":\"\",\"zerolinecolor\":\"white\"},\"zaxis\":{\"backgroundcolor\":\"#E5ECF6\",\"gridcolor\":\"white\",\"gridwidth\":2,\"linecolor\":\"white\",\"showbackground\":true,\"ticks\":\"\",\"zerolinecolor\":\"white\"}},\"shapedefaults\":{\"line\":{\"color\":\"#2a3f5f\"}},\"ternary\":{\"aaxis\":{\"gridcolor\":\"white\",\"linecolor\":\"white\",\"ticks\":\"\"},\"baxis\":{\"gridcolor\":\"white\",\"linecolor\":\"white\",\"ticks\":\"\"},\"bgcolor\":\"#E5ECF6\",\"caxis\":{\"gridcolor\":\"white\",\"linecolor\":\"white\",\"ticks\":\"\"}},\"title\":{\"x\":0.05},\"xaxis\":{\"automargin\":true,\"gridcolor\":\"white\",\"linecolor\":\"white\",\"ticks\":\"\",\"title\":{\"standoff\":15},\"zerolinecolor\":\"white\",\"zerolinewidth\":2},\"yaxis\":{\"automargin\":true,\"gridcolor\":\"white\",\"linecolor\":\"white\",\"ticks\":\"\",\"title\":{\"standoff\":15},\"zerolinecolor\":\"white\",\"zerolinewidth\":2}}},\"xaxis\":{\"anchor\":\"y\",\"domain\":[0.0,1.0],\"title\":{\"text\":\"mensalidade\"}},\"yaxis\":{\"anchor\":\"x\",\"domain\":[0.0,1.0],\"title\":{\"text\":\"bolsa_parcial_cotas\"}},\"legend\":{\"tracegroupgap\":0},\"margin\":{\"t\":60}},                        {\"responsive\": true}                    )                };                            </script>        </div>\n",
       "</body>\n",
       "</html>"
      ]
     },
     "metadata": {
      "application/vnd.databricks.v1+output": {
       "addedWidgets": {},
       "arguments": {},
       "data": "<html>\n<head><meta charset=\"utf-8\" /></head>\n<body>\n    <div>            <script src=\"https://cdnjs.cloudflare.com/ajax/libs/mathjax/2.7.5/MathJax.js?config=TeX-AMS-MML_SVG\"></script><script type=\"text/javascript\">if (window.MathJax) {MathJax.Hub.Config({SVG: {font: \"STIX-Web\"}});}</script>                <script type=\"text/javascript\">window.PlotlyConfig = {MathJaxConfig: 'local'};</script>\n        <script src=\"https://cdn.plot.ly/plotly-2.9.0.min.js\"></script>                <div id=\"c6d68b93-8e4a-4fb8-a565-46b806f825ab\" class=\"plotly-graph-div\" style=\"height:100%; width:100%;\"></div>            <script type=\"text/javascript\">                                    window.PLOTLYENV=window.PLOTLYENV || {};                                    if (document.getElementById(\"c6d68b93-8e4a-4fb8-a565-46b806f825ab\")) {                    Plotly.newPlot(                        \"c6d68b93-8e4a-4fb8-a565-46b806f825ab\",                        [{\"hovertemplate\":\"mensalidade=%{x}<br>bolsa_parcial_cotas=%{y}<extra></extra>\",\"legendgroup\":\"\",\"marker\":{\"color\":\"#636efa\",\"symbol\":\"circle\"},\"mode\":\"markers\",\"name\":\"\",\"orientation\":\"v\",\"showlegend\":false,\"x\":[8300.0,7316.79,7009.97,6498.55,9123.07,6113.0,7130.0,9815.61,9774.34,8608.54,8381.37,7850.0,8381.38,7512.7,8295.0],\"xaxis\":\"x\",\"y\":[4,4,9,1,5,1,1,6,5,7,8,1,6,5,4],\"yaxis\":\"y\",\"type\":\"scatter\"}],                        {\"template\":{\"data\":{\"bar\":[{\"error_x\":{\"color\":\"#2a3f5f\"},\"error_y\":{\"color\":\"#2a3f5f\"},\"marker\":{\"line\":{\"color\":\"#E5ECF6\",\"width\":0.5},\"pattern\":{\"fillmode\":\"overlay\",\"size\":10,\"solidity\":0.2}},\"type\":\"bar\"}],\"barpolar\":[{\"marker\":{\"line\":{\"color\":\"#E5ECF6\",\"width\":0.5},\"pattern\":{\"fillmode\":\"overlay\",\"size\":10,\"solidity\":0.2}},\"type\":\"barpolar\"}],\"carpet\":[{\"aaxis\":{\"endlinecolor\":\"#2a3f5f\",\"gridcolor\":\"white\",\"linecolor\":\"white\",\"minorgridcolor\":\"white\",\"startlinecolor\":\"#2a3f5f\"},\"baxis\":{\"endlinecolor\":\"#2a3f5f\",\"gridcolor\":\"white\",\"linecolor\":\"white\",\"minorgridcolor\":\"white\",\"startlinecolor\":\"#2a3f5f\"},\"type\":\"carpet\"}],\"choropleth\":[{\"colorbar\":{\"outlinewidth\":0,\"ticks\":\"\"},\"type\":\"choropleth\"}],\"contour\":[{\"colorbar\":{\"outlinewidth\":0,\"ticks\":\"\"},\"colorscale\":[[0.0,\"#0d0887\"],[0.1111111111111111,\"#46039f\"],[0.2222222222222222,\"#7201a8\"],[0.3333333333333333,\"#9c179e\"],[0.4444444444444444,\"#bd3786\"],[0.5555555555555556,\"#d8576b\"],[0.6666666666666666,\"#ed7953\"],[0.7777777777777778,\"#fb9f3a\"],[0.8888888888888888,\"#fdca26\"],[1.0,\"#f0f921\"]],\"type\":\"contour\"}],\"contourcarpet\":[{\"colorbar\":{\"outlinewidth\":0,\"ticks\":\"\"},\"type\":\"contourcarpet\"}],\"heatmap\":[{\"colorbar\":{\"outlinewidth\":0,\"ticks\":\"\"},\"colorscale\":[[0.0,\"#0d0887\"],[0.1111111111111111,\"#46039f\"],[0.2222222222222222,\"#7201a8\"],[0.3333333333333333,\"#9c179e\"],[0.4444444444444444,\"#bd3786\"],[0.5555555555555556,\"#d8576b\"],[0.6666666666666666,\"#ed7953\"],[0.7777777777777778,\"#fb9f3a\"],[0.8888888888888888,\"#fdca26\"],[1.0,\"#f0f921\"]],\"type\":\"heatmap\"}],\"heatmapgl\":[{\"colorbar\":{\"outlinewidth\":0,\"ticks\":\"\"},\"colorscale\":[[0.0,\"#0d0887\"],[0.1111111111111111,\"#46039f\"],[0.2222222222222222,\"#7201a8\"],[0.3333333333333333,\"#9c179e\"],[0.4444444444444444,\"#bd3786\"],[0.5555555555555556,\"#d8576b\"],[0.6666666666666666,\"#ed7953\"],[0.7777777777777778,\"#fb9f3a\"],[0.8888888888888888,\"#fdca26\"],[1.0,\"#f0f921\"]],\"type\":\"heatmapgl\"}],\"histogram\":[{\"marker\":{\"pattern\":{\"fillmode\":\"overlay\",\"size\":10,\"solidity\":0.2}},\"type\":\"histogram\"}],\"histogram2d\":[{\"colorbar\":{\"outlinewidth\":0,\"ticks\":\"\"},\"colorscale\":[[0.0,\"#0d0887\"],[0.1111111111111111,\"#46039f\"],[0.2222222222222222,\"#7201a8\"],[0.3333333333333333,\"#9c179e\"],[0.4444444444444444,\"#bd3786\"],[0.5555555555555556,\"#d8576b\"],[0.6666666666666666,\"#ed7953\"],[0.7777777777777778,\"#fb9f3a\"],[0.8888888888888888,\"#fdca26\"],[1.0,\"#f0f921\"]],\"type\":\"histogram2d\"}],\"histogram2dcontour\":[{\"colorbar\":{\"outlinewidth\":0,\"ticks\":\"\"},\"colorscale\":[[0.0,\"#0d0887\"],[0.1111111111111111,\"#46039f\"],[0.2222222222222222,\"#7201a8\"],[0.3333333333333333,\"#9c179e\"],[0.4444444444444444,\"#bd3786\"],[0.5555555555555556,\"#d8576b\"],[0.6666666666666666,\"#ed7953\"],[0.7777777777777778,\"#fb9f3a\"],[0.8888888888888888,\"#fdca26\"],[1.0,\"#f0f921\"]],\"type\":\"histogram2dcontour\"}],\"mesh3d\":[{\"colorbar\":{\"outlinewidth\":0,\"ticks\":\"\"},\"type\":\"mesh3d\"}],\"parcoords\":[{\"line\":{\"colorbar\":{\"outlinewidth\":0,\"ticks\":\"\"}},\"type\":\"parcoords\"}],\"pie\":[{\"automargin\":true,\"type\":\"pie\"}],\"scatter\":[{\"marker\":{\"colorbar\":{\"outlinewidth\":0,\"ticks\":\"\"}},\"type\":\"scatter\"}],\"scatter3d\":[{\"line\":{\"colorbar\":{\"outlinewidth\":0,\"ticks\":\"\"}},\"marker\":{\"colorbar\":{\"outlinewidth\":0,\"ticks\":\"\"}},\"type\":\"scatter3d\"}],\"scattercarpet\":[{\"marker\":{\"colorbar\":{\"outlinewidth\":0,\"ticks\":\"\"}},\"type\":\"scattercarpet\"}],\"scattergeo\":[{\"marker\":{\"colorbar\":{\"outlinewidth\":0,\"ticks\":\"\"}},\"type\":\"scattergeo\"}],\"scattergl\":[{\"marker\":{\"colorbar\":{\"outlinewidth\":0,\"ticks\":\"\"}},\"type\":\"scattergl\"}],\"scattermapbox\":[{\"marker\":{\"colorbar\":{\"outlinewidth\":0,\"ticks\":\"\"}},\"type\":\"scattermapbox\"}],\"scatterpolar\":[{\"marker\":{\"colorbar\":{\"outlinewidth\":0,\"ticks\":\"\"}},\"type\":\"scatterpolar\"}],\"scatterpolargl\":[{\"marker\":{\"colorbar\":{\"outlinewidth\":0,\"ticks\":\"\"}},\"type\":\"scatterpolargl\"}],\"scatterternary\":[{\"marker\":{\"colorbar\":{\"outlinewidth\":0,\"ticks\":\"\"}},\"type\":\"scatterternary\"}],\"surface\":[{\"colorbar\":{\"outlinewidth\":0,\"ticks\":\"\"},\"colorscale\":[[0.0,\"#0d0887\"],[0.1111111111111111,\"#46039f\"],[0.2222222222222222,\"#7201a8\"],[0.3333333333333333,\"#9c179e\"],[0.4444444444444444,\"#bd3786\"],[0.5555555555555556,\"#d8576b\"],[0.6666666666666666,\"#ed7953\"],[0.7777777777777778,\"#fb9f3a\"],[0.8888888888888888,\"#fdca26\"],[1.0,\"#f0f921\"]],\"type\":\"surface\"}],\"table\":[{\"cells\":{\"fill\":{\"color\":\"#EBF0F8\"},\"line\":{\"color\":\"white\"}},\"header\":{\"fill\":{\"color\":\"#C8D4E3\"},\"line\":{\"color\":\"white\"}},\"type\":\"table\"}]},\"layout\":{\"annotationdefaults\":{\"arrowcolor\":\"#2a3f5f\",\"arrowhead\":0,\"arrowwidth\":1},\"autotypenumbers\":\"strict\",\"coloraxis\":{\"colorbar\":{\"outlinewidth\":0,\"ticks\":\"\"}},\"colorscale\":{\"diverging\":[[0,\"#8e0152\"],[0.1,\"#c51b7d\"],[0.2,\"#de77ae\"],[0.3,\"#f1b6da\"],[0.4,\"#fde0ef\"],[0.5,\"#f7f7f7\"],[0.6,\"#e6f5d0\"],[0.7,\"#b8e186\"],[0.8,\"#7fbc41\"],[0.9,\"#4d9221\"],[1,\"#276419\"]],\"sequential\":[[0.0,\"#0d0887\"],[0.1111111111111111,\"#46039f\"],[0.2222222222222222,\"#7201a8\"],[0.3333333333333333,\"#9c179e\"],[0.4444444444444444,\"#bd3786\"],[0.5555555555555556,\"#d8576b\"],[0.6666666666666666,\"#ed7953\"],[0.7777777777777778,\"#fb9f3a\"],[0.8888888888888888,\"#fdca26\"],[1.0,\"#f0f921\"]],\"sequentialminus\":[[0.0,\"#0d0887\"],[0.1111111111111111,\"#46039f\"],[0.2222222222222222,\"#7201a8\"],[0.3333333333333333,\"#9c179e\"],[0.4444444444444444,\"#bd3786\"],[0.5555555555555556,\"#d8576b\"],[0.6666666666666666,\"#ed7953\"],[0.7777777777777778,\"#fb9f3a\"],[0.8888888888888888,\"#fdca26\"],[1.0,\"#f0f921\"]]},\"colorway\":[\"#636efa\",\"#EF553B\",\"#00cc96\",\"#ab63fa\",\"#FFA15A\",\"#19d3f3\",\"#FF6692\",\"#B6E880\",\"#FF97FF\",\"#FECB52\"],\"font\":{\"color\":\"#2a3f5f\"},\"geo\":{\"bgcolor\":\"white\",\"lakecolor\":\"white\",\"landcolor\":\"#E5ECF6\",\"showlakes\":true,\"showland\":true,\"subunitcolor\":\"white\"},\"hoverlabel\":{\"align\":\"left\"},\"hovermode\":\"closest\",\"mapbox\":{\"style\":\"light\"},\"paper_bgcolor\":\"white\",\"plot_bgcolor\":\"#E5ECF6\",\"polar\":{\"angularaxis\":{\"gridcolor\":\"white\",\"linecolor\":\"white\",\"ticks\":\"\"},\"bgcolor\":\"#E5ECF6\",\"radialaxis\":{\"gridcolor\":\"white\",\"linecolor\":\"white\",\"ticks\":\"\"}},\"scene\":{\"xaxis\":{\"backgroundcolor\":\"#E5ECF6\",\"gridcolor\":\"white\",\"gridwidth\":2,\"linecolor\":\"white\",\"showbackground\":true,\"ticks\":\"\",\"zerolinecolor\":\"white\"},\"yaxis\":{\"backgroundcolor\":\"#E5ECF6\",\"gridcolor\":\"white\",\"gridwidth\":2,\"linecolor\":\"white\",\"showbackground\":true,\"ticks\":\"\",\"zerolinecolor\":\"white\"},\"zaxis\":{\"backgroundcolor\":\"#E5ECF6\",\"gridcolor\":\"white\",\"gridwidth\":2,\"linecolor\":\"white\",\"showbackground\":true,\"ticks\":\"\",\"zerolinecolor\":\"white\"}},\"shapedefaults\":{\"line\":{\"color\":\"#2a3f5f\"}},\"ternary\":{\"aaxis\":{\"gridcolor\":\"white\",\"linecolor\":\"white\",\"ticks\":\"\"},\"baxis\":{\"gridcolor\":\"white\",\"linecolor\":\"white\",\"ticks\":\"\"},\"bgcolor\":\"#E5ECF6\",\"caxis\":{\"gridcolor\":\"white\",\"linecolor\":\"white\",\"ticks\":\"\"}},\"title\":{\"x\":0.05},\"xaxis\":{\"automargin\":true,\"gridcolor\":\"white\",\"linecolor\":\"white\",\"ticks\":\"\",\"title\":{\"standoff\":15},\"zerolinecolor\":\"white\",\"zerolinewidth\":2},\"yaxis\":{\"automargin\":true,\"gridcolor\":\"white\",\"linecolor\":\"white\",\"ticks\":\"\",\"title\":{\"standoff\":15},\"zerolinecolor\":\"white\",\"zerolinewidth\":2}}},\"xaxis\":{\"anchor\":\"y\",\"domain\":[0.0,1.0],\"title\":{\"text\":\"mensalidade\"}},\"yaxis\":{\"anchor\":\"x\",\"domain\":[0.0,1.0],\"title\":{\"text\":\"bolsa_parcial_cotas\"}},\"legend\":{\"tracegroupgap\":0},\"margin\":{\"t\":60}},                        {\"responsive\": true}                    )                };                            </script>        </div>\n</body>\n</html>",
       "datasetInfos": [],
       "metadata": {},
       "removedWidgets": [],
       "textData": null,
       "type": "htmlSandbox"
      }
     },
     "output_type": "display_data"
    }
   ],
   "source": [
    "# gráfico de dispersão mensalidade x bolsa parcial cotas\n",
    "\n",
    "df_medicina.plot.scatter(x='mensalidade',y='bolsa_parcial_cotas')"
   ]
  },
  {
   "cell_type": "code",
   "execution_count": 0,
   "metadata": {
    "application/vnd.databricks.v1+cell": {
     "cellMetadata": {
      "byteLimit": 2048000,
      "rowLimit": 10000
     },
     "inputWidgets": {},
     "nuid": "f4353323-4486-4060-8859-60380e775aeb",
     "showTitle": false,
     "tableResultSettingsMap": {},
     "title": ""
    }
   },
   "outputs": [
    {
     "output_type": "display_data",
     "data": {
      "text/html": [
       "<html>\n",
       "<head><meta charset=\"utf-8\" /></head>\n",
       "<body>\n",
       "    <div>            <script src=\"https://cdnjs.cloudflare.com/ajax/libs/mathjax/2.7.5/MathJax.js?config=TeX-AMS-MML_SVG\"></script><script type=\"text/javascript\">if (window.MathJax) {MathJax.Hub.Config({SVG: {font: \"STIX-Web\"}});}</script>                <script type=\"text/javascript\">window.PlotlyConfig = {MathJaxConfig: 'local'};</script>\n",
       "        <script src=\"https://cdn.plot.ly/plotly-2.9.0.min.js\"></script>                <div id=\"f8651e5f-6c4b-4475-9a59-1ab74d5b260b\" class=\"plotly-graph-div\" style=\"height:100%; width:100%;\"></div>            <script type=\"text/javascript\">                                    window.PLOTLYENV=window.PLOTLYENV || {};                                    if (document.getElementById(\"f8651e5f-6c4b-4475-9a59-1ab74d5b260b\")) {                    Plotly.newPlot(                        \"f8651e5f-6c4b-4475-9a59-1ab74d5b260b\",                        [{\"hovertemplate\":\"mensalidade=%{x}<br>bolsa_parcial_cotas=%{y}<extra></extra>\",\"legendgroup\":\"\",\"marker\":{\"color\":\"#636efa\",\"symbol\":\"circle\"},\"mode\":\"markers\",\"name\":\"\",\"orientation\":\"v\",\"showlegend\":false,\"x\":[8300.0,7316.79,7009.97,6498.55,9123.07,6113.0,7130.0,9815.61,9774.34,8608.54,8381.37,7850.0,8381.38,7512.7,8295.0],\"xaxis\":\"x\",\"y\":[4,4,9,1,5,1,1,6,5,7,8,1,6,5,4],\"yaxis\":\"y\",\"type\":\"scatter\"},{\"hovertemplate\":\"<b>OLS trendline</b><br>bolsa_parcial_cotas = 0.00109253 * mensalidade + -4.2816<br>R<sup>2</sup>=0.214219<br><br>mensalidade=%{x}<br>bolsa_parcial_cotas=%{y} <b>(trend)</b><extra></extra>\",\"legendgroup\":\"\",\"line\":{\"color\":\"red\"},\"marker\":{\"color\":\"#636efa\",\"symbol\":\"circle\"},\"mode\":\"lines\",\"name\":\"\",\"showlegend\":false,\"x\":[6113.0,6498.55,7009.97,7130.0,7316.79,7512.7,7850.0,8295.0,8300.0,8381.37,8381.38,8608.54,9123.07,9774.34,9815.61],\"xaxis\":\"x\",\"y\":[2.3970295578178122,2.818254052553403,3.3769951525344073,3.508131389347046,3.71220485160009,3.926242176885136,4.294752155031459,4.780927489378076,4.786390133584218,4.875289205394969,4.87530013068338,5.123478982256815,5.685617846934036,6.3971491053608265,6.44223777063832],\"yaxis\":\"y\",\"type\":\"scatter\"}],                        {\"template\":{\"data\":{\"bar\":[{\"error_x\":{\"color\":\"#2a3f5f\"},\"error_y\":{\"color\":\"#2a3f5f\"},\"marker\":{\"line\":{\"color\":\"#E5ECF6\",\"width\":0.5},\"pattern\":{\"fillmode\":\"overlay\",\"size\":10,\"solidity\":0.2}},\"type\":\"bar\"}],\"barpolar\":[{\"marker\":{\"line\":{\"color\":\"#E5ECF6\",\"width\":0.5},\"pattern\":{\"fillmode\":\"overlay\",\"size\":10,\"solidity\":0.2}},\"type\":\"barpolar\"}],\"carpet\":[{\"aaxis\":{\"endlinecolor\":\"#2a3f5f\",\"gridcolor\":\"white\",\"linecolor\":\"white\",\"minorgridcolor\":\"white\",\"startlinecolor\":\"#2a3f5f\"},\"baxis\":{\"endlinecolor\":\"#2a3f5f\",\"gridcolor\":\"white\",\"linecolor\":\"white\",\"minorgridcolor\":\"white\",\"startlinecolor\":\"#2a3f5f\"},\"type\":\"carpet\"}],\"choropleth\":[{\"colorbar\":{\"outlinewidth\":0,\"ticks\":\"\"},\"type\":\"choropleth\"}],\"contour\":[{\"colorbar\":{\"outlinewidth\":0,\"ticks\":\"\"},\"colorscale\":[[0.0,\"#0d0887\"],[0.1111111111111111,\"#46039f\"],[0.2222222222222222,\"#7201a8\"],[0.3333333333333333,\"#9c179e\"],[0.4444444444444444,\"#bd3786\"],[0.5555555555555556,\"#d8576b\"],[0.6666666666666666,\"#ed7953\"],[0.7777777777777778,\"#fb9f3a\"],[0.8888888888888888,\"#fdca26\"],[1.0,\"#f0f921\"]],\"type\":\"contour\"}],\"contourcarpet\":[{\"colorbar\":{\"outlinewidth\":0,\"ticks\":\"\"},\"type\":\"contourcarpet\"}],\"heatmap\":[{\"colorbar\":{\"outlinewidth\":0,\"ticks\":\"\"},\"colorscale\":[[0.0,\"#0d0887\"],[0.1111111111111111,\"#46039f\"],[0.2222222222222222,\"#7201a8\"],[0.3333333333333333,\"#9c179e\"],[0.4444444444444444,\"#bd3786\"],[0.5555555555555556,\"#d8576b\"],[0.6666666666666666,\"#ed7953\"],[0.7777777777777778,\"#fb9f3a\"],[0.8888888888888888,\"#fdca26\"],[1.0,\"#f0f921\"]],\"type\":\"heatmap\"}],\"heatmapgl\":[{\"colorbar\":{\"outlinewidth\":0,\"ticks\":\"\"},\"colorscale\":[[0.0,\"#0d0887\"],[0.1111111111111111,\"#46039f\"],[0.2222222222222222,\"#7201a8\"],[0.3333333333333333,\"#9c179e\"],[0.4444444444444444,\"#bd3786\"],[0.5555555555555556,\"#d8576b\"],[0.6666666666666666,\"#ed7953\"],[0.7777777777777778,\"#fb9f3a\"],[0.8888888888888888,\"#fdca26\"],[1.0,\"#f0f921\"]],\"type\":\"heatmapgl\"}],\"histogram\":[{\"marker\":{\"pattern\":{\"fillmode\":\"overlay\",\"size\":10,\"solidity\":0.2}},\"type\":\"histogram\"}],\"histogram2d\":[{\"colorbar\":{\"outlinewidth\":0,\"ticks\":\"\"},\"colorscale\":[[0.0,\"#0d0887\"],[0.1111111111111111,\"#46039f\"],[0.2222222222222222,\"#7201a8\"],[0.3333333333333333,\"#9c179e\"],[0.4444444444444444,\"#bd3786\"],[0.5555555555555556,\"#d8576b\"],[0.6666666666666666,\"#ed7953\"],[0.7777777777777778,\"#fb9f3a\"],[0.8888888888888888,\"#fdca26\"],[1.0,\"#f0f921\"]],\"type\":\"histogram2d\"}],\"histogram2dcontour\":[{\"colorbar\":{\"outlinewidth\":0,\"ticks\":\"\"},\"colorscale\":[[0.0,\"#0d0887\"],[0.1111111111111111,\"#46039f\"],[0.2222222222222222,\"#7201a8\"],[0.3333333333333333,\"#9c179e\"],[0.4444444444444444,\"#bd3786\"],[0.5555555555555556,\"#d8576b\"],[0.6666666666666666,\"#ed7953\"],[0.7777777777777778,\"#fb9f3a\"],[0.8888888888888888,\"#fdca26\"],[1.0,\"#f0f921\"]],\"type\":\"histogram2dcontour\"}],\"mesh3d\":[{\"colorbar\":{\"outlinewidth\":0,\"ticks\":\"\"},\"type\":\"mesh3d\"}],\"parcoords\":[{\"line\":{\"colorbar\":{\"outlinewidth\":0,\"ticks\":\"\"}},\"type\":\"parcoords\"}],\"pie\":[{\"automargin\":true,\"type\":\"pie\"}],\"scatter\":[{\"marker\":{\"colorbar\":{\"outlinewidth\":0,\"ticks\":\"\"}},\"type\":\"scatter\"}],\"scatter3d\":[{\"line\":{\"colorbar\":{\"outlinewidth\":0,\"ticks\":\"\"}},\"marker\":{\"colorbar\":{\"outlinewidth\":0,\"ticks\":\"\"}},\"type\":\"scatter3d\"}],\"scattercarpet\":[{\"marker\":{\"colorbar\":{\"outlinewidth\":0,\"ticks\":\"\"}},\"type\":\"scattercarpet\"}],\"scattergeo\":[{\"marker\":{\"colorbar\":{\"outlinewidth\":0,\"ticks\":\"\"}},\"type\":\"scattergeo\"}],\"scattergl\":[{\"marker\":{\"colorbar\":{\"outlinewidth\":0,\"ticks\":\"\"}},\"type\":\"scattergl\"}],\"scattermapbox\":[{\"marker\":{\"colorbar\":{\"outlinewidth\":0,\"ticks\":\"\"}},\"type\":\"scattermapbox\"}],\"scatterpolar\":[{\"marker\":{\"colorbar\":{\"outlinewidth\":0,\"ticks\":\"\"}},\"type\":\"scatterpolar\"}],\"scatterpolargl\":[{\"marker\":{\"colorbar\":{\"outlinewidth\":0,\"ticks\":\"\"}},\"type\":\"scatterpolargl\"}],\"scatterternary\":[{\"marker\":{\"colorbar\":{\"outlinewidth\":0,\"ticks\":\"\"}},\"type\":\"scatterternary\"}],\"surface\":[{\"colorbar\":{\"outlinewidth\":0,\"ticks\":\"\"},\"colorscale\":[[0.0,\"#0d0887\"],[0.1111111111111111,\"#46039f\"],[0.2222222222222222,\"#7201a8\"],[0.3333333333333333,\"#9c179e\"],[0.4444444444444444,\"#bd3786\"],[0.5555555555555556,\"#d8576b\"],[0.6666666666666666,\"#ed7953\"],[0.7777777777777778,\"#fb9f3a\"],[0.8888888888888888,\"#fdca26\"],[1.0,\"#f0f921\"]],\"type\":\"surface\"}],\"table\":[{\"cells\":{\"fill\":{\"color\":\"#EBF0F8\"},\"line\":{\"color\":\"white\"}},\"header\":{\"fill\":{\"color\":\"#C8D4E3\"},\"line\":{\"color\":\"white\"}},\"type\":\"table\"}]},\"layout\":{\"annotationdefaults\":{\"arrowcolor\":\"#2a3f5f\",\"arrowhead\":0,\"arrowwidth\":1},\"autotypenumbers\":\"strict\",\"coloraxis\":{\"colorbar\":{\"outlinewidth\":0,\"ticks\":\"\"}},\"colorscale\":{\"diverging\":[[0,\"#8e0152\"],[0.1,\"#c51b7d\"],[0.2,\"#de77ae\"],[0.3,\"#f1b6da\"],[0.4,\"#fde0ef\"],[0.5,\"#f7f7f7\"],[0.6,\"#e6f5d0\"],[0.7,\"#b8e186\"],[0.8,\"#7fbc41\"],[0.9,\"#4d9221\"],[1,\"#276419\"]],\"sequential\":[[0.0,\"#0d0887\"],[0.1111111111111111,\"#46039f\"],[0.2222222222222222,\"#7201a8\"],[0.3333333333333333,\"#9c179e\"],[0.4444444444444444,\"#bd3786\"],[0.5555555555555556,\"#d8576b\"],[0.6666666666666666,\"#ed7953\"],[0.7777777777777778,\"#fb9f3a\"],[0.8888888888888888,\"#fdca26\"],[1.0,\"#f0f921\"]],\"sequentialminus\":[[0.0,\"#0d0887\"],[0.1111111111111111,\"#46039f\"],[0.2222222222222222,\"#7201a8\"],[0.3333333333333333,\"#9c179e\"],[0.4444444444444444,\"#bd3786\"],[0.5555555555555556,\"#d8576b\"],[0.6666666666666666,\"#ed7953\"],[0.7777777777777778,\"#fb9f3a\"],[0.8888888888888888,\"#fdca26\"],[1.0,\"#f0f921\"]]},\"colorway\":[\"#636efa\",\"#EF553B\",\"#00cc96\",\"#ab63fa\",\"#FFA15A\",\"#19d3f3\",\"#FF6692\",\"#B6E880\",\"#FF97FF\",\"#FECB52\"],\"font\":{\"color\":\"#2a3f5f\"},\"geo\":{\"bgcolor\":\"white\",\"lakecolor\":\"white\",\"landcolor\":\"#E5ECF6\",\"showlakes\":true,\"showland\":true,\"subunitcolor\":\"white\"},\"hoverlabel\":{\"align\":\"left\"},\"hovermode\":\"closest\",\"mapbox\":{\"style\":\"light\"},\"paper_bgcolor\":\"white\",\"plot_bgcolor\":\"#E5ECF6\",\"polar\":{\"angularaxis\":{\"gridcolor\":\"white\",\"linecolor\":\"white\",\"ticks\":\"\"},\"bgcolor\":\"#E5ECF6\",\"radialaxis\":{\"gridcolor\":\"white\",\"linecolor\":\"white\",\"ticks\":\"\"}},\"scene\":{\"xaxis\":{\"backgroundcolor\":\"#E5ECF6\",\"gridcolor\":\"white\",\"gridwidth\":2,\"linecolor\":\"white\",\"showbackground\":true,\"ticks\":\"\",\"zerolinecolor\":\"white\"},\"yaxis\":{\"backgroundcolor\":\"#E5ECF6\",\"gridcolor\":\"white\",\"gridwidth\":2,\"linecolor\":\"white\",\"showbackground\":true,\"ticks\":\"\",\"zerolinecolor\":\"white\"},\"zaxis\":{\"backgroundcolor\":\"#E5ECF6\",\"gridcolor\":\"white\",\"gridwidth\":2,\"linecolor\":\"white\",\"showbackground\":true,\"ticks\":\"\",\"zerolinecolor\":\"white\"}},\"shapedefaults\":{\"line\":{\"color\":\"#2a3f5f\"}},\"ternary\":{\"aaxis\":{\"gridcolor\":\"white\",\"linecolor\":\"white\",\"ticks\":\"\"},\"baxis\":{\"gridcolor\":\"white\",\"linecolor\":\"white\",\"ticks\":\"\"},\"bgcolor\":\"#E5ECF6\",\"caxis\":{\"gridcolor\":\"white\",\"linecolor\":\"white\",\"ticks\":\"\"}},\"title\":{\"x\":0.05},\"xaxis\":{\"automargin\":true,\"gridcolor\":\"white\",\"linecolor\":\"white\",\"ticks\":\"\",\"title\":{\"standoff\":15},\"zerolinecolor\":\"white\",\"zerolinewidth\":2},\"yaxis\":{\"automargin\":true,\"gridcolor\":\"white\",\"linecolor\":\"white\",\"ticks\":\"\",\"title\":{\"standoff\":15},\"zerolinecolor\":\"white\",\"zerolinewidth\":2}}},\"xaxis\":{\"anchor\":\"y\",\"domain\":[0.0,1.0],\"title\":{\"text\":\"mensalidade\"}},\"yaxis\":{\"anchor\":\"x\",\"domain\":[0.0,1.0],\"title\":{\"text\":\"bolsa_parcial_cotas\"}},\"legend\":{\"tracegroupgap\":0},\"margin\":{\"t\":60}},                        {\"responsive\": true}                    )                };                            </script>        </div>\n",
       "</body>\n",
       "</html>"
      ]
     },
     "metadata": {
      "application/vnd.databricks.v1+output": {
       "addedWidgets": {},
       "arguments": {},
       "data": "<html>\n<head><meta charset=\"utf-8\" /></head>\n<body>\n    <div>            <script src=\"https://cdnjs.cloudflare.com/ajax/libs/mathjax/2.7.5/MathJax.js?config=TeX-AMS-MML_SVG\"></script><script type=\"text/javascript\">if (window.MathJax) {MathJax.Hub.Config({SVG: {font: \"STIX-Web\"}});}</script>                <script type=\"text/javascript\">window.PlotlyConfig = {MathJaxConfig: 'local'};</script>\n        <script src=\"https://cdn.plot.ly/plotly-2.9.0.min.js\"></script>                <div id=\"f8651e5f-6c4b-4475-9a59-1ab74d5b260b\" class=\"plotly-graph-div\" style=\"height:100%; width:100%;\"></div>            <script type=\"text/javascript\">                                    window.PLOTLYENV=window.PLOTLYENV || {};                                    if (document.getElementById(\"f8651e5f-6c4b-4475-9a59-1ab74d5b260b\")) {                    Plotly.newPlot(                        \"f8651e5f-6c4b-4475-9a59-1ab74d5b260b\",                        [{\"hovertemplate\":\"mensalidade=%{x}<br>bolsa_parcial_cotas=%{y}<extra></extra>\",\"legendgroup\":\"\",\"marker\":{\"color\":\"#636efa\",\"symbol\":\"circle\"},\"mode\":\"markers\",\"name\":\"\",\"orientation\":\"v\",\"showlegend\":false,\"x\":[8300.0,7316.79,7009.97,6498.55,9123.07,6113.0,7130.0,9815.61,9774.34,8608.54,8381.37,7850.0,8381.38,7512.7,8295.0],\"xaxis\":\"x\",\"y\":[4,4,9,1,5,1,1,6,5,7,8,1,6,5,4],\"yaxis\":\"y\",\"type\":\"scatter\"},{\"hovertemplate\":\"<b>OLS trendline</b><br>bolsa_parcial_cotas = 0.00109253 * mensalidade + -4.2816<br>R<sup>2</sup>=0.214219<br><br>mensalidade=%{x}<br>bolsa_parcial_cotas=%{y} <b>(trend)</b><extra></extra>\",\"legendgroup\":\"\",\"line\":{\"color\":\"red\"},\"marker\":{\"color\":\"#636efa\",\"symbol\":\"circle\"},\"mode\":\"lines\",\"name\":\"\",\"showlegend\":false,\"x\":[6113.0,6498.55,7009.97,7130.0,7316.79,7512.7,7850.0,8295.0,8300.0,8381.37,8381.38,8608.54,9123.07,9774.34,9815.61],\"xaxis\":\"x\",\"y\":[2.3970295578178122,2.818254052553403,3.3769951525344073,3.508131389347046,3.71220485160009,3.926242176885136,4.294752155031459,4.780927489378076,4.786390133584218,4.875289205394969,4.87530013068338,5.123478982256815,5.685617846934036,6.3971491053608265,6.44223777063832],\"yaxis\":\"y\",\"type\":\"scatter\"}],                        {\"template\":{\"data\":{\"bar\":[{\"error_x\":{\"color\":\"#2a3f5f\"},\"error_y\":{\"color\":\"#2a3f5f\"},\"marker\":{\"line\":{\"color\":\"#E5ECF6\",\"width\":0.5},\"pattern\":{\"fillmode\":\"overlay\",\"size\":10,\"solidity\":0.2}},\"type\":\"bar\"}],\"barpolar\":[{\"marker\":{\"line\":{\"color\":\"#E5ECF6\",\"width\":0.5},\"pattern\":{\"fillmode\":\"overlay\",\"size\":10,\"solidity\":0.2}},\"type\":\"barpolar\"}],\"carpet\":[{\"aaxis\":{\"endlinecolor\":\"#2a3f5f\",\"gridcolor\":\"white\",\"linecolor\":\"white\",\"minorgridcolor\":\"white\",\"startlinecolor\":\"#2a3f5f\"},\"baxis\":{\"endlinecolor\":\"#2a3f5f\",\"gridcolor\":\"white\",\"linecolor\":\"white\",\"minorgridcolor\":\"white\",\"startlinecolor\":\"#2a3f5f\"},\"type\":\"carpet\"}],\"choropleth\":[{\"colorbar\":{\"outlinewidth\":0,\"ticks\":\"\"},\"type\":\"choropleth\"}],\"contour\":[{\"colorbar\":{\"outlinewidth\":0,\"ticks\":\"\"},\"colorscale\":[[0.0,\"#0d0887\"],[0.1111111111111111,\"#46039f\"],[0.2222222222222222,\"#7201a8\"],[0.3333333333333333,\"#9c179e\"],[0.4444444444444444,\"#bd3786\"],[0.5555555555555556,\"#d8576b\"],[0.6666666666666666,\"#ed7953\"],[0.7777777777777778,\"#fb9f3a\"],[0.8888888888888888,\"#fdca26\"],[1.0,\"#f0f921\"]],\"type\":\"contour\"}],\"contourcarpet\":[{\"colorbar\":{\"outlinewidth\":0,\"ticks\":\"\"},\"type\":\"contourcarpet\"}],\"heatmap\":[{\"colorbar\":{\"outlinewidth\":0,\"ticks\":\"\"},\"colorscale\":[[0.0,\"#0d0887\"],[0.1111111111111111,\"#46039f\"],[0.2222222222222222,\"#7201a8\"],[0.3333333333333333,\"#9c179e\"],[0.4444444444444444,\"#bd3786\"],[0.5555555555555556,\"#d8576b\"],[0.6666666666666666,\"#ed7953\"],[0.7777777777777778,\"#fb9f3a\"],[0.8888888888888888,\"#fdca26\"],[1.0,\"#f0f921\"]],\"type\":\"heatmap\"}],\"heatmapgl\":[{\"colorbar\":{\"outlinewidth\":0,\"ticks\":\"\"},\"colorscale\":[[0.0,\"#0d0887\"],[0.1111111111111111,\"#46039f\"],[0.2222222222222222,\"#7201a8\"],[0.3333333333333333,\"#9c179e\"],[0.4444444444444444,\"#bd3786\"],[0.5555555555555556,\"#d8576b\"],[0.6666666666666666,\"#ed7953\"],[0.7777777777777778,\"#fb9f3a\"],[0.8888888888888888,\"#fdca26\"],[1.0,\"#f0f921\"]],\"type\":\"heatmapgl\"}],\"histogram\":[{\"marker\":{\"pattern\":{\"fillmode\":\"overlay\",\"size\":10,\"solidity\":0.2}},\"type\":\"histogram\"}],\"histogram2d\":[{\"colorbar\":{\"outlinewidth\":0,\"ticks\":\"\"},\"colorscale\":[[0.0,\"#0d0887\"],[0.1111111111111111,\"#46039f\"],[0.2222222222222222,\"#7201a8\"],[0.3333333333333333,\"#9c179e\"],[0.4444444444444444,\"#bd3786\"],[0.5555555555555556,\"#d8576b\"],[0.6666666666666666,\"#ed7953\"],[0.7777777777777778,\"#fb9f3a\"],[0.8888888888888888,\"#fdca26\"],[1.0,\"#f0f921\"]],\"type\":\"histogram2d\"}],\"histogram2dcontour\":[{\"colorbar\":{\"outlinewidth\":0,\"ticks\":\"\"},\"colorscale\":[[0.0,\"#0d0887\"],[0.1111111111111111,\"#46039f\"],[0.2222222222222222,\"#7201a8\"],[0.3333333333333333,\"#9c179e\"],[0.4444444444444444,\"#bd3786\"],[0.5555555555555556,\"#d8576b\"],[0.6666666666666666,\"#ed7953\"],[0.7777777777777778,\"#fb9f3a\"],[0.8888888888888888,\"#fdca26\"],[1.0,\"#f0f921\"]],\"type\":\"histogram2dcontour\"}],\"mesh3d\":[{\"colorbar\":{\"outlinewidth\":0,\"ticks\":\"\"},\"type\":\"mesh3d\"}],\"parcoords\":[{\"line\":{\"colorbar\":{\"outlinewidth\":0,\"ticks\":\"\"}},\"type\":\"parcoords\"}],\"pie\":[{\"automargin\":true,\"type\":\"pie\"}],\"scatter\":[{\"marker\":{\"colorbar\":{\"outlinewidth\":0,\"ticks\":\"\"}},\"type\":\"scatter\"}],\"scatter3d\":[{\"line\":{\"colorbar\":{\"outlinewidth\":0,\"ticks\":\"\"}},\"marker\":{\"colorbar\":{\"outlinewidth\":0,\"ticks\":\"\"}},\"type\":\"scatter3d\"}],\"scattercarpet\":[{\"marker\":{\"colorbar\":{\"outlinewidth\":0,\"ticks\":\"\"}},\"type\":\"scattercarpet\"}],\"scattergeo\":[{\"marker\":{\"colorbar\":{\"outlinewidth\":0,\"ticks\":\"\"}},\"type\":\"scattergeo\"}],\"scattergl\":[{\"marker\":{\"colorbar\":{\"outlinewidth\":0,\"ticks\":\"\"}},\"type\":\"scattergl\"}],\"scattermapbox\":[{\"marker\":{\"colorbar\":{\"outlinewidth\":0,\"ticks\":\"\"}},\"type\":\"scattermapbox\"}],\"scatterpolar\":[{\"marker\":{\"colorbar\":{\"outlinewidth\":0,\"ticks\":\"\"}},\"type\":\"scatterpolar\"}],\"scatterpolargl\":[{\"marker\":{\"colorbar\":{\"outlinewidth\":0,\"ticks\":\"\"}},\"type\":\"scatterpolargl\"}],\"scatterternary\":[{\"marker\":{\"colorbar\":{\"outlinewidth\":0,\"ticks\":\"\"}},\"type\":\"scatterternary\"}],\"surface\":[{\"colorbar\":{\"outlinewidth\":0,\"ticks\":\"\"},\"colorscale\":[[0.0,\"#0d0887\"],[0.1111111111111111,\"#46039f\"],[0.2222222222222222,\"#7201a8\"],[0.3333333333333333,\"#9c179e\"],[0.4444444444444444,\"#bd3786\"],[0.5555555555555556,\"#d8576b\"],[0.6666666666666666,\"#ed7953\"],[0.7777777777777778,\"#fb9f3a\"],[0.8888888888888888,\"#fdca26\"],[1.0,\"#f0f921\"]],\"type\":\"surface\"}],\"table\":[{\"cells\":{\"fill\":{\"color\":\"#EBF0F8\"},\"line\":{\"color\":\"white\"}},\"header\":{\"fill\":{\"color\":\"#C8D4E3\"},\"line\":{\"color\":\"white\"}},\"type\":\"table\"}]},\"layout\":{\"annotationdefaults\":{\"arrowcolor\":\"#2a3f5f\",\"arrowhead\":0,\"arrowwidth\":1},\"autotypenumbers\":\"strict\",\"coloraxis\":{\"colorbar\":{\"outlinewidth\":0,\"ticks\":\"\"}},\"colorscale\":{\"diverging\":[[0,\"#8e0152\"],[0.1,\"#c51b7d\"],[0.2,\"#de77ae\"],[0.3,\"#f1b6da\"],[0.4,\"#fde0ef\"],[0.5,\"#f7f7f7\"],[0.6,\"#e6f5d0\"],[0.7,\"#b8e186\"],[0.8,\"#7fbc41\"],[0.9,\"#4d9221\"],[1,\"#276419\"]],\"sequential\":[[0.0,\"#0d0887\"],[0.1111111111111111,\"#46039f\"],[0.2222222222222222,\"#7201a8\"],[0.3333333333333333,\"#9c179e\"],[0.4444444444444444,\"#bd3786\"],[0.5555555555555556,\"#d8576b\"],[0.6666666666666666,\"#ed7953\"],[0.7777777777777778,\"#fb9f3a\"],[0.8888888888888888,\"#fdca26\"],[1.0,\"#f0f921\"]],\"sequentialminus\":[[0.0,\"#0d0887\"],[0.1111111111111111,\"#46039f\"],[0.2222222222222222,\"#7201a8\"],[0.3333333333333333,\"#9c179e\"],[0.4444444444444444,\"#bd3786\"],[0.5555555555555556,\"#d8576b\"],[0.6666666666666666,\"#ed7953\"],[0.7777777777777778,\"#fb9f3a\"],[0.8888888888888888,\"#fdca26\"],[1.0,\"#f0f921\"]]},\"colorway\":[\"#636efa\",\"#EF553B\",\"#00cc96\",\"#ab63fa\",\"#FFA15A\",\"#19d3f3\",\"#FF6692\",\"#B6E880\",\"#FF97FF\",\"#FECB52\"],\"font\":{\"color\":\"#2a3f5f\"},\"geo\":{\"bgcolor\":\"white\",\"lakecolor\":\"white\",\"landcolor\":\"#E5ECF6\",\"showlakes\":true,\"showland\":true,\"subunitcolor\":\"white\"},\"hoverlabel\":{\"align\":\"left\"},\"hovermode\":\"closest\",\"mapbox\":{\"style\":\"light\"},\"paper_bgcolor\":\"white\",\"plot_bgcolor\":\"#E5ECF6\",\"polar\":{\"angularaxis\":{\"gridcolor\":\"white\",\"linecolor\":\"white\",\"ticks\":\"\"},\"bgcolor\":\"#E5ECF6\",\"radialaxis\":{\"gridcolor\":\"white\",\"linecolor\":\"white\",\"ticks\":\"\"}},\"scene\":{\"xaxis\":{\"backgroundcolor\":\"#E5ECF6\",\"gridcolor\":\"white\",\"gridwidth\":2,\"linecolor\":\"white\",\"showbackground\":true,\"ticks\":\"\",\"zerolinecolor\":\"white\"},\"yaxis\":{\"backgroundcolor\":\"#E5ECF6\",\"gridcolor\":\"white\",\"gridwidth\":2,\"linecolor\":\"white\",\"showbackground\":true,\"ticks\":\"\",\"zerolinecolor\":\"white\"},\"zaxis\":{\"backgroundcolor\":\"#E5ECF6\",\"gridcolor\":\"white\",\"gridwidth\":2,\"linecolor\":\"white\",\"showbackground\":true,\"ticks\":\"\",\"zerolinecolor\":\"white\"}},\"shapedefaults\":{\"line\":{\"color\":\"#2a3f5f\"}},\"ternary\":{\"aaxis\":{\"gridcolor\":\"white\",\"linecolor\":\"white\",\"ticks\":\"\"},\"baxis\":{\"gridcolor\":\"white\",\"linecolor\":\"white\",\"ticks\":\"\"},\"bgcolor\":\"#E5ECF6\",\"caxis\":{\"gridcolor\":\"white\",\"linecolor\":\"white\",\"ticks\":\"\"}},\"title\":{\"x\":0.05},\"xaxis\":{\"automargin\":true,\"gridcolor\":\"white\",\"linecolor\":\"white\",\"ticks\":\"\",\"title\":{\"standoff\":15},\"zerolinecolor\":\"white\",\"zerolinewidth\":2},\"yaxis\":{\"automargin\":true,\"gridcolor\":\"white\",\"linecolor\":\"white\",\"ticks\":\"\",\"title\":{\"standoff\":15},\"zerolinecolor\":\"white\",\"zerolinewidth\":2}}},\"xaxis\":{\"anchor\":\"y\",\"domain\":[0.0,1.0],\"title\":{\"text\":\"mensalidade\"}},\"yaxis\":{\"anchor\":\"x\",\"domain\":[0.0,1.0],\"title\":{\"text\":\"bolsa_parcial_cotas\"}},\"legend\":{\"tracegroupgap\":0},\"margin\":{\"t\":60}},                        {\"responsive\": true}                    )                };                            </script>        </div>\n</body>\n</html>",
       "datasetInfos": [],
       "metadata": {},
       "removedWidgets": [],
       "textData": null,
       "type": "htmlSandbox"
      }
     },
     "output_type": "display_data"
    }
   ],
   "source": [
    "# linha de tendência\n",
    "\n",
    "df_medicina.plot.scatter(x='mensalidade',y='bolsa_parcial_cotas', trendline='ols', trendline_color_override = 'red')"
   ]
  },
  {
   "cell_type": "markdown",
   "metadata": {
    "application/vnd.databricks.v1+cell": {
     "cellMetadata": {
      "byteLimit": 2048000,
      "rowLimit": 10000
     },
     "inputWidgets": {},
     "nuid": "f90c3dac-f306-47fd-a5f1-f06c5aca76c1",
     "showTitle": false,
     "tableResultSettingsMap": {},
     "title": ""
    }
   },
   "source": [
    "A correlação baixa de 0.4 e o R² igual à 0.214219 que também é baixo. Com esses dados, não descobrimos relação entre o valor da mensalidade e a quantidade de bolsas analisadas."
   ]
  },
  {
   "cell_type": "code",
   "execution_count": 0,
   "metadata": {
    "application/vnd.databricks.v1+cell": {
     "cellMetadata": {
      "byteLimit": 2048000,
      "rowLimit": 10000
     },
     "inputWidgets": {},
     "nuid": "94010c65-8db0-43ea-a6c0-fea89b128e44",
     "showTitle": false,
     "tableResultSettingsMap": {},
     "title": ""
    }
   },
   "outputs": [
    {
     "output_type": "display_data",
     "data": {
      "text/html": [
       "<html>\n",
       "<head><meta charset=\"utf-8\" /></head>\n",
       "<body>\n",
       "    <div>            <script src=\"https://cdnjs.cloudflare.com/ajax/libs/mathjax/2.7.5/MathJax.js?config=TeX-AMS-MML_SVG\"></script><script type=\"text/javascript\">if (window.MathJax) {MathJax.Hub.Config({SVG: {font: \"STIX-Web\"}});}</script>                <script type=\"text/javascript\">window.PlotlyConfig = {MathJaxConfig: 'local'};</script>\n",
       "        <script src=\"https://cdn.plot.ly/plotly-2.9.0.min.js\"></script>                <div id=\"0d138aea-bb1e-47c8-8400-5a9b738f650f\" class=\"plotly-graph-div\" style=\"height:100%; width:100%;\"></div>            <script type=\"text/javascript\">                                    window.PLOTLYENV=window.PLOTLYENV || {};                                    if (document.getElementById(\"0d138aea-bb1e-47c8-8400-5a9b738f650f\")) {                    Plotly.newPlot(                        \"0d138aea-bb1e-47c8-8400-5a9b738f650f\",                        [{\"boxpoints\":\"suspectedoutliers\",\"lowerfence\":[194.0],\"mean\":[881.605556059918],\"median\":[776.0],\"name\":\"mensalidade\",\"notched\":false,\"q1\":[489.79],\"q3\":[1048.0],\"upperfence\":[1873.72],\"y\":[[1902.5,1909.39,1933.69,1933.69,1933.69,1935.0,1938.15,1943.0,1946.71,1948.63,1952.5,1968.37,1976.0,1990.0,2005.0,2005.0,2020.0,2020.0,2024.0,2029.0,2029.0,2034.0,2037.0,2037.0,2037.0,2037.0,2037.0,2040.0,2048.1400000000003,2099.0,2145.0,2145.0,2147.03,2148.67,2148.67,2223.84,2223.84,2268.31,2269.3,2271.36,2271.36,2273.8,2282.5,2282.5,2291.0,2314.0,2349.0,2349.0,2355.0,2389.1,2389.1,2427.17,2432.53,2439.67,2447.0,2477.39,2592.2,2647.0,2647.0,3097.76,3184.51,3694.77,3694.77,6113.0,6498.55,7009.97,7130.0,7316.79,7512.7,7850.0,8295.0,8300.0,8381.37,8381.38,8608.54,9123.07,9774.34,9815.61]],\"type\":\"box\"}],                        {\"template\":{\"data\":{\"bar\":[{\"error_x\":{\"color\":\"#2a3f5f\"},\"error_y\":{\"color\":\"#2a3f5f\"},\"marker\":{\"line\":{\"color\":\"#E5ECF6\",\"width\":0.5},\"pattern\":{\"fillmode\":\"overlay\",\"size\":10,\"solidity\":0.2}},\"type\":\"bar\"}],\"barpolar\":[{\"marker\":{\"line\":{\"color\":\"#E5ECF6\",\"width\":0.5},\"pattern\":{\"fillmode\":\"overlay\",\"size\":10,\"solidity\":0.2}},\"type\":\"barpolar\"}],\"carpet\":[{\"aaxis\":{\"endlinecolor\":\"#2a3f5f\",\"gridcolor\":\"white\",\"linecolor\":\"white\",\"minorgridcolor\":\"white\",\"startlinecolor\":\"#2a3f5f\"},\"baxis\":{\"endlinecolor\":\"#2a3f5f\",\"gridcolor\":\"white\",\"linecolor\":\"white\",\"minorgridcolor\":\"white\",\"startlinecolor\":\"#2a3f5f\"},\"type\":\"carpet\"}],\"choropleth\":[{\"colorbar\":{\"outlinewidth\":0,\"ticks\":\"\"},\"type\":\"choropleth\"}],\"contour\":[{\"colorbar\":{\"outlinewidth\":0,\"ticks\":\"\"},\"colorscale\":[[0.0,\"#0d0887\"],[0.1111111111111111,\"#46039f\"],[0.2222222222222222,\"#7201a8\"],[0.3333333333333333,\"#9c179e\"],[0.4444444444444444,\"#bd3786\"],[0.5555555555555556,\"#d8576b\"],[0.6666666666666666,\"#ed7953\"],[0.7777777777777778,\"#fb9f3a\"],[0.8888888888888888,\"#fdca26\"],[1.0,\"#f0f921\"]],\"type\":\"contour\"}],\"contourcarpet\":[{\"colorbar\":{\"outlinewidth\":0,\"ticks\":\"\"},\"type\":\"contourcarpet\"}],\"heatmap\":[{\"colorbar\":{\"outlinewidth\":0,\"ticks\":\"\"},\"colorscale\":[[0.0,\"#0d0887\"],[0.1111111111111111,\"#46039f\"],[0.2222222222222222,\"#7201a8\"],[0.3333333333333333,\"#9c179e\"],[0.4444444444444444,\"#bd3786\"],[0.5555555555555556,\"#d8576b\"],[0.6666666666666666,\"#ed7953\"],[0.7777777777777778,\"#fb9f3a\"],[0.8888888888888888,\"#fdca26\"],[1.0,\"#f0f921\"]],\"type\":\"heatmap\"}],\"heatmapgl\":[{\"colorbar\":{\"outlinewidth\":0,\"ticks\":\"\"},\"colorscale\":[[0.0,\"#0d0887\"],[0.1111111111111111,\"#46039f\"],[0.2222222222222222,\"#7201a8\"],[0.3333333333333333,\"#9c179e\"],[0.4444444444444444,\"#bd3786\"],[0.5555555555555556,\"#d8576b\"],[0.6666666666666666,\"#ed7953\"],[0.7777777777777778,\"#fb9f3a\"],[0.8888888888888888,\"#fdca26\"],[1.0,\"#f0f921\"]],\"type\":\"heatmapgl\"}],\"histogram\":[{\"marker\":{\"pattern\":{\"fillmode\":\"overlay\",\"size\":10,\"solidity\":0.2}},\"type\":\"histogram\"}],\"histogram2d\":[{\"colorbar\":{\"outlinewidth\":0,\"ticks\":\"\"},\"colorscale\":[[0.0,\"#0d0887\"],[0.1111111111111111,\"#46039f\"],[0.2222222222222222,\"#7201a8\"],[0.3333333333333333,\"#9c179e\"],[0.4444444444444444,\"#bd3786\"],[0.5555555555555556,\"#d8576b\"],[0.6666666666666666,\"#ed7953\"],[0.7777777777777778,\"#fb9f3a\"],[0.8888888888888888,\"#fdca26\"],[1.0,\"#f0f921\"]],\"type\":\"histogram2d\"}],\"histogram2dcontour\":[{\"colorbar\":{\"outlinewidth\":0,\"ticks\":\"\"},\"colorscale\":[[0.0,\"#0d0887\"],[0.1111111111111111,\"#46039f\"],[0.2222222222222222,\"#7201a8\"],[0.3333333333333333,\"#9c179e\"],[0.4444444444444444,\"#bd3786\"],[0.5555555555555556,\"#d8576b\"],[0.6666666666666666,\"#ed7953\"],[0.7777777777777778,\"#fb9f3a\"],[0.8888888888888888,\"#fdca26\"],[1.0,\"#f0f921\"]],\"type\":\"histogram2dcontour\"}],\"mesh3d\":[{\"colorbar\":{\"outlinewidth\":0,\"ticks\":\"\"},\"type\":\"mesh3d\"}],\"parcoords\":[{\"line\":{\"colorbar\":{\"outlinewidth\":0,\"ticks\":\"\"}},\"type\":\"parcoords\"}],\"pie\":[{\"automargin\":true,\"type\":\"pie\"}],\"scatter\":[{\"marker\":{\"colorbar\":{\"outlinewidth\":0,\"ticks\":\"\"}},\"type\":\"scatter\"}],\"scatter3d\":[{\"line\":{\"colorbar\":{\"outlinewidth\":0,\"ticks\":\"\"}},\"marker\":{\"colorbar\":{\"outlinewidth\":0,\"ticks\":\"\"}},\"type\":\"scatter3d\"}],\"scattercarpet\":[{\"marker\":{\"colorbar\":{\"outlinewidth\":0,\"ticks\":\"\"}},\"type\":\"scattercarpet\"}],\"scattergeo\":[{\"marker\":{\"colorbar\":{\"outlinewidth\":0,\"ticks\":\"\"}},\"type\":\"scattergeo\"}],\"scattergl\":[{\"marker\":{\"colorbar\":{\"outlinewidth\":0,\"ticks\":\"\"}},\"type\":\"scattergl\"}],\"scattermapbox\":[{\"marker\":{\"colorbar\":{\"outlinewidth\":0,\"ticks\":\"\"}},\"type\":\"scattermapbox\"}],\"scatterpolar\":[{\"marker\":{\"colorbar\":{\"outlinewidth\":0,\"ticks\":\"\"}},\"type\":\"scatterpolar\"}],\"scatterpolargl\":[{\"marker\":{\"colorbar\":{\"outlinewidth\":0,\"ticks\":\"\"}},\"type\":\"scatterpolargl\"}],\"scatterternary\":[{\"marker\":{\"colorbar\":{\"outlinewidth\":0,\"ticks\":\"\"}},\"type\":\"scatterternary\"}],\"surface\":[{\"colorbar\":{\"outlinewidth\":0,\"ticks\":\"\"},\"colorscale\":[[0.0,\"#0d0887\"],[0.1111111111111111,\"#46039f\"],[0.2222222222222222,\"#7201a8\"],[0.3333333333333333,\"#9c179e\"],[0.4444444444444444,\"#bd3786\"],[0.5555555555555556,\"#d8576b\"],[0.6666666666666666,\"#ed7953\"],[0.7777777777777778,\"#fb9f3a\"],[0.8888888888888888,\"#fdca26\"],[1.0,\"#f0f921\"]],\"type\":\"surface\"}],\"table\":[{\"cells\":{\"fill\":{\"color\":\"#EBF0F8\"},\"line\":{\"color\":\"white\"}},\"header\":{\"fill\":{\"color\":\"#C8D4E3\"},\"line\":{\"color\":\"white\"}},\"type\":\"table\"}]},\"layout\":{\"annotationdefaults\":{\"arrowcolor\":\"#2a3f5f\",\"arrowhead\":0,\"arrowwidth\":1},\"autotypenumbers\":\"strict\",\"coloraxis\":{\"colorbar\":{\"outlinewidth\":0,\"ticks\":\"\"}},\"colorscale\":{\"diverging\":[[0,\"#8e0152\"],[0.1,\"#c51b7d\"],[0.2,\"#de77ae\"],[0.3,\"#f1b6da\"],[0.4,\"#fde0ef\"],[0.5,\"#f7f7f7\"],[0.6,\"#e6f5d0\"],[0.7,\"#b8e186\"],[0.8,\"#7fbc41\"],[0.9,\"#4d9221\"],[1,\"#276419\"]],\"sequential\":[[0.0,\"#0d0887\"],[0.1111111111111111,\"#46039f\"],[0.2222222222222222,\"#7201a8\"],[0.3333333333333333,\"#9c179e\"],[0.4444444444444444,\"#bd3786\"],[0.5555555555555556,\"#d8576b\"],[0.6666666666666666,\"#ed7953\"],[0.7777777777777778,\"#fb9f3a\"],[0.8888888888888888,\"#fdca26\"],[1.0,\"#f0f921\"]],\"sequentialminus\":[[0.0,\"#0d0887\"],[0.1111111111111111,\"#46039f\"],[0.2222222222222222,\"#7201a8\"],[0.3333333333333333,\"#9c179e\"],[0.4444444444444444,\"#bd3786\"],[0.5555555555555556,\"#d8576b\"],[0.6666666666666666,\"#ed7953\"],[0.7777777777777778,\"#fb9f3a\"],[0.8888888888888888,\"#fdca26\"],[1.0,\"#f0f921\"]]},\"colorway\":[\"#636efa\",\"#EF553B\",\"#00cc96\",\"#ab63fa\",\"#FFA15A\",\"#19d3f3\",\"#FF6692\",\"#B6E880\",\"#FF97FF\",\"#FECB52\"],\"font\":{\"color\":\"#2a3f5f\"},\"geo\":{\"bgcolor\":\"white\",\"lakecolor\":\"white\",\"landcolor\":\"#E5ECF6\",\"showlakes\":true,\"showland\":true,\"subunitcolor\":\"white\"},\"hoverlabel\":{\"align\":\"left\"},\"hovermode\":\"closest\",\"mapbox\":{\"style\":\"light\"},\"paper_bgcolor\":\"white\",\"plot_bgcolor\":\"#E5ECF6\",\"polar\":{\"angularaxis\":{\"gridcolor\":\"white\",\"linecolor\":\"white\",\"ticks\":\"\"},\"bgcolor\":\"#E5ECF6\",\"radialaxis\":{\"gridcolor\":\"white\",\"linecolor\":\"white\",\"ticks\":\"\"}},\"scene\":{\"xaxis\":{\"backgroundcolor\":\"#E5ECF6\",\"gridcolor\":\"white\",\"gridwidth\":2,\"linecolor\":\"white\",\"showbackground\":true,\"ticks\":\"\",\"zerolinecolor\":\"white\"},\"yaxis\":{\"backgroundcolor\":\"#E5ECF6\",\"gridcolor\":\"white\",\"gridwidth\":2,\"linecolor\":\"white\",\"showbackground\":true,\"ticks\":\"\",\"zerolinecolor\":\"white\"},\"zaxis\":{\"backgroundcolor\":\"#E5ECF6\",\"gridcolor\":\"white\",\"gridwidth\":2,\"linecolor\":\"white\",\"showbackground\":true,\"ticks\":\"\",\"zerolinecolor\":\"white\"}},\"shapedefaults\":{\"line\":{\"color\":\"#2a3f5f\"}},\"ternary\":{\"aaxis\":{\"gridcolor\":\"white\",\"linecolor\":\"white\",\"ticks\":\"\"},\"baxis\":{\"gridcolor\":\"white\",\"linecolor\":\"white\",\"ticks\":\"\"},\"bgcolor\":\"#E5ECF6\",\"caxis\":{\"gridcolor\":\"white\",\"linecolor\":\"white\",\"ticks\":\"\"}},\"title\":{\"x\":0.05},\"xaxis\":{\"automargin\":true,\"gridcolor\":\"white\",\"linecolor\":\"white\",\"ticks\":\"\",\"title\":{\"standoff\":15},\"zerolinecolor\":\"white\",\"zerolinewidth\":2},\"yaxis\":{\"automargin\":true,\"gridcolor\":\"white\",\"linecolor\":\"white\",\"ticks\":\"\",\"title\":{\"standoff\":15},\"zerolinecolor\":\"white\",\"zerolinewidth\":2}}},\"xaxis\":{\"title\":{\"text\":\"mensalidade\"}},\"yaxis\":{\"title\":{\"text\":\"value\"}}},                        {\"responsive\": true}                    )                };                            </script>        </div>\n",
       "</body>\n",
       "</html>"
      ]
     },
     "metadata": {
      "application/vnd.databricks.v1+output": {
       "addedWidgets": {},
       "arguments": {},
       "data": "<html>\n<head><meta charset=\"utf-8\" /></head>\n<body>\n    <div>            <script src=\"https://cdnjs.cloudflare.com/ajax/libs/mathjax/2.7.5/MathJax.js?config=TeX-AMS-MML_SVG\"></script><script type=\"text/javascript\">if (window.MathJax) {MathJax.Hub.Config({SVG: {font: \"STIX-Web\"}});}</script>                <script type=\"text/javascript\">window.PlotlyConfig = {MathJaxConfig: 'local'};</script>\n        <script src=\"https://cdn.plot.ly/plotly-2.9.0.min.js\"></script>                <div id=\"0d138aea-bb1e-47c8-8400-5a9b738f650f\" class=\"plotly-graph-div\" style=\"height:100%; width:100%;\"></div>            <script type=\"text/javascript\">                                    window.PLOTLYENV=window.PLOTLYENV || {};                                    if (document.getElementById(\"0d138aea-bb1e-47c8-8400-5a9b738f650f\")) {                    Plotly.newPlot(                        \"0d138aea-bb1e-47c8-8400-5a9b738f650f\",                        [{\"boxpoints\":\"suspectedoutliers\",\"lowerfence\":[194.0],\"mean\":[881.605556059918],\"median\":[776.0],\"name\":\"mensalidade\",\"notched\":false,\"q1\":[489.79],\"q3\":[1048.0],\"upperfence\":[1873.72],\"y\":[[1902.5,1909.39,1933.69,1933.69,1933.69,1935.0,1938.15,1943.0,1946.71,1948.63,1952.5,1968.37,1976.0,1990.0,2005.0,2005.0,2020.0,2020.0,2024.0,2029.0,2029.0,2034.0,2037.0,2037.0,2037.0,2037.0,2037.0,2040.0,2048.1400000000003,2099.0,2145.0,2145.0,2147.03,2148.67,2148.67,2223.84,2223.84,2268.31,2269.3,2271.36,2271.36,2273.8,2282.5,2282.5,2291.0,2314.0,2349.0,2349.0,2355.0,2389.1,2389.1,2427.17,2432.53,2439.67,2447.0,2477.39,2592.2,2647.0,2647.0,3097.76,3184.51,3694.77,3694.77,6113.0,6498.55,7009.97,7130.0,7316.79,7512.7,7850.0,8295.0,8300.0,8381.37,8381.38,8608.54,9123.07,9774.34,9815.61]],\"type\":\"box\"}],                        {\"template\":{\"data\":{\"bar\":[{\"error_x\":{\"color\":\"#2a3f5f\"},\"error_y\":{\"color\":\"#2a3f5f\"},\"marker\":{\"line\":{\"color\":\"#E5ECF6\",\"width\":0.5},\"pattern\":{\"fillmode\":\"overlay\",\"size\":10,\"solidity\":0.2}},\"type\":\"bar\"}],\"barpolar\":[{\"marker\":{\"line\":{\"color\":\"#E5ECF6\",\"width\":0.5},\"pattern\":{\"fillmode\":\"overlay\",\"size\":10,\"solidity\":0.2}},\"type\":\"barpolar\"}],\"carpet\":[{\"aaxis\":{\"endlinecolor\":\"#2a3f5f\",\"gridcolor\":\"white\",\"linecolor\":\"white\",\"minorgridcolor\":\"white\",\"startlinecolor\":\"#2a3f5f\"},\"baxis\":{\"endlinecolor\":\"#2a3f5f\",\"gridcolor\":\"white\",\"linecolor\":\"white\",\"minorgridcolor\":\"white\",\"startlinecolor\":\"#2a3f5f\"},\"type\":\"carpet\"}],\"choropleth\":[{\"colorbar\":{\"outlinewidth\":0,\"ticks\":\"\"},\"type\":\"choropleth\"}],\"contour\":[{\"colorbar\":{\"outlinewidth\":0,\"ticks\":\"\"},\"colorscale\":[[0.0,\"#0d0887\"],[0.1111111111111111,\"#46039f\"],[0.2222222222222222,\"#7201a8\"],[0.3333333333333333,\"#9c179e\"],[0.4444444444444444,\"#bd3786\"],[0.5555555555555556,\"#d8576b\"],[0.6666666666666666,\"#ed7953\"],[0.7777777777777778,\"#fb9f3a\"],[0.8888888888888888,\"#fdca26\"],[1.0,\"#f0f921\"]],\"type\":\"contour\"}],\"contourcarpet\":[{\"colorbar\":{\"outlinewidth\":0,\"ticks\":\"\"},\"type\":\"contourcarpet\"}],\"heatmap\":[{\"colorbar\":{\"outlinewidth\":0,\"ticks\":\"\"},\"colorscale\":[[0.0,\"#0d0887\"],[0.1111111111111111,\"#46039f\"],[0.2222222222222222,\"#7201a8\"],[0.3333333333333333,\"#9c179e\"],[0.4444444444444444,\"#bd3786\"],[0.5555555555555556,\"#d8576b\"],[0.6666666666666666,\"#ed7953\"],[0.7777777777777778,\"#fb9f3a\"],[0.8888888888888888,\"#fdca26\"],[1.0,\"#f0f921\"]],\"type\":\"heatmap\"}],\"heatmapgl\":[{\"colorbar\":{\"outlinewidth\":0,\"ticks\":\"\"},\"colorscale\":[[0.0,\"#0d0887\"],[0.1111111111111111,\"#46039f\"],[0.2222222222222222,\"#7201a8\"],[0.3333333333333333,\"#9c179e\"],[0.4444444444444444,\"#bd3786\"],[0.5555555555555556,\"#d8576b\"],[0.6666666666666666,\"#ed7953\"],[0.7777777777777778,\"#fb9f3a\"],[0.8888888888888888,\"#fdca26\"],[1.0,\"#f0f921\"]],\"type\":\"heatmapgl\"}],\"histogram\":[{\"marker\":{\"pattern\":{\"fillmode\":\"overlay\",\"size\":10,\"solidity\":0.2}},\"type\":\"histogram\"}],\"histogram2d\":[{\"colorbar\":{\"outlinewidth\":0,\"ticks\":\"\"},\"colorscale\":[[0.0,\"#0d0887\"],[0.1111111111111111,\"#46039f\"],[0.2222222222222222,\"#7201a8\"],[0.3333333333333333,\"#9c179e\"],[0.4444444444444444,\"#bd3786\"],[0.5555555555555556,\"#d8576b\"],[0.6666666666666666,\"#ed7953\"],[0.7777777777777778,\"#fb9f3a\"],[0.8888888888888888,\"#fdca26\"],[1.0,\"#f0f921\"]],\"type\":\"histogram2d\"}],\"histogram2dcontour\":[{\"colorbar\":{\"outlinewidth\":0,\"ticks\":\"\"},\"colorscale\":[[0.0,\"#0d0887\"],[0.1111111111111111,\"#46039f\"],[0.2222222222222222,\"#7201a8\"],[0.3333333333333333,\"#9c179e\"],[0.4444444444444444,\"#bd3786\"],[0.5555555555555556,\"#d8576b\"],[0.6666666666666666,\"#ed7953\"],[0.7777777777777778,\"#fb9f3a\"],[0.8888888888888888,\"#fdca26\"],[1.0,\"#f0f921\"]],\"type\":\"histogram2dcontour\"}],\"mesh3d\":[{\"colorbar\":{\"outlinewidth\":0,\"ticks\":\"\"},\"type\":\"mesh3d\"}],\"parcoords\":[{\"line\":{\"colorbar\":{\"outlinewidth\":0,\"ticks\":\"\"}},\"type\":\"parcoords\"}],\"pie\":[{\"automargin\":true,\"type\":\"pie\"}],\"scatter\":[{\"marker\":{\"colorbar\":{\"outlinewidth\":0,\"ticks\":\"\"}},\"type\":\"scatter\"}],\"scatter3d\":[{\"line\":{\"colorbar\":{\"outlinewidth\":0,\"ticks\":\"\"}},\"marker\":{\"colorbar\":{\"outlinewidth\":0,\"ticks\":\"\"}},\"type\":\"scatter3d\"}],\"scattercarpet\":[{\"marker\":{\"colorbar\":{\"outlinewidth\":0,\"ticks\":\"\"}},\"type\":\"scattercarpet\"}],\"scattergeo\":[{\"marker\":{\"colorbar\":{\"outlinewidth\":0,\"ticks\":\"\"}},\"type\":\"scattergeo\"}],\"scattergl\":[{\"marker\":{\"colorbar\":{\"outlinewidth\":0,\"ticks\":\"\"}},\"type\":\"scattergl\"}],\"scattermapbox\":[{\"marker\":{\"colorbar\":{\"outlinewidth\":0,\"ticks\":\"\"}},\"type\":\"scattermapbox\"}],\"scatterpolar\":[{\"marker\":{\"colorbar\":{\"outlinewidth\":0,\"ticks\":\"\"}},\"type\":\"scatterpolar\"}],\"scatterpolargl\":[{\"marker\":{\"colorbar\":{\"outlinewidth\":0,\"ticks\":\"\"}},\"type\":\"scatterpolargl\"}],\"scatterternary\":[{\"marker\":{\"colorbar\":{\"outlinewidth\":0,\"ticks\":\"\"}},\"type\":\"scatterternary\"}],\"surface\":[{\"colorbar\":{\"outlinewidth\":0,\"ticks\":\"\"},\"colorscale\":[[0.0,\"#0d0887\"],[0.1111111111111111,\"#46039f\"],[0.2222222222222222,\"#7201a8\"],[0.3333333333333333,\"#9c179e\"],[0.4444444444444444,\"#bd3786\"],[0.5555555555555556,\"#d8576b\"],[0.6666666666666666,\"#ed7953\"],[0.7777777777777778,\"#fb9f3a\"],[0.8888888888888888,\"#fdca26\"],[1.0,\"#f0f921\"]],\"type\":\"surface\"}],\"table\":[{\"cells\":{\"fill\":{\"color\":\"#EBF0F8\"},\"line\":{\"color\":\"white\"}},\"header\":{\"fill\":{\"color\":\"#C8D4E3\"},\"line\":{\"color\":\"white\"}},\"type\":\"table\"}]},\"layout\":{\"annotationdefaults\":{\"arrowcolor\":\"#2a3f5f\",\"arrowhead\":0,\"arrowwidth\":1},\"autotypenumbers\":\"strict\",\"coloraxis\":{\"colorbar\":{\"outlinewidth\":0,\"ticks\":\"\"}},\"colorscale\":{\"diverging\":[[0,\"#8e0152\"],[0.1,\"#c51b7d\"],[0.2,\"#de77ae\"],[0.3,\"#f1b6da\"],[0.4,\"#fde0ef\"],[0.5,\"#f7f7f7\"],[0.6,\"#e6f5d0\"],[0.7,\"#b8e186\"],[0.8,\"#7fbc41\"],[0.9,\"#4d9221\"],[1,\"#276419\"]],\"sequential\":[[0.0,\"#0d0887\"],[0.1111111111111111,\"#46039f\"],[0.2222222222222222,\"#7201a8\"],[0.3333333333333333,\"#9c179e\"],[0.4444444444444444,\"#bd3786\"],[0.5555555555555556,\"#d8576b\"],[0.6666666666666666,\"#ed7953\"],[0.7777777777777778,\"#fb9f3a\"],[0.8888888888888888,\"#fdca26\"],[1.0,\"#f0f921\"]],\"sequentialminus\":[[0.0,\"#0d0887\"],[0.1111111111111111,\"#46039f\"],[0.2222222222222222,\"#7201a8\"],[0.3333333333333333,\"#9c179e\"],[0.4444444444444444,\"#bd3786\"],[0.5555555555555556,\"#d8576b\"],[0.6666666666666666,\"#ed7953\"],[0.7777777777777778,\"#fb9f3a\"],[0.8888888888888888,\"#fdca26\"],[1.0,\"#f0f921\"]]},\"colorway\":[\"#636efa\",\"#EF553B\",\"#00cc96\",\"#ab63fa\",\"#FFA15A\",\"#19d3f3\",\"#FF6692\",\"#B6E880\",\"#FF97FF\",\"#FECB52\"],\"font\":{\"color\":\"#2a3f5f\"},\"geo\":{\"bgcolor\":\"white\",\"lakecolor\":\"white\",\"landcolor\":\"#E5ECF6\",\"showlakes\":true,\"showland\":true,\"subunitcolor\":\"white\"},\"hoverlabel\":{\"align\":\"left\"},\"hovermode\":\"closest\",\"mapbox\":{\"style\":\"light\"},\"paper_bgcolor\":\"white\",\"plot_bgcolor\":\"#E5ECF6\",\"polar\":{\"angularaxis\":{\"gridcolor\":\"white\",\"linecolor\":\"white\",\"ticks\":\"\"},\"bgcolor\":\"#E5ECF6\",\"radialaxis\":{\"gridcolor\":\"white\",\"linecolor\":\"white\",\"ticks\":\"\"}},\"scene\":{\"xaxis\":{\"backgroundcolor\":\"#E5ECF6\",\"gridcolor\":\"white\",\"gridwidth\":2,\"linecolor\":\"white\",\"showbackground\":true,\"ticks\":\"\",\"zerolinecolor\":\"white\"},\"yaxis\":{\"backgroundcolor\":\"#E5ECF6\",\"gridcolor\":\"white\",\"gridwidth\":2,\"linecolor\":\"white\",\"showbackground\":true,\"ticks\":\"\",\"zerolinecolor\":\"white\"},\"zaxis\":{\"backgroundcolor\":\"#E5ECF6\",\"gridcolor\":\"white\",\"gridwidth\":2,\"linecolor\":\"white\",\"showbackground\":true,\"ticks\":\"\",\"zerolinecolor\":\"white\"}},\"shapedefaults\":{\"line\":{\"color\":\"#2a3f5f\"}},\"ternary\":{\"aaxis\":{\"gridcolor\":\"white\",\"linecolor\":\"white\",\"ticks\":\"\"},\"baxis\":{\"gridcolor\":\"white\",\"linecolor\":\"white\",\"ticks\":\"\"},\"bgcolor\":\"#E5ECF6\",\"caxis\":{\"gridcolor\":\"white\",\"linecolor\":\"white\",\"ticks\":\"\"}},\"title\":{\"x\":0.05},\"xaxis\":{\"automargin\":true,\"gridcolor\":\"white\",\"linecolor\":\"white\",\"ticks\":\"\",\"title\":{\"standoff\":15},\"zerolinecolor\":\"white\",\"zerolinewidth\":2},\"yaxis\":{\"automargin\":true,\"gridcolor\":\"white\",\"linecolor\":\"white\",\"ticks\":\"\",\"title\":{\"standoff\":15},\"zerolinecolor\":\"white\",\"zerolinewidth\":2}}},\"xaxis\":{\"title\":{\"text\":\"mensalidade\"}},\"yaxis\":{\"title\":{\"text\":\"value\"}}},                        {\"responsive\": true}                    )                };                            </script>        </div>\n</body>\n</html>",
       "datasetInfos": [],
       "metadata": {},
       "removedWidgets": [],
       "textData": null,
       "type": "htmlSandbox"
      }
     },
     "output_type": "display_data"
    }
   ],
   "source": [
    "# boxplot mensalidade geral\n",
    "\n",
    "df['mensalidade'].plot.box()"
   ]
  },
  {
   "cell_type": "code",
   "execution_count": 0,
   "metadata": {
    "application/vnd.databricks.v1+cell": {
     "cellMetadata": {
      "byteLimit": 2048000,
      "rowLimit": 10000
     },
     "inputWidgets": {},
     "nuid": "1beafe94-403b-499b-bbe5-3fb02b9ac311",
     "showTitle": false,
     "tableResultSettingsMap": {},
     "title": ""
    }
   },
   "outputs": [
    {
     "output_type": "display_data",
     "data": {
      "text/html": [
       "<html>\n",
       "<head><meta charset=\"utf-8\" /></head>\n",
       "<body>\n",
       "    <div>            <script src=\"https://cdnjs.cloudflare.com/ajax/libs/mathjax/2.7.5/MathJax.js?config=TeX-AMS-MML_SVG\"></script><script type=\"text/javascript\">if (window.MathJax) {MathJax.Hub.Config({SVG: {font: \"STIX-Web\"}});}</script>                <script type=\"text/javascript\">window.PlotlyConfig = {MathJaxConfig: 'local'};</script>\n",
       "        <script src=\"https://cdn.plot.ly/plotly-2.9.0.min.js\"></script>                <div id=\"841c5268-4b25-48c6-afda-52f35e8092d3\" class=\"plotly-graph-div\" style=\"height:100%; width:100%;\"></div>            <script type=\"text/javascript\">                                    window.PLOTLYENV=window.PLOTLYENV || {};                                    if (document.getElementById(\"841c5268-4b25-48c6-afda-52f35e8092d3\")) {                    Plotly.newPlot(                        \"841c5268-4b25-48c6-afda-52f35e8092d3\",                        [{\"boxpoints\":\"suspectedoutliers\",\"lowerfence\":[350.0],\"mean\":[3612.6697916666676],\"median\":[1968.37],\"name\":\"mensalidade\",\"notched\":false,\"q1\":[1297.44],\"q3\":[7009.97],\"upperfence\":[9815.61],\"type\":\"box\"}],                        {\"template\":{\"data\":{\"bar\":[{\"error_x\":{\"color\":\"#2a3f5f\"},\"error_y\":{\"color\":\"#2a3f5f\"},\"marker\":{\"line\":{\"color\":\"#E5ECF6\",\"width\":0.5},\"pattern\":{\"fillmode\":\"overlay\",\"size\":10,\"solidity\":0.2}},\"type\":\"bar\"}],\"barpolar\":[{\"marker\":{\"line\":{\"color\":\"#E5ECF6\",\"width\":0.5},\"pattern\":{\"fillmode\":\"overlay\",\"size\":10,\"solidity\":0.2}},\"type\":\"barpolar\"}],\"carpet\":[{\"aaxis\":{\"endlinecolor\":\"#2a3f5f\",\"gridcolor\":\"white\",\"linecolor\":\"white\",\"minorgridcolor\":\"white\",\"startlinecolor\":\"#2a3f5f\"},\"baxis\":{\"endlinecolor\":\"#2a3f5f\",\"gridcolor\":\"white\",\"linecolor\":\"white\",\"minorgridcolor\":\"white\",\"startlinecolor\":\"#2a3f5f\"},\"type\":\"carpet\"}],\"choropleth\":[{\"colorbar\":{\"outlinewidth\":0,\"ticks\":\"\"},\"type\":\"choropleth\"}],\"contour\":[{\"colorbar\":{\"outlinewidth\":0,\"ticks\":\"\"},\"colorscale\":[[0.0,\"#0d0887\"],[0.1111111111111111,\"#46039f\"],[0.2222222222222222,\"#7201a8\"],[0.3333333333333333,\"#9c179e\"],[0.4444444444444444,\"#bd3786\"],[0.5555555555555556,\"#d8576b\"],[0.6666666666666666,\"#ed7953\"],[0.7777777777777778,\"#fb9f3a\"],[0.8888888888888888,\"#fdca26\"],[1.0,\"#f0f921\"]],\"type\":\"contour\"}],\"contourcarpet\":[{\"colorbar\":{\"outlinewidth\":0,\"ticks\":\"\"},\"type\":\"contourcarpet\"}],\"heatmap\":[{\"colorbar\":{\"outlinewidth\":0,\"ticks\":\"\"},\"colorscale\":[[0.0,\"#0d0887\"],[0.1111111111111111,\"#46039f\"],[0.2222222222222222,\"#7201a8\"],[0.3333333333333333,\"#9c179e\"],[0.4444444444444444,\"#bd3786\"],[0.5555555555555556,\"#d8576b\"],[0.6666666666666666,\"#ed7953\"],[0.7777777777777778,\"#fb9f3a\"],[0.8888888888888888,\"#fdca26\"],[1.0,\"#f0f921\"]],\"type\":\"heatmap\"}],\"heatmapgl\":[{\"colorbar\":{\"outlinewidth\":0,\"ticks\":\"\"},\"colorscale\":[[0.0,\"#0d0887\"],[0.1111111111111111,\"#46039f\"],[0.2222222222222222,\"#7201a8\"],[0.3333333333333333,\"#9c179e\"],[0.4444444444444444,\"#bd3786\"],[0.5555555555555556,\"#d8576b\"],[0.6666666666666666,\"#ed7953\"],[0.7777777777777778,\"#fb9f3a\"],[0.8888888888888888,\"#fdca26\"],[1.0,\"#f0f921\"]],\"type\":\"heatmapgl\"}],\"histogram\":[{\"marker\":{\"pattern\":{\"fillmode\":\"overlay\",\"size\":10,\"solidity\":0.2}},\"type\":\"histogram\"}],\"histogram2d\":[{\"colorbar\":{\"outlinewidth\":0,\"ticks\":\"\"},\"colorscale\":[[0.0,\"#0d0887\"],[0.1111111111111111,\"#46039f\"],[0.2222222222222222,\"#7201a8\"],[0.3333333333333333,\"#9c179e\"],[0.4444444444444444,\"#bd3786\"],[0.5555555555555556,\"#d8576b\"],[0.6666666666666666,\"#ed7953\"],[0.7777777777777778,\"#fb9f3a\"],[0.8888888888888888,\"#fdca26\"],[1.0,\"#f0f921\"]],\"type\":\"histogram2d\"}],\"histogram2dcontour\":[{\"colorbar\":{\"outlinewidth\":0,\"ticks\":\"\"},\"colorscale\":[[0.0,\"#0d0887\"],[0.1111111111111111,\"#46039f\"],[0.2222222222222222,\"#7201a8\"],[0.3333333333333333,\"#9c179e\"],[0.4444444444444444,\"#bd3786\"],[0.5555555555555556,\"#d8576b\"],[0.6666666666666666,\"#ed7953\"],[0.7777777777777778,\"#fb9f3a\"],[0.8888888888888888,\"#fdca26\"],[1.0,\"#f0f921\"]],\"type\":\"histogram2dcontour\"}],\"mesh3d\":[{\"colorbar\":{\"outlinewidth\":0,\"ticks\":\"\"},\"type\":\"mesh3d\"}],\"parcoords\":[{\"line\":{\"colorbar\":{\"outlinewidth\":0,\"ticks\":\"\"}},\"type\":\"parcoords\"}],\"pie\":[{\"automargin\":true,\"type\":\"pie\"}],\"scatter\":[{\"marker\":{\"colorbar\":{\"outlinewidth\":0,\"ticks\":\"\"}},\"type\":\"scatter\"}],\"scatter3d\":[{\"line\":{\"colorbar\":{\"outlinewidth\":0,\"ticks\":\"\"}},\"marker\":{\"colorbar\":{\"outlinewidth\":0,\"ticks\":\"\"}},\"type\":\"scatter3d\"}],\"scattercarpet\":[{\"marker\":{\"colorbar\":{\"outlinewidth\":0,\"ticks\":\"\"}},\"type\":\"scattercarpet\"}],\"scattergeo\":[{\"marker\":{\"colorbar\":{\"outlinewidth\":0,\"ticks\":\"\"}},\"type\":\"scattergeo\"}],\"scattergl\":[{\"marker\":{\"colorbar\":{\"outlinewidth\":0,\"ticks\":\"\"}},\"type\":\"scattergl\"}],\"scattermapbox\":[{\"marker\":{\"colorbar\":{\"outlinewidth\":0,\"ticks\":\"\"}},\"type\":\"scattermapbox\"}],\"scatterpolar\":[{\"marker\":{\"colorbar\":{\"outlinewidth\":0,\"ticks\":\"\"}},\"type\":\"scatterpolar\"}],\"scatterpolargl\":[{\"marker\":{\"colorbar\":{\"outlinewidth\":0,\"ticks\":\"\"}},\"type\":\"scatterpolargl\"}],\"scatterternary\":[{\"marker\":{\"colorbar\":{\"outlinewidth\":0,\"ticks\":\"\"}},\"type\":\"scatterternary\"}],\"surface\":[{\"colorbar\":{\"outlinewidth\":0,\"ticks\":\"\"},\"colorscale\":[[0.0,\"#0d0887\"],[0.1111111111111111,\"#46039f\"],[0.2222222222222222,\"#7201a8\"],[0.3333333333333333,\"#9c179e\"],[0.4444444444444444,\"#bd3786\"],[0.5555555555555556,\"#d8576b\"],[0.6666666666666666,\"#ed7953\"],[0.7777777777777778,\"#fb9f3a\"],[0.8888888888888888,\"#fdca26\"],[1.0,\"#f0f921\"]],\"type\":\"surface\"}],\"table\":[{\"cells\":{\"fill\":{\"color\":\"#EBF0F8\"},\"line\":{\"color\":\"white\"}},\"header\":{\"fill\":{\"color\":\"#C8D4E3\"},\"line\":{\"color\":\"white\"}},\"type\":\"table\"}]},\"layout\":{\"annotationdefaults\":{\"arrowcolor\":\"#2a3f5f\",\"arrowhead\":0,\"arrowwidth\":1},\"autotypenumbers\":\"strict\",\"coloraxis\":{\"colorbar\":{\"outlinewidth\":0,\"ticks\":\"\"}},\"colorscale\":{\"diverging\":[[0,\"#8e0152\"],[0.1,\"#c51b7d\"],[0.2,\"#de77ae\"],[0.3,\"#f1b6da\"],[0.4,\"#fde0ef\"],[0.5,\"#f7f7f7\"],[0.6,\"#e6f5d0\"],[0.7,\"#b8e186\"],[0.8,\"#7fbc41\"],[0.9,\"#4d9221\"],[1,\"#276419\"]],\"sequential\":[[0.0,\"#0d0887\"],[0.1111111111111111,\"#46039f\"],[0.2222222222222222,\"#7201a8\"],[0.3333333333333333,\"#9c179e\"],[0.4444444444444444,\"#bd3786\"],[0.5555555555555556,\"#d8576b\"],[0.6666666666666666,\"#ed7953\"],[0.7777777777777778,\"#fb9f3a\"],[0.8888888888888888,\"#fdca26\"],[1.0,\"#f0f921\"]],\"sequentialminus\":[[0.0,\"#0d0887\"],[0.1111111111111111,\"#46039f\"],[0.2222222222222222,\"#7201a8\"],[0.3333333333333333,\"#9c179e\"],[0.4444444444444444,\"#bd3786\"],[0.5555555555555556,\"#d8576b\"],[0.6666666666666666,\"#ed7953\"],[0.7777777777777778,\"#fb9f3a\"],[0.8888888888888888,\"#fdca26\"],[1.0,\"#f0f921\"]]},\"colorway\":[\"#636efa\",\"#EF553B\",\"#00cc96\",\"#ab63fa\",\"#FFA15A\",\"#19d3f3\",\"#FF6692\",\"#B6E880\",\"#FF97FF\",\"#FECB52\"],\"font\":{\"color\":\"#2a3f5f\"},\"geo\":{\"bgcolor\":\"white\",\"lakecolor\":\"white\",\"landcolor\":\"#E5ECF6\",\"showlakes\":true,\"showland\":true,\"subunitcolor\":\"white\"},\"hoverlabel\":{\"align\":\"left\"},\"hovermode\":\"closest\",\"mapbox\":{\"style\":\"light\"},\"paper_bgcolor\":\"white\",\"plot_bgcolor\":\"#E5ECF6\",\"polar\":{\"angularaxis\":{\"gridcolor\":\"white\",\"linecolor\":\"white\",\"ticks\":\"\"},\"bgcolor\":\"#E5ECF6\",\"radialaxis\":{\"gridcolor\":\"white\",\"linecolor\":\"white\",\"ticks\":\"\"}},\"scene\":{\"xaxis\":{\"backgroundcolor\":\"#E5ECF6\",\"gridcolor\":\"white\",\"gridwidth\":2,\"linecolor\":\"white\",\"showbackground\":true,\"ticks\":\"\",\"zerolinecolor\":\"white\"},\"yaxis\":{\"backgroundcolor\":\"#E5ECF6\",\"gridcolor\":\"white\",\"gridwidth\":2,\"linecolor\":\"white\",\"showbackground\":true,\"ticks\":\"\",\"zerolinecolor\":\"white\"},\"zaxis\":{\"backgroundcolor\":\"#E5ECF6\",\"gridcolor\":\"white\",\"gridwidth\":2,\"linecolor\":\"white\",\"showbackground\":true,\"ticks\":\"\",\"zerolinecolor\":\"white\"}},\"shapedefaults\":{\"line\":{\"color\":\"#2a3f5f\"}},\"ternary\":{\"aaxis\":{\"gridcolor\":\"white\",\"linecolor\":\"white\",\"ticks\":\"\"},\"baxis\":{\"gridcolor\":\"white\",\"linecolor\":\"white\",\"ticks\":\"\"},\"bgcolor\":\"#E5ECF6\",\"caxis\":{\"gridcolor\":\"white\",\"linecolor\":\"white\",\"ticks\":\"\"}},\"title\":{\"x\":0.05},\"xaxis\":{\"automargin\":true,\"gridcolor\":\"white\",\"linecolor\":\"white\",\"ticks\":\"\",\"title\":{\"standoff\":15},\"zerolinecolor\":\"white\",\"zerolinewidth\":2},\"yaxis\":{\"automargin\":true,\"gridcolor\":\"white\",\"linecolor\":\"white\",\"ticks\":\"\",\"title\":{\"standoff\":15},\"zerolinecolor\":\"white\",\"zerolinewidth\":2}}},\"xaxis\":{\"title\":{\"text\":\"mensalidade\"}},\"yaxis\":{\"title\":{\"text\":\"value\"}}},                        {\"responsive\": true}                    )                };                            </script>        </div>\n",
       "</body>\n",
       "</html>"
      ]
     },
     "metadata": {
      "application/vnd.databricks.v1+output": {
       "addedWidgets": {},
       "arguments": {},
       "data": "<html>\n<head><meta charset=\"utf-8\" /></head>\n<body>\n    <div>            <script src=\"https://cdnjs.cloudflare.com/ajax/libs/mathjax/2.7.5/MathJax.js?config=TeX-AMS-MML_SVG\"></script><script type=\"text/javascript\">if (window.MathJax) {MathJax.Hub.Config({SVG: {font: \"STIX-Web\"}});}</script>                <script type=\"text/javascript\">window.PlotlyConfig = {MathJaxConfig: 'local'};</script>\n        <script src=\"https://cdn.plot.ly/plotly-2.9.0.min.js\"></script>                <div id=\"841c5268-4b25-48c6-afda-52f35e8092d3\" class=\"plotly-graph-div\" style=\"height:100%; width:100%;\"></div>            <script type=\"text/javascript\">                                    window.PLOTLYENV=window.PLOTLYENV || {};                                    if (document.getElementById(\"841c5268-4b25-48c6-afda-52f35e8092d3\")) {                    Plotly.newPlot(                        \"841c5268-4b25-48c6-afda-52f35e8092d3\",                        [{\"boxpoints\":\"suspectedoutliers\",\"lowerfence\":[350.0],\"mean\":[3612.6697916666676],\"median\":[1968.37],\"name\":\"mensalidade\",\"notched\":false,\"q1\":[1297.44],\"q3\":[7009.97],\"upperfence\":[9815.61],\"type\":\"box\"}],                        {\"template\":{\"data\":{\"bar\":[{\"error_x\":{\"color\":\"#2a3f5f\"},\"error_y\":{\"color\":\"#2a3f5f\"},\"marker\":{\"line\":{\"color\":\"#E5ECF6\",\"width\":0.5},\"pattern\":{\"fillmode\":\"overlay\",\"size\":10,\"solidity\":0.2}},\"type\":\"bar\"}],\"barpolar\":[{\"marker\":{\"line\":{\"color\":\"#E5ECF6\",\"width\":0.5},\"pattern\":{\"fillmode\":\"overlay\",\"size\":10,\"solidity\":0.2}},\"type\":\"barpolar\"}],\"carpet\":[{\"aaxis\":{\"endlinecolor\":\"#2a3f5f\",\"gridcolor\":\"white\",\"linecolor\":\"white\",\"minorgridcolor\":\"white\",\"startlinecolor\":\"#2a3f5f\"},\"baxis\":{\"endlinecolor\":\"#2a3f5f\",\"gridcolor\":\"white\",\"linecolor\":\"white\",\"minorgridcolor\":\"white\",\"startlinecolor\":\"#2a3f5f\"},\"type\":\"carpet\"}],\"choropleth\":[{\"colorbar\":{\"outlinewidth\":0,\"ticks\":\"\"},\"type\":\"choropleth\"}],\"contour\":[{\"colorbar\":{\"outlinewidth\":0,\"ticks\":\"\"},\"colorscale\":[[0.0,\"#0d0887\"],[0.1111111111111111,\"#46039f\"],[0.2222222222222222,\"#7201a8\"],[0.3333333333333333,\"#9c179e\"],[0.4444444444444444,\"#bd3786\"],[0.5555555555555556,\"#d8576b\"],[0.6666666666666666,\"#ed7953\"],[0.7777777777777778,\"#fb9f3a\"],[0.8888888888888888,\"#fdca26\"],[1.0,\"#f0f921\"]],\"type\":\"contour\"}],\"contourcarpet\":[{\"colorbar\":{\"outlinewidth\":0,\"ticks\":\"\"},\"type\":\"contourcarpet\"}],\"heatmap\":[{\"colorbar\":{\"outlinewidth\":0,\"ticks\":\"\"},\"colorscale\":[[0.0,\"#0d0887\"],[0.1111111111111111,\"#46039f\"],[0.2222222222222222,\"#7201a8\"],[0.3333333333333333,\"#9c179e\"],[0.4444444444444444,\"#bd3786\"],[0.5555555555555556,\"#d8576b\"],[0.6666666666666666,\"#ed7953\"],[0.7777777777777778,\"#fb9f3a\"],[0.8888888888888888,\"#fdca26\"],[1.0,\"#f0f921\"]],\"type\":\"heatmap\"}],\"heatmapgl\":[{\"colorbar\":{\"outlinewidth\":0,\"ticks\":\"\"},\"colorscale\":[[0.0,\"#0d0887\"],[0.1111111111111111,\"#46039f\"],[0.2222222222222222,\"#7201a8\"],[0.3333333333333333,\"#9c179e\"],[0.4444444444444444,\"#bd3786\"],[0.5555555555555556,\"#d8576b\"],[0.6666666666666666,\"#ed7953\"],[0.7777777777777778,\"#fb9f3a\"],[0.8888888888888888,\"#fdca26\"],[1.0,\"#f0f921\"]],\"type\":\"heatmapgl\"}],\"histogram\":[{\"marker\":{\"pattern\":{\"fillmode\":\"overlay\",\"size\":10,\"solidity\":0.2}},\"type\":\"histogram\"}],\"histogram2d\":[{\"colorbar\":{\"outlinewidth\":0,\"ticks\":\"\"},\"colorscale\":[[0.0,\"#0d0887\"],[0.1111111111111111,\"#46039f\"],[0.2222222222222222,\"#7201a8\"],[0.3333333333333333,\"#9c179e\"],[0.4444444444444444,\"#bd3786\"],[0.5555555555555556,\"#d8576b\"],[0.6666666666666666,\"#ed7953\"],[0.7777777777777778,\"#fb9f3a\"],[0.8888888888888888,\"#fdca26\"],[1.0,\"#f0f921\"]],\"type\":\"histogram2d\"}],\"histogram2dcontour\":[{\"colorbar\":{\"outlinewidth\":0,\"ticks\":\"\"},\"colorscale\":[[0.0,\"#0d0887\"],[0.1111111111111111,\"#46039f\"],[0.2222222222222222,\"#7201a8\"],[0.3333333333333333,\"#9c179e\"],[0.4444444444444444,\"#bd3786\"],[0.5555555555555556,\"#d8576b\"],[0.6666666666666666,\"#ed7953\"],[0.7777777777777778,\"#fb9f3a\"],[0.8888888888888888,\"#fdca26\"],[1.0,\"#f0f921\"]],\"type\":\"histogram2dcontour\"}],\"mesh3d\":[{\"colorbar\":{\"outlinewidth\":0,\"ticks\":\"\"},\"type\":\"mesh3d\"}],\"parcoords\":[{\"line\":{\"colorbar\":{\"outlinewidth\":0,\"ticks\":\"\"}},\"type\":\"parcoords\"}],\"pie\":[{\"automargin\":true,\"type\":\"pie\"}],\"scatter\":[{\"marker\":{\"colorbar\":{\"outlinewidth\":0,\"ticks\":\"\"}},\"type\":\"scatter\"}],\"scatter3d\":[{\"line\":{\"colorbar\":{\"outlinewidth\":0,\"ticks\":\"\"}},\"marker\":{\"colorbar\":{\"outlinewidth\":0,\"ticks\":\"\"}},\"type\":\"scatter3d\"}],\"scattercarpet\":[{\"marker\":{\"colorbar\":{\"outlinewidth\":0,\"ticks\":\"\"}},\"type\":\"scattercarpet\"}],\"scattergeo\":[{\"marker\":{\"colorbar\":{\"outlinewidth\":0,\"ticks\":\"\"}},\"type\":\"scattergeo\"}],\"scattergl\":[{\"marker\":{\"colorbar\":{\"outlinewidth\":0,\"ticks\":\"\"}},\"type\":\"scattergl\"}],\"scattermapbox\":[{\"marker\":{\"colorbar\":{\"outlinewidth\":0,\"ticks\":\"\"}},\"type\":\"scattermapbox\"}],\"scatterpolar\":[{\"marker\":{\"colorbar\":{\"outlinewidth\":0,\"ticks\":\"\"}},\"type\":\"scatterpolar\"}],\"scatterpolargl\":[{\"marker\":{\"colorbar\":{\"outlinewidth\":0,\"ticks\":\"\"}},\"type\":\"scatterpolargl\"}],\"scatterternary\":[{\"marker\":{\"colorbar\":{\"outlinewidth\":0,\"ticks\":\"\"}},\"type\":\"scatterternary\"}],\"surface\":[{\"colorbar\":{\"outlinewidth\":0,\"ticks\":\"\"},\"colorscale\":[[0.0,\"#0d0887\"],[0.1111111111111111,\"#46039f\"],[0.2222222222222222,\"#7201a8\"],[0.3333333333333333,\"#9c179e\"],[0.4444444444444444,\"#bd3786\"],[0.5555555555555556,\"#d8576b\"],[0.6666666666666666,\"#ed7953\"],[0.7777777777777778,\"#fb9f3a\"],[0.8888888888888888,\"#fdca26\"],[1.0,\"#f0f921\"]],\"type\":\"surface\"}],\"table\":[{\"cells\":{\"fill\":{\"color\":\"#EBF0F8\"},\"line\":{\"color\":\"white\"}},\"header\":{\"fill\":{\"color\":\"#C8D4E3\"},\"line\":{\"color\":\"white\"}},\"type\":\"table\"}]},\"layout\":{\"annotationdefaults\":{\"arrowcolor\":\"#2a3f5f\",\"arrowhead\":0,\"arrowwidth\":1},\"autotypenumbers\":\"strict\",\"coloraxis\":{\"colorbar\":{\"outlinewidth\":0,\"ticks\":\"\"}},\"colorscale\":{\"diverging\":[[0,\"#8e0152\"],[0.1,\"#c51b7d\"],[0.2,\"#de77ae\"],[0.3,\"#f1b6da\"],[0.4,\"#fde0ef\"],[0.5,\"#f7f7f7\"],[0.6,\"#e6f5d0\"],[0.7,\"#b8e186\"],[0.8,\"#7fbc41\"],[0.9,\"#4d9221\"],[1,\"#276419\"]],\"sequential\":[[0.0,\"#0d0887\"],[0.1111111111111111,\"#46039f\"],[0.2222222222222222,\"#7201a8\"],[0.3333333333333333,\"#9c179e\"],[0.4444444444444444,\"#bd3786\"],[0.5555555555555556,\"#d8576b\"],[0.6666666666666666,\"#ed7953\"],[0.7777777777777778,\"#fb9f3a\"],[0.8888888888888888,\"#fdca26\"],[1.0,\"#f0f921\"]],\"sequentialminus\":[[0.0,\"#0d0887\"],[0.1111111111111111,\"#46039f\"],[0.2222222222222222,\"#7201a8\"],[0.3333333333333333,\"#9c179e\"],[0.4444444444444444,\"#bd3786\"],[0.5555555555555556,\"#d8576b\"],[0.6666666666666666,\"#ed7953\"],[0.7777777777777778,\"#fb9f3a\"],[0.8888888888888888,\"#fdca26\"],[1.0,\"#f0f921\"]]},\"colorway\":[\"#636efa\",\"#EF553B\",\"#00cc96\",\"#ab63fa\",\"#FFA15A\",\"#19d3f3\",\"#FF6692\",\"#B6E880\",\"#FF97FF\",\"#FECB52\"],\"font\":{\"color\":\"#2a3f5f\"},\"geo\":{\"bgcolor\":\"white\",\"lakecolor\":\"white\",\"landcolor\":\"#E5ECF6\",\"showlakes\":true,\"showland\":true,\"subunitcolor\":\"white\"},\"hoverlabel\":{\"align\":\"left\"},\"hovermode\":\"closest\",\"mapbox\":{\"style\":\"light\"},\"paper_bgcolor\":\"white\",\"plot_bgcolor\":\"#E5ECF6\",\"polar\":{\"angularaxis\":{\"gridcolor\":\"white\",\"linecolor\":\"white\",\"ticks\":\"\"},\"bgcolor\":\"#E5ECF6\",\"radialaxis\":{\"gridcolor\":\"white\",\"linecolor\":\"white\",\"ticks\":\"\"}},\"scene\":{\"xaxis\":{\"backgroundcolor\":\"#E5ECF6\",\"gridcolor\":\"white\",\"gridwidth\":2,\"linecolor\":\"white\",\"showbackground\":true,\"ticks\":\"\",\"zerolinecolor\":\"white\"},\"yaxis\":{\"backgroundcolor\":\"#E5ECF6\",\"gridcolor\":\"white\",\"gridwidth\":2,\"linecolor\":\"white\",\"showbackground\":true,\"ticks\":\"\",\"zerolinecolor\":\"white\"},\"zaxis\":{\"backgroundcolor\":\"#E5ECF6\",\"gridcolor\":\"white\",\"gridwidth\":2,\"linecolor\":\"white\",\"showbackground\":true,\"ticks\":\"\",\"zerolinecolor\":\"white\"}},\"shapedefaults\":{\"line\":{\"color\":\"#2a3f5f\"}},\"ternary\":{\"aaxis\":{\"gridcolor\":\"white\",\"linecolor\":\"white\",\"ticks\":\"\"},\"baxis\":{\"gridcolor\":\"white\",\"linecolor\":\"white\",\"ticks\":\"\"},\"bgcolor\":\"#E5ECF6\",\"caxis\":{\"gridcolor\":\"white\",\"linecolor\":\"white\",\"ticks\":\"\"}},\"title\":{\"x\":0.05},\"xaxis\":{\"automargin\":true,\"gridcolor\":\"white\",\"linecolor\":\"white\",\"ticks\":\"\",\"title\":{\"standoff\":15},\"zerolinecolor\":\"white\",\"zerolinewidth\":2},\"yaxis\":{\"automargin\":true,\"gridcolor\":\"white\",\"linecolor\":\"white\",\"ticks\":\"\",\"title\":{\"standoff\":15},\"zerolinecolor\":\"white\",\"zerolinewidth\":2}}},\"xaxis\":{\"title\":{\"text\":\"mensalidade\"}},\"yaxis\":{\"title\":{\"text\":\"value\"}}},                        {\"responsive\": true}                    )                };                            </script>        </div>\n</body>\n</html>",
       "datasetInfos": [],
       "metadata": {},
       "removedWidgets": [],
       "textData": null,
       "type": "htmlSandbox"
      }
     },
     "output_type": "display_data"
    }
   ],
   "source": [
    "# apenas periodo integral\n",
    "\n",
    "df[df['turno']=='Integral']['mensalidade'].plot.box()"
   ]
  },
  {
   "cell_type": "code",
   "execution_count": 0,
   "metadata": {
    "application/vnd.databricks.v1+cell": {
     "cellMetadata": {
      "byteLimit": 2048000,
      "rowLimit": 10000
     },
     "inputWidgets": {},
     "nuid": "0c599783-a855-4848-9ace-2781ece2fc81",
     "showTitle": false,
     "tableResultSettingsMap": {},
     "title": ""
    }
   },
   "outputs": [
    {
     "output_type": "display_data",
     "data": {
      "text/html": [
       "<html>\n",
       "<head><meta charset=\"utf-8\" /></head>\n",
       "<body>\n",
       "    <div>            <script src=\"https://cdnjs.cloudflare.com/ajax/libs/mathjax/2.7.5/MathJax.js?config=TeX-AMS-MML_SVG\"></script><script type=\"text/javascript\">if (window.MathJax) {MathJax.Hub.Config({SVG: {font: \"STIX-Web\"}});}</script>                <script type=\"text/javascript\">window.PlotlyConfig = {MathJaxConfig: 'local'};</script>\n",
       "        <script src=\"https://cdn.plot.ly/plotly-2.9.0.min.js\"></script>                <div id=\"b6b3b747-e104-47e5-958e-7bec2a9b7883\" class=\"plotly-graph-div\" style=\"height:100%; width:100%;\"></div>            <script type=\"text/javascript\">                                    window.PLOTLYENV=window.PLOTLYENV || {};                                    if (document.getElementById(\"b6b3b747-e104-47e5-958e-7bec2a9b7883\")) {                    Plotly.newPlot(                        \"b6b3b747-e104-47e5-958e-7bec2a9b7883\",                        [{\"boxpoints\":\"suspectedoutliers\",\"lowerfence\":[350.0],\"mean\":[962.8386945812804],\"median\":[859.4],\"name\":\"mensalidade\",\"notched\":false,\"q1\":[648.78],\"q3\":[1150.0],\"upperfence\":[1805.0],\"y\":[[1948.63,1976.0,2005.0,2020.0,2024.0,2029.0,2037.0,2037.0,2145.0,2148.67,2223.84,2271.36,2282.5,2389.1,2477.39,2647.0,3694.77]],\"type\":\"box\"}],                        {\"template\":{\"data\":{\"bar\":[{\"error_x\":{\"color\":\"#2a3f5f\"},\"error_y\":{\"color\":\"#2a3f5f\"},\"marker\":{\"line\":{\"color\":\"#E5ECF6\",\"width\":0.5},\"pattern\":{\"fillmode\":\"overlay\",\"size\":10,\"solidity\":0.2}},\"type\":\"bar\"}],\"barpolar\":[{\"marker\":{\"line\":{\"color\":\"#E5ECF6\",\"width\":0.5},\"pattern\":{\"fillmode\":\"overlay\",\"size\":10,\"solidity\":0.2}},\"type\":\"barpolar\"}],\"carpet\":[{\"aaxis\":{\"endlinecolor\":\"#2a3f5f\",\"gridcolor\":\"white\",\"linecolor\":\"white\",\"minorgridcolor\":\"white\",\"startlinecolor\":\"#2a3f5f\"},\"baxis\":{\"endlinecolor\":\"#2a3f5f\",\"gridcolor\":\"white\",\"linecolor\":\"white\",\"minorgridcolor\":\"white\",\"startlinecolor\":\"#2a3f5f\"},\"type\":\"carpet\"}],\"choropleth\":[{\"colorbar\":{\"outlinewidth\":0,\"ticks\":\"\"},\"type\":\"choropleth\"}],\"contour\":[{\"colorbar\":{\"outlinewidth\":0,\"ticks\":\"\"},\"colorscale\":[[0.0,\"#0d0887\"],[0.1111111111111111,\"#46039f\"],[0.2222222222222222,\"#7201a8\"],[0.3333333333333333,\"#9c179e\"],[0.4444444444444444,\"#bd3786\"],[0.5555555555555556,\"#d8576b\"],[0.6666666666666666,\"#ed7953\"],[0.7777777777777778,\"#fb9f3a\"],[0.8888888888888888,\"#fdca26\"],[1.0,\"#f0f921\"]],\"type\":\"contour\"}],\"contourcarpet\":[{\"colorbar\":{\"outlinewidth\":0,\"ticks\":\"\"},\"type\":\"contourcarpet\"}],\"heatmap\":[{\"colorbar\":{\"outlinewidth\":0,\"ticks\":\"\"},\"colorscale\":[[0.0,\"#0d0887\"],[0.1111111111111111,\"#46039f\"],[0.2222222222222222,\"#7201a8\"],[0.3333333333333333,\"#9c179e\"],[0.4444444444444444,\"#bd3786\"],[0.5555555555555556,\"#d8576b\"],[0.6666666666666666,\"#ed7953\"],[0.7777777777777778,\"#fb9f3a\"],[0.8888888888888888,\"#fdca26\"],[1.0,\"#f0f921\"]],\"type\":\"heatmap\"}],\"heatmapgl\":[{\"colorbar\":{\"outlinewidth\":0,\"ticks\":\"\"},\"colorscale\":[[0.0,\"#0d0887\"],[0.1111111111111111,\"#46039f\"],[0.2222222222222222,\"#7201a8\"],[0.3333333333333333,\"#9c179e\"],[0.4444444444444444,\"#bd3786\"],[0.5555555555555556,\"#d8576b\"],[0.6666666666666666,\"#ed7953\"],[0.7777777777777778,\"#fb9f3a\"],[0.8888888888888888,\"#fdca26\"],[1.0,\"#f0f921\"]],\"type\":\"heatmapgl\"}],\"histogram\":[{\"marker\":{\"pattern\":{\"fillmode\":\"overlay\",\"size\":10,\"solidity\":0.2}},\"type\":\"histogram\"}],\"histogram2d\":[{\"colorbar\":{\"outlinewidth\":0,\"ticks\":\"\"},\"colorscale\":[[0.0,\"#0d0887\"],[0.1111111111111111,\"#46039f\"],[0.2222222222222222,\"#7201a8\"],[0.3333333333333333,\"#9c179e\"],[0.4444444444444444,\"#bd3786\"],[0.5555555555555556,\"#d8576b\"],[0.6666666666666666,\"#ed7953\"],[0.7777777777777778,\"#fb9f3a\"],[0.8888888888888888,\"#fdca26\"],[1.0,\"#f0f921\"]],\"type\":\"histogram2d\"}],\"histogram2dcontour\":[{\"colorbar\":{\"outlinewidth\":0,\"ticks\":\"\"},\"colorscale\":[[0.0,\"#0d0887\"],[0.1111111111111111,\"#46039f\"],[0.2222222222222222,\"#7201a8\"],[0.3333333333333333,\"#9c179e\"],[0.4444444444444444,\"#bd3786\"],[0.5555555555555556,\"#d8576b\"],[0.6666666666666666,\"#ed7953\"],[0.7777777777777778,\"#fb9f3a\"],[0.8888888888888888,\"#fdca26\"],[1.0,\"#f0f921\"]],\"type\":\"histogram2dcontour\"}],\"mesh3d\":[{\"colorbar\":{\"outlinewidth\":0,\"ticks\":\"\"},\"type\":\"mesh3d\"}],\"parcoords\":[{\"line\":{\"colorbar\":{\"outlinewidth\":0,\"ticks\":\"\"}},\"type\":\"parcoords\"}],\"pie\":[{\"automargin\":true,\"type\":\"pie\"}],\"scatter\":[{\"marker\":{\"colorbar\":{\"outlinewidth\":0,\"ticks\":\"\"}},\"type\":\"scatter\"}],\"scatter3d\":[{\"line\":{\"colorbar\":{\"outlinewidth\":0,\"ticks\":\"\"}},\"marker\":{\"colorbar\":{\"outlinewidth\":0,\"ticks\":\"\"}},\"type\":\"scatter3d\"}],\"scattercarpet\":[{\"marker\":{\"colorbar\":{\"outlinewidth\":0,\"ticks\":\"\"}},\"type\":\"scattercarpet\"}],\"scattergeo\":[{\"marker\":{\"colorbar\":{\"outlinewidth\":0,\"ticks\":\"\"}},\"type\":\"scattergeo\"}],\"scattergl\":[{\"marker\":{\"colorbar\":{\"outlinewidth\":0,\"ticks\":\"\"}},\"type\":\"scattergl\"}],\"scattermapbox\":[{\"marker\":{\"colorbar\":{\"outlinewidth\":0,\"ticks\":\"\"}},\"type\":\"scattermapbox\"}],\"scatterpolar\":[{\"marker\":{\"colorbar\":{\"outlinewidth\":0,\"ticks\":\"\"}},\"type\":\"scatterpolar\"}],\"scatterpolargl\":[{\"marker\":{\"colorbar\":{\"outlinewidth\":0,\"ticks\":\"\"}},\"type\":\"scatterpolargl\"}],\"scatterternary\":[{\"marker\":{\"colorbar\":{\"outlinewidth\":0,\"ticks\":\"\"}},\"type\":\"scatterternary\"}],\"surface\":[{\"colorbar\":{\"outlinewidth\":0,\"ticks\":\"\"},\"colorscale\":[[0.0,\"#0d0887\"],[0.1111111111111111,\"#46039f\"],[0.2222222222222222,\"#7201a8\"],[0.3333333333333333,\"#9c179e\"],[0.4444444444444444,\"#bd3786\"],[0.5555555555555556,\"#d8576b\"],[0.6666666666666666,\"#ed7953\"],[0.7777777777777778,\"#fb9f3a\"],[0.8888888888888888,\"#fdca26\"],[1.0,\"#f0f921\"]],\"type\":\"surface\"}],\"table\":[{\"cells\":{\"fill\":{\"color\":\"#EBF0F8\"},\"line\":{\"color\":\"white\"}},\"header\":{\"fill\":{\"color\":\"#C8D4E3\"},\"line\":{\"color\":\"white\"}},\"type\":\"table\"}]},\"layout\":{\"annotationdefaults\":{\"arrowcolor\":\"#2a3f5f\",\"arrowhead\":0,\"arrowwidth\":1},\"autotypenumbers\":\"strict\",\"coloraxis\":{\"colorbar\":{\"outlinewidth\":0,\"ticks\":\"\"}},\"colorscale\":{\"diverging\":[[0,\"#8e0152\"],[0.1,\"#c51b7d\"],[0.2,\"#de77ae\"],[0.3,\"#f1b6da\"],[0.4,\"#fde0ef\"],[0.5,\"#f7f7f7\"],[0.6,\"#e6f5d0\"],[0.7,\"#b8e186\"],[0.8,\"#7fbc41\"],[0.9,\"#4d9221\"],[1,\"#276419\"]],\"sequential\":[[0.0,\"#0d0887\"],[0.1111111111111111,\"#46039f\"],[0.2222222222222222,\"#7201a8\"],[0.3333333333333333,\"#9c179e\"],[0.4444444444444444,\"#bd3786\"],[0.5555555555555556,\"#d8576b\"],[0.6666666666666666,\"#ed7953\"],[0.7777777777777778,\"#fb9f3a\"],[0.8888888888888888,\"#fdca26\"],[1.0,\"#f0f921\"]],\"sequentialminus\":[[0.0,\"#0d0887\"],[0.1111111111111111,\"#46039f\"],[0.2222222222222222,\"#7201a8\"],[0.3333333333333333,\"#9c179e\"],[0.4444444444444444,\"#bd3786\"],[0.5555555555555556,\"#d8576b\"],[0.6666666666666666,\"#ed7953\"],[0.7777777777777778,\"#fb9f3a\"],[0.8888888888888888,\"#fdca26\"],[1.0,\"#f0f921\"]]},\"colorway\":[\"#636efa\",\"#EF553B\",\"#00cc96\",\"#ab63fa\",\"#FFA15A\",\"#19d3f3\",\"#FF6692\",\"#B6E880\",\"#FF97FF\",\"#FECB52\"],\"font\":{\"color\":\"#2a3f5f\"},\"geo\":{\"bgcolor\":\"white\",\"lakecolor\":\"white\",\"landcolor\":\"#E5ECF6\",\"showlakes\":true,\"showland\":true,\"subunitcolor\":\"white\"},\"hoverlabel\":{\"align\":\"left\"},\"hovermode\":\"closest\",\"mapbox\":{\"style\":\"light\"},\"paper_bgcolor\":\"white\",\"plot_bgcolor\":\"#E5ECF6\",\"polar\":{\"angularaxis\":{\"gridcolor\":\"white\",\"linecolor\":\"white\",\"ticks\":\"\"},\"bgcolor\":\"#E5ECF6\",\"radialaxis\":{\"gridcolor\":\"white\",\"linecolor\":\"white\",\"ticks\":\"\"}},\"scene\":{\"xaxis\":{\"backgroundcolor\":\"#E5ECF6\",\"gridcolor\":\"white\",\"gridwidth\":2,\"linecolor\":\"white\",\"showbackground\":true,\"ticks\":\"\",\"zerolinecolor\":\"white\"},\"yaxis\":{\"backgroundcolor\":\"#E5ECF6\",\"gridcolor\":\"white\",\"gridwidth\":2,\"linecolor\":\"white\",\"showbackground\":true,\"ticks\":\"\",\"zerolinecolor\":\"white\"},\"zaxis\":{\"backgroundcolor\":\"#E5ECF6\",\"gridcolor\":\"white\",\"gridwidth\":2,\"linecolor\":\"white\",\"showbackground\":true,\"ticks\":\"\",\"zerolinecolor\":\"white\"}},\"shapedefaults\":{\"line\":{\"color\":\"#2a3f5f\"}},\"ternary\":{\"aaxis\":{\"gridcolor\":\"white\",\"linecolor\":\"white\",\"ticks\":\"\"},\"baxis\":{\"gridcolor\":\"white\",\"linecolor\":\"white\",\"ticks\":\"\"},\"bgcolor\":\"#E5ECF6\",\"caxis\":{\"gridcolor\":\"white\",\"linecolor\":\"white\",\"ticks\":\"\"}},\"title\":{\"x\":0.05},\"xaxis\":{\"automargin\":true,\"gridcolor\":\"white\",\"linecolor\":\"white\",\"ticks\":\"\",\"title\":{\"standoff\":15},\"zerolinecolor\":\"white\",\"zerolinewidth\":2},\"yaxis\":{\"automargin\":true,\"gridcolor\":\"white\",\"linecolor\":\"white\",\"ticks\":\"\",\"title\":{\"standoff\":15},\"zerolinecolor\":\"white\",\"zerolinewidth\":2}}},\"xaxis\":{\"title\":{\"text\":\"mensalidade\"}},\"yaxis\":{\"title\":{\"text\":\"value\"}}},                        {\"responsive\": true}                    )                };                            </script>        </div>\n",
       "</body>\n",
       "</html>"
      ]
     },
     "metadata": {
      "application/vnd.databricks.v1+output": {
       "addedWidgets": {},
       "arguments": {},
       "data": "<html>\n<head><meta charset=\"utf-8\" /></head>\n<body>\n    <div>            <script src=\"https://cdnjs.cloudflare.com/ajax/libs/mathjax/2.7.5/MathJax.js?config=TeX-AMS-MML_SVG\"></script><script type=\"text/javascript\">if (window.MathJax) {MathJax.Hub.Config({SVG: {font: \"STIX-Web\"}});}</script>                <script type=\"text/javascript\">window.PlotlyConfig = {MathJaxConfig: 'local'};</script>\n        <script src=\"https://cdn.plot.ly/plotly-2.9.0.min.js\"></script>                <div id=\"b6b3b747-e104-47e5-958e-7bec2a9b7883\" class=\"plotly-graph-div\" style=\"height:100%; width:100%;\"></div>            <script type=\"text/javascript\">                                    window.PLOTLYENV=window.PLOTLYENV || {};                                    if (document.getElementById(\"b6b3b747-e104-47e5-958e-7bec2a9b7883\")) {                    Plotly.newPlot(                        \"b6b3b747-e104-47e5-958e-7bec2a9b7883\",                        [{\"boxpoints\":\"suspectedoutliers\",\"lowerfence\":[350.0],\"mean\":[962.8386945812804],\"median\":[859.4],\"name\":\"mensalidade\",\"notched\":false,\"q1\":[648.78],\"q3\":[1150.0],\"upperfence\":[1805.0],\"y\":[[1948.63,1976.0,2005.0,2020.0,2024.0,2029.0,2037.0,2037.0,2145.0,2148.67,2223.84,2271.36,2282.5,2389.1,2477.39,2647.0,3694.77]],\"type\":\"box\"}],                        {\"template\":{\"data\":{\"bar\":[{\"error_x\":{\"color\":\"#2a3f5f\"},\"error_y\":{\"color\":\"#2a3f5f\"},\"marker\":{\"line\":{\"color\":\"#E5ECF6\",\"width\":0.5},\"pattern\":{\"fillmode\":\"overlay\",\"size\":10,\"solidity\":0.2}},\"type\":\"bar\"}],\"barpolar\":[{\"marker\":{\"line\":{\"color\":\"#E5ECF6\",\"width\":0.5},\"pattern\":{\"fillmode\":\"overlay\",\"size\":10,\"solidity\":0.2}},\"type\":\"barpolar\"}],\"carpet\":[{\"aaxis\":{\"endlinecolor\":\"#2a3f5f\",\"gridcolor\":\"white\",\"linecolor\":\"white\",\"minorgridcolor\":\"white\",\"startlinecolor\":\"#2a3f5f\"},\"baxis\":{\"endlinecolor\":\"#2a3f5f\",\"gridcolor\":\"white\",\"linecolor\":\"white\",\"minorgridcolor\":\"white\",\"startlinecolor\":\"#2a3f5f\"},\"type\":\"carpet\"}],\"choropleth\":[{\"colorbar\":{\"outlinewidth\":0,\"ticks\":\"\"},\"type\":\"choropleth\"}],\"contour\":[{\"colorbar\":{\"outlinewidth\":0,\"ticks\":\"\"},\"colorscale\":[[0.0,\"#0d0887\"],[0.1111111111111111,\"#46039f\"],[0.2222222222222222,\"#7201a8\"],[0.3333333333333333,\"#9c179e\"],[0.4444444444444444,\"#bd3786\"],[0.5555555555555556,\"#d8576b\"],[0.6666666666666666,\"#ed7953\"],[0.7777777777777778,\"#fb9f3a\"],[0.8888888888888888,\"#fdca26\"],[1.0,\"#f0f921\"]],\"type\":\"contour\"}],\"contourcarpet\":[{\"colorbar\":{\"outlinewidth\":0,\"ticks\":\"\"},\"type\":\"contourcarpet\"}],\"heatmap\":[{\"colorbar\":{\"outlinewidth\":0,\"ticks\":\"\"},\"colorscale\":[[0.0,\"#0d0887\"],[0.1111111111111111,\"#46039f\"],[0.2222222222222222,\"#7201a8\"],[0.3333333333333333,\"#9c179e\"],[0.4444444444444444,\"#bd3786\"],[0.5555555555555556,\"#d8576b\"],[0.6666666666666666,\"#ed7953\"],[0.7777777777777778,\"#fb9f3a\"],[0.8888888888888888,\"#fdca26\"],[1.0,\"#f0f921\"]],\"type\":\"heatmap\"}],\"heatmapgl\":[{\"colorbar\":{\"outlinewidth\":0,\"ticks\":\"\"},\"colorscale\":[[0.0,\"#0d0887\"],[0.1111111111111111,\"#46039f\"],[0.2222222222222222,\"#7201a8\"],[0.3333333333333333,\"#9c179e\"],[0.4444444444444444,\"#bd3786\"],[0.5555555555555556,\"#d8576b\"],[0.6666666666666666,\"#ed7953\"],[0.7777777777777778,\"#fb9f3a\"],[0.8888888888888888,\"#fdca26\"],[1.0,\"#f0f921\"]],\"type\":\"heatmapgl\"}],\"histogram\":[{\"marker\":{\"pattern\":{\"fillmode\":\"overlay\",\"size\":10,\"solidity\":0.2}},\"type\":\"histogram\"}],\"histogram2d\":[{\"colorbar\":{\"outlinewidth\":0,\"ticks\":\"\"},\"colorscale\":[[0.0,\"#0d0887\"],[0.1111111111111111,\"#46039f\"],[0.2222222222222222,\"#7201a8\"],[0.3333333333333333,\"#9c179e\"],[0.4444444444444444,\"#bd3786\"],[0.5555555555555556,\"#d8576b\"],[0.6666666666666666,\"#ed7953\"],[0.7777777777777778,\"#fb9f3a\"],[0.8888888888888888,\"#fdca26\"],[1.0,\"#f0f921\"]],\"type\":\"histogram2d\"}],\"histogram2dcontour\":[{\"colorbar\":{\"outlinewidth\":0,\"ticks\":\"\"},\"colorscale\":[[0.0,\"#0d0887\"],[0.1111111111111111,\"#46039f\"],[0.2222222222222222,\"#7201a8\"],[0.3333333333333333,\"#9c179e\"],[0.4444444444444444,\"#bd3786\"],[0.5555555555555556,\"#d8576b\"],[0.6666666666666666,\"#ed7953\"],[0.7777777777777778,\"#fb9f3a\"],[0.8888888888888888,\"#fdca26\"],[1.0,\"#f0f921\"]],\"type\":\"histogram2dcontour\"}],\"mesh3d\":[{\"colorbar\":{\"outlinewidth\":0,\"ticks\":\"\"},\"type\":\"mesh3d\"}],\"parcoords\":[{\"line\":{\"colorbar\":{\"outlinewidth\":0,\"ticks\":\"\"}},\"type\":\"parcoords\"}],\"pie\":[{\"automargin\":true,\"type\":\"pie\"}],\"scatter\":[{\"marker\":{\"colorbar\":{\"outlinewidth\":0,\"ticks\":\"\"}},\"type\":\"scatter\"}],\"scatter3d\":[{\"line\":{\"colorbar\":{\"outlinewidth\":0,\"ticks\":\"\"}},\"marker\":{\"colorbar\":{\"outlinewidth\":0,\"ticks\":\"\"}},\"type\":\"scatter3d\"}],\"scattercarpet\":[{\"marker\":{\"colorbar\":{\"outlinewidth\":0,\"ticks\":\"\"}},\"type\":\"scattercarpet\"}],\"scattergeo\":[{\"marker\":{\"colorbar\":{\"outlinewidth\":0,\"ticks\":\"\"}},\"type\":\"scattergeo\"}],\"scattergl\":[{\"marker\":{\"colorbar\":{\"outlinewidth\":0,\"ticks\":\"\"}},\"type\":\"scattergl\"}],\"scattermapbox\":[{\"marker\":{\"colorbar\":{\"outlinewidth\":0,\"ticks\":\"\"}},\"type\":\"scattermapbox\"}],\"scatterpolar\":[{\"marker\":{\"colorbar\":{\"outlinewidth\":0,\"ticks\":\"\"}},\"type\":\"scatterpolar\"}],\"scatterpolargl\":[{\"marker\":{\"colorbar\":{\"outlinewidth\":0,\"ticks\":\"\"}},\"type\":\"scatterpolargl\"}],\"scatterternary\":[{\"marker\":{\"colorbar\":{\"outlinewidth\":0,\"ticks\":\"\"}},\"type\":\"scatterternary\"}],\"surface\":[{\"colorbar\":{\"outlinewidth\":0,\"ticks\":\"\"},\"colorscale\":[[0.0,\"#0d0887\"],[0.1111111111111111,\"#46039f\"],[0.2222222222222222,\"#7201a8\"],[0.3333333333333333,\"#9c179e\"],[0.4444444444444444,\"#bd3786\"],[0.5555555555555556,\"#d8576b\"],[0.6666666666666666,\"#ed7953\"],[0.7777777777777778,\"#fb9f3a\"],[0.8888888888888888,\"#fdca26\"],[1.0,\"#f0f921\"]],\"type\":\"surface\"}],\"table\":[{\"cells\":{\"fill\":{\"color\":\"#EBF0F8\"},\"line\":{\"color\":\"white\"}},\"header\":{\"fill\":{\"color\":\"#C8D4E3\"},\"line\":{\"color\":\"white\"}},\"type\":\"table\"}]},\"layout\":{\"annotationdefaults\":{\"arrowcolor\":\"#2a3f5f\",\"arrowhead\":0,\"arrowwidth\":1},\"autotypenumbers\":\"strict\",\"coloraxis\":{\"colorbar\":{\"outlinewidth\":0,\"ticks\":\"\"}},\"colorscale\":{\"diverging\":[[0,\"#8e0152\"],[0.1,\"#c51b7d\"],[0.2,\"#de77ae\"],[0.3,\"#f1b6da\"],[0.4,\"#fde0ef\"],[0.5,\"#f7f7f7\"],[0.6,\"#e6f5d0\"],[0.7,\"#b8e186\"],[0.8,\"#7fbc41\"],[0.9,\"#4d9221\"],[1,\"#276419\"]],\"sequential\":[[0.0,\"#0d0887\"],[0.1111111111111111,\"#46039f\"],[0.2222222222222222,\"#7201a8\"],[0.3333333333333333,\"#9c179e\"],[0.4444444444444444,\"#bd3786\"],[0.5555555555555556,\"#d8576b\"],[0.6666666666666666,\"#ed7953\"],[0.7777777777777778,\"#fb9f3a\"],[0.8888888888888888,\"#fdca26\"],[1.0,\"#f0f921\"]],\"sequentialminus\":[[0.0,\"#0d0887\"],[0.1111111111111111,\"#46039f\"],[0.2222222222222222,\"#7201a8\"],[0.3333333333333333,\"#9c179e\"],[0.4444444444444444,\"#bd3786\"],[0.5555555555555556,\"#d8576b\"],[0.6666666666666666,\"#ed7953\"],[0.7777777777777778,\"#fb9f3a\"],[0.8888888888888888,\"#fdca26\"],[1.0,\"#f0f921\"]]},\"colorway\":[\"#636efa\",\"#EF553B\",\"#00cc96\",\"#ab63fa\",\"#FFA15A\",\"#19d3f3\",\"#FF6692\",\"#B6E880\",\"#FF97FF\",\"#FECB52\"],\"font\":{\"color\":\"#2a3f5f\"},\"geo\":{\"bgcolor\":\"white\",\"lakecolor\":\"white\",\"landcolor\":\"#E5ECF6\",\"showlakes\":true,\"showland\":true,\"subunitcolor\":\"white\"},\"hoverlabel\":{\"align\":\"left\"},\"hovermode\":\"closest\",\"mapbox\":{\"style\":\"light\"},\"paper_bgcolor\":\"white\",\"plot_bgcolor\":\"#E5ECF6\",\"polar\":{\"angularaxis\":{\"gridcolor\":\"white\",\"linecolor\":\"white\",\"ticks\":\"\"},\"bgcolor\":\"#E5ECF6\",\"radialaxis\":{\"gridcolor\":\"white\",\"linecolor\":\"white\",\"ticks\":\"\"}},\"scene\":{\"xaxis\":{\"backgroundcolor\":\"#E5ECF6\",\"gridcolor\":\"white\",\"gridwidth\":2,\"linecolor\":\"white\",\"showbackground\":true,\"ticks\":\"\",\"zerolinecolor\":\"white\"},\"yaxis\":{\"backgroundcolor\":\"#E5ECF6\",\"gridcolor\":\"white\",\"gridwidth\":2,\"linecolor\":\"white\",\"showbackground\":true,\"ticks\":\"\",\"zerolinecolor\":\"white\"},\"zaxis\":{\"backgroundcolor\":\"#E5ECF6\",\"gridcolor\":\"white\",\"gridwidth\":2,\"linecolor\":\"white\",\"showbackground\":true,\"ticks\":\"\",\"zerolinecolor\":\"white\"}},\"shapedefaults\":{\"line\":{\"color\":\"#2a3f5f\"}},\"ternary\":{\"aaxis\":{\"gridcolor\":\"white\",\"linecolor\":\"white\",\"ticks\":\"\"},\"baxis\":{\"gridcolor\":\"white\",\"linecolor\":\"white\",\"ticks\":\"\"},\"bgcolor\":\"#E5ECF6\",\"caxis\":{\"gridcolor\":\"white\",\"linecolor\":\"white\",\"ticks\":\"\"}},\"title\":{\"x\":0.05},\"xaxis\":{\"automargin\":true,\"gridcolor\":\"white\",\"linecolor\":\"white\",\"ticks\":\"\",\"title\":{\"standoff\":15},\"zerolinecolor\":\"white\",\"zerolinewidth\":2},\"yaxis\":{\"automargin\":true,\"gridcolor\":\"white\",\"linecolor\":\"white\",\"ticks\":\"\",\"title\":{\"standoff\":15},\"zerolinecolor\":\"white\",\"zerolinewidth\":2}}},\"xaxis\":{\"title\":{\"text\":\"mensalidade\"}},\"yaxis\":{\"title\":{\"text\":\"value\"}}},                        {\"responsive\": true}                    )                };                            </script>        </div>\n</body>\n</html>",
       "datasetInfos": [],
       "metadata": {},
       "removedWidgets": [],
       "textData": null,
       "type": "htmlSandbox"
      }
     },
     "output_type": "display_data"
    }
   ],
   "source": [
    "# apenas periodo matutino\n",
    "\n",
    "df[df[\"turno\"] == \"Matutino\"][\"mensalidade\"].plot.box()"
   ]
  },
  {
   "cell_type": "code",
   "execution_count": 0,
   "metadata": {
    "application/vnd.databricks.v1+cell": {
     "cellMetadata": {
      "byteLimit": 2048000,
      "rowLimit": 10000
     },
     "inputWidgets": {},
     "nuid": "8453a437-734a-4468-b492-d67ca0bca5f2",
     "showTitle": false,
     "tableResultSettingsMap": {},
     "title": ""
    }
   },
   "outputs": [
    {
     "output_type": "display_data",
     "data": {
      "text/html": [
       "<html>\n",
       "<head><meta charset=\"utf-8\" /></head>\n",
       "<body>\n",
       "    <div>            <script src=\"https://cdnjs.cloudflare.com/ajax/libs/mathjax/2.7.5/MathJax.js?config=TeX-AMS-MML_SVG\"></script><script type=\"text/javascript\">if (window.MathJax) {MathJax.Hub.Config({SVG: {font: \"STIX-Web\"}});}</script>                <script type=\"text/javascript\">window.PlotlyConfig = {MathJaxConfig: 'local'};</script>\n",
       "        <script src=\"https://cdn.plot.ly/plotly-2.9.0.min.js\"></script>                <div id=\"e5ab8650-a6f9-47b7-bc6b-7f6237f17307\" class=\"plotly-graph-div\" style=\"height:100%; width:100%;\"></div>            <script type=\"text/javascript\">                                    window.PLOTLYENV=window.PLOTLYENV || {};                                    if (document.getElementById(\"e5ab8650-a6f9-47b7-bc6b-7f6237f17307\")) {                    Plotly.newPlot(                        \"e5ab8650-a6f9-47b7-bc6b-7f6237f17307\",                        [{\"boxpoints\":\"suspectedoutliers\",\"lowerfence\":[6113.0],\"mean\":[8007.354666666666],\"median\":[8295.0],\"name\":\"mensalidade\",\"notched\":false,\"q1\":[7130.0],\"q3\":[8608.54],\"upperfence\":[9815.61],\"type\":\"box\"}],                        {\"template\":{\"data\":{\"bar\":[{\"error_x\":{\"color\":\"#2a3f5f\"},\"error_y\":{\"color\":\"#2a3f5f\"},\"marker\":{\"line\":{\"color\":\"#E5ECF6\",\"width\":0.5},\"pattern\":{\"fillmode\":\"overlay\",\"size\":10,\"solidity\":0.2}},\"type\":\"bar\"}],\"barpolar\":[{\"marker\":{\"line\":{\"color\":\"#E5ECF6\",\"width\":0.5},\"pattern\":{\"fillmode\":\"overlay\",\"size\":10,\"solidity\":0.2}},\"type\":\"barpolar\"}],\"carpet\":[{\"aaxis\":{\"endlinecolor\":\"#2a3f5f\",\"gridcolor\":\"white\",\"linecolor\":\"white\",\"minorgridcolor\":\"white\",\"startlinecolor\":\"#2a3f5f\"},\"baxis\":{\"endlinecolor\":\"#2a3f5f\",\"gridcolor\":\"white\",\"linecolor\":\"white\",\"minorgridcolor\":\"white\",\"startlinecolor\":\"#2a3f5f\"},\"type\":\"carpet\"}],\"choropleth\":[{\"colorbar\":{\"outlinewidth\":0,\"ticks\":\"\"},\"type\":\"choropleth\"}],\"contour\":[{\"colorbar\":{\"outlinewidth\":0,\"ticks\":\"\"},\"colorscale\":[[0.0,\"#0d0887\"],[0.1111111111111111,\"#46039f\"],[0.2222222222222222,\"#7201a8\"],[0.3333333333333333,\"#9c179e\"],[0.4444444444444444,\"#bd3786\"],[0.5555555555555556,\"#d8576b\"],[0.6666666666666666,\"#ed7953\"],[0.7777777777777778,\"#fb9f3a\"],[0.8888888888888888,\"#fdca26\"],[1.0,\"#f0f921\"]],\"type\":\"contour\"}],\"contourcarpet\":[{\"colorbar\":{\"outlinewidth\":0,\"ticks\":\"\"},\"type\":\"contourcarpet\"}],\"heatmap\":[{\"colorbar\":{\"outlinewidth\":0,\"ticks\":\"\"},\"colorscale\":[[0.0,\"#0d0887\"],[0.1111111111111111,\"#46039f\"],[0.2222222222222222,\"#7201a8\"],[0.3333333333333333,\"#9c179e\"],[0.4444444444444444,\"#bd3786\"],[0.5555555555555556,\"#d8576b\"],[0.6666666666666666,\"#ed7953\"],[0.7777777777777778,\"#fb9f3a\"],[0.8888888888888888,\"#fdca26\"],[1.0,\"#f0f921\"]],\"type\":\"heatmap\"}],\"heatmapgl\":[{\"colorbar\":{\"outlinewidth\":0,\"ticks\":\"\"},\"colorscale\":[[0.0,\"#0d0887\"],[0.1111111111111111,\"#46039f\"],[0.2222222222222222,\"#7201a8\"],[0.3333333333333333,\"#9c179e\"],[0.4444444444444444,\"#bd3786\"],[0.5555555555555556,\"#d8576b\"],[0.6666666666666666,\"#ed7953\"],[0.7777777777777778,\"#fb9f3a\"],[0.8888888888888888,\"#fdca26\"],[1.0,\"#f0f921\"]],\"type\":\"heatmapgl\"}],\"histogram\":[{\"marker\":{\"pattern\":{\"fillmode\":\"overlay\",\"size\":10,\"solidity\":0.2}},\"type\":\"histogram\"}],\"histogram2d\":[{\"colorbar\":{\"outlinewidth\":0,\"ticks\":\"\"},\"colorscale\":[[0.0,\"#0d0887\"],[0.1111111111111111,\"#46039f\"],[0.2222222222222222,\"#7201a8\"],[0.3333333333333333,\"#9c179e\"],[0.4444444444444444,\"#bd3786\"],[0.5555555555555556,\"#d8576b\"],[0.6666666666666666,\"#ed7953\"],[0.7777777777777778,\"#fb9f3a\"],[0.8888888888888888,\"#fdca26\"],[1.0,\"#f0f921\"]],\"type\":\"histogram2d\"}],\"histogram2dcontour\":[{\"colorbar\":{\"outlinewidth\":0,\"ticks\":\"\"},\"colorscale\":[[0.0,\"#0d0887\"],[0.1111111111111111,\"#46039f\"],[0.2222222222222222,\"#7201a8\"],[0.3333333333333333,\"#9c179e\"],[0.4444444444444444,\"#bd3786\"],[0.5555555555555556,\"#d8576b\"],[0.6666666666666666,\"#ed7953\"],[0.7777777777777778,\"#fb9f3a\"],[0.8888888888888888,\"#fdca26\"],[1.0,\"#f0f921\"]],\"type\":\"histogram2dcontour\"}],\"mesh3d\":[{\"colorbar\":{\"outlinewidth\":0,\"ticks\":\"\"},\"type\":\"mesh3d\"}],\"parcoords\":[{\"line\":{\"colorbar\":{\"outlinewidth\":0,\"ticks\":\"\"}},\"type\":\"parcoords\"}],\"pie\":[{\"automargin\":true,\"type\":\"pie\"}],\"scatter\":[{\"marker\":{\"colorbar\":{\"outlinewidth\":0,\"ticks\":\"\"}},\"type\":\"scatter\"}],\"scatter3d\":[{\"line\":{\"colorbar\":{\"outlinewidth\":0,\"ticks\":\"\"}},\"marker\":{\"colorbar\":{\"outlinewidth\":0,\"ticks\":\"\"}},\"type\":\"scatter3d\"}],\"scattercarpet\":[{\"marker\":{\"colorbar\":{\"outlinewidth\":0,\"ticks\":\"\"}},\"type\":\"scattercarpet\"}],\"scattergeo\":[{\"marker\":{\"colorbar\":{\"outlinewidth\":0,\"ticks\":\"\"}},\"type\":\"scattergeo\"}],\"scattergl\":[{\"marker\":{\"colorbar\":{\"outlinewidth\":0,\"ticks\":\"\"}},\"type\":\"scattergl\"}],\"scattermapbox\":[{\"marker\":{\"colorbar\":{\"outlinewidth\":0,\"ticks\":\"\"}},\"type\":\"scattermapbox\"}],\"scatterpolar\":[{\"marker\":{\"colorbar\":{\"outlinewidth\":0,\"ticks\":\"\"}},\"type\":\"scatterpolar\"}],\"scatterpolargl\":[{\"marker\":{\"colorbar\":{\"outlinewidth\":0,\"ticks\":\"\"}},\"type\":\"scatterpolargl\"}],\"scatterternary\":[{\"marker\":{\"colorbar\":{\"outlinewidth\":0,\"ticks\":\"\"}},\"type\":\"scatterternary\"}],\"surface\":[{\"colorbar\":{\"outlinewidth\":0,\"ticks\":\"\"},\"colorscale\":[[0.0,\"#0d0887\"],[0.1111111111111111,\"#46039f\"],[0.2222222222222222,\"#7201a8\"],[0.3333333333333333,\"#9c179e\"],[0.4444444444444444,\"#bd3786\"],[0.5555555555555556,\"#d8576b\"],[0.6666666666666666,\"#ed7953\"],[0.7777777777777778,\"#fb9f3a\"],[0.8888888888888888,\"#fdca26\"],[1.0,\"#f0f921\"]],\"type\":\"surface\"}],\"table\":[{\"cells\":{\"fill\":{\"color\":\"#EBF0F8\"},\"line\":{\"color\":\"white\"}},\"header\":{\"fill\":{\"color\":\"#C8D4E3\"},\"line\":{\"color\":\"white\"}},\"type\":\"table\"}]},\"layout\":{\"annotationdefaults\":{\"arrowcolor\":\"#2a3f5f\",\"arrowhead\":0,\"arrowwidth\":1},\"autotypenumbers\":\"strict\",\"coloraxis\":{\"colorbar\":{\"outlinewidth\":0,\"ticks\":\"\"}},\"colorscale\":{\"diverging\":[[0,\"#8e0152\"],[0.1,\"#c51b7d\"],[0.2,\"#de77ae\"],[0.3,\"#f1b6da\"],[0.4,\"#fde0ef\"],[0.5,\"#f7f7f7\"],[0.6,\"#e6f5d0\"],[0.7,\"#b8e186\"],[0.8,\"#7fbc41\"],[0.9,\"#4d9221\"],[1,\"#276419\"]],\"sequential\":[[0.0,\"#0d0887\"],[0.1111111111111111,\"#46039f\"],[0.2222222222222222,\"#7201a8\"],[0.3333333333333333,\"#9c179e\"],[0.4444444444444444,\"#bd3786\"],[0.5555555555555556,\"#d8576b\"],[0.6666666666666666,\"#ed7953\"],[0.7777777777777778,\"#fb9f3a\"],[0.8888888888888888,\"#fdca26\"],[1.0,\"#f0f921\"]],\"sequentialminus\":[[0.0,\"#0d0887\"],[0.1111111111111111,\"#46039f\"],[0.2222222222222222,\"#7201a8\"],[0.3333333333333333,\"#9c179e\"],[0.4444444444444444,\"#bd3786\"],[0.5555555555555556,\"#d8576b\"],[0.6666666666666666,\"#ed7953\"],[0.7777777777777778,\"#fb9f3a\"],[0.8888888888888888,\"#fdca26\"],[1.0,\"#f0f921\"]]},\"colorway\":[\"#636efa\",\"#EF553B\",\"#00cc96\",\"#ab63fa\",\"#FFA15A\",\"#19d3f3\",\"#FF6692\",\"#B6E880\",\"#FF97FF\",\"#FECB52\"],\"font\":{\"color\":\"#2a3f5f\"},\"geo\":{\"bgcolor\":\"white\",\"lakecolor\":\"white\",\"landcolor\":\"#E5ECF6\",\"showlakes\":true,\"showland\":true,\"subunitcolor\":\"white\"},\"hoverlabel\":{\"align\":\"left\"},\"hovermode\":\"closest\",\"mapbox\":{\"style\":\"light\"},\"paper_bgcolor\":\"white\",\"plot_bgcolor\":\"#E5ECF6\",\"polar\":{\"angularaxis\":{\"gridcolor\":\"white\",\"linecolor\":\"white\",\"ticks\":\"\"},\"bgcolor\":\"#E5ECF6\",\"radialaxis\":{\"gridcolor\":\"white\",\"linecolor\":\"white\",\"ticks\":\"\"}},\"scene\":{\"xaxis\":{\"backgroundcolor\":\"#E5ECF6\",\"gridcolor\":\"white\",\"gridwidth\":2,\"linecolor\":\"white\",\"showbackground\":true,\"ticks\":\"\",\"zerolinecolor\":\"white\"},\"yaxis\":{\"backgroundcolor\":\"#E5ECF6\",\"gridcolor\":\"white\",\"gridwidth\":2,\"linecolor\":\"white\",\"showbackground\":true,\"ticks\":\"\",\"zerolinecolor\":\"white\"},\"zaxis\":{\"backgroundcolor\":\"#E5ECF6\",\"gridcolor\":\"white\",\"gridwidth\":2,\"linecolor\":\"white\",\"showbackground\":true,\"ticks\":\"\",\"zerolinecolor\":\"white\"}},\"shapedefaults\":{\"line\":{\"color\":\"#2a3f5f\"}},\"ternary\":{\"aaxis\":{\"gridcolor\":\"white\",\"linecolor\":\"white\",\"ticks\":\"\"},\"baxis\":{\"gridcolor\":\"white\",\"linecolor\":\"white\",\"ticks\":\"\"},\"bgcolor\":\"#E5ECF6\",\"caxis\":{\"gridcolor\":\"white\",\"linecolor\":\"white\",\"ticks\":\"\"}},\"title\":{\"x\":0.05},\"xaxis\":{\"automargin\":true,\"gridcolor\":\"white\",\"linecolor\":\"white\",\"ticks\":\"\",\"title\":{\"standoff\":15},\"zerolinecolor\":\"white\",\"zerolinewidth\":2},\"yaxis\":{\"automargin\":true,\"gridcolor\":\"white\",\"linecolor\":\"white\",\"ticks\":\"\",\"title\":{\"standoff\":15},\"zerolinecolor\":\"white\",\"zerolinewidth\":2}}},\"xaxis\":{\"title\":{\"text\":\"mensalidade\"}},\"yaxis\":{\"title\":{\"text\":\"value\"}}},                        {\"responsive\": true}                    )                };                            </script>        </div>\n",
       "</body>\n",
       "</html>"
      ]
     },
     "metadata": {
      "application/vnd.databricks.v1+output": {
       "addedWidgets": {},
       "arguments": {},
       "data": "<html>\n<head><meta charset=\"utf-8\" /></head>\n<body>\n    <div>            <script src=\"https://cdnjs.cloudflare.com/ajax/libs/mathjax/2.7.5/MathJax.js?config=TeX-AMS-MML_SVG\"></script><script type=\"text/javascript\">if (window.MathJax) {MathJax.Hub.Config({SVG: {font: \"STIX-Web\"}});}</script>                <script type=\"text/javascript\">window.PlotlyConfig = {MathJaxConfig: 'local'};</script>\n        <script src=\"https://cdn.plot.ly/plotly-2.9.0.min.js\"></script>                <div id=\"e5ab8650-a6f9-47b7-bc6b-7f6237f17307\" class=\"plotly-graph-div\" style=\"height:100%; width:100%;\"></div>            <script type=\"text/javascript\">                                    window.PLOTLYENV=window.PLOTLYENV || {};                                    if (document.getElementById(\"e5ab8650-a6f9-47b7-bc6b-7f6237f17307\")) {                    Plotly.newPlot(                        \"e5ab8650-a6f9-47b7-bc6b-7f6237f17307\",                        [{\"boxpoints\":\"suspectedoutliers\",\"lowerfence\":[6113.0],\"mean\":[8007.354666666666],\"median\":[8295.0],\"name\":\"mensalidade\",\"notched\":false,\"q1\":[7130.0],\"q3\":[8608.54],\"upperfence\":[9815.61],\"type\":\"box\"}],                        {\"template\":{\"data\":{\"bar\":[{\"error_x\":{\"color\":\"#2a3f5f\"},\"error_y\":{\"color\":\"#2a3f5f\"},\"marker\":{\"line\":{\"color\":\"#E5ECF6\",\"width\":0.5},\"pattern\":{\"fillmode\":\"overlay\",\"size\":10,\"solidity\":0.2}},\"type\":\"bar\"}],\"barpolar\":[{\"marker\":{\"line\":{\"color\":\"#E5ECF6\",\"width\":0.5},\"pattern\":{\"fillmode\":\"overlay\",\"size\":10,\"solidity\":0.2}},\"type\":\"barpolar\"}],\"carpet\":[{\"aaxis\":{\"endlinecolor\":\"#2a3f5f\",\"gridcolor\":\"white\",\"linecolor\":\"white\",\"minorgridcolor\":\"white\",\"startlinecolor\":\"#2a3f5f\"},\"baxis\":{\"endlinecolor\":\"#2a3f5f\",\"gridcolor\":\"white\",\"linecolor\":\"white\",\"minorgridcolor\":\"white\",\"startlinecolor\":\"#2a3f5f\"},\"type\":\"carpet\"}],\"choropleth\":[{\"colorbar\":{\"outlinewidth\":0,\"ticks\":\"\"},\"type\":\"choropleth\"}],\"contour\":[{\"colorbar\":{\"outlinewidth\":0,\"ticks\":\"\"},\"colorscale\":[[0.0,\"#0d0887\"],[0.1111111111111111,\"#46039f\"],[0.2222222222222222,\"#7201a8\"],[0.3333333333333333,\"#9c179e\"],[0.4444444444444444,\"#bd3786\"],[0.5555555555555556,\"#d8576b\"],[0.6666666666666666,\"#ed7953\"],[0.7777777777777778,\"#fb9f3a\"],[0.8888888888888888,\"#fdca26\"],[1.0,\"#f0f921\"]],\"type\":\"contour\"}],\"contourcarpet\":[{\"colorbar\":{\"outlinewidth\":0,\"ticks\":\"\"},\"type\":\"contourcarpet\"}],\"heatmap\":[{\"colorbar\":{\"outlinewidth\":0,\"ticks\":\"\"},\"colorscale\":[[0.0,\"#0d0887\"],[0.1111111111111111,\"#46039f\"],[0.2222222222222222,\"#7201a8\"],[0.3333333333333333,\"#9c179e\"],[0.4444444444444444,\"#bd3786\"],[0.5555555555555556,\"#d8576b\"],[0.6666666666666666,\"#ed7953\"],[0.7777777777777778,\"#fb9f3a\"],[0.8888888888888888,\"#fdca26\"],[1.0,\"#f0f921\"]],\"type\":\"heatmap\"}],\"heatmapgl\":[{\"colorbar\":{\"outlinewidth\":0,\"ticks\":\"\"},\"colorscale\":[[0.0,\"#0d0887\"],[0.1111111111111111,\"#46039f\"],[0.2222222222222222,\"#7201a8\"],[0.3333333333333333,\"#9c179e\"],[0.4444444444444444,\"#bd3786\"],[0.5555555555555556,\"#d8576b\"],[0.6666666666666666,\"#ed7953\"],[0.7777777777777778,\"#fb9f3a\"],[0.8888888888888888,\"#fdca26\"],[1.0,\"#f0f921\"]],\"type\":\"heatmapgl\"}],\"histogram\":[{\"marker\":{\"pattern\":{\"fillmode\":\"overlay\",\"size\":10,\"solidity\":0.2}},\"type\":\"histogram\"}],\"histogram2d\":[{\"colorbar\":{\"outlinewidth\":0,\"ticks\":\"\"},\"colorscale\":[[0.0,\"#0d0887\"],[0.1111111111111111,\"#46039f\"],[0.2222222222222222,\"#7201a8\"],[0.3333333333333333,\"#9c179e\"],[0.4444444444444444,\"#bd3786\"],[0.5555555555555556,\"#d8576b\"],[0.6666666666666666,\"#ed7953\"],[0.7777777777777778,\"#fb9f3a\"],[0.8888888888888888,\"#fdca26\"],[1.0,\"#f0f921\"]],\"type\":\"histogram2d\"}],\"histogram2dcontour\":[{\"colorbar\":{\"outlinewidth\":0,\"ticks\":\"\"},\"colorscale\":[[0.0,\"#0d0887\"],[0.1111111111111111,\"#46039f\"],[0.2222222222222222,\"#7201a8\"],[0.3333333333333333,\"#9c179e\"],[0.4444444444444444,\"#bd3786\"],[0.5555555555555556,\"#d8576b\"],[0.6666666666666666,\"#ed7953\"],[0.7777777777777778,\"#fb9f3a\"],[0.8888888888888888,\"#fdca26\"],[1.0,\"#f0f921\"]],\"type\":\"histogram2dcontour\"}],\"mesh3d\":[{\"colorbar\":{\"outlinewidth\":0,\"ticks\":\"\"},\"type\":\"mesh3d\"}],\"parcoords\":[{\"line\":{\"colorbar\":{\"outlinewidth\":0,\"ticks\":\"\"}},\"type\":\"parcoords\"}],\"pie\":[{\"automargin\":true,\"type\":\"pie\"}],\"scatter\":[{\"marker\":{\"colorbar\":{\"outlinewidth\":0,\"ticks\":\"\"}},\"type\":\"scatter\"}],\"scatter3d\":[{\"line\":{\"colorbar\":{\"outlinewidth\":0,\"ticks\":\"\"}},\"marker\":{\"colorbar\":{\"outlinewidth\":0,\"ticks\":\"\"}},\"type\":\"scatter3d\"}],\"scattercarpet\":[{\"marker\":{\"colorbar\":{\"outlinewidth\":0,\"ticks\":\"\"}},\"type\":\"scattercarpet\"}],\"scattergeo\":[{\"marker\":{\"colorbar\":{\"outlinewidth\":0,\"ticks\":\"\"}},\"type\":\"scattergeo\"}],\"scattergl\":[{\"marker\":{\"colorbar\":{\"outlinewidth\":0,\"ticks\":\"\"}},\"type\":\"scattergl\"}],\"scattermapbox\":[{\"marker\":{\"colorbar\":{\"outlinewidth\":0,\"ticks\":\"\"}},\"type\":\"scattermapbox\"}],\"scatterpolar\":[{\"marker\":{\"colorbar\":{\"outlinewidth\":0,\"ticks\":\"\"}},\"type\":\"scatterpolar\"}],\"scatterpolargl\":[{\"marker\":{\"colorbar\":{\"outlinewidth\":0,\"ticks\":\"\"}},\"type\":\"scatterpolargl\"}],\"scatterternary\":[{\"marker\":{\"colorbar\":{\"outlinewidth\":0,\"ticks\":\"\"}},\"type\":\"scatterternary\"}],\"surface\":[{\"colorbar\":{\"outlinewidth\":0,\"ticks\":\"\"},\"colorscale\":[[0.0,\"#0d0887\"],[0.1111111111111111,\"#46039f\"],[0.2222222222222222,\"#7201a8\"],[0.3333333333333333,\"#9c179e\"],[0.4444444444444444,\"#bd3786\"],[0.5555555555555556,\"#d8576b\"],[0.6666666666666666,\"#ed7953\"],[0.7777777777777778,\"#fb9f3a\"],[0.8888888888888888,\"#fdca26\"],[1.0,\"#f0f921\"]],\"type\":\"surface\"}],\"table\":[{\"cells\":{\"fill\":{\"color\":\"#EBF0F8\"},\"line\":{\"color\":\"white\"}},\"header\":{\"fill\":{\"color\":\"#C8D4E3\"},\"line\":{\"color\":\"white\"}},\"type\":\"table\"}]},\"layout\":{\"annotationdefaults\":{\"arrowcolor\":\"#2a3f5f\",\"arrowhead\":0,\"arrowwidth\":1},\"autotypenumbers\":\"strict\",\"coloraxis\":{\"colorbar\":{\"outlinewidth\":0,\"ticks\":\"\"}},\"colorscale\":{\"diverging\":[[0,\"#8e0152\"],[0.1,\"#c51b7d\"],[0.2,\"#de77ae\"],[0.3,\"#f1b6da\"],[0.4,\"#fde0ef\"],[0.5,\"#f7f7f7\"],[0.6,\"#e6f5d0\"],[0.7,\"#b8e186\"],[0.8,\"#7fbc41\"],[0.9,\"#4d9221\"],[1,\"#276419\"]],\"sequential\":[[0.0,\"#0d0887\"],[0.1111111111111111,\"#46039f\"],[0.2222222222222222,\"#7201a8\"],[0.3333333333333333,\"#9c179e\"],[0.4444444444444444,\"#bd3786\"],[0.5555555555555556,\"#d8576b\"],[0.6666666666666666,\"#ed7953\"],[0.7777777777777778,\"#fb9f3a\"],[0.8888888888888888,\"#fdca26\"],[1.0,\"#f0f921\"]],\"sequentialminus\":[[0.0,\"#0d0887\"],[0.1111111111111111,\"#46039f\"],[0.2222222222222222,\"#7201a8\"],[0.3333333333333333,\"#9c179e\"],[0.4444444444444444,\"#bd3786\"],[0.5555555555555556,\"#d8576b\"],[0.6666666666666666,\"#ed7953\"],[0.7777777777777778,\"#fb9f3a\"],[0.8888888888888888,\"#fdca26\"],[1.0,\"#f0f921\"]]},\"colorway\":[\"#636efa\",\"#EF553B\",\"#00cc96\",\"#ab63fa\",\"#FFA15A\",\"#19d3f3\",\"#FF6692\",\"#B6E880\",\"#FF97FF\",\"#FECB52\"],\"font\":{\"color\":\"#2a3f5f\"},\"geo\":{\"bgcolor\":\"white\",\"lakecolor\":\"white\",\"landcolor\":\"#E5ECF6\",\"showlakes\":true,\"showland\":true,\"subunitcolor\":\"white\"},\"hoverlabel\":{\"align\":\"left\"},\"hovermode\":\"closest\",\"mapbox\":{\"style\":\"light\"},\"paper_bgcolor\":\"white\",\"plot_bgcolor\":\"#E5ECF6\",\"polar\":{\"angularaxis\":{\"gridcolor\":\"white\",\"linecolor\":\"white\",\"ticks\":\"\"},\"bgcolor\":\"#E5ECF6\",\"radialaxis\":{\"gridcolor\":\"white\",\"linecolor\":\"white\",\"ticks\":\"\"}},\"scene\":{\"xaxis\":{\"backgroundcolor\":\"#E5ECF6\",\"gridcolor\":\"white\",\"gridwidth\":2,\"linecolor\":\"white\",\"showbackground\":true,\"ticks\":\"\",\"zerolinecolor\":\"white\"},\"yaxis\":{\"backgroundcolor\":\"#E5ECF6\",\"gridcolor\":\"white\",\"gridwidth\":2,\"linecolor\":\"white\",\"showbackground\":true,\"ticks\":\"\",\"zerolinecolor\":\"white\"},\"zaxis\":{\"backgroundcolor\":\"#E5ECF6\",\"gridcolor\":\"white\",\"gridwidth\":2,\"linecolor\":\"white\",\"showbackground\":true,\"ticks\":\"\",\"zerolinecolor\":\"white\"}},\"shapedefaults\":{\"line\":{\"color\":\"#2a3f5f\"}},\"ternary\":{\"aaxis\":{\"gridcolor\":\"white\",\"linecolor\":\"white\",\"ticks\":\"\"},\"baxis\":{\"gridcolor\":\"white\",\"linecolor\":\"white\",\"ticks\":\"\"},\"bgcolor\":\"#E5ECF6\",\"caxis\":{\"gridcolor\":\"white\",\"linecolor\":\"white\",\"ticks\":\"\"}},\"title\":{\"x\":0.05},\"xaxis\":{\"automargin\":true,\"gridcolor\":\"white\",\"linecolor\":\"white\",\"ticks\":\"\",\"title\":{\"standoff\":15},\"zerolinecolor\":\"white\",\"zerolinewidth\":2},\"yaxis\":{\"automargin\":true,\"gridcolor\":\"white\",\"linecolor\":\"white\",\"ticks\":\"\",\"title\":{\"standoff\":15},\"zerolinecolor\":\"white\",\"zerolinewidth\":2}}},\"xaxis\":{\"title\":{\"text\":\"mensalidade\"}},\"yaxis\":{\"title\":{\"text\":\"value\"}}},                        {\"responsive\": true}                    )                };                            </script>        </div>\n</body>\n</html>",
       "datasetInfos": [],
       "metadata": {},
       "removedWidgets": [],
       "textData": null,
       "type": "htmlSandbox"
      }
     },
     "output_type": "display_data"
    }
   ],
   "source": [
    "# mensalidade curso medicina\n",
    "\n",
    "df[df['nome_curso']=='Medicina']['mensalidade'].plot.box()"
   ]
  },
  {
   "cell_type": "code",
   "execution_count": 0,
   "metadata": {
    "application/vnd.databricks.v1+cell": {
     "cellMetadata": {
      "byteLimit": 2048000,
      "rowLimit": 10000
     },
     "inputWidgets": {},
     "nuid": "516b4158-9cca-466b-a3ce-bd9cdfd22f8e",
     "showTitle": false,
     "tableResultSettingsMap": {},
     "title": ""
    }
   },
   "outputs": [
    {
     "output_type": "display_data",
     "data": {
      "text/html": [
       "<html>\n",
       "<head><meta charset=\"utf-8\" /></head>\n",
       "<body>\n",
       "    <div>            <script src=\"https://cdnjs.cloudflare.com/ajax/libs/mathjax/2.7.5/MathJax.js?config=TeX-AMS-MML_SVG\"></script><script type=\"text/javascript\">if (window.MathJax) {MathJax.Hub.Config({SVG: {font: \"STIX-Web\"}});}</script>                <script type=\"text/javascript\">window.PlotlyConfig = {MathJaxConfig: 'local'};</script>\n",
       "        <script src=\"https://cdn.plot.ly/plotly-2.9.0.min.js\"></script>                <div id=\"aa56889f-9329-4909-bfb7-726b093e3401\" class=\"plotly-graph-div\" style=\"height:100%; width:100%;\"></div>            <script type=\"text/javascript\">                                    window.PLOTLYENV=window.PLOTLYENV || {};                                    if (document.getElementById(\"aa56889f-9329-4909-bfb7-726b093e3401\")) {                    Plotly.newPlot(                        \"aa56889f-9329-4909-bfb7-726b093e3401\",                        [{\"boxpoints\":\"suspectedoutliers\",\"lowerfence\":[588.25],\"mean\":[1007.7041489361704],\"median\":[967.13],\"name\":\"mensalidade\",\"notched\":false,\"q1\":[747.0],\"q3\":[1150.0],\"upperfence\":[1560.55],\"y\":[[1833.25,2037.0,2037.0]],\"type\":\"box\"}],                        {\"template\":{\"data\":{\"bar\":[{\"error_x\":{\"color\":\"#2a3f5f\"},\"error_y\":{\"color\":\"#2a3f5f\"},\"marker\":{\"line\":{\"color\":\"#E5ECF6\",\"width\":0.5},\"pattern\":{\"fillmode\":\"overlay\",\"size\":10,\"solidity\":0.2}},\"type\":\"bar\"}],\"barpolar\":[{\"marker\":{\"line\":{\"color\":\"#E5ECF6\",\"width\":0.5},\"pattern\":{\"fillmode\":\"overlay\",\"size\":10,\"solidity\":0.2}},\"type\":\"barpolar\"}],\"carpet\":[{\"aaxis\":{\"endlinecolor\":\"#2a3f5f\",\"gridcolor\":\"white\",\"linecolor\":\"white\",\"minorgridcolor\":\"white\",\"startlinecolor\":\"#2a3f5f\"},\"baxis\":{\"endlinecolor\":\"#2a3f5f\",\"gridcolor\":\"white\",\"linecolor\":\"white\",\"minorgridcolor\":\"white\",\"startlinecolor\":\"#2a3f5f\"},\"type\":\"carpet\"}],\"choropleth\":[{\"colorbar\":{\"outlinewidth\":0,\"ticks\":\"\"},\"type\":\"choropleth\"}],\"contour\":[{\"colorbar\":{\"outlinewidth\":0,\"ticks\":\"\"},\"colorscale\":[[0.0,\"#0d0887\"],[0.1111111111111111,\"#46039f\"],[0.2222222222222222,\"#7201a8\"],[0.3333333333333333,\"#9c179e\"],[0.4444444444444444,\"#bd3786\"],[0.5555555555555556,\"#d8576b\"],[0.6666666666666666,\"#ed7953\"],[0.7777777777777778,\"#fb9f3a\"],[0.8888888888888888,\"#fdca26\"],[1.0,\"#f0f921\"]],\"type\":\"contour\"}],\"contourcarpet\":[{\"colorbar\":{\"outlinewidth\":0,\"ticks\":\"\"},\"type\":\"contourcarpet\"}],\"heatmap\":[{\"colorbar\":{\"outlinewidth\":0,\"ticks\":\"\"},\"colorscale\":[[0.0,\"#0d0887\"],[0.1111111111111111,\"#46039f\"],[0.2222222222222222,\"#7201a8\"],[0.3333333333333333,\"#9c179e\"],[0.4444444444444444,\"#bd3786\"],[0.5555555555555556,\"#d8576b\"],[0.6666666666666666,\"#ed7953\"],[0.7777777777777778,\"#fb9f3a\"],[0.8888888888888888,\"#fdca26\"],[1.0,\"#f0f921\"]],\"type\":\"heatmap\"}],\"heatmapgl\":[{\"colorbar\":{\"outlinewidth\":0,\"ticks\":\"\"},\"colorscale\":[[0.0,\"#0d0887\"],[0.1111111111111111,\"#46039f\"],[0.2222222222222222,\"#7201a8\"],[0.3333333333333333,\"#9c179e\"],[0.4444444444444444,\"#bd3786\"],[0.5555555555555556,\"#d8576b\"],[0.6666666666666666,\"#ed7953\"],[0.7777777777777778,\"#fb9f3a\"],[0.8888888888888888,\"#fdca26\"],[1.0,\"#f0f921\"]],\"type\":\"heatmapgl\"}],\"histogram\":[{\"marker\":{\"pattern\":{\"fillmode\":\"overlay\",\"size\":10,\"solidity\":0.2}},\"type\":\"histogram\"}],\"histogram2d\":[{\"colorbar\":{\"outlinewidth\":0,\"ticks\":\"\"},\"colorscale\":[[0.0,\"#0d0887\"],[0.1111111111111111,\"#46039f\"],[0.2222222222222222,\"#7201a8\"],[0.3333333333333333,\"#9c179e\"],[0.4444444444444444,\"#bd3786\"],[0.5555555555555556,\"#d8576b\"],[0.6666666666666666,\"#ed7953\"],[0.7777777777777778,\"#fb9f3a\"],[0.8888888888888888,\"#fdca26\"],[1.0,\"#f0f921\"]],\"type\":\"histogram2d\"}],\"histogram2dcontour\":[{\"colorbar\":{\"outlinewidth\":0,\"ticks\":\"\"},\"colorscale\":[[0.0,\"#0d0887\"],[0.1111111111111111,\"#46039f\"],[0.2222222222222222,\"#7201a8\"],[0.3333333333333333,\"#9c179e\"],[0.4444444444444444,\"#bd3786\"],[0.5555555555555556,\"#d8576b\"],[0.6666666666666666,\"#ed7953\"],[0.7777777777777778,\"#fb9f3a\"],[0.8888888888888888,\"#fdca26\"],[1.0,\"#f0f921\"]],\"type\":\"histogram2dcontour\"}],\"mesh3d\":[{\"colorbar\":{\"outlinewidth\":0,\"ticks\":\"\"},\"type\":\"mesh3d\"}],\"parcoords\":[{\"line\":{\"colorbar\":{\"outlinewidth\":0,\"ticks\":\"\"}},\"type\":\"parcoords\"}],\"pie\":[{\"automargin\":true,\"type\":\"pie\"}],\"scatter\":[{\"marker\":{\"colorbar\":{\"outlinewidth\":0,\"ticks\":\"\"}},\"type\":\"scatter\"}],\"scatter3d\":[{\"line\":{\"colorbar\":{\"outlinewidth\":0,\"ticks\":\"\"}},\"marker\":{\"colorbar\":{\"outlinewidth\":0,\"ticks\":\"\"}},\"type\":\"scatter3d\"}],\"scattercarpet\":[{\"marker\":{\"colorbar\":{\"outlinewidth\":0,\"ticks\":\"\"}},\"type\":\"scattercarpet\"}],\"scattergeo\":[{\"marker\":{\"colorbar\":{\"outlinewidth\":0,\"ticks\":\"\"}},\"type\":\"scattergeo\"}],\"scattergl\":[{\"marker\":{\"colorbar\":{\"outlinewidth\":0,\"ticks\":\"\"}},\"type\":\"scattergl\"}],\"scattermapbox\":[{\"marker\":{\"colorbar\":{\"outlinewidth\":0,\"ticks\":\"\"}},\"type\":\"scattermapbox\"}],\"scatterpolar\":[{\"marker\":{\"colorbar\":{\"outlinewidth\":0,\"ticks\":\"\"}},\"type\":\"scatterpolar\"}],\"scatterpolargl\":[{\"marker\":{\"colorbar\":{\"outlinewidth\":0,\"ticks\":\"\"}},\"type\":\"scatterpolargl\"}],\"scatterternary\":[{\"marker\":{\"colorbar\":{\"outlinewidth\":0,\"ticks\":\"\"}},\"type\":\"scatterternary\"}],\"surface\":[{\"colorbar\":{\"outlinewidth\":0,\"ticks\":\"\"},\"colorscale\":[[0.0,\"#0d0887\"],[0.1111111111111111,\"#46039f\"],[0.2222222222222222,\"#7201a8\"],[0.3333333333333333,\"#9c179e\"],[0.4444444444444444,\"#bd3786\"],[0.5555555555555556,\"#d8576b\"],[0.6666666666666666,\"#ed7953\"],[0.7777777777777778,\"#fb9f3a\"],[0.8888888888888888,\"#fdca26\"],[1.0,\"#f0f921\"]],\"type\":\"surface\"}],\"table\":[{\"cells\":{\"fill\":{\"color\":\"#EBF0F8\"},\"line\":{\"color\":\"white\"}},\"header\":{\"fill\":{\"color\":\"#C8D4E3\"},\"line\":{\"color\":\"white\"}},\"type\":\"table\"}]},\"layout\":{\"annotationdefaults\":{\"arrowcolor\":\"#2a3f5f\",\"arrowhead\":0,\"arrowwidth\":1},\"autotypenumbers\":\"strict\",\"coloraxis\":{\"colorbar\":{\"outlinewidth\":0,\"ticks\":\"\"}},\"colorscale\":{\"diverging\":[[0,\"#8e0152\"],[0.1,\"#c51b7d\"],[0.2,\"#de77ae\"],[0.3,\"#f1b6da\"],[0.4,\"#fde0ef\"],[0.5,\"#f7f7f7\"],[0.6,\"#e6f5d0\"],[0.7,\"#b8e186\"],[0.8,\"#7fbc41\"],[0.9,\"#4d9221\"],[1,\"#276419\"]],\"sequential\":[[0.0,\"#0d0887\"],[0.1111111111111111,\"#46039f\"],[0.2222222222222222,\"#7201a8\"],[0.3333333333333333,\"#9c179e\"],[0.4444444444444444,\"#bd3786\"],[0.5555555555555556,\"#d8576b\"],[0.6666666666666666,\"#ed7953\"],[0.7777777777777778,\"#fb9f3a\"],[0.8888888888888888,\"#fdca26\"],[1.0,\"#f0f921\"]],\"sequentialminus\":[[0.0,\"#0d0887\"],[0.1111111111111111,\"#46039f\"],[0.2222222222222222,\"#7201a8\"],[0.3333333333333333,\"#9c179e\"],[0.4444444444444444,\"#bd3786\"],[0.5555555555555556,\"#d8576b\"],[0.6666666666666666,\"#ed7953\"],[0.7777777777777778,\"#fb9f3a\"],[0.8888888888888888,\"#fdca26\"],[1.0,\"#f0f921\"]]},\"colorway\":[\"#636efa\",\"#EF553B\",\"#00cc96\",\"#ab63fa\",\"#FFA15A\",\"#19d3f3\",\"#FF6692\",\"#B6E880\",\"#FF97FF\",\"#FECB52\"],\"font\":{\"color\":\"#2a3f5f\"},\"geo\":{\"bgcolor\":\"white\",\"lakecolor\":\"white\",\"landcolor\":\"#E5ECF6\",\"showlakes\":true,\"showland\":true,\"subunitcolor\":\"white\"},\"hoverlabel\":{\"align\":\"left\"},\"hovermode\":\"closest\",\"mapbox\":{\"style\":\"light\"},\"paper_bgcolor\":\"white\",\"plot_bgcolor\":\"#E5ECF6\",\"polar\":{\"angularaxis\":{\"gridcolor\":\"white\",\"linecolor\":\"white\",\"ticks\":\"\"},\"bgcolor\":\"#E5ECF6\",\"radialaxis\":{\"gridcolor\":\"white\",\"linecolor\":\"white\",\"ticks\":\"\"}},\"scene\":{\"xaxis\":{\"backgroundcolor\":\"#E5ECF6\",\"gridcolor\":\"white\",\"gridwidth\":2,\"linecolor\":\"white\",\"showbackground\":true,\"ticks\":\"\",\"zerolinecolor\":\"white\"},\"yaxis\":{\"backgroundcolor\":\"#E5ECF6\",\"gridcolor\":\"white\",\"gridwidth\":2,\"linecolor\":\"white\",\"showbackground\":true,\"ticks\":\"\",\"zerolinecolor\":\"white\"},\"zaxis\":{\"backgroundcolor\":\"#E5ECF6\",\"gridcolor\":\"white\",\"gridwidth\":2,\"linecolor\":\"white\",\"showbackground\":true,\"ticks\":\"\",\"zerolinecolor\":\"white\"}},\"shapedefaults\":{\"line\":{\"color\":\"#2a3f5f\"}},\"ternary\":{\"aaxis\":{\"gridcolor\":\"white\",\"linecolor\":\"white\",\"ticks\":\"\"},\"baxis\":{\"gridcolor\":\"white\",\"linecolor\":\"white\",\"ticks\":\"\"},\"bgcolor\":\"#E5ECF6\",\"caxis\":{\"gridcolor\":\"white\",\"linecolor\":\"white\",\"ticks\":\"\"}},\"title\":{\"x\":0.05},\"xaxis\":{\"automargin\":true,\"gridcolor\":\"white\",\"linecolor\":\"white\",\"ticks\":\"\",\"title\":{\"standoff\":15},\"zerolinecolor\":\"white\",\"zerolinewidth\":2},\"yaxis\":{\"automargin\":true,\"gridcolor\":\"white\",\"linecolor\":\"white\",\"ticks\":\"\",\"title\":{\"standoff\":15},\"zerolinecolor\":\"white\",\"zerolinewidth\":2}}},\"xaxis\":{\"title\":{\"text\":\"mensalidade\"}},\"yaxis\":{\"title\":{\"text\":\"value\"}}},                        {\"responsive\": true}                    )                };                            </script>        </div>\n",
       "</body>\n",
       "</html>"
      ]
     },
     "metadata": {
      "application/vnd.databricks.v1+output": {
       "addedWidgets": {},
       "arguments": {},
       "data": "<html>\n<head><meta charset=\"utf-8\" /></head>\n<body>\n    <div>            <script src=\"https://cdnjs.cloudflare.com/ajax/libs/mathjax/2.7.5/MathJax.js?config=TeX-AMS-MML_SVG\"></script><script type=\"text/javascript\">if (window.MathJax) {MathJax.Hub.Config({SVG: {font: \"STIX-Web\"}});}</script>                <script type=\"text/javascript\">window.PlotlyConfig = {MathJaxConfig: 'local'};</script>\n        <script src=\"https://cdn.plot.ly/plotly-2.9.0.min.js\"></script>                <div id=\"aa56889f-9329-4909-bfb7-726b093e3401\" class=\"plotly-graph-div\" style=\"height:100%; width:100%;\"></div>            <script type=\"text/javascript\">                                    window.PLOTLYENV=window.PLOTLYENV || {};                                    if (document.getElementById(\"aa56889f-9329-4909-bfb7-726b093e3401\")) {                    Plotly.newPlot(                        \"aa56889f-9329-4909-bfb7-726b093e3401\",                        [{\"boxpoints\":\"suspectedoutliers\",\"lowerfence\":[588.25],\"mean\":[1007.7041489361704],\"median\":[967.13],\"name\":\"mensalidade\",\"notched\":false,\"q1\":[747.0],\"q3\":[1150.0],\"upperfence\":[1560.55],\"y\":[[1833.25,2037.0,2037.0]],\"type\":\"box\"}],                        {\"template\":{\"data\":{\"bar\":[{\"error_x\":{\"color\":\"#2a3f5f\"},\"error_y\":{\"color\":\"#2a3f5f\"},\"marker\":{\"line\":{\"color\":\"#E5ECF6\",\"width\":0.5},\"pattern\":{\"fillmode\":\"overlay\",\"size\":10,\"solidity\":0.2}},\"type\":\"bar\"}],\"barpolar\":[{\"marker\":{\"line\":{\"color\":\"#E5ECF6\",\"width\":0.5},\"pattern\":{\"fillmode\":\"overlay\",\"size\":10,\"solidity\":0.2}},\"type\":\"barpolar\"}],\"carpet\":[{\"aaxis\":{\"endlinecolor\":\"#2a3f5f\",\"gridcolor\":\"white\",\"linecolor\":\"white\",\"minorgridcolor\":\"white\",\"startlinecolor\":\"#2a3f5f\"},\"baxis\":{\"endlinecolor\":\"#2a3f5f\",\"gridcolor\":\"white\",\"linecolor\":\"white\",\"minorgridcolor\":\"white\",\"startlinecolor\":\"#2a3f5f\"},\"type\":\"carpet\"}],\"choropleth\":[{\"colorbar\":{\"outlinewidth\":0,\"ticks\":\"\"},\"type\":\"choropleth\"}],\"contour\":[{\"colorbar\":{\"outlinewidth\":0,\"ticks\":\"\"},\"colorscale\":[[0.0,\"#0d0887\"],[0.1111111111111111,\"#46039f\"],[0.2222222222222222,\"#7201a8\"],[0.3333333333333333,\"#9c179e\"],[0.4444444444444444,\"#bd3786\"],[0.5555555555555556,\"#d8576b\"],[0.6666666666666666,\"#ed7953\"],[0.7777777777777778,\"#fb9f3a\"],[0.8888888888888888,\"#fdca26\"],[1.0,\"#f0f921\"]],\"type\":\"contour\"}],\"contourcarpet\":[{\"colorbar\":{\"outlinewidth\":0,\"ticks\":\"\"},\"type\":\"contourcarpet\"}],\"heatmap\":[{\"colorbar\":{\"outlinewidth\":0,\"ticks\":\"\"},\"colorscale\":[[0.0,\"#0d0887\"],[0.1111111111111111,\"#46039f\"],[0.2222222222222222,\"#7201a8\"],[0.3333333333333333,\"#9c179e\"],[0.4444444444444444,\"#bd3786\"],[0.5555555555555556,\"#d8576b\"],[0.6666666666666666,\"#ed7953\"],[0.7777777777777778,\"#fb9f3a\"],[0.8888888888888888,\"#fdca26\"],[1.0,\"#f0f921\"]],\"type\":\"heatmap\"}],\"heatmapgl\":[{\"colorbar\":{\"outlinewidth\":0,\"ticks\":\"\"},\"colorscale\":[[0.0,\"#0d0887\"],[0.1111111111111111,\"#46039f\"],[0.2222222222222222,\"#7201a8\"],[0.3333333333333333,\"#9c179e\"],[0.4444444444444444,\"#bd3786\"],[0.5555555555555556,\"#d8576b\"],[0.6666666666666666,\"#ed7953\"],[0.7777777777777778,\"#fb9f3a\"],[0.8888888888888888,\"#fdca26\"],[1.0,\"#f0f921\"]],\"type\":\"heatmapgl\"}],\"histogram\":[{\"marker\":{\"pattern\":{\"fillmode\":\"overlay\",\"size\":10,\"solidity\":0.2}},\"type\":\"histogram\"}],\"histogram2d\":[{\"colorbar\":{\"outlinewidth\":0,\"ticks\":\"\"},\"colorscale\":[[0.0,\"#0d0887\"],[0.1111111111111111,\"#46039f\"],[0.2222222222222222,\"#7201a8\"],[0.3333333333333333,\"#9c179e\"],[0.4444444444444444,\"#bd3786\"],[0.5555555555555556,\"#d8576b\"],[0.6666666666666666,\"#ed7953\"],[0.7777777777777778,\"#fb9f3a\"],[0.8888888888888888,\"#fdca26\"],[1.0,\"#f0f921\"]],\"type\":\"histogram2d\"}],\"histogram2dcontour\":[{\"colorbar\":{\"outlinewidth\":0,\"ticks\":\"\"},\"colorscale\":[[0.0,\"#0d0887\"],[0.1111111111111111,\"#46039f\"],[0.2222222222222222,\"#7201a8\"],[0.3333333333333333,\"#9c179e\"],[0.4444444444444444,\"#bd3786\"],[0.5555555555555556,\"#d8576b\"],[0.6666666666666666,\"#ed7953\"],[0.7777777777777778,\"#fb9f3a\"],[0.8888888888888888,\"#fdca26\"],[1.0,\"#f0f921\"]],\"type\":\"histogram2dcontour\"}],\"mesh3d\":[{\"colorbar\":{\"outlinewidth\":0,\"ticks\":\"\"},\"type\":\"mesh3d\"}],\"parcoords\":[{\"line\":{\"colorbar\":{\"outlinewidth\":0,\"ticks\":\"\"}},\"type\":\"parcoords\"}],\"pie\":[{\"automargin\":true,\"type\":\"pie\"}],\"scatter\":[{\"marker\":{\"colorbar\":{\"outlinewidth\":0,\"ticks\":\"\"}},\"type\":\"scatter\"}],\"scatter3d\":[{\"line\":{\"colorbar\":{\"outlinewidth\":0,\"ticks\":\"\"}},\"marker\":{\"colorbar\":{\"outlinewidth\":0,\"ticks\":\"\"}},\"type\":\"scatter3d\"}],\"scattercarpet\":[{\"marker\":{\"colorbar\":{\"outlinewidth\":0,\"ticks\":\"\"}},\"type\":\"scattercarpet\"}],\"scattergeo\":[{\"marker\":{\"colorbar\":{\"outlinewidth\":0,\"ticks\":\"\"}},\"type\":\"scattergeo\"}],\"scattergl\":[{\"marker\":{\"colorbar\":{\"outlinewidth\":0,\"ticks\":\"\"}},\"type\":\"scattergl\"}],\"scattermapbox\":[{\"marker\":{\"colorbar\":{\"outlinewidth\":0,\"ticks\":\"\"}},\"type\":\"scattermapbox\"}],\"scatterpolar\":[{\"marker\":{\"colorbar\":{\"outlinewidth\":0,\"ticks\":\"\"}},\"type\":\"scatterpolar\"}],\"scatterpolargl\":[{\"marker\":{\"colorbar\":{\"outlinewidth\":0,\"ticks\":\"\"}},\"type\":\"scatterpolargl\"}],\"scatterternary\":[{\"marker\":{\"colorbar\":{\"outlinewidth\":0,\"ticks\":\"\"}},\"type\":\"scatterternary\"}],\"surface\":[{\"colorbar\":{\"outlinewidth\":0,\"ticks\":\"\"},\"colorscale\":[[0.0,\"#0d0887\"],[0.1111111111111111,\"#46039f\"],[0.2222222222222222,\"#7201a8\"],[0.3333333333333333,\"#9c179e\"],[0.4444444444444444,\"#bd3786\"],[0.5555555555555556,\"#d8576b\"],[0.6666666666666666,\"#ed7953\"],[0.7777777777777778,\"#fb9f3a\"],[0.8888888888888888,\"#fdca26\"],[1.0,\"#f0f921\"]],\"type\":\"surface\"}],\"table\":[{\"cells\":{\"fill\":{\"color\":\"#EBF0F8\"},\"line\":{\"color\":\"white\"}},\"header\":{\"fill\":{\"color\":\"#C8D4E3\"},\"line\":{\"color\":\"white\"}},\"type\":\"table\"}]},\"layout\":{\"annotationdefaults\":{\"arrowcolor\":\"#2a3f5f\",\"arrowhead\":0,\"arrowwidth\":1},\"autotypenumbers\":\"strict\",\"coloraxis\":{\"colorbar\":{\"outlinewidth\":0,\"ticks\":\"\"}},\"colorscale\":{\"diverging\":[[0,\"#8e0152\"],[0.1,\"#c51b7d\"],[0.2,\"#de77ae\"],[0.3,\"#f1b6da\"],[0.4,\"#fde0ef\"],[0.5,\"#f7f7f7\"],[0.6,\"#e6f5d0\"],[0.7,\"#b8e186\"],[0.8,\"#7fbc41\"],[0.9,\"#4d9221\"],[1,\"#276419\"]],\"sequential\":[[0.0,\"#0d0887\"],[0.1111111111111111,\"#46039f\"],[0.2222222222222222,\"#7201a8\"],[0.3333333333333333,\"#9c179e\"],[0.4444444444444444,\"#bd3786\"],[0.5555555555555556,\"#d8576b\"],[0.6666666666666666,\"#ed7953\"],[0.7777777777777778,\"#fb9f3a\"],[0.8888888888888888,\"#fdca26\"],[1.0,\"#f0f921\"]],\"sequentialminus\":[[0.0,\"#0d0887\"],[0.1111111111111111,\"#46039f\"],[0.2222222222222222,\"#7201a8\"],[0.3333333333333333,\"#9c179e\"],[0.4444444444444444,\"#bd3786\"],[0.5555555555555556,\"#d8576b\"],[0.6666666666666666,\"#ed7953\"],[0.7777777777777778,\"#fb9f3a\"],[0.8888888888888888,\"#fdca26\"],[1.0,\"#f0f921\"]]},\"colorway\":[\"#636efa\",\"#EF553B\",\"#00cc96\",\"#ab63fa\",\"#FFA15A\",\"#19d3f3\",\"#FF6692\",\"#B6E880\",\"#FF97FF\",\"#FECB52\"],\"font\":{\"color\":\"#2a3f5f\"},\"geo\":{\"bgcolor\":\"white\",\"lakecolor\":\"white\",\"landcolor\":\"#E5ECF6\",\"showlakes\":true,\"showland\":true,\"subunitcolor\":\"white\"},\"hoverlabel\":{\"align\":\"left\"},\"hovermode\":\"closest\",\"mapbox\":{\"style\":\"light\"},\"paper_bgcolor\":\"white\",\"plot_bgcolor\":\"#E5ECF6\",\"polar\":{\"angularaxis\":{\"gridcolor\":\"white\",\"linecolor\":\"white\",\"ticks\":\"\"},\"bgcolor\":\"#E5ECF6\",\"radialaxis\":{\"gridcolor\":\"white\",\"linecolor\":\"white\",\"ticks\":\"\"}},\"scene\":{\"xaxis\":{\"backgroundcolor\":\"#E5ECF6\",\"gridcolor\":\"white\",\"gridwidth\":2,\"linecolor\":\"white\",\"showbackground\":true,\"ticks\":\"\",\"zerolinecolor\":\"white\"},\"yaxis\":{\"backgroundcolor\":\"#E5ECF6\",\"gridcolor\":\"white\",\"gridwidth\":2,\"linecolor\":\"white\",\"showbackground\":true,\"ticks\":\"\",\"zerolinecolor\":\"white\"},\"zaxis\":{\"backgroundcolor\":\"#E5ECF6\",\"gridcolor\":\"white\",\"gridwidth\":2,\"linecolor\":\"white\",\"showbackground\":true,\"ticks\":\"\",\"zerolinecolor\":\"white\"}},\"shapedefaults\":{\"line\":{\"color\":\"#2a3f5f\"}},\"ternary\":{\"aaxis\":{\"gridcolor\":\"white\",\"linecolor\":\"white\",\"ticks\":\"\"},\"baxis\":{\"gridcolor\":\"white\",\"linecolor\":\"white\",\"ticks\":\"\"},\"bgcolor\":\"#E5ECF6\",\"caxis\":{\"gridcolor\":\"white\",\"linecolor\":\"white\",\"ticks\":\"\"}},\"title\":{\"x\":0.05},\"xaxis\":{\"automargin\":true,\"gridcolor\":\"white\",\"linecolor\":\"white\",\"ticks\":\"\",\"title\":{\"standoff\":15},\"zerolinecolor\":\"white\",\"zerolinewidth\":2},\"yaxis\":{\"automargin\":true,\"gridcolor\":\"white\",\"linecolor\":\"white\",\"ticks\":\"\",\"title\":{\"standoff\":15},\"zerolinecolor\":\"white\",\"zerolinewidth\":2}}},\"xaxis\":{\"title\":{\"text\":\"mensalidade\"}},\"yaxis\":{\"title\":{\"text\":\"value\"}}},                        {\"responsive\": true}                    )                };                            </script>        </div>\n</body>\n</html>",
       "datasetInfos": [],
       "metadata": {},
       "removedWidgets": [],
       "textData": null,
       "type": "htmlSandbox"
      }
     },
     "output_type": "display_data"
    }
   ],
   "source": [
    "# mensalidade curso enfermagem\n",
    "\n",
    "df[df['nome_curso']=='Enfermagem']['mensalidade'].plot.box()"
   ]
  },
  {
   "cell_type": "markdown",
   "metadata": {
    "application/vnd.databricks.v1+cell": {
     "cellMetadata": {
      "byteLimit": 2048000,
      "rowLimit": 10000
     },
     "inputWidgets": {},
     "nuid": "b6e0b86b-51be-4ed5-b451-54f4b499c92f",
     "showTitle": false,
     "tableResultSettingsMap": {},
     "title": ""
    }
   },
   "source": [
    "# Tratando Strings"
   ]
  },
  {
   "cell_type": "markdown",
   "metadata": {
    "application/vnd.databricks.v1+cell": {
     "cellMetadata": {},
     "inputWidgets": {},
     "nuid": "5965e730-189d-4b79-8880-1a59addaa836",
     "showTitle": false,
     "tableResultSettingsMap": {},
     "title": ""
    }
   },
   "source": [
    "Adicionar uma coluna com as siglas das universidades"
   ]
  },
  {
   "cell_type": "code",
   "execution_count": 0,
   "metadata": {
    "application/vnd.databricks.v1+cell": {
     "cellMetadata": {
      "byteLimit": 2048000,
      "rowLimit": 10000
     },
     "inputWidgets": {},
     "nuid": "4b9a23e2-1fb1-43c7-ba52-76e9e59ca04f",
     "showTitle": false,
     "tableResultSettingsMap": {},
     "title": ""
    }
   },
   "outputs": [
    {
     "output_type": "stream",
     "name": "stdout",
     "output_type": "stream",
     "text": [
      "Out[54]: 0             Faculdades Integradas Pitágoras - FIP-MOC\n1          Faculdade da Saúde e Ecologia Humana - FASEH\n2                          Faculdade das Américas - FAM\n3           Faculdade Metropolitana da Amazônia - FAMAZ\n4     Faculdade de Ciências Médicas da Paraíba - FCM-PB\n5                      Faculdade Redentor - FACREDENTOR\n6                   Faculdade Barão do Rio Branco - FAB\n7             Universidade Cidade de São Paulo - UNICID\n8        Centro Universitário Integrado de Campo Mourão\n9                     Faculdade Campo Real - CAMPO REAL\n10               Centro Universitário São Lucas - UniSL\n11              Faculdade Brasileira - MULTIVIX VITÓRIA\n12          Universidade do Ceuma - Uniceuma - UNICEUMA\n13                     Universidade de Franca - UNIFRAN\nName: universidade_nome, dtype: object"
     ]
    }
   ],
   "source": [
    "# buscar as universidades \n",
    "\n",
    "df_medicina['universidade_nome'].unique()"
   ]
  },
  {
   "cell_type": "code",
   "execution_count": 0,
   "metadata": {
    "application/vnd.databricks.v1+cell": {
     "cellMetadata": {
      "byteLimit": 2048000,
      "rowLimit": 10000
     },
     "inputWidgets": {},
     "nuid": "f66b383a-743f-4dca-b580-142eee602b8d",
     "showTitle": false,
     "tableResultSettingsMap": {},
     "title": ""
    }
   },
   "outputs": [
    {
     "output_type": "display_data",
     "data": {
      "text/html": [
       "<div>\n",
       "<style scoped>\n",
       "    .dataframe tbody tr th:only-of-type {\n",
       "        vertical-align: middle;\n",
       "    }\n",
       "\n",
       "    .dataframe tbody tr th {\n",
       "        vertical-align: top;\n",
       "    }\n",
       "\n",
       "    .dataframe thead th {\n",
       "        text-align: right;\n",
       "    }\n",
       "</style>\n",
       "<table border=\"1\" class=\"dataframe\">\n",
       "  <thead>\n",
       "    <tr style=\"text-align: right;\">\n",
       "      <th></th>\n",
       "      <th>universidade_nome</th>\n",
       "    </tr>\n",
       "  </thead>\n",
       "  <tbody>\n",
       "    <tr>\n",
       "      <th>2</th>\n",
       "      <td>Universidade Cidade de São Paulo - UNICID</td>\n",
       "    </tr>\n",
       "    <tr>\n",
       "      <th>20</th>\n",
       "      <td>Universidade do Ceuma - Uniceuma - UNICEUMA</td>\n",
       "    </tr>\n",
       "    <tr>\n",
       "      <th>21</th>\n",
       "      <td>Universidade do Ceuma - Uniceuma - UNICEUMA</td>\n",
       "    </tr>\n",
       "    <tr>\n",
       "      <th>71</th>\n",
       "      <td>Universidade de Franca - UNIFRAN</td>\n",
       "    </tr>\n",
       "  </tbody>\n",
       "</table>\n",
       "</div>"
      ]
     },
     "metadata": {
      "application/vnd.databricks.v1+output": {
       "addedWidgets": {},
       "arguments": {},
       "data": "<div>\n<style scoped>\n    .dataframe tbody tr th:only-of-type {\n        vertical-align: middle;\n    }\n\n    .dataframe tbody tr th {\n        vertical-align: top;\n    }\n\n    .dataframe thead th {\n        text-align: right;\n    }\n</style>\n<table border=\"1\" class=\"dataframe\">\n  <thead>\n    <tr style=\"text-align: right;\">\n      <th></th>\n      <th>universidade_nome</th>\n    </tr>\n  </thead>\n  <tbody>\n    <tr>\n      <th>2</th>\n      <td>Universidade Cidade de São Paulo - UNICID</td>\n    </tr>\n    <tr>\n      <th>20</th>\n      <td>Universidade do Ceuma - Uniceuma - UNICEUMA</td>\n    </tr>\n    <tr>\n      <th>21</th>\n      <td>Universidade do Ceuma - Uniceuma - UNICEUMA</td>\n    </tr>\n    <tr>\n      <th>71</th>\n      <td>Universidade de Franca - UNIFRAN</td>\n    </tr>\n  </tbody>\n</table>\n</div>",
       "datasetInfos": [],
       "metadata": {},
       "removedWidgets": [],
       "textData": null,
       "type": "htmlSandbox"
      }
     },
     "output_type": "display_data"
    }
   ],
   "source": [
    "# buscando pelo nome universidade - metodo contains\n",
    "\n",
    "selecao = df_medicina[df_medicina['universidade_nome'].str.contains('Universidade')][['universidade_nome']]\n",
    "selecao"
   ]
  },
  {
   "cell_type": "markdown",
   "metadata": {
    "application/vnd.databricks.v1+cell": {
     "cellMetadata": {},
     "inputWidgets": {},
     "nuid": "76869e7d-d394-4064-9762-af1b73d1ba82",
     "showTitle": false,
     "tableResultSettingsMap": {},
     "title": ""
    }
   },
   "source": [
    "O Centro Universitário Integrado de Campo Mourão não apresenta uma sigla"
   ]
  },
  {
   "cell_type": "code",
   "execution_count": 0,
   "metadata": {
    "application/vnd.databricks.v1+cell": {
     "cellMetadata": {
      "byteLimit": 2048000,
      "rowLimit": 10000
     },
     "inputWidgets": {},
     "nuid": "c95978c3-d512-4a35-a5ba-f695a8bdabf6",
     "showTitle": false,
     "tableResultSettingsMap": {},
     "title": ""
    }
   },
   "outputs": [
    {
     "output_type": "stream",
     "name": "stdout",
     "output_type": "stream",
     "text": [
      "Out[62]: 'Centro Universitário Integrado de Campo Mourão - CUICM'"
     ]
    }
   ],
   "source": [
    "# adicionar a sigla a um caso específico\n",
    "\n",
    "df_medicina['universidade_nome'].loc[42] = 'Centro Universitário Integrado de Campo Mourão - CUICM'\n",
    "df_medicina['universidade_nome'].loc[42]"
   ]
  },
  {
   "cell_type": "markdown",
   "metadata": {
    "application/vnd.databricks.v1+cell": {
     "cellMetadata": {},
     "inputWidgets": {},
     "nuid": "460d4707-3709-4459-a77b-b2522e050615",
     "showTitle": false,
     "tableResultSettingsMap": {},
     "title": ""
    }
   },
   "source": [
    "o trecho .loc[42] indica a linha a ser alterada no DF na coluna ['universidade_nome']"
   ]
  },
  {
   "cell_type": "code",
   "execution_count": 0,
   "metadata": {
    "application/vnd.databricks.v1+cell": {
     "cellMetadata": {
      "byteLimit": 2048000,
      "rowLimit": 10000
     },
     "inputWidgets": {},
     "nuid": "64c7d774-8bd4-4d99-bba1-b341ba7eabf2",
     "showTitle": false,
     "tableResultSettingsMap": {},
     "title": ""
    }
   },
   "outputs": [
    {
     "output_type": "display_data",
     "data": {
      "text/html": [
       "<div>\n",
       "<style scoped>\n",
       "    .dataframe tbody tr th:only-of-type {\n",
       "        vertical-align: middle;\n",
       "    }\n",
       "\n",
       "    .dataframe tbody tr th {\n",
       "        vertical-align: top;\n",
       "    }\n",
       "\n",
       "    .dataframe thead th {\n",
       "        text-align: right;\n",
       "    }\n",
       "</style>\n",
       "<table border=\"1\" class=\"dataframe\">\n",
       "  <thead>\n",
       "    <tr style=\"text-align: right;\">\n",
       "      <th></th>\n",
       "      <th>0</th>\n",
       "      <th>1</th>\n",
       "    </tr>\n",
       "  </thead>\n",
       "  <tbody>\n",
       "    <tr>\n",
       "      <th>22</th>\n",
       "      <td>Faculdade das Américas</td>\n",
       "      <td>FAM</td>\n",
       "    </tr>\n",
       "    <tr>\n",
       "      <th>71</th>\n",
       "      <td>Universidade de Franca</td>\n",
       "      <td>UNIFRAN</td>\n",
       "    </tr>\n",
       "    <tr>\n",
       "      <th>87</th>\n",
       "      <td>Centro Universitário São Lucas</td>\n",
       "      <td>UniSL</td>\n",
       "    </tr>\n",
       "    <tr>\n",
       "      <th>107</th>\n",
       "      <td>Faculdade Campo Real</td>\n",
       "      <td>CAMPO REAL</td>\n",
       "    </tr>\n",
       "    <tr>\n",
       "      <th>10</th>\n",
       "      <td>Faculdade Redentor</td>\n",
       "      <td>FACREDENTOR</td>\n",
       "    </tr>\n",
       "    <tr>\n",
       "      <th>120</th>\n",
       "      <td>Faculdade Brasileira</td>\n",
       "      <td>MULTIVIX VITÓRIA</td>\n",
       "    </tr>\n",
       "    <tr>\n",
       "      <th>80</th>\n",
       "      <td>Faculdades Integradas Pitágoras</td>\n",
       "      <td>FIP-MOC</td>\n",
       "    </tr>\n",
       "    <tr>\n",
       "      <th>2</th>\n",
       "      <td>Universidade Cidade de São Paulo</td>\n",
       "      <td>UNICID</td>\n",
       "    </tr>\n",
       "    <tr>\n",
       "      <th>4</th>\n",
       "      <td>Faculdade Barão do Rio Branco</td>\n",
       "      <td>FAB</td>\n",
       "    </tr>\n",
       "    <tr>\n",
       "      <th>13</th>\n",
       "      <td>Faculdade Metropolitana da Amazônia</td>\n",
       "      <td>FAMAZ</td>\n",
       "    </tr>\n",
       "    <tr>\n",
       "      <th>21</th>\n",
       "      <td>Universidade do Ceuma</td>\n",
       "      <td>Uniceuma - UNICEUMA</td>\n",
       "    </tr>\n",
       "    <tr>\n",
       "      <th>42</th>\n",
       "      <td>Centro Universitário Integrado de Campo Mourão</td>\n",
       "      <td>None</td>\n",
       "    </tr>\n",
       "    <tr>\n",
       "      <th>20</th>\n",
       "      <td>Universidade do Ceuma</td>\n",
       "      <td>Uniceuma - UNICEUMA</td>\n",
       "    </tr>\n",
       "    <tr>\n",
       "      <th>60</th>\n",
       "      <td>Faculdade de Ciências Médicas da Paraíba</td>\n",
       "      <td>FCM-PB</td>\n",
       "    </tr>\n",
       "    <tr>\n",
       "      <th>24</th>\n",
       "      <td>Faculdade da Saúde e Ecologia Humana</td>\n",
       "      <td>FASEH</td>\n",
       "    </tr>\n",
       "  </tbody>\n",
       "</table>\n",
       "</div>"
      ]
     },
     "metadata": {
      "application/vnd.databricks.v1+output": {
       "addedWidgets": {},
       "arguments": {},
       "data": "<div>\n<style scoped>\n    .dataframe tbody tr th:only-of-type {\n        vertical-align: middle;\n    }\n\n    .dataframe tbody tr th {\n        vertical-align: top;\n    }\n\n    .dataframe thead th {\n        text-align: right;\n    }\n</style>\n<table border=\"1\" class=\"dataframe\">\n  <thead>\n    <tr style=\"text-align: right;\">\n      <th></th>\n      <th>0</th>\n      <th>1</th>\n    </tr>\n  </thead>\n  <tbody>\n    <tr>\n      <th>22</th>\n      <td>Faculdade das Américas</td>\n      <td>FAM</td>\n    </tr>\n    <tr>\n      <th>71</th>\n      <td>Universidade de Franca</td>\n      <td>UNIFRAN</td>\n    </tr>\n    <tr>\n      <th>87</th>\n      <td>Centro Universitário São Lucas</td>\n      <td>UniSL</td>\n    </tr>\n    <tr>\n      <th>107</th>\n      <td>Faculdade Campo Real</td>\n      <td>CAMPO REAL</td>\n    </tr>\n    <tr>\n      <th>10</th>\n      <td>Faculdade Redentor</td>\n      <td>FACREDENTOR</td>\n    </tr>\n    <tr>\n      <th>120</th>\n      <td>Faculdade Brasileira</td>\n      <td>MULTIVIX VITÓRIA</td>\n    </tr>\n    <tr>\n      <th>80</th>\n      <td>Faculdades Integradas Pitágoras</td>\n      <td>FIP-MOC</td>\n    </tr>\n    <tr>\n      <th>2</th>\n      <td>Universidade Cidade de São Paulo</td>\n      <td>UNICID</td>\n    </tr>\n    <tr>\n      <th>4</th>\n      <td>Faculdade Barão do Rio Branco</td>\n      <td>FAB</td>\n    </tr>\n    <tr>\n      <th>13</th>\n      <td>Faculdade Metropolitana da Amazônia</td>\n      <td>FAMAZ</td>\n    </tr>\n    <tr>\n      <th>21</th>\n      <td>Universidade do Ceuma</td>\n      <td>Uniceuma - UNICEUMA</td>\n    </tr>\n    <tr>\n      <th>42</th>\n      <td>Centro Universitário Integrado de Campo Mourão</td>\n      <td>None</td>\n    </tr>\n    <tr>\n      <th>20</th>\n      <td>Universidade do Ceuma</td>\n      <td>Uniceuma - UNICEUMA</td>\n    </tr>\n    <tr>\n      <th>60</th>\n      <td>Faculdade de Ciências Médicas da Paraíba</td>\n      <td>FCM-PB</td>\n    </tr>\n    <tr>\n      <th>24</th>\n      <td>Faculdade da Saúde e Ecologia Humana</td>\n      <td>FASEH</td>\n    </tr>\n  </tbody>\n</table>\n</div>",
       "datasetInfos": [],
       "metadata": {},
       "removedWidgets": [],
       "textData": null,
       "type": "htmlSandbox"
      }
     },
     "output_type": "display_data"
    }
   ],
   "source": [
    "# separar as siglas dos nomes\n",
    "\n",
    "separado = df_medicina['universidade_nome'].str.split(' - ', n=1, expand=True)\n",
    "separado"
   ]
  },
  {
   "cell_type": "markdown",
   "metadata": {
    "application/vnd.databricks.v1+cell": {
     "cellMetadata": {},
     "inputWidgets": {},
     "nuid": "839f7320-d306-4ec8-8827-c7889ca357ff",
     "showTitle": false,
     "tableResultSettingsMap": {},
     "title": ""
    }
   },
   "source": [
    "n=1 > apenas uma separaçã\n",
    "\n",
    "\n",
    "expand=True > cria uma nova coluna para a string separada"
   ]
  },
  {
   "cell_type": "code",
   "execution_count": 0,
   "metadata": {
    "application/vnd.databricks.v1+cell": {
     "cellMetadata": {
      "byteLimit": 2048000,
      "rowLimit": 10000
     },
     "inputWidgets": {},
     "nuid": "d924f3fe-3535-44ff-b531-399a89f9145f",
     "showTitle": false,
     "tableResultSettingsMap": {},
     "title": ""
    }
   },
   "outputs": [
    {
     "output_type": "display_data",
     "data": {
      "text/html": [
       "<div>\n",
       "<style scoped>\n",
       "    .dataframe tbody tr th:only-of-type {\n",
       "        vertical-align: middle;\n",
       "    }\n",
       "\n",
       "    .dataframe tbody tr th {\n",
       "        vertical-align: top;\n",
       "    }\n",
       "\n",
       "    .dataframe thead th {\n",
       "        text-align: right;\n",
       "    }\n",
       "</style>\n",
       "<table border=\"1\" class=\"dataframe\">\n",
       "  <thead>\n",
       "    <tr style=\"text-align: right;\">\n",
       "      <th></th>\n",
       "      <th>curso_id</th>\n",
       "      <th>grau</th>\n",
       "      <th>turno</th>\n",
       "      <th>mensalidade</th>\n",
       "      <th>bolsa_integral_cotas</th>\n",
       "      <th>bolsa_integral_ampla</th>\n",
       "      <th>bolsa_parcial_cotas</th>\n",
       "      <th>bolsa_parcial_ampla</th>\n",
       "      <th>tipo_cidade</th>\n",
       "      <th>cidade_busca</th>\n",
       "      <th>uf_busca</th>\n",
       "      <th>cidade_filtro</th>\n",
       "      <th>sigla</th>\n",
       "      <th>universidade_nome</th>\n",
       "      <th>campus_nome</th>\n",
       "      <th>campus_id</th>\n",
       "      <th>nome_curso</th>\n",
       "      <th>nota_integral_ampla</th>\n",
       "      <th>nota_integral_cotas</th>\n",
       "      <th>nota_parcial_ampla</th>\n",
       "      <th>nota_parcial_cotas</th>\n",
       "    </tr>\n",
       "  </thead>\n",
       "  <tbody>\n",
       "    <tr>\n",
       "      <th>22</th>\n",
       "      <td>105596711902804</td>\n",
       "      <td>Bacharelado</td>\n",
       "      <td>Integral</td>\n",
       "      <td>8300.00</td>\n",
       "      <td>2</td>\n",
       "      <td>3</td>\n",
       "      <td>4</td>\n",
       "      <td>7</td>\n",
       "      <td>Capital</td>\n",
       "      <td>Sao Paulo</td>\n",
       "      <td>SP</td>\n",
       "      <td>MzUxNTA2MTUwMzA4</td>\n",
       "      <td>FAM</td>\n",
       "      <td>Faculdade das Américas - FAM</td>\n",
       "      <td>RUA AUGUSTA - Consolação</td>\n",
       "      <td>1055967</td>\n",
       "      <td>Medicina</td>\n",
       "      <td>735.84</td>\n",
       "      <td>724.70</td>\n",
       "      <td>738.42</td>\n",
       "      <td>723.28</td>\n",
       "    </tr>\n",
       "    <tr>\n",
       "      <th>71</th>\n",
       "      <td>65793650009334</td>\n",
       "      <td>Bacharelado</td>\n",
       "      <td>Integral</td>\n",
       "      <td>7316.79</td>\n",
       "      <td>2</td>\n",
       "      <td>3</td>\n",
       "      <td>4</td>\n",
       "      <td>8</td>\n",
       "      <td>Município</td>\n",
       "      <td>Franca</td>\n",
       "      <td>SP</td>\n",
       "      <td>MzUwMjAxMjE2MjAw</td>\n",
       "      <td>UNIFRAN</td>\n",
       "      <td>Universidade de Franca - UNIFRAN</td>\n",
       "      <td>POLO NA SEDE - Parque Universitário</td>\n",
       "      <td>657936</td>\n",
       "      <td>Medicina</td>\n",
       "      <td>744.88</td>\n",
       "      <td>730.88</td>\n",
       "      <td>741.36</td>\n",
       "      <td>721.08</td>\n",
       "    </tr>\n",
       "    <tr>\n",
       "      <th>87</th>\n",
       "      <td>658461856524</td>\n",
       "      <td>Bacharelado</td>\n",
       "      <td>Integral</td>\n",
       "      <td>7009.97</td>\n",
       "      <td>4</td>\n",
       "      <td>3</td>\n",
       "      <td>9</td>\n",
       "      <td>5</td>\n",
       "      <td>Município</td>\n",
       "      <td>Porto Velho</td>\n",
       "      <td>RO</td>\n",
       "      <td>MTEwMTAwMTAwMjA1</td>\n",
       "      <td>UniSL</td>\n",
       "      <td>Centro Universitário São Lucas - UniSL</td>\n",
       "      <td>CAMPUS  - PORTO VELHO - AREAL - Areal</td>\n",
       "      <td>658461</td>\n",
       "      <td>Medicina</td>\n",
       "      <td>742.72</td>\n",
       "      <td>720.20</td>\n",
       "      <td>729.72</td>\n",
       "      <td>711.68</td>\n",
       "    </tr>\n",
       "    <tr>\n",
       "      <th>107</th>\n",
       "      <td>66007913994844</td>\n",
       "      <td>Bacharelado</td>\n",
       "      <td>Integral</td>\n",
       "      <td>6498.55</td>\n",
       "      <td>1</td>\n",
       "      <td>1</td>\n",
       "      <td>1</td>\n",
       "      <td>4</td>\n",
       "      <td>Município</td>\n",
       "      <td>Guarapuava</td>\n",
       "      <td>PR</td>\n",
       "      <td>NDEwODAyOTA5NDAx</td>\n",
       "      <td>CAMPO REAL</td>\n",
       "      <td>Faculdade Campo Real - CAMPO REAL</td>\n",
       "      <td>BLOCO 1 - Santa Cruz</td>\n",
       "      <td>660079</td>\n",
       "      <td>Medicina</td>\n",
       "      <td>781.20</td>\n",
       "      <td>731.04</td>\n",
       "      <td>745.06</td>\n",
       "      <td>741.00</td>\n",
       "    </tr>\n",
       "    <tr>\n",
       "      <th>10</th>\n",
       "      <td>65921511844324</td>\n",
       "      <td>Bacharelado</td>\n",
       "      <td>Integral</td>\n",
       "      <td>9123.07</td>\n",
       "      <td>4</td>\n",
       "      <td>4</td>\n",
       "      <td>5</td>\n",
       "      <td>5</td>\n",
       "      <td>Município</td>\n",
       "      <td>Itaperuna</td>\n",
       "      <td>RJ</td>\n",
       "      <td>MzMwMTAwMTAyMjA1</td>\n",
       "      <td>FACREDENTOR</td>\n",
       "      <td>Faculdade Redentor - FACREDENTOR</td>\n",
       "      <td>CAMPUS  - ITAPERUNA - PRESIDENTE COSTA E SILVA...</td>\n",
       "      <td>659215</td>\n",
       "      <td>Medicina</td>\n",
       "      <td>741.06</td>\n",
       "      <td>729.02</td>\n",
       "      <td>730.98</td>\n",
       "      <td>722.82</td>\n",
       "    </tr>\n",
       "  </tbody>\n",
       "</table>\n",
       "</div>"
      ]
     },
     "metadata": {
      "application/vnd.databricks.v1+output": {
       "addedWidgets": {},
       "arguments": {},
       "data": "<div>\n<style scoped>\n    .dataframe tbody tr th:only-of-type {\n        vertical-align: middle;\n    }\n\n    .dataframe tbody tr th {\n        vertical-align: top;\n    }\n\n    .dataframe thead th {\n        text-align: right;\n    }\n</style>\n<table border=\"1\" class=\"dataframe\">\n  <thead>\n    <tr style=\"text-align: right;\">\n      <th></th>\n      <th>curso_id</th>\n      <th>grau</th>\n      <th>turno</th>\n      <th>mensalidade</th>\n      <th>bolsa_integral_cotas</th>\n      <th>bolsa_integral_ampla</th>\n      <th>bolsa_parcial_cotas</th>\n      <th>bolsa_parcial_ampla</th>\n      <th>tipo_cidade</th>\n      <th>cidade_busca</th>\n      <th>uf_busca</th>\n      <th>cidade_filtro</th>\n      <th>sigla</th>\n      <th>universidade_nome</th>\n      <th>campus_nome</th>\n      <th>campus_id</th>\n      <th>nome_curso</th>\n      <th>nota_integral_ampla</th>\n      <th>nota_integral_cotas</th>\n      <th>nota_parcial_ampla</th>\n      <th>nota_parcial_cotas</th>\n    </tr>\n  </thead>\n  <tbody>\n    <tr>\n      <th>22</th>\n      <td>105596711902804</td>\n      <td>Bacharelado</td>\n      <td>Integral</td>\n      <td>8300.00</td>\n      <td>2</td>\n      <td>3</td>\n      <td>4</td>\n      <td>7</td>\n      <td>Capital</td>\n      <td>Sao Paulo</td>\n      <td>SP</td>\n      <td>MzUxNTA2MTUwMzA4</td>\n      <td>FAM</td>\n      <td>Faculdade das Américas - FAM</td>\n      <td>RUA AUGUSTA - Consolação</td>\n      <td>1055967</td>\n      <td>Medicina</td>\n      <td>735.84</td>\n      <td>724.70</td>\n      <td>738.42</td>\n      <td>723.28</td>\n    </tr>\n    <tr>\n      <th>71</th>\n      <td>65793650009334</td>\n      <td>Bacharelado</td>\n      <td>Integral</td>\n      <td>7316.79</td>\n      <td>2</td>\n      <td>3</td>\n      <td>4</td>\n      <td>8</td>\n      <td>Município</td>\n      <td>Franca</td>\n      <td>SP</td>\n      <td>MzUwMjAxMjE2MjAw</td>\n      <td>UNIFRAN</td>\n      <td>Universidade de Franca - UNIFRAN</td>\n      <td>POLO NA SEDE - Parque Universitário</td>\n      <td>657936</td>\n      <td>Medicina</td>\n      <td>744.88</td>\n      <td>730.88</td>\n      <td>741.36</td>\n      <td>721.08</td>\n    </tr>\n    <tr>\n      <th>87</th>\n      <td>658461856524</td>\n      <td>Bacharelado</td>\n      <td>Integral</td>\n      <td>7009.97</td>\n      <td>4</td>\n      <td>3</td>\n      <td>9</td>\n      <td>5</td>\n      <td>Município</td>\n      <td>Porto Velho</td>\n      <td>RO</td>\n      <td>MTEwMTAwMTAwMjA1</td>\n      <td>UniSL</td>\n      <td>Centro Universitário São Lucas - UniSL</td>\n      <td>CAMPUS  - PORTO VELHO - AREAL - Areal</td>\n      <td>658461</td>\n      <td>Medicina</td>\n      <td>742.72</td>\n      <td>720.20</td>\n      <td>729.72</td>\n      <td>711.68</td>\n    </tr>\n    <tr>\n      <th>107</th>\n      <td>66007913994844</td>\n      <td>Bacharelado</td>\n      <td>Integral</td>\n      <td>6498.55</td>\n      <td>1</td>\n      <td>1</td>\n      <td>1</td>\n      <td>4</td>\n      <td>Município</td>\n      <td>Guarapuava</td>\n      <td>PR</td>\n      <td>NDEwODAyOTA5NDAx</td>\n      <td>CAMPO REAL</td>\n      <td>Faculdade Campo Real - CAMPO REAL</td>\n      <td>BLOCO 1 - Santa Cruz</td>\n      <td>660079</td>\n      <td>Medicina</td>\n      <td>781.20</td>\n      <td>731.04</td>\n      <td>745.06</td>\n      <td>741.00</td>\n    </tr>\n    <tr>\n      <th>10</th>\n      <td>65921511844324</td>\n      <td>Bacharelado</td>\n      <td>Integral</td>\n      <td>9123.07</td>\n      <td>4</td>\n      <td>4</td>\n      <td>5</td>\n      <td>5</td>\n      <td>Município</td>\n      <td>Itaperuna</td>\n      <td>RJ</td>\n      <td>MzMwMTAwMTAyMjA1</td>\n      <td>FACREDENTOR</td>\n      <td>Faculdade Redentor - FACREDENTOR</td>\n      <td>CAMPUS  - ITAPERUNA - PRESIDENTE COSTA E SILVA...</td>\n      <td>659215</td>\n      <td>Medicina</td>\n      <td>741.06</td>\n      <td>729.02</td>\n      <td>730.98</td>\n      <td>722.82</td>\n    </tr>\n  </tbody>\n</table>\n</div>",
       "datasetInfos": [],
       "metadata": {},
       "removedWidgets": [],
       "textData": null,
       "type": "htmlSandbox"
      }
     },
     "output_type": "display_data"
    }
   ],
   "source": [
    "# adicionar as siglas ao df \n",
    "\n",
    "df_medicina.insert(loc=12, column='sigla', value=separado[1])\n",
    "df_medicina.head()"
   ]
  },
  {
   "cell_type": "code",
   "execution_count": 0,
   "metadata": {
    "application/vnd.databricks.v1+cell": {
     "cellMetadata": {
      "byteLimit": 2048000,
      "rowLimit": 10000
     },
     "inputWidgets": {},
     "nuid": "2ad64c73-62f4-42d9-b2aa-032322666b09",
     "showTitle": false,
     "tableResultSettingsMap": {},
     "title": ""
    }
   },
   "outputs": [
    {
     "output_type": "display_data",
     "data": {
      "text/html": [
       "<html>\n",
       "<head><meta charset=\"utf-8\" /></head>\n",
       "<body>\n",
       "    <div>            <script src=\"https://cdnjs.cloudflare.com/ajax/libs/mathjax/2.7.5/MathJax.js?config=TeX-AMS-MML_SVG\"></script><script type=\"text/javascript\">if (window.MathJax) {MathJax.Hub.Config({SVG: {font: \"STIX-Web\"}});}</script>                <script type=\"text/javascript\">window.PlotlyConfig = {MathJaxConfig: 'local'};</script>\n",
       "        <script src=\"https://cdn.plot.ly/plotly-2.9.0.min.js\"></script>                <div id=\"a865f9de-c0bf-4f5c-8aa4-c9c191ab136c\" class=\"plotly-graph-div\" style=\"height:100%; width:100%;\"></div>            <script type=\"text/javascript\">                                    window.PLOTLYENV=window.PLOTLYENV || {};                                    if (document.getElementById(\"a865f9de-c0bf-4f5c-8aa4-c9c191ab136c\")) {                    Plotly.newPlot(                        \"a865f9de-c0bf-4f5c-8aa4-c9c191ab136c\",                        [{\"alignmentgroup\":\"True\",\"hovertemplate\":\"sigla=%{x}<br>nota_media=%{y}<extra></extra>\",\"legendgroup\":\"\",\"marker\":{\"color\":\"#636efa\",\"pattern\":{\"shape\":\"\"}},\"name\":\"\",\"offsetgroup\":\"\",\"orientation\":\"v\",\"showlegend\":false,\"textposition\":\"auto\",\"x\":[\"CAMPO REAL\",\"FASEH\",\"FIP-MOC\",\"MULTIVIX VIT\\u00d3RIA\",\"FAB\",\"Uniceuma - UNICEUMA\",\"FCM-PB\",null,\"UNIFRAN\",\"UniSL\",\"FAMAZ\",\"FACREDENTOR\",\"UNICID\",\"FAM\"],\"xaxis\":\"x\",\"y\":[781.2,770.5,765.76,762.74,758.32,757.1500000000001,754.98,745.46,744.88,742.72,741.36,741.06,739.62,735.84],\"yaxis\":\"y\",\"type\":\"bar\"}],                        {\"template\":{\"data\":{\"bar\":[{\"error_x\":{\"color\":\"#2a3f5f\"},\"error_y\":{\"color\":\"#2a3f5f\"},\"marker\":{\"line\":{\"color\":\"#E5ECF6\",\"width\":0.5},\"pattern\":{\"fillmode\":\"overlay\",\"size\":10,\"solidity\":0.2}},\"type\":\"bar\"}],\"barpolar\":[{\"marker\":{\"line\":{\"color\":\"#E5ECF6\",\"width\":0.5},\"pattern\":{\"fillmode\":\"overlay\",\"size\":10,\"solidity\":0.2}},\"type\":\"barpolar\"}],\"carpet\":[{\"aaxis\":{\"endlinecolor\":\"#2a3f5f\",\"gridcolor\":\"white\",\"linecolor\":\"white\",\"minorgridcolor\":\"white\",\"startlinecolor\":\"#2a3f5f\"},\"baxis\":{\"endlinecolor\":\"#2a3f5f\",\"gridcolor\":\"white\",\"linecolor\":\"white\",\"minorgridcolor\":\"white\",\"startlinecolor\":\"#2a3f5f\"},\"type\":\"carpet\"}],\"choropleth\":[{\"colorbar\":{\"outlinewidth\":0,\"ticks\":\"\"},\"type\":\"choropleth\"}],\"contour\":[{\"colorbar\":{\"outlinewidth\":0,\"ticks\":\"\"},\"colorscale\":[[0.0,\"#0d0887\"],[0.1111111111111111,\"#46039f\"],[0.2222222222222222,\"#7201a8\"],[0.3333333333333333,\"#9c179e\"],[0.4444444444444444,\"#bd3786\"],[0.5555555555555556,\"#d8576b\"],[0.6666666666666666,\"#ed7953\"],[0.7777777777777778,\"#fb9f3a\"],[0.8888888888888888,\"#fdca26\"],[1.0,\"#f0f921\"]],\"type\":\"contour\"}],\"contourcarpet\":[{\"colorbar\":{\"outlinewidth\":0,\"ticks\":\"\"},\"type\":\"contourcarpet\"}],\"heatmap\":[{\"colorbar\":{\"outlinewidth\":0,\"ticks\":\"\"},\"colorscale\":[[0.0,\"#0d0887\"],[0.1111111111111111,\"#46039f\"],[0.2222222222222222,\"#7201a8\"],[0.3333333333333333,\"#9c179e\"],[0.4444444444444444,\"#bd3786\"],[0.5555555555555556,\"#d8576b\"],[0.6666666666666666,\"#ed7953\"],[0.7777777777777778,\"#fb9f3a\"],[0.8888888888888888,\"#fdca26\"],[1.0,\"#f0f921\"]],\"type\":\"heatmap\"}],\"heatmapgl\":[{\"colorbar\":{\"outlinewidth\":0,\"ticks\":\"\"},\"colorscale\":[[0.0,\"#0d0887\"],[0.1111111111111111,\"#46039f\"],[0.2222222222222222,\"#7201a8\"],[0.3333333333333333,\"#9c179e\"],[0.4444444444444444,\"#bd3786\"],[0.5555555555555556,\"#d8576b\"],[0.6666666666666666,\"#ed7953\"],[0.7777777777777778,\"#fb9f3a\"],[0.8888888888888888,\"#fdca26\"],[1.0,\"#f0f921\"]],\"type\":\"heatmapgl\"}],\"histogram\":[{\"marker\":{\"pattern\":{\"fillmode\":\"overlay\",\"size\":10,\"solidity\":0.2}},\"type\":\"histogram\"}],\"histogram2d\":[{\"colorbar\":{\"outlinewidth\":0,\"ticks\":\"\"},\"colorscale\":[[0.0,\"#0d0887\"],[0.1111111111111111,\"#46039f\"],[0.2222222222222222,\"#7201a8\"],[0.3333333333333333,\"#9c179e\"],[0.4444444444444444,\"#bd3786\"],[0.5555555555555556,\"#d8576b\"],[0.6666666666666666,\"#ed7953\"],[0.7777777777777778,\"#fb9f3a\"],[0.8888888888888888,\"#fdca26\"],[1.0,\"#f0f921\"]],\"type\":\"histogram2d\"}],\"histogram2dcontour\":[{\"colorbar\":{\"outlinewidth\":0,\"ticks\":\"\"},\"colorscale\":[[0.0,\"#0d0887\"],[0.1111111111111111,\"#46039f\"],[0.2222222222222222,\"#7201a8\"],[0.3333333333333333,\"#9c179e\"],[0.4444444444444444,\"#bd3786\"],[0.5555555555555556,\"#d8576b\"],[0.6666666666666666,\"#ed7953\"],[0.7777777777777778,\"#fb9f3a\"],[0.8888888888888888,\"#fdca26\"],[1.0,\"#f0f921\"]],\"type\":\"histogram2dcontour\"}],\"mesh3d\":[{\"colorbar\":{\"outlinewidth\":0,\"ticks\":\"\"},\"type\":\"mesh3d\"}],\"parcoords\":[{\"line\":{\"colorbar\":{\"outlinewidth\":0,\"ticks\":\"\"}},\"type\":\"parcoords\"}],\"pie\":[{\"automargin\":true,\"type\":\"pie\"}],\"scatter\":[{\"marker\":{\"colorbar\":{\"outlinewidth\":0,\"ticks\":\"\"}},\"type\":\"scatter\"}],\"scatter3d\":[{\"line\":{\"colorbar\":{\"outlinewidth\":0,\"ticks\":\"\"}},\"marker\":{\"colorbar\":{\"outlinewidth\":0,\"ticks\":\"\"}},\"type\":\"scatter3d\"}],\"scattercarpet\":[{\"marker\":{\"colorbar\":{\"outlinewidth\":0,\"ticks\":\"\"}},\"type\":\"scattercarpet\"}],\"scattergeo\":[{\"marker\":{\"colorbar\":{\"outlinewidth\":0,\"ticks\":\"\"}},\"type\":\"scattergeo\"}],\"scattergl\":[{\"marker\":{\"colorbar\":{\"outlinewidth\":0,\"ticks\":\"\"}},\"type\":\"scattergl\"}],\"scattermapbox\":[{\"marker\":{\"colorbar\":{\"outlinewidth\":0,\"ticks\":\"\"}},\"type\":\"scattermapbox\"}],\"scatterpolar\":[{\"marker\":{\"colorbar\":{\"outlinewidth\":0,\"ticks\":\"\"}},\"type\":\"scatterpolar\"}],\"scatterpolargl\":[{\"marker\":{\"colorbar\":{\"outlinewidth\":0,\"ticks\":\"\"}},\"type\":\"scatterpolargl\"}],\"scatterternary\":[{\"marker\":{\"colorbar\":{\"outlinewidth\":0,\"ticks\":\"\"}},\"type\":\"scatterternary\"}],\"surface\":[{\"colorbar\":{\"outlinewidth\":0,\"ticks\":\"\"},\"colorscale\":[[0.0,\"#0d0887\"],[0.1111111111111111,\"#46039f\"],[0.2222222222222222,\"#7201a8\"],[0.3333333333333333,\"#9c179e\"],[0.4444444444444444,\"#bd3786\"],[0.5555555555555556,\"#d8576b\"],[0.6666666666666666,\"#ed7953\"],[0.7777777777777778,\"#fb9f3a\"],[0.8888888888888888,\"#fdca26\"],[1.0,\"#f0f921\"]],\"type\":\"surface\"}],\"table\":[{\"cells\":{\"fill\":{\"color\":\"#EBF0F8\"},\"line\":{\"color\":\"white\"}},\"header\":{\"fill\":{\"color\":\"#C8D4E3\"},\"line\":{\"color\":\"white\"}},\"type\":\"table\"}]},\"layout\":{\"annotationdefaults\":{\"arrowcolor\":\"#2a3f5f\",\"arrowhead\":0,\"arrowwidth\":1},\"autotypenumbers\":\"strict\",\"coloraxis\":{\"colorbar\":{\"outlinewidth\":0,\"ticks\":\"\"}},\"colorscale\":{\"diverging\":[[0,\"#8e0152\"],[0.1,\"#c51b7d\"],[0.2,\"#de77ae\"],[0.3,\"#f1b6da\"],[0.4,\"#fde0ef\"],[0.5,\"#f7f7f7\"],[0.6,\"#e6f5d0\"],[0.7,\"#b8e186\"],[0.8,\"#7fbc41\"],[0.9,\"#4d9221\"],[1,\"#276419\"]],\"sequential\":[[0.0,\"#0d0887\"],[0.1111111111111111,\"#46039f\"],[0.2222222222222222,\"#7201a8\"],[0.3333333333333333,\"#9c179e\"],[0.4444444444444444,\"#bd3786\"],[0.5555555555555556,\"#d8576b\"],[0.6666666666666666,\"#ed7953\"],[0.7777777777777778,\"#fb9f3a\"],[0.8888888888888888,\"#fdca26\"],[1.0,\"#f0f921\"]],\"sequentialminus\":[[0.0,\"#0d0887\"],[0.1111111111111111,\"#46039f\"],[0.2222222222222222,\"#7201a8\"],[0.3333333333333333,\"#9c179e\"],[0.4444444444444444,\"#bd3786\"],[0.5555555555555556,\"#d8576b\"],[0.6666666666666666,\"#ed7953\"],[0.7777777777777778,\"#fb9f3a\"],[0.8888888888888888,\"#fdca26\"],[1.0,\"#f0f921\"]]},\"colorway\":[\"#636efa\",\"#EF553B\",\"#00cc96\",\"#ab63fa\",\"#FFA15A\",\"#19d3f3\",\"#FF6692\",\"#B6E880\",\"#FF97FF\",\"#FECB52\"],\"font\":{\"color\":\"#2a3f5f\"},\"geo\":{\"bgcolor\":\"white\",\"lakecolor\":\"white\",\"landcolor\":\"#E5ECF6\",\"showlakes\":true,\"showland\":true,\"subunitcolor\":\"white\"},\"hoverlabel\":{\"align\":\"left\"},\"hovermode\":\"closest\",\"mapbox\":{\"style\":\"light\"},\"paper_bgcolor\":\"white\",\"plot_bgcolor\":\"#E5ECF6\",\"polar\":{\"angularaxis\":{\"gridcolor\":\"white\",\"linecolor\":\"white\",\"ticks\":\"\"},\"bgcolor\":\"#E5ECF6\",\"radialaxis\":{\"gridcolor\":\"white\",\"linecolor\":\"white\",\"ticks\":\"\"}},\"scene\":{\"xaxis\":{\"backgroundcolor\":\"#E5ECF6\",\"gridcolor\":\"white\",\"gridwidth\":2,\"linecolor\":\"white\",\"showbackground\":true,\"ticks\":\"\",\"zerolinecolor\":\"white\"},\"yaxis\":{\"backgroundcolor\":\"#E5ECF6\",\"gridcolor\":\"white\",\"gridwidth\":2,\"linecolor\":\"white\",\"showbackground\":true,\"ticks\":\"\",\"zerolinecolor\":\"white\"},\"zaxis\":{\"backgroundcolor\":\"#E5ECF6\",\"gridcolor\":\"white\",\"gridwidth\":2,\"linecolor\":\"white\",\"showbackground\":true,\"ticks\":\"\",\"zerolinecolor\":\"white\"}},\"shapedefaults\":{\"line\":{\"color\":\"#2a3f5f\"}},\"ternary\":{\"aaxis\":{\"gridcolor\":\"white\",\"linecolor\":\"white\",\"ticks\":\"\"},\"baxis\":{\"gridcolor\":\"white\",\"linecolor\":\"white\",\"ticks\":\"\"},\"bgcolor\":\"#E5ECF6\",\"caxis\":{\"gridcolor\":\"white\",\"linecolor\":\"white\",\"ticks\":\"\"}},\"title\":{\"x\":0.05},\"xaxis\":{\"automargin\":true,\"gridcolor\":\"white\",\"linecolor\":\"white\",\"ticks\":\"\",\"title\":{\"standoff\":15},\"zerolinecolor\":\"white\",\"zerolinewidth\":2},\"yaxis\":{\"automargin\":true,\"gridcolor\":\"white\",\"linecolor\":\"white\",\"ticks\":\"\",\"title\":{\"standoff\":15},\"zerolinecolor\":\"white\",\"zerolinewidth\":2}}},\"xaxis\":{\"anchor\":\"y\",\"domain\":[0.0,1.0],\"title\":{\"text\":\"sigla\"}},\"yaxis\":{\"anchor\":\"x\",\"domain\":[0.0,1.0],\"title\":{\"text\":\"nota_media\"}},\"legend\":{\"tracegroupgap\":0},\"margin\":{\"t\":60},\"barmode\":\"relative\"},                        {\"responsive\": true}                    )                };                            </script>        </div>\n",
       "</body>\n",
       "</html>"
      ]
     },
     "metadata": {
      "application/vnd.databricks.v1+output": {
       "addedWidgets": {},
       "arguments": {},
       "data": "<html>\n<head><meta charset=\"utf-8\" /></head>\n<body>\n    <div>            <script src=\"https://cdnjs.cloudflare.com/ajax/libs/mathjax/2.7.5/MathJax.js?config=TeX-AMS-MML_SVG\"></script><script type=\"text/javascript\">if (window.MathJax) {MathJax.Hub.Config({SVG: {font: \"STIX-Web\"}});}</script>                <script type=\"text/javascript\">window.PlotlyConfig = {MathJaxConfig: 'local'};</script>\n        <script src=\"https://cdn.plot.ly/plotly-2.9.0.min.js\"></script>                <div id=\"a865f9de-c0bf-4f5c-8aa4-c9c191ab136c\" class=\"plotly-graph-div\" style=\"height:100%; width:100%;\"></div>            <script type=\"text/javascript\">                                    window.PLOTLYENV=window.PLOTLYENV || {};                                    if (document.getElementById(\"a865f9de-c0bf-4f5c-8aa4-c9c191ab136c\")) {                    Plotly.newPlot(                        \"a865f9de-c0bf-4f5c-8aa4-c9c191ab136c\",                        [{\"alignmentgroup\":\"True\",\"hovertemplate\":\"sigla=%{x}<br>nota_media=%{y}<extra></extra>\",\"legendgroup\":\"\",\"marker\":{\"color\":\"#636efa\",\"pattern\":{\"shape\":\"\"}},\"name\":\"\",\"offsetgroup\":\"\",\"orientation\":\"v\",\"showlegend\":false,\"textposition\":\"auto\",\"x\":[\"CAMPO REAL\",\"FASEH\",\"FIP-MOC\",\"MULTIVIX VIT\\u00d3RIA\",\"FAB\",\"Uniceuma - UNICEUMA\",\"FCM-PB\",null,\"UNIFRAN\",\"UniSL\",\"FAMAZ\",\"FACREDENTOR\",\"UNICID\",\"FAM\"],\"xaxis\":\"x\",\"y\":[781.2,770.5,765.76,762.74,758.32,757.1500000000001,754.98,745.46,744.88,742.72,741.36,741.06,739.62,735.84],\"yaxis\":\"y\",\"type\":\"bar\"}],                        {\"template\":{\"data\":{\"bar\":[{\"error_x\":{\"color\":\"#2a3f5f\"},\"error_y\":{\"color\":\"#2a3f5f\"},\"marker\":{\"line\":{\"color\":\"#E5ECF6\",\"width\":0.5},\"pattern\":{\"fillmode\":\"overlay\",\"size\":10,\"solidity\":0.2}},\"type\":\"bar\"}],\"barpolar\":[{\"marker\":{\"line\":{\"color\":\"#E5ECF6\",\"width\":0.5},\"pattern\":{\"fillmode\":\"overlay\",\"size\":10,\"solidity\":0.2}},\"type\":\"barpolar\"}],\"carpet\":[{\"aaxis\":{\"endlinecolor\":\"#2a3f5f\",\"gridcolor\":\"white\",\"linecolor\":\"white\",\"minorgridcolor\":\"white\",\"startlinecolor\":\"#2a3f5f\"},\"baxis\":{\"endlinecolor\":\"#2a3f5f\",\"gridcolor\":\"white\",\"linecolor\":\"white\",\"minorgridcolor\":\"white\",\"startlinecolor\":\"#2a3f5f\"},\"type\":\"carpet\"}],\"choropleth\":[{\"colorbar\":{\"outlinewidth\":0,\"ticks\":\"\"},\"type\":\"choropleth\"}],\"contour\":[{\"colorbar\":{\"outlinewidth\":0,\"ticks\":\"\"},\"colorscale\":[[0.0,\"#0d0887\"],[0.1111111111111111,\"#46039f\"],[0.2222222222222222,\"#7201a8\"],[0.3333333333333333,\"#9c179e\"],[0.4444444444444444,\"#bd3786\"],[0.5555555555555556,\"#d8576b\"],[0.6666666666666666,\"#ed7953\"],[0.7777777777777778,\"#fb9f3a\"],[0.8888888888888888,\"#fdca26\"],[1.0,\"#f0f921\"]],\"type\":\"contour\"}],\"contourcarpet\":[{\"colorbar\":{\"outlinewidth\":0,\"ticks\":\"\"},\"type\":\"contourcarpet\"}],\"heatmap\":[{\"colorbar\":{\"outlinewidth\":0,\"ticks\":\"\"},\"colorscale\":[[0.0,\"#0d0887\"],[0.1111111111111111,\"#46039f\"],[0.2222222222222222,\"#7201a8\"],[0.3333333333333333,\"#9c179e\"],[0.4444444444444444,\"#bd3786\"],[0.5555555555555556,\"#d8576b\"],[0.6666666666666666,\"#ed7953\"],[0.7777777777777778,\"#fb9f3a\"],[0.8888888888888888,\"#fdca26\"],[1.0,\"#f0f921\"]],\"type\":\"heatmap\"}],\"heatmapgl\":[{\"colorbar\":{\"outlinewidth\":0,\"ticks\":\"\"},\"colorscale\":[[0.0,\"#0d0887\"],[0.1111111111111111,\"#46039f\"],[0.2222222222222222,\"#7201a8\"],[0.3333333333333333,\"#9c179e\"],[0.4444444444444444,\"#bd3786\"],[0.5555555555555556,\"#d8576b\"],[0.6666666666666666,\"#ed7953\"],[0.7777777777777778,\"#fb9f3a\"],[0.8888888888888888,\"#fdca26\"],[1.0,\"#f0f921\"]],\"type\":\"heatmapgl\"}],\"histogram\":[{\"marker\":{\"pattern\":{\"fillmode\":\"overlay\",\"size\":10,\"solidity\":0.2}},\"type\":\"histogram\"}],\"histogram2d\":[{\"colorbar\":{\"outlinewidth\":0,\"ticks\":\"\"},\"colorscale\":[[0.0,\"#0d0887\"],[0.1111111111111111,\"#46039f\"],[0.2222222222222222,\"#7201a8\"],[0.3333333333333333,\"#9c179e\"],[0.4444444444444444,\"#bd3786\"],[0.5555555555555556,\"#d8576b\"],[0.6666666666666666,\"#ed7953\"],[0.7777777777777778,\"#fb9f3a\"],[0.8888888888888888,\"#fdca26\"],[1.0,\"#f0f921\"]],\"type\":\"histogram2d\"}],\"histogram2dcontour\":[{\"colorbar\":{\"outlinewidth\":0,\"ticks\":\"\"},\"colorscale\":[[0.0,\"#0d0887\"],[0.1111111111111111,\"#46039f\"],[0.2222222222222222,\"#7201a8\"],[0.3333333333333333,\"#9c179e\"],[0.4444444444444444,\"#bd3786\"],[0.5555555555555556,\"#d8576b\"],[0.6666666666666666,\"#ed7953\"],[0.7777777777777778,\"#fb9f3a\"],[0.8888888888888888,\"#fdca26\"],[1.0,\"#f0f921\"]],\"type\":\"histogram2dcontour\"}],\"mesh3d\":[{\"colorbar\":{\"outlinewidth\":0,\"ticks\":\"\"},\"type\":\"mesh3d\"}],\"parcoords\":[{\"line\":{\"colorbar\":{\"outlinewidth\":0,\"ticks\":\"\"}},\"type\":\"parcoords\"}],\"pie\":[{\"automargin\":true,\"type\":\"pie\"}],\"scatter\":[{\"marker\":{\"colorbar\":{\"outlinewidth\":0,\"ticks\":\"\"}},\"type\":\"scatter\"}],\"scatter3d\":[{\"line\":{\"colorbar\":{\"outlinewidth\":0,\"ticks\":\"\"}},\"marker\":{\"colorbar\":{\"outlinewidth\":0,\"ticks\":\"\"}},\"type\":\"scatter3d\"}],\"scattercarpet\":[{\"marker\":{\"colorbar\":{\"outlinewidth\":0,\"ticks\":\"\"}},\"type\":\"scattercarpet\"}],\"scattergeo\":[{\"marker\":{\"colorbar\":{\"outlinewidth\":0,\"ticks\":\"\"}},\"type\":\"scattergeo\"}],\"scattergl\":[{\"marker\":{\"colorbar\":{\"outlinewidth\":0,\"ticks\":\"\"}},\"type\":\"scattergl\"}],\"scattermapbox\":[{\"marker\":{\"colorbar\":{\"outlinewidth\":0,\"ticks\":\"\"}},\"type\":\"scattermapbox\"}],\"scatterpolar\":[{\"marker\":{\"colorbar\":{\"outlinewidth\":0,\"ticks\":\"\"}},\"type\":\"scatterpolar\"}],\"scatterpolargl\":[{\"marker\":{\"colorbar\":{\"outlinewidth\":0,\"ticks\":\"\"}},\"type\":\"scatterpolargl\"}],\"scatterternary\":[{\"marker\":{\"colorbar\":{\"outlinewidth\":0,\"ticks\":\"\"}},\"type\":\"scatterternary\"}],\"surface\":[{\"colorbar\":{\"outlinewidth\":0,\"ticks\":\"\"},\"colorscale\":[[0.0,\"#0d0887\"],[0.1111111111111111,\"#46039f\"],[0.2222222222222222,\"#7201a8\"],[0.3333333333333333,\"#9c179e\"],[0.4444444444444444,\"#bd3786\"],[0.5555555555555556,\"#d8576b\"],[0.6666666666666666,\"#ed7953\"],[0.7777777777777778,\"#fb9f3a\"],[0.8888888888888888,\"#fdca26\"],[1.0,\"#f0f921\"]],\"type\":\"surface\"}],\"table\":[{\"cells\":{\"fill\":{\"color\":\"#EBF0F8\"},\"line\":{\"color\":\"white\"}},\"header\":{\"fill\":{\"color\":\"#C8D4E3\"},\"line\":{\"color\":\"white\"}},\"type\":\"table\"}]},\"layout\":{\"annotationdefaults\":{\"arrowcolor\":\"#2a3f5f\",\"arrowhead\":0,\"arrowwidth\":1},\"autotypenumbers\":\"strict\",\"coloraxis\":{\"colorbar\":{\"outlinewidth\":0,\"ticks\":\"\"}},\"colorscale\":{\"diverging\":[[0,\"#8e0152\"],[0.1,\"#c51b7d\"],[0.2,\"#de77ae\"],[0.3,\"#f1b6da\"],[0.4,\"#fde0ef\"],[0.5,\"#f7f7f7\"],[0.6,\"#e6f5d0\"],[0.7,\"#b8e186\"],[0.8,\"#7fbc41\"],[0.9,\"#4d9221\"],[1,\"#276419\"]],\"sequential\":[[0.0,\"#0d0887\"],[0.1111111111111111,\"#46039f\"],[0.2222222222222222,\"#7201a8\"],[0.3333333333333333,\"#9c179e\"],[0.4444444444444444,\"#bd3786\"],[0.5555555555555556,\"#d8576b\"],[0.6666666666666666,\"#ed7953\"],[0.7777777777777778,\"#fb9f3a\"],[0.8888888888888888,\"#fdca26\"],[1.0,\"#f0f921\"]],\"sequentialminus\":[[0.0,\"#0d0887\"],[0.1111111111111111,\"#46039f\"],[0.2222222222222222,\"#7201a8\"],[0.3333333333333333,\"#9c179e\"],[0.4444444444444444,\"#bd3786\"],[0.5555555555555556,\"#d8576b\"],[0.6666666666666666,\"#ed7953\"],[0.7777777777777778,\"#fb9f3a\"],[0.8888888888888888,\"#fdca26\"],[1.0,\"#f0f921\"]]},\"colorway\":[\"#636efa\",\"#EF553B\",\"#00cc96\",\"#ab63fa\",\"#FFA15A\",\"#19d3f3\",\"#FF6692\",\"#B6E880\",\"#FF97FF\",\"#FECB52\"],\"font\":{\"color\":\"#2a3f5f\"},\"geo\":{\"bgcolor\":\"white\",\"lakecolor\":\"white\",\"landcolor\":\"#E5ECF6\",\"showlakes\":true,\"showland\":true,\"subunitcolor\":\"white\"},\"hoverlabel\":{\"align\":\"left\"},\"hovermode\":\"closest\",\"mapbox\":{\"style\":\"light\"},\"paper_bgcolor\":\"white\",\"plot_bgcolor\":\"#E5ECF6\",\"polar\":{\"angularaxis\":{\"gridcolor\":\"white\",\"linecolor\":\"white\",\"ticks\":\"\"},\"bgcolor\":\"#E5ECF6\",\"radialaxis\":{\"gridcolor\":\"white\",\"linecolor\":\"white\",\"ticks\":\"\"}},\"scene\":{\"xaxis\":{\"backgroundcolor\":\"#E5ECF6\",\"gridcolor\":\"white\",\"gridwidth\":2,\"linecolor\":\"white\",\"showbackground\":true,\"ticks\":\"\",\"zerolinecolor\":\"white\"},\"yaxis\":{\"backgroundcolor\":\"#E5ECF6\",\"gridcolor\":\"white\",\"gridwidth\":2,\"linecolor\":\"white\",\"showbackground\":true,\"ticks\":\"\",\"zerolinecolor\":\"white\"},\"zaxis\":{\"backgroundcolor\":\"#E5ECF6\",\"gridcolor\":\"white\",\"gridwidth\":2,\"linecolor\":\"white\",\"showbackground\":true,\"ticks\":\"\",\"zerolinecolor\":\"white\"}},\"shapedefaults\":{\"line\":{\"color\":\"#2a3f5f\"}},\"ternary\":{\"aaxis\":{\"gridcolor\":\"white\",\"linecolor\":\"white\",\"ticks\":\"\"},\"baxis\":{\"gridcolor\":\"white\",\"linecolor\":\"white\",\"ticks\":\"\"},\"bgcolor\":\"#E5ECF6\",\"caxis\":{\"gridcolor\":\"white\",\"linecolor\":\"white\",\"ticks\":\"\"}},\"title\":{\"x\":0.05},\"xaxis\":{\"automargin\":true,\"gridcolor\":\"white\",\"linecolor\":\"white\",\"ticks\":\"\",\"title\":{\"standoff\":15},\"zerolinecolor\":\"white\",\"zerolinewidth\":2},\"yaxis\":{\"automargin\":true,\"gridcolor\":\"white\",\"linecolor\":\"white\",\"ticks\":\"\",\"title\":{\"standoff\":15},\"zerolinecolor\":\"white\",\"zerolinewidth\":2}}},\"xaxis\":{\"anchor\":\"y\",\"domain\":[0.0,1.0],\"title\":{\"text\":\"sigla\"}},\"yaxis\":{\"anchor\":\"x\",\"domain\":[0.0,1.0],\"title\":{\"text\":\"nota_media\"}},\"legend\":{\"tracegroupgap\":0},\"margin\":{\"t\":60},\"barmode\":\"relative\"},                        {\"responsive\": true}                    )                };                            </script>        </div>\n</body>\n</html>",
       "datasetInfos": [],
       "metadata": {},
       "removedWidgets": [],
       "textData": null,
       "type": "htmlSandbox"
      }
     },
     "output_type": "display_data"
    }
   ],
   "source": [
    "# nota médias das universidades\n",
    "\n",
    "notas_ordenadas = ps.sql('''\n",
    "SELECT sigla, MEAN(nota_integral_ampla) AS nota_media\n",
    "FROM {DF}\n",
    "GROUP BY sigla\n",
    "ORDER BY nota_media DESC\n",
    "''', DF=df_medicina)\n",
    "\n",
    "notas_ordenadas.plot.bar(x='sigla',y='nota_media')"
   ]
  },
  {
   "cell_type": "markdown",
   "metadata": {
    "application/vnd.databricks.v1+cell": {
     "cellMetadata": {},
     "inputWidgets": {},
     "nuid": "2cdcf61e-33f3-42e7-bd1e-05a9e59c9032",
     "showTitle": false,
     "tableResultSettingsMap": {},
     "title": ""
    }
   },
   "source": [
    "# de Pandas para Spark"
   ]
  },
  {
   "cell_type": "markdown",
   "metadata": {
    "application/vnd.databricks.v1+cell": {
     "cellMetadata": {},
     "inputWidgets": {},
     "nuid": "8f11dffb-f5b9-44ed-a848-a90a5c9e726a",
     "showTitle": false,
     "tableResultSettingsMap": {},
     "title": ""
    }
   },
   "source": [
    "https://pt.wikipedia.org/wiki/Programa_Universidade_para_Todos"
   ]
  },
  {
   "cell_type": "markdown",
   "metadata": {
    "application/vnd.databricks.v1+cell": {
     "cellMetadata": {},
     "inputWidgets": {},
     "nuid": "a4dc7fa2-a875-423a-86a1-77f8c4609701",
     "showTitle": false,
     "tableResultSettingsMap": {},
     "title": ""
    }
   },
   "source": [
    "O Dataframe abaixo foi retirado do link onde indica a quantidade de bolsas em milheres por ano"
   ]
  },
  {
   "cell_type": "code",
   "execution_count": 0,
   "metadata": {
    "application/vnd.databricks.v1+cell": {
     "cellMetadata": {
      "byteLimit": 2048000,
      "rowLimit": 10000
     },
     "inputWidgets": {},
     "nuid": "eae6c7c6-360b-4c95-81d5-42e500d2a457",
     "showTitle": false,
     "tableResultSettingsMap": {},
     "title": ""
    }
   },
   "outputs": [
    {
     "output_type": "display_data",
     "data": {
      "application/vnd.databricks.v1+bamboolib_hint": "{\"pd.DataFrames\": [], \"version\": \"0.0.1\"}",
      "text/plain": []
     },
     "metadata": {},
     "output_type": "display_data"
    }
   ],
   "source": [
    "# Criar o Dataframe\n",
    "\n",
    "import pandas as pd\n",
    "\n",
    "data = {\n",
    "    'Ano': [2021,2020],\n",
    "    'Bolsas_Integrais': [146.3, 182.9],\n",
    "    'Bolsas_Parciais': [150.0, 237.4],\n",
    "    'Bolsas_Total': [296.3, 420.3]\n",
    "}\n",
    "\n",
    "df_pandas = pd.DataFrame(data)"
   ]
  },
  {
   "cell_type": "code",
   "execution_count": 0,
   "metadata": {
    "application/vnd.databricks.v1+cell": {
     "cellMetadata": {
      "byteLimit": 2048000,
      "rowLimit": 10000
     },
     "inputWidgets": {},
     "nuid": "fd53f013-30c5-4eff-a07d-0e323d168b65",
     "showTitle": false,
     "tableResultSettingsMap": {},
     "title": ""
    }
   },
   "outputs": [
    {
     "output_type": "display_data",
     "data": {
      "text/html": [
       "<div>\n",
       "<style scoped>\n",
       "    .dataframe tbody tr th:only-of-type {\n",
       "        vertical-align: middle;\n",
       "    }\n",
       "\n",
       "    .dataframe tbody tr th {\n",
       "        vertical-align: top;\n",
       "    }\n",
       "\n",
       "    .dataframe thead th {\n",
       "        text-align: right;\n",
       "    }\n",
       "</style>\n",
       "<table border=\"1\" class=\"dataframe\">\n",
       "  <thead>\n",
       "    <tr style=\"text-align: right;\">\n",
       "      <th></th>\n",
       "      <th>Ano</th>\n",
       "      <th>Bolsas_Integrais</th>\n",
       "      <th>Bolsas_Parciais</th>\n",
       "      <th>Bolsas_Total</th>\n",
       "    </tr>\n",
       "  </thead>\n",
       "  <tbody>\n",
       "    <tr>\n",
       "      <th>0</th>\n",
       "      <td>2021</td>\n",
       "      <td>146.3</td>\n",
       "      <td>150.0</td>\n",
       "      <td>296.3</td>\n",
       "    </tr>\n",
       "    <tr>\n",
       "      <th>1</th>\n",
       "      <td>2020</td>\n",
       "      <td>182.9</td>\n",
       "      <td>237.4</td>\n",
       "      <td>420.3</td>\n",
       "    </tr>\n",
       "  </tbody>\n",
       "</table>\n",
       "</div>"
      ]
     },
     "metadata": {
      "application/vnd.databricks.v1+output": {
       "addedWidgets": {},
       "arguments": {},
       "data": "<div>\n<style scoped>\n    .dataframe tbody tr th:only-of-type {\n        vertical-align: middle;\n    }\n\n    .dataframe tbody tr th {\n        vertical-align: top;\n    }\n\n    .dataframe thead th {\n        text-align: right;\n    }\n</style>\n<table border=\"1\" class=\"dataframe\">\n  <thead>\n    <tr style=\"text-align: right;\">\n      <th></th>\n      <th>Ano</th>\n      <th>Bolsas_Integrais</th>\n      <th>Bolsas_Parciais</th>\n      <th>Bolsas_Total</th>\n    </tr>\n  </thead>\n  <tbody>\n    <tr>\n      <th>0</th>\n      <td>2021</td>\n      <td>146.3</td>\n      <td>150.0</td>\n      <td>296.3</td>\n    </tr>\n    <tr>\n      <th>1</th>\n      <td>2020</td>\n      <td>182.9</td>\n      <td>237.4</td>\n      <td>420.3</td>\n    </tr>\n  </tbody>\n</table>\n</div>",
       "datasetInfos": [],
       "metadata": {},
       "removedWidgets": [],
       "textData": null,
       "type": "htmlSandbox"
      }
     },
     "output_type": "display_data"
    }
   ],
   "source": [
    "# Conversão para o Pandas do Spark\n",
    "\n",
    "df_bolsas = ps.from_pandas(df_pandas)\n",
    "df_bolsas"
   ]
  },
  {
   "cell_type": "code",
   "execution_count": 0,
   "metadata": {
    "application/vnd.databricks.v1+cell": {
     "cellMetadata": {
      "byteLimit": 2048000,
      "rowLimit": 10000
     },
     "inputWidgets": {},
     "nuid": "65deed6c-dffb-4296-98df-da9b7ea2c977",
     "showTitle": false,
     "tableResultSettingsMap": {},
     "title": ""
    }
   },
   "outputs": [
    {
     "output_type": "display_data",
     "data": {
      "text/html": [
       "<html>\n",
       "<head><meta charset=\"utf-8\" /></head>\n",
       "<body>\n",
       "    <div>            <script src=\"https://cdnjs.cloudflare.com/ajax/libs/mathjax/2.7.5/MathJax.js?config=TeX-AMS-MML_SVG\"></script><script type=\"text/javascript\">if (window.MathJax) {MathJax.Hub.Config({SVG: {font: \"STIX-Web\"}});}</script>                <script type=\"text/javascript\">window.PlotlyConfig = {MathJaxConfig: 'local'};</script>\n",
       "        <script src=\"https://cdn.plot.ly/plotly-2.9.0.min.js\"></script>                <div id=\"857c3139-3961-4891-be2d-3d58b8fc8d39\" class=\"plotly-graph-div\" style=\"height:100%; width:100%;\"></div>            <script type=\"text/javascript\">                                    window.PLOTLYENV=window.PLOTLYENV || {};                                    if (document.getElementById(\"857c3139-3961-4891-be2d-3d58b8fc8d39\")) {                    Plotly.newPlot(                        \"857c3139-3961-4891-be2d-3d58b8fc8d39\",                        [{\"alignmentgroup\":\"True\",\"hovertemplate\":\"variable=Bolsas_Integrais<br>Ano=%{x}<br>value=%{y}<extra></extra>\",\"legendgroup\":\"Bolsas_Integrais\",\"marker\":{\"color\":\"#636efa\",\"pattern\":{\"shape\":\"\"}},\"name\":\"Bolsas_Integrais\",\"offsetgroup\":\"Bolsas_Integrais\",\"orientation\":\"v\",\"showlegend\":true,\"textposition\":\"auto\",\"x\":[2021,2020],\"xaxis\":\"x\",\"y\":[146.3,182.9],\"yaxis\":\"y\",\"type\":\"bar\"},{\"alignmentgroup\":\"True\",\"hovertemplate\":\"variable=Bolsas_Parciais<br>Ano=%{x}<br>value=%{y}<extra></extra>\",\"legendgroup\":\"Bolsas_Parciais\",\"marker\":{\"color\":\"#EF553B\",\"pattern\":{\"shape\":\"\"}},\"name\":\"Bolsas_Parciais\",\"offsetgroup\":\"Bolsas_Parciais\",\"orientation\":\"v\",\"showlegend\":true,\"textposition\":\"auto\",\"x\":[2021,2020],\"xaxis\":\"x\",\"y\":[150.0,237.4],\"yaxis\":\"y\",\"type\":\"bar\"}],                        {\"template\":{\"data\":{\"bar\":[{\"error_x\":{\"color\":\"#2a3f5f\"},\"error_y\":{\"color\":\"#2a3f5f\"},\"marker\":{\"line\":{\"color\":\"#E5ECF6\",\"width\":0.5},\"pattern\":{\"fillmode\":\"overlay\",\"size\":10,\"solidity\":0.2}},\"type\":\"bar\"}],\"barpolar\":[{\"marker\":{\"line\":{\"color\":\"#E5ECF6\",\"width\":0.5},\"pattern\":{\"fillmode\":\"overlay\",\"size\":10,\"solidity\":0.2}},\"type\":\"barpolar\"}],\"carpet\":[{\"aaxis\":{\"endlinecolor\":\"#2a3f5f\",\"gridcolor\":\"white\",\"linecolor\":\"white\",\"minorgridcolor\":\"white\",\"startlinecolor\":\"#2a3f5f\"},\"baxis\":{\"endlinecolor\":\"#2a3f5f\",\"gridcolor\":\"white\",\"linecolor\":\"white\",\"minorgridcolor\":\"white\",\"startlinecolor\":\"#2a3f5f\"},\"type\":\"carpet\"}],\"choropleth\":[{\"colorbar\":{\"outlinewidth\":0,\"ticks\":\"\"},\"type\":\"choropleth\"}],\"contour\":[{\"colorbar\":{\"outlinewidth\":0,\"ticks\":\"\"},\"colorscale\":[[0.0,\"#0d0887\"],[0.1111111111111111,\"#46039f\"],[0.2222222222222222,\"#7201a8\"],[0.3333333333333333,\"#9c179e\"],[0.4444444444444444,\"#bd3786\"],[0.5555555555555556,\"#d8576b\"],[0.6666666666666666,\"#ed7953\"],[0.7777777777777778,\"#fb9f3a\"],[0.8888888888888888,\"#fdca26\"],[1.0,\"#f0f921\"]],\"type\":\"contour\"}],\"contourcarpet\":[{\"colorbar\":{\"outlinewidth\":0,\"ticks\":\"\"},\"type\":\"contourcarpet\"}],\"heatmap\":[{\"colorbar\":{\"outlinewidth\":0,\"ticks\":\"\"},\"colorscale\":[[0.0,\"#0d0887\"],[0.1111111111111111,\"#46039f\"],[0.2222222222222222,\"#7201a8\"],[0.3333333333333333,\"#9c179e\"],[0.4444444444444444,\"#bd3786\"],[0.5555555555555556,\"#d8576b\"],[0.6666666666666666,\"#ed7953\"],[0.7777777777777778,\"#fb9f3a\"],[0.8888888888888888,\"#fdca26\"],[1.0,\"#f0f921\"]],\"type\":\"heatmap\"}],\"heatmapgl\":[{\"colorbar\":{\"outlinewidth\":0,\"ticks\":\"\"},\"colorscale\":[[0.0,\"#0d0887\"],[0.1111111111111111,\"#46039f\"],[0.2222222222222222,\"#7201a8\"],[0.3333333333333333,\"#9c179e\"],[0.4444444444444444,\"#bd3786\"],[0.5555555555555556,\"#d8576b\"],[0.6666666666666666,\"#ed7953\"],[0.7777777777777778,\"#fb9f3a\"],[0.8888888888888888,\"#fdca26\"],[1.0,\"#f0f921\"]],\"type\":\"heatmapgl\"}],\"histogram\":[{\"marker\":{\"pattern\":{\"fillmode\":\"overlay\",\"size\":10,\"solidity\":0.2}},\"type\":\"histogram\"}],\"histogram2d\":[{\"colorbar\":{\"outlinewidth\":0,\"ticks\":\"\"},\"colorscale\":[[0.0,\"#0d0887\"],[0.1111111111111111,\"#46039f\"],[0.2222222222222222,\"#7201a8\"],[0.3333333333333333,\"#9c179e\"],[0.4444444444444444,\"#bd3786\"],[0.5555555555555556,\"#d8576b\"],[0.6666666666666666,\"#ed7953\"],[0.7777777777777778,\"#fb9f3a\"],[0.8888888888888888,\"#fdca26\"],[1.0,\"#f0f921\"]],\"type\":\"histogram2d\"}],\"histogram2dcontour\":[{\"colorbar\":{\"outlinewidth\":0,\"ticks\":\"\"},\"colorscale\":[[0.0,\"#0d0887\"],[0.1111111111111111,\"#46039f\"],[0.2222222222222222,\"#7201a8\"],[0.3333333333333333,\"#9c179e\"],[0.4444444444444444,\"#bd3786\"],[0.5555555555555556,\"#d8576b\"],[0.6666666666666666,\"#ed7953\"],[0.7777777777777778,\"#fb9f3a\"],[0.8888888888888888,\"#fdca26\"],[1.0,\"#f0f921\"]],\"type\":\"histogram2dcontour\"}],\"mesh3d\":[{\"colorbar\":{\"outlinewidth\":0,\"ticks\":\"\"},\"type\":\"mesh3d\"}],\"parcoords\":[{\"line\":{\"colorbar\":{\"outlinewidth\":0,\"ticks\":\"\"}},\"type\":\"parcoords\"}],\"pie\":[{\"automargin\":true,\"type\":\"pie\"}],\"scatter\":[{\"marker\":{\"colorbar\":{\"outlinewidth\":0,\"ticks\":\"\"}},\"type\":\"scatter\"}],\"scatter3d\":[{\"line\":{\"colorbar\":{\"outlinewidth\":0,\"ticks\":\"\"}},\"marker\":{\"colorbar\":{\"outlinewidth\":0,\"ticks\":\"\"}},\"type\":\"scatter3d\"}],\"scattercarpet\":[{\"marker\":{\"colorbar\":{\"outlinewidth\":0,\"ticks\":\"\"}},\"type\":\"scattercarpet\"}],\"scattergeo\":[{\"marker\":{\"colorbar\":{\"outlinewidth\":0,\"ticks\":\"\"}},\"type\":\"scattergeo\"}],\"scattergl\":[{\"marker\":{\"colorbar\":{\"outlinewidth\":0,\"ticks\":\"\"}},\"type\":\"scattergl\"}],\"scattermapbox\":[{\"marker\":{\"colorbar\":{\"outlinewidth\":0,\"ticks\":\"\"}},\"type\":\"scattermapbox\"}],\"scatterpolar\":[{\"marker\":{\"colorbar\":{\"outlinewidth\":0,\"ticks\":\"\"}},\"type\":\"scatterpolar\"}],\"scatterpolargl\":[{\"marker\":{\"colorbar\":{\"outlinewidth\":0,\"ticks\":\"\"}},\"type\":\"scatterpolargl\"}],\"scatterternary\":[{\"marker\":{\"colorbar\":{\"outlinewidth\":0,\"ticks\":\"\"}},\"type\":\"scatterternary\"}],\"surface\":[{\"colorbar\":{\"outlinewidth\":0,\"ticks\":\"\"},\"colorscale\":[[0.0,\"#0d0887\"],[0.1111111111111111,\"#46039f\"],[0.2222222222222222,\"#7201a8\"],[0.3333333333333333,\"#9c179e\"],[0.4444444444444444,\"#bd3786\"],[0.5555555555555556,\"#d8576b\"],[0.6666666666666666,\"#ed7953\"],[0.7777777777777778,\"#fb9f3a\"],[0.8888888888888888,\"#fdca26\"],[1.0,\"#f0f921\"]],\"type\":\"surface\"}],\"table\":[{\"cells\":{\"fill\":{\"color\":\"#EBF0F8\"},\"line\":{\"color\":\"white\"}},\"header\":{\"fill\":{\"color\":\"#C8D4E3\"},\"line\":{\"color\":\"white\"}},\"type\":\"table\"}]},\"layout\":{\"annotationdefaults\":{\"arrowcolor\":\"#2a3f5f\",\"arrowhead\":0,\"arrowwidth\":1},\"autotypenumbers\":\"strict\",\"coloraxis\":{\"colorbar\":{\"outlinewidth\":0,\"ticks\":\"\"}},\"colorscale\":{\"diverging\":[[0,\"#8e0152\"],[0.1,\"#c51b7d\"],[0.2,\"#de77ae\"],[0.3,\"#f1b6da\"],[0.4,\"#fde0ef\"],[0.5,\"#f7f7f7\"],[0.6,\"#e6f5d0\"],[0.7,\"#b8e186\"],[0.8,\"#7fbc41\"],[0.9,\"#4d9221\"],[1,\"#276419\"]],\"sequential\":[[0.0,\"#0d0887\"],[0.1111111111111111,\"#46039f\"],[0.2222222222222222,\"#7201a8\"],[0.3333333333333333,\"#9c179e\"],[0.4444444444444444,\"#bd3786\"],[0.5555555555555556,\"#d8576b\"],[0.6666666666666666,\"#ed7953\"],[0.7777777777777778,\"#fb9f3a\"],[0.8888888888888888,\"#fdca26\"],[1.0,\"#f0f921\"]],\"sequentialminus\":[[0.0,\"#0d0887\"],[0.1111111111111111,\"#46039f\"],[0.2222222222222222,\"#7201a8\"],[0.3333333333333333,\"#9c179e\"],[0.4444444444444444,\"#bd3786\"],[0.5555555555555556,\"#d8576b\"],[0.6666666666666666,\"#ed7953\"],[0.7777777777777778,\"#fb9f3a\"],[0.8888888888888888,\"#fdca26\"],[1.0,\"#f0f921\"]]},\"colorway\":[\"#636efa\",\"#EF553B\",\"#00cc96\",\"#ab63fa\",\"#FFA15A\",\"#19d3f3\",\"#FF6692\",\"#B6E880\",\"#FF97FF\",\"#FECB52\"],\"font\":{\"color\":\"#2a3f5f\"},\"geo\":{\"bgcolor\":\"white\",\"lakecolor\":\"white\",\"landcolor\":\"#E5ECF6\",\"showlakes\":true,\"showland\":true,\"subunitcolor\":\"white\"},\"hoverlabel\":{\"align\":\"left\"},\"hovermode\":\"closest\",\"mapbox\":{\"style\":\"light\"},\"paper_bgcolor\":\"white\",\"plot_bgcolor\":\"#E5ECF6\",\"polar\":{\"angularaxis\":{\"gridcolor\":\"white\",\"linecolor\":\"white\",\"ticks\":\"\"},\"bgcolor\":\"#E5ECF6\",\"radialaxis\":{\"gridcolor\":\"white\",\"linecolor\":\"white\",\"ticks\":\"\"}},\"scene\":{\"xaxis\":{\"backgroundcolor\":\"#E5ECF6\",\"gridcolor\":\"white\",\"gridwidth\":2,\"linecolor\":\"white\",\"showbackground\":true,\"ticks\":\"\",\"zerolinecolor\":\"white\"},\"yaxis\":{\"backgroundcolor\":\"#E5ECF6\",\"gridcolor\":\"white\",\"gridwidth\":2,\"linecolor\":\"white\",\"showbackground\":true,\"ticks\":\"\",\"zerolinecolor\":\"white\"},\"zaxis\":{\"backgroundcolor\":\"#E5ECF6\",\"gridcolor\":\"white\",\"gridwidth\":2,\"linecolor\":\"white\",\"showbackground\":true,\"ticks\":\"\",\"zerolinecolor\":\"white\"}},\"shapedefaults\":{\"line\":{\"color\":\"#2a3f5f\"}},\"ternary\":{\"aaxis\":{\"gridcolor\":\"white\",\"linecolor\":\"white\",\"ticks\":\"\"},\"baxis\":{\"gridcolor\":\"white\",\"linecolor\":\"white\",\"ticks\":\"\"},\"bgcolor\":\"#E5ECF6\",\"caxis\":{\"gridcolor\":\"white\",\"linecolor\":\"white\",\"ticks\":\"\"}},\"title\":{\"x\":0.05},\"xaxis\":{\"automargin\":true,\"gridcolor\":\"white\",\"linecolor\":\"white\",\"ticks\":\"\",\"title\":{\"standoff\":15},\"zerolinecolor\":\"white\",\"zerolinewidth\":2},\"yaxis\":{\"automargin\":true,\"gridcolor\":\"white\",\"linecolor\":\"white\",\"ticks\":\"\",\"title\":{\"standoff\":15},\"zerolinecolor\":\"white\",\"zerolinewidth\":2}}},\"xaxis\":{\"anchor\":\"y\",\"domain\":[0.0,1.0],\"title\":{\"text\":\"Ano\"}},\"yaxis\":{\"anchor\":\"x\",\"domain\":[0.0,1.0],\"title\":{\"text\":\"value\"}},\"legend\":{\"title\":{\"text\":\"variable\"},\"tracegroupgap\":0},\"margin\":{\"t\":60},\"barmode\":\"group\"},                        {\"responsive\": true}                    )                };                            </script>        </div>\n",
       "</body>\n",
       "</html>"
      ]
     },
     "metadata": {
      "application/vnd.databricks.v1+output": {
       "addedWidgets": {},
       "arguments": {},
       "data": "<html>\n<head><meta charset=\"utf-8\" /></head>\n<body>\n    <div>            <script src=\"https://cdnjs.cloudflare.com/ajax/libs/mathjax/2.7.5/MathJax.js?config=TeX-AMS-MML_SVG\"></script><script type=\"text/javascript\">if (window.MathJax) {MathJax.Hub.Config({SVG: {font: \"STIX-Web\"}});}</script>                <script type=\"text/javascript\">window.PlotlyConfig = {MathJaxConfig: 'local'};</script>\n        <script src=\"https://cdn.plot.ly/plotly-2.9.0.min.js\"></script>                <div id=\"857c3139-3961-4891-be2d-3d58b8fc8d39\" class=\"plotly-graph-div\" style=\"height:100%; width:100%;\"></div>            <script type=\"text/javascript\">                                    window.PLOTLYENV=window.PLOTLYENV || {};                                    if (document.getElementById(\"857c3139-3961-4891-be2d-3d58b8fc8d39\")) {                    Plotly.newPlot(                        \"857c3139-3961-4891-be2d-3d58b8fc8d39\",                        [{\"alignmentgroup\":\"True\",\"hovertemplate\":\"variable=Bolsas_Integrais<br>Ano=%{x}<br>value=%{y}<extra></extra>\",\"legendgroup\":\"Bolsas_Integrais\",\"marker\":{\"color\":\"#636efa\",\"pattern\":{\"shape\":\"\"}},\"name\":\"Bolsas_Integrais\",\"offsetgroup\":\"Bolsas_Integrais\",\"orientation\":\"v\",\"showlegend\":true,\"textposition\":\"auto\",\"x\":[2021,2020],\"xaxis\":\"x\",\"y\":[146.3,182.9],\"yaxis\":\"y\",\"type\":\"bar\"},{\"alignmentgroup\":\"True\",\"hovertemplate\":\"variable=Bolsas_Parciais<br>Ano=%{x}<br>value=%{y}<extra></extra>\",\"legendgroup\":\"Bolsas_Parciais\",\"marker\":{\"color\":\"#EF553B\",\"pattern\":{\"shape\":\"\"}},\"name\":\"Bolsas_Parciais\",\"offsetgroup\":\"Bolsas_Parciais\",\"orientation\":\"v\",\"showlegend\":true,\"textposition\":\"auto\",\"x\":[2021,2020],\"xaxis\":\"x\",\"y\":[150.0,237.4],\"yaxis\":\"y\",\"type\":\"bar\"}],                        {\"template\":{\"data\":{\"bar\":[{\"error_x\":{\"color\":\"#2a3f5f\"},\"error_y\":{\"color\":\"#2a3f5f\"},\"marker\":{\"line\":{\"color\":\"#E5ECF6\",\"width\":0.5},\"pattern\":{\"fillmode\":\"overlay\",\"size\":10,\"solidity\":0.2}},\"type\":\"bar\"}],\"barpolar\":[{\"marker\":{\"line\":{\"color\":\"#E5ECF6\",\"width\":0.5},\"pattern\":{\"fillmode\":\"overlay\",\"size\":10,\"solidity\":0.2}},\"type\":\"barpolar\"}],\"carpet\":[{\"aaxis\":{\"endlinecolor\":\"#2a3f5f\",\"gridcolor\":\"white\",\"linecolor\":\"white\",\"minorgridcolor\":\"white\",\"startlinecolor\":\"#2a3f5f\"},\"baxis\":{\"endlinecolor\":\"#2a3f5f\",\"gridcolor\":\"white\",\"linecolor\":\"white\",\"minorgridcolor\":\"white\",\"startlinecolor\":\"#2a3f5f\"},\"type\":\"carpet\"}],\"choropleth\":[{\"colorbar\":{\"outlinewidth\":0,\"ticks\":\"\"},\"type\":\"choropleth\"}],\"contour\":[{\"colorbar\":{\"outlinewidth\":0,\"ticks\":\"\"},\"colorscale\":[[0.0,\"#0d0887\"],[0.1111111111111111,\"#46039f\"],[0.2222222222222222,\"#7201a8\"],[0.3333333333333333,\"#9c179e\"],[0.4444444444444444,\"#bd3786\"],[0.5555555555555556,\"#d8576b\"],[0.6666666666666666,\"#ed7953\"],[0.7777777777777778,\"#fb9f3a\"],[0.8888888888888888,\"#fdca26\"],[1.0,\"#f0f921\"]],\"type\":\"contour\"}],\"contourcarpet\":[{\"colorbar\":{\"outlinewidth\":0,\"ticks\":\"\"},\"type\":\"contourcarpet\"}],\"heatmap\":[{\"colorbar\":{\"outlinewidth\":0,\"ticks\":\"\"},\"colorscale\":[[0.0,\"#0d0887\"],[0.1111111111111111,\"#46039f\"],[0.2222222222222222,\"#7201a8\"],[0.3333333333333333,\"#9c179e\"],[0.4444444444444444,\"#bd3786\"],[0.5555555555555556,\"#d8576b\"],[0.6666666666666666,\"#ed7953\"],[0.7777777777777778,\"#fb9f3a\"],[0.8888888888888888,\"#fdca26\"],[1.0,\"#f0f921\"]],\"type\":\"heatmap\"}],\"heatmapgl\":[{\"colorbar\":{\"outlinewidth\":0,\"ticks\":\"\"},\"colorscale\":[[0.0,\"#0d0887\"],[0.1111111111111111,\"#46039f\"],[0.2222222222222222,\"#7201a8\"],[0.3333333333333333,\"#9c179e\"],[0.4444444444444444,\"#bd3786\"],[0.5555555555555556,\"#d8576b\"],[0.6666666666666666,\"#ed7953\"],[0.7777777777777778,\"#fb9f3a\"],[0.8888888888888888,\"#fdca26\"],[1.0,\"#f0f921\"]],\"type\":\"heatmapgl\"}],\"histogram\":[{\"marker\":{\"pattern\":{\"fillmode\":\"overlay\",\"size\":10,\"solidity\":0.2}},\"type\":\"histogram\"}],\"histogram2d\":[{\"colorbar\":{\"outlinewidth\":0,\"ticks\":\"\"},\"colorscale\":[[0.0,\"#0d0887\"],[0.1111111111111111,\"#46039f\"],[0.2222222222222222,\"#7201a8\"],[0.3333333333333333,\"#9c179e\"],[0.4444444444444444,\"#bd3786\"],[0.5555555555555556,\"#d8576b\"],[0.6666666666666666,\"#ed7953\"],[0.7777777777777778,\"#fb9f3a\"],[0.8888888888888888,\"#fdca26\"],[1.0,\"#f0f921\"]],\"type\":\"histogram2d\"}],\"histogram2dcontour\":[{\"colorbar\":{\"outlinewidth\":0,\"ticks\":\"\"},\"colorscale\":[[0.0,\"#0d0887\"],[0.1111111111111111,\"#46039f\"],[0.2222222222222222,\"#7201a8\"],[0.3333333333333333,\"#9c179e\"],[0.4444444444444444,\"#bd3786\"],[0.5555555555555556,\"#d8576b\"],[0.6666666666666666,\"#ed7953\"],[0.7777777777777778,\"#fb9f3a\"],[0.8888888888888888,\"#fdca26\"],[1.0,\"#f0f921\"]],\"type\":\"histogram2dcontour\"}],\"mesh3d\":[{\"colorbar\":{\"outlinewidth\":0,\"ticks\":\"\"},\"type\":\"mesh3d\"}],\"parcoords\":[{\"line\":{\"colorbar\":{\"outlinewidth\":0,\"ticks\":\"\"}},\"type\":\"parcoords\"}],\"pie\":[{\"automargin\":true,\"type\":\"pie\"}],\"scatter\":[{\"marker\":{\"colorbar\":{\"outlinewidth\":0,\"ticks\":\"\"}},\"type\":\"scatter\"}],\"scatter3d\":[{\"line\":{\"colorbar\":{\"outlinewidth\":0,\"ticks\":\"\"}},\"marker\":{\"colorbar\":{\"outlinewidth\":0,\"ticks\":\"\"}},\"type\":\"scatter3d\"}],\"scattercarpet\":[{\"marker\":{\"colorbar\":{\"outlinewidth\":0,\"ticks\":\"\"}},\"type\":\"scattercarpet\"}],\"scattergeo\":[{\"marker\":{\"colorbar\":{\"outlinewidth\":0,\"ticks\":\"\"}},\"type\":\"scattergeo\"}],\"scattergl\":[{\"marker\":{\"colorbar\":{\"outlinewidth\":0,\"ticks\":\"\"}},\"type\":\"scattergl\"}],\"scattermapbox\":[{\"marker\":{\"colorbar\":{\"outlinewidth\":0,\"ticks\":\"\"}},\"type\":\"scattermapbox\"}],\"scatterpolar\":[{\"marker\":{\"colorbar\":{\"outlinewidth\":0,\"ticks\":\"\"}},\"type\":\"scatterpolar\"}],\"scatterpolargl\":[{\"marker\":{\"colorbar\":{\"outlinewidth\":0,\"ticks\":\"\"}},\"type\":\"scatterpolargl\"}],\"scatterternary\":[{\"marker\":{\"colorbar\":{\"outlinewidth\":0,\"ticks\":\"\"}},\"type\":\"scatterternary\"}],\"surface\":[{\"colorbar\":{\"outlinewidth\":0,\"ticks\":\"\"},\"colorscale\":[[0.0,\"#0d0887\"],[0.1111111111111111,\"#46039f\"],[0.2222222222222222,\"#7201a8\"],[0.3333333333333333,\"#9c179e\"],[0.4444444444444444,\"#bd3786\"],[0.5555555555555556,\"#d8576b\"],[0.6666666666666666,\"#ed7953\"],[0.7777777777777778,\"#fb9f3a\"],[0.8888888888888888,\"#fdca26\"],[1.0,\"#f0f921\"]],\"type\":\"surface\"}],\"table\":[{\"cells\":{\"fill\":{\"color\":\"#EBF0F8\"},\"line\":{\"color\":\"white\"}},\"header\":{\"fill\":{\"color\":\"#C8D4E3\"},\"line\":{\"color\":\"white\"}},\"type\":\"table\"}]},\"layout\":{\"annotationdefaults\":{\"arrowcolor\":\"#2a3f5f\",\"arrowhead\":0,\"arrowwidth\":1},\"autotypenumbers\":\"strict\",\"coloraxis\":{\"colorbar\":{\"outlinewidth\":0,\"ticks\":\"\"}},\"colorscale\":{\"diverging\":[[0,\"#8e0152\"],[0.1,\"#c51b7d\"],[0.2,\"#de77ae\"],[0.3,\"#f1b6da\"],[0.4,\"#fde0ef\"],[0.5,\"#f7f7f7\"],[0.6,\"#e6f5d0\"],[0.7,\"#b8e186\"],[0.8,\"#7fbc41\"],[0.9,\"#4d9221\"],[1,\"#276419\"]],\"sequential\":[[0.0,\"#0d0887\"],[0.1111111111111111,\"#46039f\"],[0.2222222222222222,\"#7201a8\"],[0.3333333333333333,\"#9c179e\"],[0.4444444444444444,\"#bd3786\"],[0.5555555555555556,\"#d8576b\"],[0.6666666666666666,\"#ed7953\"],[0.7777777777777778,\"#fb9f3a\"],[0.8888888888888888,\"#fdca26\"],[1.0,\"#f0f921\"]],\"sequentialminus\":[[0.0,\"#0d0887\"],[0.1111111111111111,\"#46039f\"],[0.2222222222222222,\"#7201a8\"],[0.3333333333333333,\"#9c179e\"],[0.4444444444444444,\"#bd3786\"],[0.5555555555555556,\"#d8576b\"],[0.6666666666666666,\"#ed7953\"],[0.7777777777777778,\"#fb9f3a\"],[0.8888888888888888,\"#fdca26\"],[1.0,\"#f0f921\"]]},\"colorway\":[\"#636efa\",\"#EF553B\",\"#00cc96\",\"#ab63fa\",\"#FFA15A\",\"#19d3f3\",\"#FF6692\",\"#B6E880\",\"#FF97FF\",\"#FECB52\"],\"font\":{\"color\":\"#2a3f5f\"},\"geo\":{\"bgcolor\":\"white\",\"lakecolor\":\"white\",\"landcolor\":\"#E5ECF6\",\"showlakes\":true,\"showland\":true,\"subunitcolor\":\"white\"},\"hoverlabel\":{\"align\":\"left\"},\"hovermode\":\"closest\",\"mapbox\":{\"style\":\"light\"},\"paper_bgcolor\":\"white\",\"plot_bgcolor\":\"#E5ECF6\",\"polar\":{\"angularaxis\":{\"gridcolor\":\"white\",\"linecolor\":\"white\",\"ticks\":\"\"},\"bgcolor\":\"#E5ECF6\",\"radialaxis\":{\"gridcolor\":\"white\",\"linecolor\":\"white\",\"ticks\":\"\"}},\"scene\":{\"xaxis\":{\"backgroundcolor\":\"#E5ECF6\",\"gridcolor\":\"white\",\"gridwidth\":2,\"linecolor\":\"white\",\"showbackground\":true,\"ticks\":\"\",\"zerolinecolor\":\"white\"},\"yaxis\":{\"backgroundcolor\":\"#E5ECF6\",\"gridcolor\":\"white\",\"gridwidth\":2,\"linecolor\":\"white\",\"showbackground\":true,\"ticks\":\"\",\"zerolinecolor\":\"white\"},\"zaxis\":{\"backgroundcolor\":\"#E5ECF6\",\"gridcolor\":\"white\",\"gridwidth\":2,\"linecolor\":\"white\",\"showbackground\":true,\"ticks\":\"\",\"zerolinecolor\":\"white\"}},\"shapedefaults\":{\"line\":{\"color\":\"#2a3f5f\"}},\"ternary\":{\"aaxis\":{\"gridcolor\":\"white\",\"linecolor\":\"white\",\"ticks\":\"\"},\"baxis\":{\"gridcolor\":\"white\",\"linecolor\":\"white\",\"ticks\":\"\"},\"bgcolor\":\"#E5ECF6\",\"caxis\":{\"gridcolor\":\"white\",\"linecolor\":\"white\",\"ticks\":\"\"}},\"title\":{\"x\":0.05},\"xaxis\":{\"automargin\":true,\"gridcolor\":\"white\",\"linecolor\":\"white\",\"ticks\":\"\",\"title\":{\"standoff\":15},\"zerolinecolor\":\"white\",\"zerolinewidth\":2},\"yaxis\":{\"automargin\":true,\"gridcolor\":\"white\",\"linecolor\":\"white\",\"ticks\":\"\",\"title\":{\"standoff\":15},\"zerolinecolor\":\"white\",\"zerolinewidth\":2}}},\"xaxis\":{\"anchor\":\"y\",\"domain\":[0.0,1.0],\"title\":{\"text\":\"Ano\"}},\"yaxis\":{\"anchor\":\"x\",\"domain\":[0.0,1.0],\"title\":{\"text\":\"value\"}},\"legend\":{\"title\":{\"text\":\"variable\"},\"tracegroupgap\":0},\"margin\":{\"t\":60},\"barmode\":\"group\"},                        {\"responsive\": true}                    )                };                            </script>        </div>\n</body>\n</html>",
       "datasetInfos": [],
       "metadata": {},
       "removedWidgets": [],
       "textData": null,
       "type": "htmlSandbox"
      }
     },
     "output_type": "display_data"
    }
   ],
   "source": [
    "# gráfico comparativo\n",
    "\n",
    "df_bolsas.plot.bar(x='Ano',y=['Bolsas_Integrais','Bolsas_Parciais'],barmode='group')"
   ]
  },
  {
   "cell_type": "markdown",
   "metadata": {
    "application/vnd.databricks.v1+cell": {
     "cellMetadata": {},
     "inputWidgets": {},
     "nuid": "f4841b32-fe83-4ecd-b0ff-e576ba2154da",
     "showTitle": false,
     "tableResultSettingsMap": {},
     "title": ""
    }
   },
   "source": [
    "# Leitura de html"
   ]
  },
  {
   "cell_type": "markdown",
   "metadata": {
    "application/vnd.databricks.v1+cell": {
     "cellMetadata": {
      "byteLimit": 2048000,
      "rowLimit": 10000
     },
     "inputWidgets": {},
     "nuid": "b964ecd6-b982-45c8-84a7-c4e2c19d3cd4",
     "showTitle": false,
     "tableResultSettingsMap": {},
     "title": ""
    }
   },
   "source": [
    "Quais são as melhores universidades?"
   ]
  },
  {
   "cell_type": "code",
   "execution_count": 0,
   "metadata": {
    "application/vnd.databricks.v1+cell": {
     "cellMetadata": {
      "byteLimit": 2048000,
      "rowLimit": 10000
     },
     "inputWidgets": {},
     "nuid": "917292b6-b051-443a-b25d-7df73b5386d8",
     "showTitle": false,
     "tableResultSettingsMap": {},
     "title": ""
    }
   },
   "outputs": [
    {
     "output_type": "stream",
     "name": "stdout",
     "output_type": "stream",
     "text": [
      "Collecting lxml\r\n  Downloading lxml-5.4.0-cp39-cp39-manylinux_2_28_x86_64.whl (5.1 MB)\r\n\u001B[?25l\r\u001B[K     |                                | 10 kB 20.3 MB/s eta 0:00:01\r\u001B[K     |▏                               | 20 kB 10.7 MB/s eta 0:00:01\r\u001B[K     |▏                               | 30 kB 6.8 MB/s eta 0:00:01\r\u001B[K     |▎                               | 40 kB 4.9 MB/s eta 0:00:02\r\u001B[K     |▎                               | 51 kB 5.8 MB/s eta 0:00:01\r\u001B[K     |▍                               | 61 kB 5.9 MB/s eta 0:00:01\r\u001B[K     |▌                               | 71 kB 5.6 MB/s eta 0:00:01\r\u001B[K     |▌                               | 81 kB 5.0 MB/s eta 0:00:02\r\u001B[K     |▋                               | 92 kB 5.6 MB/s eta 0:00:01\r\u001B[K     |▋                               | 102 kB 5.6 MB/s eta 0:00:01\r\u001B[K     |▊                               | 112 kB 5.6 MB/s eta 0:00:01\r\u001B[K     |▊                               | 122 kB 5.6 MB/s eta 0:00:01\r\u001B[K     |▉                               | 133 kB 5.6 MB/s eta 0:00:01\r\u001B[K     |█                               | 143 kB 5.6 MB/s eta 0:00:01\r\u001B[K     |█                               | 153 kB 5.6 MB/s eta 0:00:01\r\u001B[K     |█                               | 163 kB 5.6 MB/s eta 0:00:01\r\u001B[K     |█                               | 174 kB 5.6 MB/s eta 0:00:01\r\u001B[K     |█▏                              | 184 kB 5.6 MB/s eta 0:00:01\r\u001B[K     |█▏                              | 194 kB 5.6 MB/s eta 0:00:01\r\u001B[K     |█▎                              | 204 kB 5.6 MB/s eta 0:00:01\r\u001B[K     |█▍                              | 215 kB 5.6 MB/s eta 0:00:01\r\u001B[K     |█▍                              | 225 kB 5.6 MB/s eta 0:00:01\r\u001B[K     |█▌                              | 235 kB 5.6 MB/s eta 0:00:01\r\u001B[K     |█▌                              | 245 kB 5.6 MB/s eta 0:00:01\r\u001B[K     |█▋                              | 256 kB 5.6 MB/s eta 0:00:01\r\u001B[K     |█▋                              | 266 kB 5.6 MB/s eta 0:00:01\r\u001B[K     |█▊                              | 276 kB 5.6 MB/s eta 0:00:01\r\u001B[K     |█▉                              | 286 kB 5.6 MB/s eta 0:00:01\r\u001B[K     |█▉                              | 296 kB 5.6 MB/s eta 0:00:01\r\u001B[K     |██                              | 307 kB 5.6 MB/s eta 0:00:01\r\u001B[K     |██                              | 317 kB 5.6 MB/s eta 0:00:01\r\u001B[K     |██                              | 327 kB 5.6 MB/s eta 0:00:01\r\u001B[K     |██                              | 337 kB 5.6 MB/s eta 0:00:01\r\u001B[K     |██▏                             | 348 kB 5.6 MB/s eta 0:00:01\r\u001B[K     |██▎                             | 358 kB 5.6 MB/s eta 0:00:01\r\u001B[K     |██▎                             | 368 kB 5.6 MB/s eta 0:00:01\r\u001B[K     |██▍                             | 378 kB 5.6 MB/s eta 0:00:01\r\u001B[K     |██▍                             | 389 kB 5.6 MB/s eta 0:00:01\r\u001B[K     |██▌                             | 399 kB 5.6 MB/s eta 0:00:01\r\u001B[K     |██▌                             | 409 kB 5.6 MB/s eta 0:00:01\r\u001B[K     |██▋                             | 419 kB 5.6 MB/s eta 0:00:01\r\u001B[K     |██▊                             | 430 kB 5.6 MB/s eta 0:00:01\r\u001B[K     |██▊                             | 440 kB 5.6 MB/s eta 0:00:01\r\u001B[K     |██▉                             | 450 kB 5.6 MB/s eta 0:00:01\r\u001B[K     |██▉                             | 460 kB 5.6 MB/s eta 0:00:01\r\u001B[K     |███                             | 471 kB 5.6 MB/s eta 0:00:01\r\u001B[K     |███                             | 481 kB 5.6 MB/s eta 0:00:01\r\u001B[K     |███                             | 491 kB 5.6 MB/s eta 0:00:01\r\u001B[K     |███▏                            | 501 kB 5.6 MB/s eta 0:00:01\r\u001B[K     |███▏                            | 512 kB 5.6 MB/s eta 0:00:01\r\u001B[K     |███▎                            | 522 kB 5.6 MB/s eta 0:00:01\r\u001B[K     |███▎                            | 532 kB 5.6 MB/s eta 0:00:01\r\u001B[K     |███▍                            | 542 kB 5.6 MB/s eta 0:00:01\r\u001B[K     |███▌                            | 552 kB 5.6 MB/s eta 0:00:01\r\u001B[K     |███▌                            | 563 kB 5.6 MB/s eta 0:00:01\r\u001B[K     |███▋                            | 573 kB 5.6 MB/s eta 0:00:01\r\u001B[K     |███▋                            | 583 kB 5.6 MB/s eta 0:00:01\r\u001B[K     |███▊                            | 593 kB 5.6 MB/s eta 0:00:01\r\u001B[K     |███▊                            | 604 kB 5.6 MB/s eta 0:00:01\r\u001B[K     |███▉                            | 614 kB 5.6 MB/s eta 0:00:01\r\u001B[K     |████                            | 624 kB 5.6 MB/s eta 0:00:01\r\u001B[K     |████                            | 634 kB 5.6 MB/s eta 0:00:01\r\u001B[K     |████                            | 645 kB 5.6 MB/s eta 0:00:01\r\u001B[K     |████                            | 655 kB 5.6 MB/s eta 0:00:01\r\u001B[K     |████▏                           | 665 kB 5.6 MB/s eta 0:00:01\r\u001B[K     |████▏                           | 675 kB 5.6 MB/s eta 0:00:01\r\u001B[K     |████▎                           | 686 kB 5.6 MB/s eta 0:00:01\r\u001B[K     |████▍                           | 696 kB 5.6 MB/s eta 0:00:01\r\u001B[K     |████▍                           | 706 kB 5.6 MB/s eta 0:00:01\r\u001B[K     |████▌                           | 716 kB 5.6 MB/s eta 0:00:01\r\u001B[K     |████▌                           | 727 kB 5.6 MB/s eta 0:00:01\r\u001B[K     |████▋                           | 737 kB 5.6 MB/s eta 0:00:01\r\u001B[K     |████▋                           | 747 kB 5.6 MB/s eta 0:00:01\r\u001B[K     |████▊                           | 757 kB 5.6 MB/s eta 0:00:01\r\u001B[K     |████▉                           | 768 kB 5.6 MB/s eta 0:00:01\r\u001B[K     |████▉                           | 778 kB 5.6 MB/s eta 0:00:01\r\u001B[K     |█████                           | 788 kB 5.6 MB/s eta 0:00:01\r\u001B[K     |█████                           | 798 kB 5.6 MB/s eta 0:00:01\r\u001B[K     |█████                           | 808 kB 5.6 MB/s eta 0:00:01\r\u001B[K     |█████                           | 819 kB 5.6 MB/s eta 0:00:01\r\u001B[K     |█████▏                          | 829 kB 5.6 MB/s eta 0:00:01\r\u001B[K     |█████▎                          | 839 kB 5.6 MB/s eta 0:00:01\r\u001B[K     |█████▎                          | 849 kB 5.6 MB/s eta 0:00:01\r\u001B[K     |█████▍                          | 860 kB 5.6 MB/s eta 0:00:01\r\u001B[K     |█████▍                          | 870 kB 5.6 MB/s eta 0:00:01\r\u001B[K     |█████▌                          | 880 kB 5.6 MB/s eta 0:00:01\r\u001B[K     |█████▌                          | 890 kB 5.6 MB/s eta 0:00:01\r\u001B[K     |█████▋                          | 901 kB 5.6 MB/s eta 0:00:01\r\u001B[K     |█████▊                          | 911 kB 5.6 MB/s eta 0:00:01\r\u001B[K     |█████▊                          | 921 kB 5.6 MB/s eta 0:00:01\r\u001B[K     |█████▉                          | 931 kB 5.6 MB/s eta 0:00:01\r\u001B[K     |█████▉                          | 942 kB 5.6 MB/s eta 0:00:01\r\u001B[K     |██████                          | 952 kB 5.6 MB/s eta 0:00:01\r\u001B[K     |██████                          | 962 kB 5.6 MB/s eta 0:00:01\r\u001B[K     |██████                          | 972 kB 5.6 MB/s eta 0:00:01\r\u001B[K     |██████▏                         | 983 kB 5.6 MB/s eta 0:00:01\r\u001B[K     |██████▏                         | 993 kB 5.6 MB/s eta 0:00:01\r\u001B[K     |██████▎                         | 1.0 MB 5.6 MB/s eta 0:00:01\r\u001B[K     |██████▎                         | 1.0 MB 5.6 MB/s eta 0:00:01\r\u001B[K     |██████▍                         | 1.0 MB 5.6 MB/s eta 0:00:01\r\u001B[K     |██████▌                         | 1.0 MB 5.6 MB/s eta 0:00:01\r\u001B[K     |██████▌                         | 1.0 MB 5.6 MB/s eta 0:00:01\r\u001B[K     |██████▋                         | 1.1 MB 5.6 MB/s eta 0:00:01\r\u001B[K     |██████▋                         | 1.1 MB 5.6 MB/s eta 0:00:01\r\u001B[K     |██████▊                         | 1.1 MB 5.6 MB/s eta 0:00:01\r\u001B[K     |██████▊                         | 1.1 MB 5.6 MB/s eta 0:00:01\r\u001B[K     |██████▉                         | 1.1 MB 5.6 MB/s eta 0:00:01\r\u001B[K     |███████                         | 1.1 MB 5.6 MB/s eta 0:00:01\r\u001B[K     |███████                         | 1.1 MB 5.6 MB/s eta 0:00:01\r\u001B[K     |███████                         | 1.1 MB 5.6 MB/s eta 0:00:01\r\u001B[K     |███████                         | 1.1 MB 5.6 MB/s eta 0:00:01\r\u001B[K     |███████▏                        | 1.1 MB 5.6 MB/s eta 0:00:01\r\u001B[K     |███████▏                        | 1.2 MB 5.6 MB/s eta 0:00:01\r\u001B[K     |███████▎                        | 1.2 MB 5.6 MB/s eta 0:00:01\r\u001B[K     |███████▍                        | 1.2 MB 5.6 MB/s eta 0:00:01\r\u001B[K     |███████▍                        | 1.2 MB 5.6 MB/s eta 0:00:01\r\u001B[K     |███████▌                        | 1.2 MB 5.6 MB/s eta 0:00:01\r\u001B[K     |███████▌                        | 1.2 MB 5.6 MB/s eta 0:00:01\r\u001B[K     |███████▋                        | 1.2 MB 5.6 MB/s eta 0:00:01\r\u001B[K     |███████▋                        | 1.2 MB 5.6 MB/s eta 0:00:01\r\u001B[K     |███████▊                        | 1.2 MB 5.6 MB/s eta 0:00:01\r\u001B[K     |███████▉                        | 1.2 MB 5.6 MB/s eta 0:00:01\r\u001B[K     |███████▉                        | 1.3 MB 5.6 MB/s eta 0:00:01\r\u001B[K     |████████                        | 1.3 MB 5.6 MB/s eta 0:00:01\r\u001B[K     |████████                        | 1.3 MB 5.6 MB/s eta 0:00:01\r\u001B[K     |████████                        | 1.3 MB 5.6 MB/s eta 0:00:01\r\u001B[K     |████████                        | 1.3 MB 5.6 MB/s eta 0:00:01\r\u001B[K     |████████▏                       | 1.3 MB 5.6 MB/s eta 0:00:01\r\u001B[K     |████████▎                       | 1.3 MB 5.6 MB/s eta 0:00:01\r\u001B[K     |████████▎                       | 1.3 MB 5.6 MB/s eta 0:00:01\r\u001B[K     |████████▍                       | 1.3 MB 5.6 MB/s eta 0:00:01\r\u001B[K     |████████▍                       | 1.4 MB 5.6 MB/s eta 0:00:01\r\u001B[K     |████████▌                       | 1.4 MB 5.6 MB/s eta 0:00:01\r\u001B[K     |████████▌                       | 1.4 MB 5.6 MB/s eta 0:00:01\r\u001B[K     |████████▋                       | 1.4 MB 5.6 MB/s eta 0:00:01\r\u001B[K     |████████▊                       | 1.4 MB 5.6 MB/s eta 0:00:01\r\u001B[K     |████████▊                       | 1.4 MB 5.6 MB/s eta 0:00:01\r\u001B[K     |████████▉                       | 1.4 MB 5.6 MB/s eta 0:00:01\r\u001B[K     |████████▉                       | 1.4 MB 5.6 MB/s eta 0:00:01\r\u001B[K     |█████████                       | 1.4 MB 5.6 MB/s eta 0:00:01\r\u001B[K     |█████████                       | 1.4 MB 5.6 MB/s eta 0:00:01\r\u001B[K     |█████████                       | 1.5 MB 5.6 MB/s eta 0:00:01\r\u001B[K     |█████████▏                      | 1.5 MB 5.6 MB/s eta 0:00:01\r\u001B[K     |█████████▏                      | 1.5 MB 5.6 MB/s eta 0:00:01\r\u001B[K     |█████████▎                      | 1.5 MB 5.6 MB/s eta 0:00:01\r\u001B[K     |█████████▎                      | 1.5 MB 5.6 MB/s eta 0:00:01\r\u001B[K     |█████████▍                      | 1.5 MB 5.6 MB/s eta 0:00:01\r\u001B[K     |█████████▌                      | 1.5 MB 5.6 MB/s eta 0:00:01\r\u001B[K     |█████████▌                      | 1.5 MB 5.6 MB/s eta 0:00:01\r\u001B[K     |█████████▋                      | 1.5 MB 5.6 MB/s eta 0:00:01\r\u001B[K     |█████████▋                      | 1.5 MB 5.6 MB/s eta 0:00:01\r\u001B[K     |█████████▊                      | 1.6 MB 5.6 MB/s eta 0:00:01\r\u001B[K     |█████████▊                      | 1.6 MB 5.6 MB/s eta 0:00:01\r\u001B[K     |█████████▉                      | 1.6 MB 5.6 MB/s eta 0:00:01\r\u001B[K     |██████████                      | 1.6 MB 5.6 MB/s eta 0:00:01\r\u001B[K     |██████████                      | 1.6 MB 5.6 MB/s eta 0:00:01\r\u001B[K     |██████████                      | 1.6 MB 5.6 MB/s eta 0:00:01\r\u001B[K     |██████████                      | 1.6 MB 5.6 MB/s eta 0:00:01\r\u001B[K     |██████████▏                     | 1.6 MB 5.6 MB/s eta 0:00:01\r\u001B[K     |██████████▏                     | 1.6 MB 5.6 MB/s eta 0:00:01\r\u001B[K     |██████████▎                     | 1.6 MB 5.6 MB/s eta 0:00:01\r\u001B[K     |██████████▍                     | 1.7 MB 5.6 MB/s eta 0:00:01\r\u001B[K     |██████████▍                     | 1.7 MB 5.6 MB/s eta 0:00:01\r\u001B[K     |██████████▌                     | 1.7 MB 5.6 MB/s eta 0:00:01\r\u001B[K     |██████████▌                     | 1.7 MB 5.6 MB/s eta 0:00:01\r\u001B[K     |██████████▋                     | 1.7 MB 5.6 MB/s eta 0:00:01\r\u001B[K     |██████████▋                     | 1.7 MB 5.6 MB/s eta 0:00:01\r\u001B[K     |██████████▊                     | 1.7 MB 5.6 MB/s eta 0:00:01\r\u001B[K     |██████████▉                     | 1.7 MB 5.6 MB/s eta 0:00:01\r\u001B[K     |██████████▉                     | 1.7 MB 5.6 MB/s eta 0:00:01\r\u001B[K     |███████████                     | 1.8 MB 5.6 MB/s eta 0:00:01\r\u001B[K     |███████████                     | 1.8 MB 5.6 MB/s eta 0:00:01\r\u001B[K     |███████████                     | 1.8 MB 5.6 MB/s eta 0:00:01\r\u001B[K     |███████████                     | 1.8 MB 5.6 MB/s eta 0:00:01\r\u001B[K     |███████████▏                    | 1.8 MB 5.6 MB/s eta 0:00:01\r\u001B[K     |███████████▎                    | 1.8 MB 5.6 MB/s eta 0:00:01\r\u001B[K     |███████████▎                    | 1.8 MB 5.6 MB/s eta 0:00:01\r\u001B[K     |███████████▍                    | 1.8 MB 5.6 MB/s eta 0:00:01\r\u001B[K     |███████████▍                    | 1.8 MB 5.6 MB/s eta 0:00:01\r\u001B[K     |███████████▌                    | 1.8 MB 5.6 MB/s eta 0:00:01\r\u001B[K     |███████████▌                    | 1.9 MB 5.6 MB/s eta 0:00:01\r\u001B[K     |███████████▋                    | 1.9 MB 5.6 MB/s eta 0:00:01\r\u001B[K     |███████████▊                    | 1.9 MB 5.6 MB/s eta 0:00:01\r\u001B[K     |███████████▊                    | 1.9 MB 5.6 MB/s eta 0:00:01\r\u001B[K     |███████████▉                    | 1.9 MB 5.6 MB/s eta 0:00:01\r\u001B[K     |███████████▉                    | 1.9 MB 5.6 MB/s eta 0:00:01\r\u001B[K     |████████████                    | 1.9 MB 5.6 MB/s eta 0:00:01\r\u001B[K     |████████████                    | 1.9 MB 5.6 MB/s eta 0:00:01\r\u001B[K     |████████████                    | 1.9 MB 5.6 MB/s eta 0:00:01\r\u001B[K     |████████████▏                   | 1.9 MB 5.6 MB/s eta 0:00:01\r\u001B[K     |████████████▏                   | 2.0 MB 5.6 MB/s eta 0:00:01\r\u001B[K     |████████████▎                   | 2.0 MB 5.6 MB/s eta 0:00:01\r\u001B[K     |████████████▎                   | 2.0 MB 5.6 MB/s eta 0:00:01\r\u001B[K     |████████████▍                   | 2.0 MB 5.6 MB/s eta 0:00:01\r\u001B[K     |████████████▌                   | 2.0 MB 5.6 MB/s eta 0:00:01\r\u001B[K     |████████████▌                   | 2.0 MB 5.6 MB/s eta 0:00:01\r\u001B[K     |████████████▋                   | 2.0 MB 5.6 MB/s eta 0:00:01\r\u001B[K     |████████████▋                   | 2.0 MB 5.6 MB/s eta 0:00:01\r\u001B[K     |████████████▊                   | 2.0 MB 5.6 MB/s eta 0:00:01\r\u001B[K     |████████████▊                   | 2.0 MB 5.6 MB/s eta 0:00:01\r\u001B[K     |████████████▉                   | 2.1 MB 5.6 MB/s eta 0:00:01\r\u001B[K     |█████████████                   | 2.1 MB 5.6 MB/s eta 0:00:01\r\u001B[K     |█████████████                   | 2.1 MB 5.6 MB/s eta 0:00:01\r\u001B[K     |█████████████                   | 2.1 MB 5.6 MB/s eta 0:00:01\r\u001B[K     |█████████████                   | 2.1 MB 5.6 MB/s eta 0:00:01\r\u001B[K     |█████████████▏                  | 2.1 MB 5.6 MB/s eta 0:00:01\r\u001B[K     |█████████████▏                  | 2.1 MB 5.6 MB/s eta 0:00:01\r\u001B[K     |█████████████▎                  | 2.1 MB 5.6 MB/s eta 0:00:01\r\u001B[K     |█████████████▍                  | 2.1 MB 5.6 MB/s eta 0:00:01\r\u001B[K     |█████████████▍                  | 2.2 MB 5.6 MB/s eta 0:00:01\r\u001B[K     |█████████████▌                  | 2.2 MB 5.6 MB/s eta 0:00:01\r\u001B[K     |█████████████▌                  | 2.2 MB 5.6 MB/s eta 0:00:01\r\u001B[K     |█████████████▋                  | 2.2 MB 5.6 MB/s eta 0:00:01\r\u001B[K     |█████████████▋                  | 2.2 MB 5.6 MB/s eta 0:00:01\r\u001B[K     |█████████████▊                  | 2.2 MB 5.6 MB/s eta 0:00:01\r\u001B[K     |█████████████▉                  | 2.2 MB 5.6 MB/s eta 0:00:01\r\u001B[K     |█████████████▉                  | 2.2 MB 5.6 MB/s eta 0:00:01\r\u001B[K     |██████████████                  | 2.2 MB 5.6 MB/s eta 0:00:01\r\u001B[K     |██████████████                  | 2.2 MB 5.6 MB/s eta 0:00:01\r\u001B[K     |██████████████                  | 2.3 MB 5.6 MB/s eta 0:00:01\r\u001B[K     |██████████████                  | 2.3 MB 5.6 MB/s eta 0:00:01\r\u001B[K     |██████████████▏                 | 2.3 MB 5.6 MB/s eta 0:00:01\r\u001B[K     |██████████████▎                 | 2.3 MB 5.6 MB/s eta 0:00:01\r\u001B[K     |██████████████▎                 | 2.3 MB 5.6 MB/s eta 0:00:01\r\u001B[K     |██████████████▍                 | 2.3 MB 5.6 MB/s eta 0:00:01\r\u001B[K     |██████████████▍                 | 2.3 MB 5.6 MB/s eta 0:00:01\r\u001B[K     |██████████████▌                 | 2.3 MB 5.6 MB/s eta 0:00:01\r\u001B[K     |██████████████▌                 | 2.3 MB 5.6 MB/s eta 0:00:01\r\u001B[K     |██████████████▋                 | 2.3 MB 5.6 MB/s eta 0:00:01\r\u001B[K     |██████████████▊                 | 2.4 MB 5.6 MB/s eta 0:00:01\r\u001B[K     |██████████████▊                 | 2.4 MB 5.6 MB/s eta 0:00:01\r\u001B[K     |██████████████▉                 | 2.4 MB 5.6 MB/s eta 0:00:01\r\u001B[K     |██████████████▉                 | 2.4 MB 5.6 MB/s eta 0:00:01\r\u001B[K     |███████████████                 | 2.4 MB 5.6 MB/s eta 0:00:01\r\u001B[K     |███████████████                 | 2.4 MB 5.6 MB/s eta 0:00:01\r\u001B[K     |███████████████                 | 2.4 MB 5.6 MB/s eta 0:00:01\r\u001B[K     |███████████████▏                | 2.4 MB 5.6 MB/s eta 0:00:01\r\u001B[K     |███████████████▏                | 2.4 MB 5.6 MB/s eta 0:00:01\r\u001B[K     |███████████████▎                | 2.4 MB 5.6 MB/s eta 0:00:01\r\u001B[K     |███████████████▎                | 2.5 MB 5.6 MB/s eta 0:00:01\r\u001B[K     |███████████████▍                | 2.5 MB 5.6 MB/s eta 0:00:01\r\u001B[K     |███████████████▌                | 2.5 MB 5.6 MB/s eta 0:00:01\r\u001B[K     |███████████████▌                | 2.5 MB 5.6 MB/s eta 0:00:01\r\u001B[K     |███████████████▋                | 2.5 MB 5.6 MB/s eta 0:00:01\r\u001B[K     |███████████████▋                | 2.5 MB 5.6 MB/s eta 0:00:01\r\u001B[K     |███████████████▊                | 2.5 MB 5.6 MB/s eta 0:00:01\r\u001B[K     |███████████████▊                | 2.5 MB 5.6 MB/s eta 0:00:01\r\u001B[K     |███████████████▉                | 2.5 MB 5.6 MB/s eta 0:00:01\r\u001B[K     |████████████████                | 2.5 MB 5.6 MB/s eta 0:00:01\r\u001B[K     |████████████████                | 2.6 MB 5.6 MB/s eta 0:00:01\r\u001B[K     |████████████████                | 2.6 MB 5.6 MB/s eta 0:00:01\r\u001B[K     |████████████████                | 2.6 MB 5.6 MB/s eta 0:00:01\r\u001B[K     |████████████████▏               | 2.6 MB 5.6 MB/s eta 0:00:01\r\u001B[K     |████████████████▏               | 2.6 MB 5.6 MB/s eta 0:00:01\r\u001B[K     |████████████████▎               | 2.6 MB 5.6 MB/s eta 0:00:01\r\u001B[K     |████████████████▍               | 2.6 MB 5.6 MB/s eta 0:00:01\r\u001B[K     |████████████████▍               | 2.6 MB 5.6 MB/s eta 0:00:01\r\u001B[K     |████████████████▌               | 2.6 MB 5.6 MB/s eta 0:00:01\r\u001B[K     |████████████████▌               | 2.7 MB 5.6 MB/s eta 0:00:01\r\u001B[K     |████████████████▋               | 2.7 MB 5.6 MB/s eta 0:00:01\r\u001B[K     |████████████████▋               | 2.7 MB 5.6 MB/s eta 0:00:01\r\u001B[K     |████████████████▊               | 2.7 MB 5.6 MB/s eta 0:00:01\r\u001B[K     |████████████████▉               | 2.7 MB 5.6 MB/s eta 0:00:01\r\u001B[K     |████████████████▉               | 2.7 MB 5.6 MB/s eta 0:00:01\r\u001B[K     |█████████████████               | 2.7 MB 5.6 MB/s eta 0:00:01\r\u001B[K     |█████████████████               | 2.7 MB 5.6 MB/s eta 0:00:01\r\u001B[K     |█████████████████               | 2.7 MB 5.6 MB/s eta 0:00:01\r\u001B[K     |█████████████████               | 2.7 MB 5.6 MB/s eta 0:00:01\r\u001B[K     |█████████████████▏              | 2.8 MB 5.6 MB/s eta 0:00:01\r\u001B[K     |█████████████████▎              | 2.8 MB 5.6 MB/s eta 0:00:01\r\u001B[K     |█████████████████▎              | 2.8 MB 5.6 MB/s eta 0:00:01\r\u001B[K     |█████████████████▍              | 2.8 MB 5.6 MB/s eta 0:00:01\r\u001B[K     |█████████████████▍              | 2.8 MB 5.6 MB/s eta 0:00:01\r\u001B[K     |█████████████████▌              | 2.8 MB 5.6 MB/s eta 0:00:01\r\u001B[K     |█████████████████▌              | 2.8 MB 5.6 MB/s eta 0:00:01\r\u001B[K     |█████████████████▋              | 2.8 MB 5.6 MB/s eta 0:00:01\r\u001B[K     |█████████████████▊              | 2.8 MB 5.6 MB/s eta 0:00:01\r\u001B[K     |█████████████████▊              | 2.8 MB 5.6 MB/s eta 0:00:01\r\u001B[K     |█████████████████▉              | 2.9 MB 5.6 MB/s eta 0:00:01\r\u001B[K     |█████████████████▉              | 2.9 MB 5.6 MB/s eta 0:00:01\r\u001B[K     |██████████████████              | 2.9 MB 5.6 MB/s eta 0:00:01\r\u001B[K     |██████████████████              | 2.9 MB 5.6 MB/s eta 0:00:01\r\u001B[K     |██████████████████              | 2.9 MB 5.6 MB/s eta 0:00:01\r\u001B[K     |██████████████████▏             | 2.9 MB 5.6 MB/s eta 0:00:01\r\u001B[K     |██████████████████▏             | 2.9 MB 5.6 MB/s eta 0:00:01\r\u001B[K     |██████████████████▎             | 2.9 MB 5.6 MB/s eta 0:00:01\r\u001B[K     |██████████████████▎             | 2.9 MB 5.6 MB/s eta 0:00:01\r\u001B[K     |██████████████████▍             | 2.9 MB 5.6 MB/s eta 0:00:01\r\u001B[K     |██████████████████▌             | 3.0 MB 5.6 MB/s eta 0:00:01\r\u001B[K     |██████████████████▌             | 3.0 MB 5.6 MB/s eta 0:00:01\r\u001B[K     |██████████████████▋             | 3.0 MB 5.6 MB/s eta 0:00:01\r\u001B[K     |██████████████████▋             | 3.0 MB 5.6 MB/s eta 0:00:01\r\u001B[K     |██████████████████▊             | 3.0 MB 5.6 MB/s eta 0:00:01\r\u001B[K     |██████████████████▊             | 3.0 MB 5.6 MB/s eta 0:00:01\r\u001B[K     |██████████████████▉             | 3.0 MB 5.6 MB/s eta 0:00:01\r\u001B[K     |███████████████████             | 3.0 MB 5.6 MB/s eta 0:00:01\r\u001B[K     |███████████████████             | 3.0 MB 5.6 MB/s eta 0:00:01\r\u001B[K     |███████████████████             | 3.1 MB 5.6 MB/s eta 0:00:01\r\u001B[K     |███████████████████             | 3.1 MB 5.6 MB/s eta 0:00:01\r\u001B[K     |███████████████████▏            | 3.1 MB 5.6 MB/s eta 0:00:01\r\u001B[K     |███████████████████▏            | 3.1 MB 5.6 MB/s eta 0:00:01\r\u001B[K     |███████████████████▎            | 3.1 MB 5.6 MB/s eta 0:00:01\r\u001B[K     |███████████████████▍            | 3.1 MB 5.6 MB/s eta 0:00:01\r\u001B[K     |███████████████████▍            | 3.1 MB 5.6 MB/s eta 0:00:01\r\u001B[K     |███████████████████▌            | 3.1 MB 5.6 MB/s eta 0:00:01\r\u001B[K     |███████████████████▌            | 3.1 MB 5.6 MB/s eta 0:00:01\r\u001B[K     |███████████████████▋            | 3.1 MB 5.6 MB/s eta 0:00:01\r\u001B[K     |███████████████████▋            | 3.2 MB 5.6 MB/s eta 0:00:01\r\u001B[K     |███████████████████▊            | 3.2 MB 5.6 MB/s eta 0:00:01\r\u001B[K     |███████████████████▉            | 3.2 MB 5.6 MB/s eta 0:00:01\r\u001B[K     |███████████████████▉            | 3.2 MB 5.6 MB/s eta 0:00:01\r\u001B[K     |████████████████████            | 3.2 MB 5.6 MB/s eta 0:00:01\r\u001B[K     |████████████████████            | 3.2 MB 5.6 MB/s eta 0:00:01\r\u001B[K     |████████████████████            | 3.2 MB 5.6 MB/s eta 0:00:01\r\u001B[K     |████████████████████            | 3.2 MB 5.6 MB/s eta 0:00:01\r\u001B[K     |████████████████████▏           | 3.2 MB 5.6 MB/s eta 0:00:01\r\u001B[K     |████████████████████▎           | 3.2 MB 5.6 MB/s eta 0:00:01\r\u001B[K     |████████████████████▎           | 3.3 MB 5.6 MB/s eta 0:00:01\r\u001B[K     |████████████████████▍           | 3.3 MB 5.6 MB/s eta 0:00:01\r\u001B[K     |████████████████████▍           | 3.3 MB 5.6 MB/s eta 0:00:01\r\u001B[K     |████████████████████▌           | 3.3 MB 5.6 MB/s eta 0:00:01\r\u001B[K     |████████████████████▌           | 3.3 MB 5.6 MB/s eta 0:00:01\r\u001B[K     |████████████████████▋           | 3.3 MB 5.6 MB/s eta 0:00:01\r\u001B[K     |████████████████████▊           | 3.3 MB 5.6 MB/s eta 0:00:01\r\u001B[K     |████████████████████▊           | 3.3 MB 5.6 MB/s eta 0:00:01\r\u001B[K     |████████████████████▉           | 3.3 MB 5.6 MB/s eta 0:00:01\r\u001B[K     |████████████████████▉           | 3.3 MB 5.6 MB/s eta 0:00:01\r\u001B[K     |█████████████████████           | 3.4 MB 5.6 MB/s eta 0:00:01\r\u001B[K     |█████████████████████           | 3.4 MB 5.6 MB/s eta 0:00:01\r\u001B[K     |█████████████████████           | 3.4 MB 5.6 MB/s eta 0:00:01\r\u001B[K     |█████████████████████▏          | 3.4 MB 5.6 MB/s eta 0:00:01\r\u001B[K     |█████████████████████▏          | 3.4 MB 5.6 MB/s eta 0:00:01\r\u001B[K     |█████████████████████▎          | 3.4 MB 5.6 MB/s eta 0:00:01\r\u001B[K     |█████████████████████▎          | 3.4 MB 5.6 MB/s eta 0:00:01\r\u001B[K     |█████████████████████▍          | 3.4 MB 5.6 MB/s eta 0:00:01\r\u001B[K     |█████████████████████▍          | 3.4 MB 5.6 MB/s eta 0:00:01\r\u001B[K     |█████████████████████▌          | 3.5 MB 5.6 MB/s eta 0:00:01\r\u001B[K     |█████████████████████▋          | 3.5 MB 5.6 MB/s eta 0:00:01\r\u001B[K     |█████████████████████▋          | 3.5 MB 5.6 MB/s eta 0:00:01\r\u001B[K     |█████████████████████▊          | 3.5 MB 5.6 MB/s eta 0:00:01\r\u001B[K     |█████████████████████▊          | 3.5 MB 5.6 MB/s eta 0:00:01\r\u001B[K     |█████████████████████▉          | 3.5 MB 5.6 MB/s eta 0:00:01\r\u001B[K     |██████████████████████          | 3.5 MB 5.6 MB/s eta 0:00:01\r\u001B[K     |██████████████████████          | 3.5 MB 5.6 MB/s eta 0:00:01\r\u001B[K     |██████████████████████          | 3.5 MB 5.6 MB/s eta 0:00:01\r\u001B[K     |██████████████████████          | 3.5 MB 5.6 MB/s eta 0:00:01\r\u001B[K     |██████████████████████▏         | 3.6 MB 5.6 MB/s eta 0:00:01\r\u001B[K     |██████████████████████▏         | 3.6 MB 5.6 MB/s eta 0:00:01\r\u001B[K     |██████████████████████▎         | 3.6 MB 5.6 MB/s eta 0:00:01\r\u001B[K     |██████████████████████▍         | 3.6 MB 5.6 MB/s eta 0:00:01\r\u001B[K     |██████████████████████▍         | 3.6 MB 5.6 MB/s eta 0:00:01\r\u001B[K     |██████████████████████▌         | 3.6 MB 5.6 MB/s eta 0:00:01\r\u001B[K     |██████████████████████▌         | 3.6 MB 5.6 MB/s eta 0:00:01\r\u001B[K     |██████████████████████▋         | 3.6 MB 5.6 MB/s eta 0:00:01\r\u001B[K     |██████████████████████▋         | 3.6 MB 5.6 MB/s eta 0:00:01\r\u001B[K     |██████████████████████▊         | 3.6 MB 5.6 MB/s eta 0:00:01\r\u001B[K     |██████████████████████▉         | 3.7 MB 5.6 MB/s eta 0:00:01\r\u001B[K     |██████████████████████▉         | 3.7 MB 5.6 MB/s eta 0:00:01\r\u001B[K     |███████████████████████         | 3.7 MB 5.6 MB/s eta 0:00:01\r\u001B[K     |███████████████████████         | 3.7 MB 5.6 MB/s eta 0:00:01\r\u001B[K     |███████████████████████         | 3.7 MB 5.6 MB/s eta 0:00:01\r\u001B[K     |███████████████████████         | 3.7 MB 5.6 MB/s eta 0:00:01\r\u001B[K     |███████████████████████▏        | 3.7 MB 5.6 MB/s eta 0:00:01\r\u001B[K     |███████████████████████▎        | 3.7 MB 5.6 MB/s eta 0:00:01\r\u001B[K     |███████████████████████▎        | 3.7 MB 5.6 MB/s eta 0:00:01\r\u001B[K     |███████████████████████▍        | 3.7 MB 5.6 MB/s eta 0:00:01\r\u001B[K     |███████████████████████▍        | 3.8 MB 5.6 MB/s eta 0:00:01\r\u001B[K     |███████████████████████▌        | 3.8 MB 5.6 MB/s eta 0:00:01\r\u001B[K     |███████████████████████▌        | 3.8 MB 5.6 MB/s eta 0:00:01\r\u001B[K     |███████████████████████▋        | 3.8 MB 5.6 MB/s eta 0:00:01\r\u001B[K     |███████████████████████▊        | 3.8 MB 5.6 MB/s eta 0:00:01\r\u001B[K     |███████████████████████▊        | 3.8 MB 5.6 MB/s eta 0:00:01\r\u001B[K     |███████████████████████▉        | 3.8 MB 5.6 MB/s eta 0:00:01\r\u001B[K     |███████████████████████▉        | 3.8 MB 5.6 MB/s eta 0:00:01\r\u001B[K     |████████████████████████        | 3.8 MB 5.6 MB/s eta 0:00:01\r\u001B[K     |████████████████████████        | 3.9 MB 5.6 MB/s eta 0:00:01\r\u001B[K     |████████████████████████        | 3.9 MB 5.6 MB/s eta 0:00:01\r\u001B[K     |████████████████████████▏       | 3.9 MB 5.6 MB/s eta 0:00:01\r\u001B[K     |████████████████████████▏       | 3.9 MB 5.6 MB/s eta 0:00:01\r\u001B[K     |████████████████████████▎       | 3.9 MB 5.6 MB/s eta 0:00:01\r\u001B[K     |████████████████████████▎       | 3.9 MB 5.6 MB/s eta 0:00:01\r\u001B[K     |████████████████████████▍       | 3.9 MB 5.6 MB/s eta 0:00:01\r\u001B[K     |████████████████████████▍       | 3.9 MB 5.6 MB/s eta 0:00:01\r\u001B[K     |████████████████████████▌       | 3.9 MB 5.6 MB/s eta 0:00:01\r\u001B[K     |████████████████████████▋       | 3.9 MB 5.6 MB/s eta 0:00:01\r\u001B[K     |████████████████████████▋       | 4.0 MB 5.6 MB/s eta 0:00:01\r\u001B[K     |████████████████████████▊       | 4.0 MB 5.6 MB/s eta 0:00:01\r\u001B[K     |████████████████████████▊       | 4.0 MB 5.6 MB/s eta 0:00:01\r\u001B[K     |████████████████████████▉       | 4.0 MB 5.6 MB/s eta 0:00:01\r\u001B[K     |█████████████████████████       | 4.0 MB 5.6 MB/s eta 0:00:01\r\u001B[K     |█████████████████████████       | 4.0 MB 5.6 MB/s eta 0:00:01\r\u001B[K     |█████████████████████████       | 4.0 MB 5.6 MB/s eta 0:00:01\r\u001B[K     |█████████████████████████       | 4.0 MB 5.6 MB/s eta 0:00:01\r\u001B[K     |█████████████████████████▏      | 4.0 MB 5.6 MB/s eta 0:00:01\r\u001B[K     |█████████████████████████▏      | 4.0 MB 5.6 MB/s eta 0:00:01\r\u001B[K     |█████████████████████████▎      | 4.1 MB 5.6 MB/s eta 0:00:01\r\u001B[K     |█████████████████████████▍      | 4.1 MB 5.6 MB/s eta 0:00:01\r\u001B[K     |█████████████████████████▍      | 4.1 MB 5.6 MB/s eta 0:00:01\r\u001B[K     |█████████████████████████▌      | 4.1 MB 5.6 MB/s eta 0:00:01\r\u001B[K     |█████████████████████████▌      | 4.1 MB 5.6 MB/s eta 0:00:01\r\u001B[K     |█████████████████████████▋      | 4.1 MB 5.6 MB/s eta 0:00:01\r\u001B[K     |█████████████████████████▋      | 4.1 MB 5.6 MB/s eta 0:00:01\r\u001B[K     |█████████████████████████▊      | 4.1 MB 5.6 MB/s eta 0:00:01\r\u001B[K     |█████████████████████████▉      | 4.1 MB 5.6 MB/s eta 0:00:01\r\u001B[K     |█████████████████████████▉      | 4.1 MB 5.6 MB/s eta 0:00:01\r\u001B[K     |██████████████████████████      | 4.2 MB 5.6 MB/s eta 0:00:01\r\u001B[K     |██████████████████████████      | 4.2 MB 5.6 MB/s eta 0:00:01\r\u001B[K     |██████████████████████████      | 4.2 MB 5.6 MB/s eta 0:00:01\r\u001B[K     |██████████████████████████      | 4.2 MB 5.6 MB/s eta 0:00:01\r\u001B[K     |██████████████████████████▏     | 4.2 MB 5.6 MB/s eta 0:00:01\r\u001B[K     |██████████████████████████▎     | 4.2 MB 5.6 MB/s eta 0:00:01\r\u001B[K     |██████████████████████████▎     | 4.2 MB 5.6 MB/s eta 0:00:01\r\u001B[K     |██████████████████████████▍     | 4.2 MB 5.6 MB/s eta 0:00:01\r\u001B[K     |██████████████████████████▍     | 4.2 MB 5.6 MB/s eta 0:00:01\r\u001B[K     |██████████████████████████▌     | 4.2 MB 5.6 MB/s eta 0:00:01\r\u001B[K     |██████████████████████████▌     | 4.3 MB 5.6 MB/s eta 0:00:01\r\u001B[K     |██████████████████████████▋     | 4.3 MB 5.6 MB/s eta 0:00:01\r\u001B[K     |██████████████████████████▊     | 4.3 MB 5.6 MB/s eta 0:00:01\r\u001B[K     |██████████████████████████▊     | 4.3 MB 5.6 MB/s eta 0:00:01\r\u001B[K     |██████████████████████████▉     | 4.3 MB 5.6 MB/s eta 0:00:01\r\u001B[K     |██████████████████████████▉     | 4.3 MB 5.6 MB/s eta 0:00:01\r\u001B[K     |███████████████████████████     | 4.3 MB 5.6 MB/s eta 0:00:01\r\u001B[K     |███████████████████████████     | 4.3 MB 5.6 MB/s eta 0:00:01\r\u001B[K     |███████████████████████████     | 4.3 MB 5.6 MB/s eta 0:00:01\r\u001B[K     |███████████████████████████▏    | 4.4 MB 5.6 MB/s eta 0:00:01\r\u001B[K     |███████████████████████████▏    | 4.4 MB 5.6 MB/s eta 0:00:01\r\u001B[K     |███████████████████████████▎    | 4.4 MB 5.6 MB/s eta 0:00:01\r\u001B[K     |███████████████████████████▎    | 4.4 MB 5.6 MB/s eta 0:00:01\r\u001B[K     |███████████████████████████▍    | 4.4 MB 5.6 MB/s eta 0:00:01\r\u001B[K     |███████████████████████████▍    | 4.4 MB 5.6 MB/s eta 0:00:01\r\u001B[K     |███████████████████████████▌    | 4.4 MB 5.6 MB/s eta 0:00:01\r\u001B[K     |███████████████████████████▋    | 4.4 MB 5.6 MB/s eta 0:00:01\r\u001B[K     |███████████████████████████▋    | 4.4 MB 5.6 MB/s eta 0:00:01\r\u001B[K     |███████████████████████████▊    | 4.4 MB 5.6 MB/s eta 0:00:01\r\u001B[K     |███████████████████████████▊    | 4.5 MB 5.6 MB/s eta 0:00:01\r\u001B[K     |███████████████████████████▉    | 4.5 MB 5.6 MB/s eta 0:00:01\r\u001B[K     |████████████████████████████    | 4.5 MB 5.6 MB/s eta 0:00:01\r\u001B[K     |████████████████████████████    | 4.5 MB 5.6 MB/s eta 0:00:01\r\u001B[K     |████████████████████████████    | 4.5 MB 5.6 MB/s eta 0:00:01\r\u001B[K     |████████████████████████████    | 4.5 MB 5.6 MB/s eta 0:00:01\r\u001B[K     |████████████████████████████▏   | 4.5 MB 5.6 MB/s eta 0:00:01\r\u001B[K     |████████████████████████████▏   | 4.5 MB 5.6 MB/s eta 0:00:01\r\u001B[K     |████████████████████████████▎   | 4.5 MB 5.6 MB/s eta 0:00:01\r\u001B[K     |████████████████████████████▍   | 4.5 MB 5.6 MB/s eta 0:00:01\r\u001B[K     |████████████████████████████▍   | 4.6 MB 5.6 MB/s eta 0:00:01\r\u001B[K     |████████████████████████████▌   | 4.6 MB 5.6 MB/s eta 0:00:01\r\u001B[K     |████████████████████████████▌   | 4.6 MB 5.6 MB/s eta 0:00:01\r\u001B[K     |████████████████████████████▋   | 4.6 MB 5.6 MB/s eta 0:00:01\r\u001B[K     |████████████████████████████▋   | 4.6 MB 5.6 MB/s eta 0:00:01\r\u001B[K     |████████████████████████████▊   | 4.6 MB 5.6 MB/s eta 0:00:01\r\u001B[K     |████████████████████████████▉   | 4.6 MB 5.6 MB/s eta 0:00:01\r\u001B[K     |████████████████████████████▉   | 4.6 MB 5.6 MB/s eta 0:00:01\r\u001B[K     |█████████████████████████████   | 4.6 MB 5.6 MB/s eta 0:00:01\r\u001B[K     |█████████████████████████████   | 4.6 MB 5.6 MB/s eta 0:00:01\r\u001B[K     |█████████████████████████████   | 4.7 MB 5.6 MB/s eta 0:00:01\r\u001B[K     |█████████████████████████████   | 4.7 MB 5.6 MB/s eta 0:00:01\r\u001B[K     |█████████████████████████████▏  | 4.7 MB 5.6 MB/s eta 0:00:01\r\u001B[K     |█████████████████████████████▎  | 4.7 MB 5.6 MB/s eta 0:00:01\r\u001B[K     |█████████████████████████████▎  | 4.7 MB 5.6 MB/s eta 0:00:01\r\u001B[K     |█████████████████████████████▍  | 4.7 MB 5.6 MB/s eta 0:00:01\r\u001B[K     |█████████████████████████████▍  | 4.7 MB 5.6 MB/s eta 0:00:01\r\u001B[K     |█████████████████████████████▌  | 4.7 MB 5.6 MB/s eta 0:00:01\r\u001B[K     |█████████████████████████████▌  | 4.7 MB 5.6 MB/s eta 0:00:01\r\u001B[K     |█████████████████████████████▋  | 4.8 MB 5.6 MB/s eta 0:00:01\r\u001B[K     |█████████████████████████████▊  | 4.8 MB 5.6 MB/s eta 0:00:01\r\u001B[K     |█████████████████████████████▊  | 4.8 MB 5.6 MB/s eta 0:00:01\r\u001B[K     |█████████████████████████████▉  | 4.8 MB 5.6 MB/s eta 0:00:01\r\u001B[K     |█████████████████████████████▉  | 4.8 MB 5.6 MB/s eta 0:00:01\r\u001B[K     |██████████████████████████████  | 4.8 MB 5.6 MB/s eta 0:00:01\r\u001B[K     |██████████████████████████████  | 4.8 MB 5.6 MB/s eta 0:00:01\r\u001B[K     |██████████████████████████████  | 4.8 MB 5.6 MB/s eta 0:00:01\r\u001B[K     |██████████████████████████████▏ | 4.8 MB 5.6 MB/s eta 0:00:01\r\u001B[K     |██████████████████████████████▏ | 4.8 MB 5.6 MB/s eta 0:00:01\r\u001B[K     |██████████████████████████████▎ | 4.9 MB 5.6 MB/s eta 0:00:01\r\u001B[K     |██████████████████████████████▎ | 4.9 MB 5.6 MB/s eta 0:00:01\r\u001B[K     |██████████████████████████████▍ | 4.9 MB 5.6 MB/s eta 0:00:01\r\u001B[K     |██████████████████████████████▍ | 4.9 MB 5.6 MB/s eta 0:00:01\r\u001B[K     |██████████████████████████████▌ | 4.9 MB 5.6 MB/s eta 0:00:01\r\u001B[K     |██████████████████████████████▋ | 4.9 MB 5.6 MB/s eta 0:00:01\r\u001B[K     |██████████████████████████████▋ | 4.9 MB 5.6 MB/s eta 0:00:01\r\u001B[K     |██████████████████████████████▊ | 4.9 MB 5.6 MB/s eta 0:00:01\r\u001B[K     |██████████████████████████████▊ | 4.9 MB 5.6 MB/s eta 0:00:01\r\u001B[K     |██████████████████████████████▉ | 4.9 MB 5.6 MB/s eta 0:00:01\r\u001B[K     |███████████████████████████████ | 5.0 MB 5.6 MB/s eta 0:00:01\r\u001B[K     |███████████████████████████████ | 5.0 MB 5.6 MB/s eta 0:00:01\r\u001B[K     |███████████████████████████████ | 5.0 MB 5.6 MB/s eta 0:00:01\r\u001B[K     |███████████████████████████████ | 5.0 MB 5.6 MB/s eta 0:00:01\r\u001B[K     |███████████████████████████████▏| 5.0 MB 5.6 MB/s eta 0:00:01\r\u001B[K     |███████████████████████████████▏| 5.0 MB 5.6 MB/s eta 0:00:01\r\u001B[K     |███████████████████████████████▎| 5.0 MB 5.6 MB/s eta 0:00:01\r\u001B[K     |███████████████████████████████▍| 5.0 MB 5.6 MB/s eta 0:00:01\r\u001B[K     |███████████████████████████████▍| 5.0 MB 5.6 MB/s eta 0:00:01\r\u001B[K     |███████████████████████████████▌| 5.0 MB 5.6 MB/s eta 0:00:01\r\u001B[K     |███████████████████████████████▌| 5.1 MB 5.6 MB/s eta 0:00:01\r\u001B[K     |███████████████████████████████▋| 5.1 MB 5.6 MB/s eta 0:00:01\r\u001B[K     |███████████████████████████████▋| 5.1 MB 5.6 MB/s eta 0:00:01\r\u001B[K     |███████████████████████████████▊| 5.1 MB 5.6 MB/s eta 0:00:01\r\u001B[K     |███████████████████████████████▉| 5.1 MB 5.6 MB/s eta 0:00:01\r\u001B[K     |███████████████████████████████▉| 5.1 MB 5.6 MB/s eta 0:00:01\r\u001B[K     |████████████████████████████████| 5.1 MB 5.6 MB/s eta 0:00:01\r\u001B[K     |████████████████████████████████| 5.1 MB 5.6 MB/s eta 0:00:01\r\u001B[K     |████████████████████████████████| 5.1 MB 5.6 MB/s \r\n\u001B[?25hInstalling collected packages: lxml\r\nSuccessfully installed lxml-5.4.0\r\n\u001B[33mWARNING: You are using pip version 21.2.4; however, version 25.1.1 is available.\r\nYou should consider upgrading via the '/local_disk0/.ephemeral_nfs/envs/pythonEnv-820a28ad-11c6-4662-af49-fd78ad821f93/bin/python -m pip install --upgrade pip' command.\u001B[0m\r\n"
     ]
    }
   ],
   "source": [
    "# instalar a biblioteca\n",
    "\n",
    "!pip install lxml"
   ]
  },
  {
   "cell_type": "code",
   "execution_count": 0,
   "metadata": {
    "application/vnd.databricks.v1+cell": {
     "cellMetadata": {
      "byteLimit": 2048000,
      "rowLimit": 10000
     },
     "inputWidgets": {},
     "nuid": "4aecfa00-5458-49c4-99df-7dd817778b5d",
     "showTitle": false,
     "tableResultSettingsMap": {},
     "title": ""
    }
   },
   "outputs": [],
   "source": [
    "# link com ranking\n",
    "\n",
    "url = 'https://pt.wikipedia.org/wiki/Ensino_superior_no_Brasil'"
   ]
  },
  {
   "cell_type": "code",
   "execution_count": 0,
   "metadata": {
    "application/vnd.databricks.v1+cell": {
     "cellMetadata": {
      "byteLimit": 2048000,
      "rowLimit": 10000
     },
     "inputWidgets": {},
     "nuid": "63ccaa89-b441-4d72-9946-259806838a56",
     "showTitle": false,
     "tableResultSettingsMap": {},
     "title": ""
    }
   },
   "outputs": [],
   "source": [
    "# atribuir a leitura a uma variável\n",
    "\n",
    "lista = ps.read_html(url)"
   ]
  },
  {
   "cell_type": "code",
   "execution_count": 0,
   "metadata": {
    "application/vnd.databricks.v1+cell": {
     "cellMetadata": {
      "byteLimit": 2048000,
      "rowLimit": 10000
     },
     "inputWidgets": {},
     "nuid": "3785af76-806b-4456-80e6-d34423525cc2",
     "showTitle": false,
     "tableResultSettingsMap": {},
     "title": ""
    }
   },
   "outputs": [
    {
     "output_type": "stream",
     "name": "stdout",
     "output_type": "stream",
     "text": [
      "Out[65]: 5"
     ]
    }
   ],
   "source": [
    "len(lista)"
   ]
  },
  {
   "cell_type": "markdown",
   "metadata": {
    "application/vnd.databricks.v1+cell": {
     "cellMetadata": {},
     "inputWidgets": {},
     "nuid": "ea3c3b32-c7a9-41c6-92bd-7695e2435699",
     "showTitle": false,
     "tableResultSettingsMap": {},
     "title": ""
    }
   },
   "source": [
    "Identificou 5 Dataframes no link"
   ]
  },
  {
   "cell_type": "code",
   "execution_count": 0,
   "metadata": {
    "application/vnd.databricks.v1+cell": {
     "cellMetadata": {
      "byteLimit": 2048000,
      "rowLimit": 10000
     },
     "inputWidgets": {},
     "nuid": "36eefe2d-636e-408a-89de-cfbd739766d8",
     "showTitle": false,
     "tableResultSettingsMap": {},
     "title": ""
    }
   },
   "outputs": [
    {
     "output_type": "display_data",
     "data": {
      "text/html": [
       "<div>\n",
       "<style scoped>\n",
       "    .dataframe tbody tr th:only-of-type {\n",
       "        vertical-align: middle;\n",
       "    }\n",
       "\n",
       "    .dataframe tbody tr th {\n",
       "        vertical-align: top;\n",
       "    }\n",
       "\n",
       "    .dataframe thead th {\n",
       "        text-align: right;\n",
       "    }\n",
       "</style>\n",
       "<table border=\"1\" class=\"dataframe\">\n",
       "  <thead>\n",
       "    <tr style=\"text-align: right;\">\n",
       "      <th></th>\n",
       "      <th>Classificação Nacional</th>\n",
       "      <th>Classificação Mundial</th>\n",
       "      <th>Universidade</th>\n",
       "      <th>Logo</th>\n",
       "      <th>sigla</th>\n",
       "      <th>tipo</th>\n",
       "      <th>web</th>\n",
       "      <th>Localização</th>\n",
       "    </tr>\n",
       "  </thead>\n",
       "  <tbody>\n",
       "    <tr>\n",
       "      <th>0</th>\n",
       "      <td>1</td>\n",
       "      <td>72</td>\n",
       "      <td>Universidade de São Paulo</td>\n",
       "      <td>NaN</td>\n",
       "      <td>USP</td>\n",
       "      <td>Pública Estadual</td>\n",
       "      <td>www5.usp.br/</td>\n",
       "      <td>São Paulo</td>\n",
       "    </tr>\n",
       "    <tr>\n",
       "      <th>1</th>\n",
       "      <td>2</td>\n",
       "      <td>236</td>\n",
       "      <td>Universidade Estadual de Campinas</td>\n",
       "      <td>NaN</td>\n",
       "      <td>UNICAMP</td>\n",
       "      <td>Pública Estadual</td>\n",
       "      <td>www.unicamp.br/</td>\n",
       "      <td>São Paulo</td>\n",
       "    </tr>\n",
       "    <tr>\n",
       "      <th>2</th>\n",
       "      <td>3</td>\n",
       "      <td>278</td>\n",
       "      <td>Universidade Federal do Rio de Janeiro</td>\n",
       "      <td>NaN</td>\n",
       "      <td>UFRJ</td>\n",
       "      <td>Pública federal</td>\n",
       "      <td>ufrj.br/</td>\n",
       "      <td>Rio de Janeiro</td>\n",
       "    </tr>\n",
       "    <tr>\n",
       "      <th>3</th>\n",
       "      <td>4</td>\n",
       "      <td>298</td>\n",
       "      <td>Universidade Federal de Minas Gerais</td>\n",
       "      <td>NaN</td>\n",
       "      <td>UFMG</td>\n",
       "      <td>Pública federal</td>\n",
       "      <td>ucb.edu.bo</td>\n",
       "      <td>Minas Gerais</td>\n",
       "    </tr>\n",
       "    <tr>\n",
       "      <th>4</th>\n",
       "      <td>5</td>\n",
       "      <td>345</td>\n",
       "      <td>Universidade Estadual Paulista</td>\n",
       "      <td>NaN</td>\n",
       "      <td>UNESP</td>\n",
       "      <td>Pública Estadual</td>\n",
       "      <td>www.unesp.br</td>\n",
       "      <td>São Paulo</td>\n",
       "    </tr>\n",
       "    <tr>\n",
       "      <th>5</th>\n",
       "      <td>6</td>\n",
       "      <td>427</td>\n",
       "      <td>Universidade Federal de Santa Catarina</td>\n",
       "      <td>NaN</td>\n",
       "      <td>UFSC</td>\n",
       "      <td>Pública federal</td>\n",
       "      <td>ufsc.br/</td>\n",
       "      <td>Santa Catarina</td>\n",
       "    </tr>\n",
       "    <tr>\n",
       "      <th>6</th>\n",
       "      <td>7</td>\n",
       "      <td>592</td>\n",
       "      <td>Universidade de Brasília</td>\n",
       "      <td>NaN</td>\n",
       "      <td>UNB</td>\n",
       "      <td>Pública Estadual</td>\n",
       "      <td>www.unb.br/</td>\n",
       "      <td>Distrito Federal</td>\n",
       "    </tr>\n",
       "    <tr>\n",
       "      <th>7</th>\n",
       "      <td>8</td>\n",
       "      <td>593</td>\n",
       "      <td>Universidade Federal do Paraná</td>\n",
       "      <td>NaN</td>\n",
       "      <td>UFPR</td>\n",
       "      <td>Pública federal</td>\n",
       "      <td>www.ufpr.br/</td>\n",
       "      <td>Paraná</td>\n",
       "    </tr>\n",
       "    <tr>\n",
       "      <th>8</th>\n",
       "      <td>9</td>\n",
       "      <td>596</td>\n",
       "      <td>Universidade Federal Fluminense</td>\n",
       "      <td>NaN</td>\n",
       "      <td>UFF</td>\n",
       "      <td>Pública federal</td>\n",
       "      <td>www.uff.br/</td>\n",
       "      <td>Rio de Janeiro</td>\n",
       "    </tr>\n",
       "    <tr>\n",
       "      <th>9</th>\n",
       "      <td>10</td>\n",
       "      <td>667</td>\n",
       "      <td>Universidade Federal de São Carlos</td>\n",
       "      <td>NaN</td>\n",
       "      <td>UFSCAR</td>\n",
       "      <td>Pública federal</td>\n",
       "      <td>www.ufscar.br/</td>\n",
       "      <td>São Paulo</td>\n",
       "    </tr>\n",
       "  </tbody>\n",
       "</table>\n",
       "</div>"
      ]
     },
     "metadata": {
      "application/vnd.databricks.v1+output": {
       "addedWidgets": {},
       "arguments": {},
       "data": "<div>\n<style scoped>\n    .dataframe tbody tr th:only-of-type {\n        vertical-align: middle;\n    }\n\n    .dataframe tbody tr th {\n        vertical-align: top;\n    }\n\n    .dataframe thead th {\n        text-align: right;\n    }\n</style>\n<table border=\"1\" class=\"dataframe\">\n  <thead>\n    <tr style=\"text-align: right;\">\n      <th></th>\n      <th>Classificação Nacional</th>\n      <th>Classificação Mundial</th>\n      <th>Universidade</th>\n      <th>Logo</th>\n      <th>sigla</th>\n      <th>tipo</th>\n      <th>web</th>\n      <th>Localização</th>\n    </tr>\n  </thead>\n  <tbody>\n    <tr>\n      <th>0</th>\n      <td>1</td>\n      <td>72</td>\n      <td>Universidade de São Paulo</td>\n      <td>NaN</td>\n      <td>USP</td>\n      <td>Pública Estadual</td>\n      <td>www5.usp.br/</td>\n      <td>São Paulo</td>\n    </tr>\n    <tr>\n      <th>1</th>\n      <td>2</td>\n      <td>236</td>\n      <td>Universidade Estadual de Campinas</td>\n      <td>NaN</td>\n      <td>UNICAMP</td>\n      <td>Pública Estadual</td>\n      <td>www.unicamp.br/</td>\n      <td>São Paulo</td>\n    </tr>\n    <tr>\n      <th>2</th>\n      <td>3</td>\n      <td>278</td>\n      <td>Universidade Federal do Rio de Janeiro</td>\n      <td>NaN</td>\n      <td>UFRJ</td>\n      <td>Pública federal</td>\n      <td>ufrj.br/</td>\n      <td>Rio de Janeiro</td>\n    </tr>\n    <tr>\n      <th>3</th>\n      <td>4</td>\n      <td>298</td>\n      <td>Universidade Federal de Minas Gerais</td>\n      <td>NaN</td>\n      <td>UFMG</td>\n      <td>Pública federal</td>\n      <td>ucb.edu.bo</td>\n      <td>Minas Gerais</td>\n    </tr>\n    <tr>\n      <th>4</th>\n      <td>5</td>\n      <td>345</td>\n      <td>Universidade Estadual Paulista</td>\n      <td>NaN</td>\n      <td>UNESP</td>\n      <td>Pública Estadual</td>\n      <td>www.unesp.br</td>\n      <td>São Paulo</td>\n    </tr>\n    <tr>\n      <th>5</th>\n      <td>6</td>\n      <td>427</td>\n      <td>Universidade Federal de Santa Catarina</td>\n      <td>NaN</td>\n      <td>UFSC</td>\n      <td>Pública federal</td>\n      <td>ufsc.br/</td>\n      <td>Santa Catarina</td>\n    </tr>\n    <tr>\n      <th>6</th>\n      <td>7</td>\n      <td>592</td>\n      <td>Universidade de Brasília</td>\n      <td>NaN</td>\n      <td>UNB</td>\n      <td>Pública Estadual</td>\n      <td>www.unb.br/</td>\n      <td>Distrito Federal</td>\n    </tr>\n    <tr>\n      <th>7</th>\n      <td>8</td>\n      <td>593</td>\n      <td>Universidade Federal do Paraná</td>\n      <td>NaN</td>\n      <td>UFPR</td>\n      <td>Pública federal</td>\n      <td>www.ufpr.br/</td>\n      <td>Paraná</td>\n    </tr>\n    <tr>\n      <th>8</th>\n      <td>9</td>\n      <td>596</td>\n      <td>Universidade Federal Fluminense</td>\n      <td>NaN</td>\n      <td>UFF</td>\n      <td>Pública federal</td>\n      <td>www.uff.br/</td>\n      <td>Rio de Janeiro</td>\n    </tr>\n    <tr>\n      <th>9</th>\n      <td>10</td>\n      <td>667</td>\n      <td>Universidade Federal de São Carlos</td>\n      <td>NaN</td>\n      <td>UFSCAR</td>\n      <td>Pública federal</td>\n      <td>www.ufscar.br/</td>\n      <td>São Paulo</td>\n    </tr>\n  </tbody>\n</table>\n</div>",
       "datasetInfos": [],
       "metadata": {},
       "removedWidgets": [],
       "textData": null,
       "type": "htmlSandbox"
      }
     },
     "output_type": "display_data"
    }
   ],
   "source": [
    "# Leitura do DF\n",
    "\n",
    "df_publicas = lista[0]\n",
    "df_publicas"
   ]
  },
  {
   "cell_type": "code",
   "execution_count": 0,
   "metadata": {
    "application/vnd.databricks.v1+cell": {
     "cellMetadata": {
      "byteLimit": 2048000,
      "rowLimit": 10000
     },
     "inputWidgets": {},
     "nuid": "02db322a-7350-45a2-ae3f-ff5942600391",
     "showTitle": false,
     "tableResultSettingsMap": {},
     "title": ""
    }
   },
   "outputs": [
    {
     "output_type": "stream",
     "name": "stdout",
     "output_type": "stream",
     "text": [
      "Out[67]: pyspark.pandas.frame.DataFrame"
     ]
    }
   ],
   "source": [
    "# tipo do DF\n",
    "\n",
    "type(df_publicas)"
   ]
  },
  {
   "cell_type": "markdown",
   "metadata": {
    "application/vnd.databricks.v1+cell": {
     "cellMetadata": {},
     "inputWidgets": {},
     "nuid": "6faf735f-f390-4d57-948d-1617a8087fb4",
     "showTitle": false,
     "tableResultSettingsMap": {},
     "title": ""
    }
   },
   "source": [
    "# Salvar informações"
   ]
  },
  {
   "cell_type": "code",
   "execution_count": 0,
   "metadata": {
    "application/vnd.databricks.v1+cell": {
     "cellMetadata": {
      "byteLimit": 2048000,
      "rowLimit": 10000
     },
     "inputWidgets": {},
     "nuid": "038d5c8f-6a43-4a41-b124-c59032345361",
     "showTitle": false,
     "tableResultSettingsMap": {},
     "title": ""
    }
   },
   "outputs": [
    {
     "output_type": "stream",
     "name": "stdout",
     "output_type": "stream",
     "text": [
      "+----+----------------+---------------+------------+\n| Ano|Bolsas_Integrais|Bolsas_Parciais|Bolsas_Total|\n+----+----------------+---------------+------------+\n|2021|           146.3|          150.0|       296.3|\n|2020|           182.9|          237.4|       420.3|\n+----+----------------+---------------+------------+\n\n"
     ]
    }
   ],
   "source": [
    "# Convertendo para o Spark - df bolsas\n",
    "\n",
    "dfs_bolsas = df_bolsas.to_spark()\n",
    "dfs_bolsas.show()"
   ]
  },
  {
   "cell_type": "code",
   "execution_count": 0,
   "metadata": {
    "application/vnd.databricks.v1+cell": {
     "cellMetadata": {
      "byteLimit": 2048000,
      "rowLimit": 10000
     },
     "inputWidgets": {},
     "nuid": "95d069e1-b738-4929-956c-20cff5d91395",
     "showTitle": false,
     "tableResultSettingsMap": {},
     "title": ""
    }
   },
   "outputs": [
    {
     "output_type": "stream",
     "name": "stdout",
     "output_type": "stream",
     "text": [
      "Out[70]: pyspark.sql.dataframe.DataFrame"
     ]
    }
   ],
   "source": [
    "# Tipo\n",
    "\n",
    "type(dfs_bolsas)"
   ]
  },
  {
   "cell_type": "code",
   "execution_count": 0,
   "metadata": {
    "application/vnd.databricks.v1+cell": {
     "cellMetadata": {
      "byteLimit": 2048000,
      "rowLimit": 10000
     },
     "inputWidgets": {},
     "nuid": "2a4be632-df2c-48bc-935b-4c3e8d69a872",
     "showTitle": false,
     "tableResultSettingsMap": {},
     "title": ""
    }
   },
   "outputs": [],
   "source": [
    "# salvar o df com ranking em parquet\n",
    "\n",
    "df_publicas.to_parquet('/FileStore/tables/publicas.parquet', partition_cols='Classificação Nacional')"
   ]
  },
  {
   "cell_type": "code",
   "execution_count": 0,
   "metadata": {
    "application/vnd.databricks.v1+cell": {
     "cellMetadata": {
      "byteLimit": 2048000,
      "rowLimit": 10000
     },
     "inputWidgets": {},
     "nuid": "9874d88f-09ef-4fdf-9bd9-11f5d99523ce",
     "showTitle": false,
     "tableResultSettingsMap": {},
     "title": ""
    }
   },
   "outputs": [
    {
     "output_type": "display_data",
     "data": {
      "text/html": [
       "<div>\n",
       "<style scoped>\n",
       "    .dataframe tbody tr th:only-of-type {\n",
       "        vertical-align: middle;\n",
       "    }\n",
       "\n",
       "    .dataframe tbody tr th {\n",
       "        vertical-align: top;\n",
       "    }\n",
       "\n",
       "    .dataframe thead th {\n",
       "        text-align: right;\n",
       "    }\n",
       "</style>\n",
       "<table border=\"1\" class=\"dataframe\">\n",
       "  <thead>\n",
       "    <tr style=\"text-align: right;\">\n",
       "      <th></th>\n",
       "      <th>Classificação Mundial</th>\n",
       "      <th>Universidade</th>\n",
       "      <th>Logo</th>\n",
       "      <th>sigla</th>\n",
       "      <th>tipo</th>\n",
       "      <th>web</th>\n",
       "      <th>Localização</th>\n",
       "      <th>Classificação Nacional</th>\n",
       "    </tr>\n",
       "  </thead>\n",
       "  <tbody>\n",
       "    <tr>\n",
       "      <th>0</th>\n",
       "      <td>236</td>\n",
       "      <td>Universidade Estadual de Campinas</td>\n",
       "      <td>NaN</td>\n",
       "      <td>UNICAMP</td>\n",
       "      <td>Pública Estadual</td>\n",
       "      <td>www.unicamp.br/</td>\n",
       "      <td>São Paulo</td>\n",
       "      <td>2</td>\n",
       "    </tr>\n",
       "    <tr>\n",
       "      <th>1</th>\n",
       "      <td>667</td>\n",
       "      <td>Universidade Federal de São Carlos</td>\n",
       "      <td>NaN</td>\n",
       "      <td>UFSCAR</td>\n",
       "      <td>Pública federal</td>\n",
       "      <td>www.ufscar.br/</td>\n",
       "      <td>São Paulo</td>\n",
       "      <td>10</td>\n",
       "    </tr>\n",
       "    <tr>\n",
       "      <th>2</th>\n",
       "      <td>427</td>\n",
       "      <td>Universidade Federal de Santa Catarina</td>\n",
       "      <td>NaN</td>\n",
       "      <td>UFSC</td>\n",
       "      <td>Pública federal</td>\n",
       "      <td>ufsc.br/</td>\n",
       "      <td>Santa Catarina</td>\n",
       "      <td>6</td>\n",
       "    </tr>\n",
       "    <tr>\n",
       "      <th>3</th>\n",
       "      <td>278</td>\n",
       "      <td>Universidade Federal do Rio de Janeiro</td>\n",
       "      <td>NaN</td>\n",
       "      <td>UFRJ</td>\n",
       "      <td>Pública federal</td>\n",
       "      <td>ufrj.br/</td>\n",
       "      <td>Rio de Janeiro</td>\n",
       "      <td>3</td>\n",
       "    </tr>\n",
       "    <tr>\n",
       "      <th>4</th>\n",
       "      <td>298</td>\n",
       "      <td>Universidade Federal de Minas Gerais</td>\n",
       "      <td>NaN</td>\n",
       "      <td>UFMG</td>\n",
       "      <td>Pública federal</td>\n",
       "      <td>ucb.edu.bo</td>\n",
       "      <td>Minas Gerais</td>\n",
       "      <td>4</td>\n",
       "    </tr>\n",
       "    <tr>\n",
       "      <th>5</th>\n",
       "      <td>596</td>\n",
       "      <td>Universidade Federal Fluminense</td>\n",
       "      <td>NaN</td>\n",
       "      <td>UFF</td>\n",
       "      <td>Pública federal</td>\n",
       "      <td>www.uff.br/</td>\n",
       "      <td>Rio de Janeiro</td>\n",
       "      <td>9</td>\n",
       "    </tr>\n",
       "    <tr>\n",
       "      <th>6</th>\n",
       "      <td>345</td>\n",
       "      <td>Universidade Estadual Paulista</td>\n",
       "      <td>NaN</td>\n",
       "      <td>UNESP</td>\n",
       "      <td>Pública Estadual</td>\n",
       "      <td>www.unesp.br</td>\n",
       "      <td>São Paulo</td>\n",
       "      <td>5</td>\n",
       "    </tr>\n",
       "    <tr>\n",
       "      <th>7</th>\n",
       "      <td>592</td>\n",
       "      <td>Universidade de Brasília</td>\n",
       "      <td>NaN</td>\n",
       "      <td>UNB</td>\n",
       "      <td>Pública Estadual</td>\n",
       "      <td>www.unb.br/</td>\n",
       "      <td>Distrito Federal</td>\n",
       "      <td>7</td>\n",
       "    </tr>\n",
       "    <tr>\n",
       "      <th>8</th>\n",
       "      <td>593</td>\n",
       "      <td>Universidade Federal do Paraná</td>\n",
       "      <td>NaN</td>\n",
       "      <td>UFPR</td>\n",
       "      <td>Pública federal</td>\n",
       "      <td>www.ufpr.br/</td>\n",
       "      <td>Paraná</td>\n",
       "      <td>8</td>\n",
       "    </tr>\n",
       "    <tr>\n",
       "      <th>9</th>\n",
       "      <td>72</td>\n",
       "      <td>Universidade de São Paulo</td>\n",
       "      <td>NaN</td>\n",
       "      <td>USP</td>\n",
       "      <td>Pública Estadual</td>\n",
       "      <td>www5.usp.br/</td>\n",
       "      <td>São Paulo</td>\n",
       "      <td>1</td>\n",
       "    </tr>\n",
       "  </tbody>\n",
       "</table>\n",
       "</div>"
      ]
     },
     "metadata": {
      "application/vnd.databricks.v1+output": {
       "addedWidgets": {},
       "arguments": {},
       "data": "<div>\n<style scoped>\n    .dataframe tbody tr th:only-of-type {\n        vertical-align: middle;\n    }\n\n    .dataframe tbody tr th {\n        vertical-align: top;\n    }\n\n    .dataframe thead th {\n        text-align: right;\n    }\n</style>\n<table border=\"1\" class=\"dataframe\">\n  <thead>\n    <tr style=\"text-align: right;\">\n      <th></th>\n      <th>Classificação Mundial</th>\n      <th>Universidade</th>\n      <th>Logo</th>\n      <th>sigla</th>\n      <th>tipo</th>\n      <th>web</th>\n      <th>Localização</th>\n      <th>Classificação Nacional</th>\n    </tr>\n  </thead>\n  <tbody>\n    <tr>\n      <th>0</th>\n      <td>236</td>\n      <td>Universidade Estadual de Campinas</td>\n      <td>NaN</td>\n      <td>UNICAMP</td>\n      <td>Pública Estadual</td>\n      <td>www.unicamp.br/</td>\n      <td>São Paulo</td>\n      <td>2</td>\n    </tr>\n    <tr>\n      <th>1</th>\n      <td>667</td>\n      <td>Universidade Federal de São Carlos</td>\n      <td>NaN</td>\n      <td>UFSCAR</td>\n      <td>Pública federal</td>\n      <td>www.ufscar.br/</td>\n      <td>São Paulo</td>\n      <td>10</td>\n    </tr>\n    <tr>\n      <th>2</th>\n      <td>427</td>\n      <td>Universidade Federal de Santa Catarina</td>\n      <td>NaN</td>\n      <td>UFSC</td>\n      <td>Pública federal</td>\n      <td>ufsc.br/</td>\n      <td>Santa Catarina</td>\n      <td>6</td>\n    </tr>\n    <tr>\n      <th>3</th>\n      <td>278</td>\n      <td>Universidade Federal do Rio de Janeiro</td>\n      <td>NaN</td>\n      <td>UFRJ</td>\n      <td>Pública federal</td>\n      <td>ufrj.br/</td>\n      <td>Rio de Janeiro</td>\n      <td>3</td>\n    </tr>\n    <tr>\n      <th>4</th>\n      <td>298</td>\n      <td>Universidade Federal de Minas Gerais</td>\n      <td>NaN</td>\n      <td>UFMG</td>\n      <td>Pública federal</td>\n      <td>ucb.edu.bo</td>\n      <td>Minas Gerais</td>\n      <td>4</td>\n    </tr>\n    <tr>\n      <th>5</th>\n      <td>596</td>\n      <td>Universidade Federal Fluminense</td>\n      <td>NaN</td>\n      <td>UFF</td>\n      <td>Pública federal</td>\n      <td>www.uff.br/</td>\n      <td>Rio de Janeiro</td>\n      <td>9</td>\n    </tr>\n    <tr>\n      <th>6</th>\n      <td>345</td>\n      <td>Universidade Estadual Paulista</td>\n      <td>NaN</td>\n      <td>UNESP</td>\n      <td>Pública Estadual</td>\n      <td>www.unesp.br</td>\n      <td>São Paulo</td>\n      <td>5</td>\n    </tr>\n    <tr>\n      <th>7</th>\n      <td>592</td>\n      <td>Universidade de Brasília</td>\n      <td>NaN</td>\n      <td>UNB</td>\n      <td>Pública Estadual</td>\n      <td>www.unb.br/</td>\n      <td>Distrito Federal</td>\n      <td>7</td>\n    </tr>\n    <tr>\n      <th>8</th>\n      <td>593</td>\n      <td>Universidade Federal do Paraná</td>\n      <td>NaN</td>\n      <td>UFPR</td>\n      <td>Pública federal</td>\n      <td>www.ufpr.br/</td>\n      <td>Paraná</td>\n      <td>8</td>\n    </tr>\n    <tr>\n      <th>9</th>\n      <td>72</td>\n      <td>Universidade de São Paulo</td>\n      <td>NaN</td>\n      <td>USP</td>\n      <td>Pública Estadual</td>\n      <td>www5.usp.br/</td>\n      <td>São Paulo</td>\n      <td>1</td>\n    </tr>\n  </tbody>\n</table>\n</div>",
       "datasetInfos": [],
       "metadata": {},
       "removedWidgets": [],
       "textData": null,
       "type": "htmlSandbox"
      }
     },
     "output_type": "display_data"
    }
   ],
   "source": [
    "# ler o arquivo\n",
    "\n",
    "ps.read_parquet('/FileStore/tables/publicas.parquet')"
   ]
  }
 ],
 "metadata": {
  "application/vnd.databricks.v1+notebook": {
   "computePreferences": null,
   "dashboards": [
    {
     "elements": [
      {
       "dashboardResultIndex": 0,
       "elementNUID": "9874d88f-09ef-4fdf-9bd9-11f5d99523ce",
       "elementType": "command",
       "guid": "0288d6b6-4db1-41b5-9143-93647dfbd317",
       "options": null,
       "position": {
        "height": 6,
        "width": 12,
        "x": 0,
        "y": 261,
        "z": null
       },
       "resultIndex": null
      },
      {
       "dashboardResultIndex": null,
       "elementNUID": "b964ecd6-b982-45c8-84a7-c4e2c19d3cd4",
       "elementType": "command",
       "guid": "04efb241-4094-4d7a-80d8-d0984684e00e",
       "options": null,
       "position": {
        "height": 2,
        "width": 12,
        "x": 0,
        "y": 244,
        "z": null
       },
       "resultIndex": null
      },
      {
       "dashboardResultIndex": 0,
       "elementNUID": "bb30472b-bbd3-4889-9657-c67357761f04",
       "elementType": "command",
       "guid": "07917448-1d11-471a-905d-aaaaff2cb191",
       "options": null,
       "position": {
        "height": 6,
        "width": 12,
        "x": 0,
        "y": 148,
        "z": null
       },
       "resultIndex": null
      },
      {
       "dashboardResultIndex": 0,
       "elementNUID": "c9f25e29-901e-4ac8-b4f1-69875bac3eec",
       "elementType": "command",
       "guid": "0b2ba0f2-883b-4477-90af-15955ae7f7b1",
       "options": null,
       "position": {
        "height": 6,
        "width": 12,
        "x": 0,
        "y": 37,
        "z": null
       },
       "resultIndex": null
      },
      {
       "dashboardResultIndex": 0,
       "elementNUID": "39e547d9-a285-45ed-8159-dc30582bdfda",
       "elementType": "command",
       "guid": "0c9762b0-0755-432d-8c65-bf4b66ff0c91",
       "options": null,
       "position": {
        "height": 6,
        "width": 12,
        "x": 0,
        "y": 117,
        "z": null
       },
       "resultIndex": null
      },
      {
       "dashboardResultIndex": null,
       "elementNUID": "07ef5505-aca9-4eab-9591-4c491b2405a9",
       "elementType": "command",
       "guid": "11d4ba72-b746-435f-964b-ed4fc3472fb0",
       "options": null,
       "position": {
        "height": 2,
        "width": 12,
        "x": 0,
        "y": 101,
        "z": null
       },
       "resultIndex": null
      },
      {
       "dashboardResultIndex": null,
       "elementNUID": "2cdcf61e-33f3-42e7-bd1e-05a9e59c9032",
       "elementType": "command",
       "guid": "1497db3e-2cbc-461b-9685-1567f20973e2",
       "options": null,
       "position": {
        "height": 2,
        "width": 12,
        "x": 0,
        "y": 229,
        "z": null
       },
       "resultIndex": null
      },
      {
       "dashboardResultIndex": 0,
       "elementNUID": "f66b383a-743f-4dca-b580-142eee602b8d",
       "elementType": "command",
       "guid": "17169bc2-b98e-4bfd-a312-d9c836436b6e",
       "options": null,
       "position": {
        "height": 6,
        "width": 12,
        "x": 0,
        "y": 205,
        "z": null
       },
       "resultIndex": null
      },
      {
       "dashboardResultIndex": null,
       "elementNUID": "f4841b32-fe83-4ecd-b0ff-e576ba2154da",
       "elementType": "command",
       "guid": "1fd5ad01-c99f-4c0d-8a6f-d3fd056a4fa9",
       "options": null,
       "position": {
        "height": 1,
        "width": 12,
        "x": 0,
        "y": 246,
        "z": null
       },
       "resultIndex": null
      },
      {
       "dashboardResultIndex": null,
       "elementNUID": "104f4dc4-a0f1-47a6-96d7-ee9fcbe2039c",
       "elementType": "command",
       "guid": "3128110c-797f-43ef-a85d-b30db01e5343",
       "options": null,
       "position": {
        "height": 2,
        "width": 12,
        "x": 0,
        "y": 103,
        "z": null
       },
       "resultIndex": null
      },
      {
       "dashboardResultIndex": null,
       "elementNUID": "6faf735f-f390-4d57-948d-1617a8087fb4",
       "elementType": "command",
       "guid": "4138a13f-8353-4f06-820a-e80cc4632049",
       "options": null,
       "position": {
        "height": 2,
        "width": 12,
        "x": 0,
        "y": 259,
        "z": null
       },
       "resultIndex": null
      },
      {
       "dashboardResultIndex": 0,
       "elementNUID": "d924f3fe-3535-44ff-b531-399a89f9145f",
       "elementType": "command",
       "guid": "48d47023-12ba-4370-a490-ccf08aa7ff4f",
       "options": null,
       "position": {
        "height": 6,
        "width": 12,
        "x": 0,
        "y": 217,
        "z": null
       },
       "resultIndex": null
      },
      {
       "dashboardResultIndex": null,
       "elementNUID": "4d03bb06-50a8-41dc-b96e-391946b9d0e5",
       "elementType": "command",
       "guid": "49108294-b885-4329-8623-3dcd79c345b5",
       "options": null,
       "position": {
        "height": 3,
        "width": 12,
        "x": 0,
        "y": 145,
        "z": null
       },
       "resultIndex": null
      },
      {
       "dashboardResultIndex": 0,
       "elementNUID": "65deed6c-dffb-4296-98df-da9b7ea2c977",
       "elementType": "command",
       "guid": "518a0ca2-aa80-4bd2-823f-dcd5e9aab209",
       "options": null,
       "position": {
        "height": 6,
        "width": 12,
        "x": 0,
        "y": 238,
        "z": null
       },
       "resultIndex": null
      },
      {
       "dashboardResultIndex": 0,
       "elementNUID": "ebca0ea3-731a-45d8-b16c-f40bb2a78f41",
       "elementType": "command",
       "guid": "54221a99-faf7-4c24-bb43-7ba1880b1604",
       "options": null,
       "position": {
        "height": 6,
        "width": 12,
        "x": 0,
        "y": 83,
        "z": null
       },
       "resultIndex": null
      },
      {
       "dashboardResultIndex": 0,
       "elementNUID": "cd39d70b-db15-4cde-9b74-cfcafe32bbde",
       "elementType": "command",
       "guid": "54a1d931-bcb8-4f65-919e-a626a2174650",
       "options": null,
       "position": {
        "height": 6,
        "width": 12,
        "x": 0,
        "y": 95,
        "z": null
       },
       "resultIndex": null
      },
      {
       "dashboardResultIndex": 0,
       "elementNUID": "0c599783-a855-4848-9ace-2781ece2fc81",
       "elementType": "command",
       "guid": "59e51899-b779-4d1e-b47f-ff7e98cde3b0",
       "options": null,
       "position": {
        "height": 6,
        "width": 12,
        "x": 0,
        "y": 185,
        "z": null
       },
       "resultIndex": null
      },
      {
       "dashboardResultIndex": 0,
       "elementNUID": "764013c2-2eb1-40ec-9983-690e966e9751",
       "elementType": "command",
       "guid": "5b1229e0-7f33-4909-8ccb-c2f1bb3a875c",
       "options": null,
       "position": {
        "height": 6,
        "width": 12,
        "x": 0,
        "y": 25,
        "z": null
       },
       "resultIndex": null
      },
      {
       "dashboardResultIndex": 0,
       "elementNUID": "64c7d774-8bd4-4d99-bba1-b341ba7eabf2",
       "elementType": "command",
       "guid": "67d27087-1c92-433a-9a6e-374322922bb3",
       "options": null,
       "position": {
        "height": 6,
        "width": 12,
        "x": 0,
        "y": 211,
        "z": null
       },
       "resultIndex": null
      },
      {
       "dashboardResultIndex": 0,
       "elementNUID": "95c3992d-c453-4d0a-996f-509db6e6bc5b",
       "elementType": "command",
       "guid": "67db84d5-c2b0-4028-8894-2edb19e4a4b8",
       "options": null,
       "position": {
        "height": 6,
        "width": 12,
        "x": 0,
        "y": 69,
        "z": null
       },
       "resultIndex": null
      },
      {
       "dashboardResultIndex": 0,
       "elementNUID": "fd53f013-30c5-4eff-a07d-0e323d168b65",
       "elementType": "command",
       "guid": "6e243d65-8a37-4543-8aa3-303bbb9177db",
       "options": null,
       "position": {
        "height": 6,
        "width": 12,
        "x": 0,
        "y": 232,
        "z": null
       },
       "resultIndex": null
      },
      {
       "dashboardResultIndex": 0,
       "elementNUID": "3e8111b7-ca8a-4c3b-adb1-ccad2559a1ee",
       "elementType": "command",
       "guid": "80c6cefe-8bb2-4d6b-adb9-5d1e19c4aae8",
       "options": null,
       "position": {
        "height": 6,
        "width": 12,
        "x": 0,
        "y": 105,
        "z": null
       },
       "resultIndex": null
      },
      {
       "dashboardResultIndex": 0,
       "elementNUID": "ea5d6818-998b-4d49-880c-69975b5b9732",
       "elementType": "command",
       "guid": "8a424805-9c34-46ec-b37d-145cae4bd34c",
       "options": null,
       "position": {
        "height": 6,
        "width": 12,
        "x": 0,
        "y": 75,
        "z": null
       },
       "resultIndex": null
      },
      {
       "dashboardResultIndex": null,
       "elementNUID": "6cdb4a62-f1f4-4d9d-8644-6b926592747a",
       "elementType": "command",
       "guid": "8bbcf6b5-f0d9-4349-922e-11a3fa7534e8",
       "options": null,
       "position": {
        "height": 2,
        "width": 12,
        "x": 0,
        "y": 81,
        "z": null
       },
       "resultIndex": null
      },
      {
       "dashboardResultIndex": 0,
       "elementNUID": "8453a437-734a-4468-b492-d67ca0bca5f2",
       "elementType": "command",
       "guid": "917b5f8f-5bfe-437c-a460-806a02ddf3f5",
       "options": null,
       "position": {
        "height": 6,
        "width": 12,
        "x": 0,
        "y": 191,
        "z": null
       },
       "resultIndex": null
      },
      {
       "dashboardResultIndex": 0,
       "elementNUID": "f4353323-4486-4060-8859-60380e775aeb",
       "elementType": "command",
       "guid": "940a345a-bec6-4e96-a4b5-5eed3659b0fe",
       "options": null,
       "position": {
        "height": 6,
        "width": 12,
        "x": 0,
        "y": 160,
        "z": null
       },
       "resultIndex": null
      },
      {
       "dashboardResultIndex": null,
       "elementNUID": "c8d305bd-260c-4ca6-963d-ee03c4e877ee",
       "elementType": "command",
       "guid": "9ba8f361-40c0-45dd-8ce8-9c0576c952c1",
       "options": null,
       "position": {
        "height": 2,
        "width": 12,
        "x": 0,
        "y": 19,
        "z": null
       },
       "resultIndex": null
      },
      {
       "dashboardResultIndex": 0,
       "elementNUID": "ee15e3f2-6d8f-4646-abce-b15ad02a5002",
       "elementType": "command",
       "guid": "9d1b9942-a91f-4eb1-a9f2-a2ec3568110e",
       "options": null,
       "position": {
        "height": 6,
        "width": 12,
        "x": 0,
        "y": 154,
        "z": null
       },
       "resultIndex": null
      },
      {
       "dashboardResultIndex": 0,
       "elementNUID": "ecb8d475-db84-4f29-9ece-823dd235223d",
       "elementType": "command",
       "guid": "9d750d46-730c-4700-b67d-7d74a46c392b",
       "options": null,
       "position": {
        "height": 6,
        "width": 12,
        "x": 0,
        "y": 43,
        "z": null
       },
       "resultIndex": null
      },
      {
       "dashboardResultIndex": null,
       "elementNUID": "8f11dffb-f5b9-44ed-a848-a90a5c9e726a",
       "elementType": "command",
       "guid": "9e44da1a-e460-4977-814e-90f112716f39",
       "options": null,
       "position": {
        "height": 1,
        "width": 12,
        "x": 0,
        "y": 231,
        "z": null
       },
       "resultIndex": null
      },
      {
       "dashboardResultIndex": null,
       "elementNUID": "49fa8f96-2e0f-4c79-bbd2-35dc5349124d",
       "elementType": "command",
       "guid": "9f1189df-9803-4ffd-b47b-ce0e00fe59d8",
       "options": null,
       "position": {
        "height": 2,
        "width": 12,
        "x": 0,
        "y": 55,
        "z": null
       },
       "resultIndex": null
      },
      {
       "dashboardResultIndex": null,
       "elementNUID": "b6e0b86b-51be-4ed5-b451-54f4b499c92f",
       "elementType": "command",
       "guid": "a3d6e006-1cc7-45a8-9d58-3a828433a928",
       "options": null,
       "position": {
        "height": 2,
        "width": 12,
        "x": 0,
        "y": 203,
        "z": null
       },
       "resultIndex": null
      },
      {
       "dashboardResultIndex": 0,
       "elementNUID": "c7478ff5-9be6-4e7a-ae54-61270e57b327",
       "elementType": "command",
       "guid": "b319513e-396f-4fe2-8baf-b4c5f5f80dab",
       "options": null,
       "position": {
        "height": 6,
        "width": 12,
        "x": 0,
        "y": 125,
        "z": null
       },
       "resultIndex": null
      },
      {
       "dashboardResultIndex": 0,
       "elementNUID": "379f84dc-7b50-4569-991f-f5ca3811d29b",
       "elementType": "command",
       "guid": "b7175344-ce03-46be-9660-31281f8f91d9",
       "options": null,
       "position": {
        "height": 6,
        "width": 12,
        "x": 0,
        "y": 133,
        "z": null
       },
       "resultIndex": null
      },
      {
       "dashboardResultIndex": null,
       "elementNUID": "40c1fcb5-5b1b-43a5-a1bb-178d7d1c6fcc",
       "elementType": "command",
       "guid": "b7a327cb-81b8-4b39-95dd-316996cb4138",
       "options": null,
       "position": {
        "height": 2,
        "width": 12,
        "x": 0,
        "y": 23,
        "z": null
       },
       "resultIndex": null
      },
      {
       "dashboardResultIndex": 0,
       "elementNUID": "2ad64c73-62f4-42d9-b2aa-032322666b09",
       "elementType": "command",
       "guid": "b9a5c3d0-6cb0-47c2-9c21-42a5cd3bdda5",
       "options": null,
       "position": {
        "height": 6,
        "width": 12,
        "x": 0,
        "y": 223,
        "z": null
       },
       "resultIndex": null
      },
      {
       "dashboardResultIndex": null,
       "elementNUID": "c351284b-4e0d-4e95-8f4a-9eb66cc4a084",
       "elementType": "command",
       "guid": "bea6f74d-d0ee-4322-b0a7-c029a60f342c",
       "options": null,
       "position": {
        "height": 2,
        "width": 12,
        "x": 0,
        "y": 131,
        "z": null
       },
       "resultIndex": null
      },
      {
       "dashboardResultIndex": 0,
       "elementNUID": "94010c65-8db0-43ea-a6c0-fea89b128e44",
       "elementType": "command",
       "guid": "c199f76e-7aa9-4e0c-ba65-ac651d2e96db",
       "options": null,
       "position": {
        "height": 6,
        "width": 12,
        "x": 0,
        "y": 173,
        "z": null
       },
       "resultIndex": null
      },
      {
       "dashboardResultIndex": 0,
       "elementNUID": "516b4158-9cca-466b-a3ce-bd9cdfd22f8e",
       "elementType": "command",
       "guid": "c3d522c0-5945-49b2-8ba8-f1c9ee19466c",
       "options": null,
       "position": {
        "height": 6,
        "width": 12,
        "x": 0,
        "y": 197,
        "z": null
       },
       "resultIndex": null
      },
      {
       "dashboardResultIndex": null,
       "elementNUID": "929ea977-c17c-44e8-9063-36e6438fb6b0",
       "elementType": "command",
       "guid": "ca15685b-ffe7-4072-9e46-13b63bac111b",
       "options": null,
       "position": {
        "height": 2,
        "width": 12,
        "x": 0,
        "y": 123,
        "z": null
       },
       "resultIndex": null
      },
      {
       "dashboardResultIndex": null,
       "elementNUID": "25b55fab-f90d-4981-8d9c-a86d0e6f7613",
       "elementType": "command",
       "guid": "d099a04e-b368-4c81-9939-cf43a65961d4",
       "options": null,
       "position": {
        "height": 2,
        "width": 12,
        "x": 0,
        "y": 21,
        "z": null
       },
       "resultIndex": null
      },
      {
       "dashboardResultIndex": null,
       "elementNUID": "db9f607c-9737-473c-8eee-465e453030ee",
       "elementType": "command",
       "guid": "de532112-9675-40a9-86a6-9b807a15e675",
       "options": null,
       "position": {
        "height": 10,
        "width": 18,
        "x": 0,
        "y": 2,
        "z": null
       },
       "resultIndex": null
      },
      {
       "dashboardResultIndex": 0,
       "elementNUID": "1beafe94-403b-499b-bbe5-3fb02b9ac311",
       "elementType": "command",
       "guid": "e5c39bb4-720f-4bee-9d7d-b5c81c9e9543",
       "options": null,
       "position": {
        "height": 6,
        "width": 12,
        "x": 0,
        "y": 179,
        "z": null
       },
       "resultIndex": null
      },
      {
       "dashboardResultIndex": null,
       "elementNUID": "4cb8c413-02a8-4002-a3f5-4b605bce55ad",
       "elementType": "command",
       "guid": "e8065157-7206-44b4-9529-c57586607a4c",
       "options": null,
       "position": {
        "height": 2,
        "width": 12,
        "x": 0,
        "y": 0,
        "z": null
       },
       "resultIndex": null
      },
      {
       "dashboardResultIndex": 0,
       "elementNUID": "e09e0a43-fa95-41f8-a078-de32c0d32341",
       "elementType": "command",
       "guid": "eda1ce21-08a1-4af1-b6b9-c3cccdedd860",
       "options": null,
       "position": {
        "height": 6,
        "width": 12,
        "x": 0,
        "y": 57,
        "z": null
       },
       "resultIndex": null
      },
      {
       "dashboardResultIndex": 0,
       "elementNUID": "f2a9d554-0839-4bdd-b393-7cee3d547346",
       "elementType": "command",
       "guid": "fa66312c-5735-4ffc-8163-a1c70aa4da94",
       "options": null,
       "position": {
        "height": 6,
        "width": 12,
        "x": 0,
        "y": 63,
        "z": null
       },
       "resultIndex": null
      },
      {
       "dashboardResultIndex": 0,
       "elementNUID": "e3535991-ce0c-48c6-b4a8-897797b85f68",
       "elementType": "command",
       "guid": "fdbe6f1a-9e57-4c77-a76e-558ff748ef40",
       "options": null,
       "position": {
        "height": 6,
        "width": 12,
        "x": 0,
        "y": 139,
        "z": null
       },
       "resultIndex": null
      },
      {
       "dashboardResultIndex": 0,
       "elementNUID": "776d4387-b7e7-4475-869b-acb757489432",
       "elementType": "command",
       "guid": "fdf53179-f8b1-4006-92d2-81f970b3037f",
       "options": null,
       "position": {
        "height": 6,
        "width": 12,
        "x": 0,
        "y": 31,
        "z": null
       },
       "resultIndex": null
      }
     ],
     "globalVars": {},
     "guid": "",
     "layoutOption": {
      "grid": true,
      "stack": true
     },
     "nuid": "92e1574a-6c61-4760-a171-3d3c7c34099f",
     "origId": 2899666062164397,
     "title": "dash_prouni",
     "version": "DashboardViewV1",
     "width": 1024
    }
   ],
   "environmentMetadata": {
    "base_environment": "",
    "environment_version": "1"
   },
   "inputWidgetPreferences": null,
   "language": "python",
   "notebookMetadata": {
    "pythonIndentUnit": 4
   },
   "notebookName": "(Clone) aula_analise_dados",
   "widgets": {}
  }
 },
 "nbformat": 4,
 "nbformat_minor": 0
}